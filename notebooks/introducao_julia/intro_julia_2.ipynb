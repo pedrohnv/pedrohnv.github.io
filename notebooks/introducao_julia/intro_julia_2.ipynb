{
 "cells": [
  {
   "cell_type": "markdown",
   "metadata": {},
   "source": [
    "# Introdução à Linguagem de Programção Julia, Parte 2\n",
    "\n",
    "Date: 2019-10-21  \n",
    "Author: Pedro H. N. Vieira  \n",
    "Categories: julia, tutoriais  \n",
    "Tags: julia, tutorial  \n",
    "<!--eofm-->"
   ]
  },
  {
   "cell_type": "markdown",
   "metadata": {},
   "source": [
    "Este tutorial é a segunda parte no qual faço proselitismo de Julia ([confira a primeira parte](https://comp-eletromag.netlify.com/post/intro_julia_1/)). A ideia é oferecer um material em português sucinto para ser usado como referência àqueles que desejam aprender Julia ou como uma apresentação num *Workshop* ou minicurso. Já existe algum esforço em criar um tutorial mais completo em português, disponível no GitHub: https://github.com/JuliaLangPt/tutorial_PT_BR."
   ]
  },
  {
   "cell_type": "markdown",
   "metadata": {
    "slideshow": {
     "slide_type": "slide"
    }
   },
   "source": [
    "+ [Parte 1](https://comp-eletromag.netlify.com/post/intro_julia_1/)\n",
    "  - Julia é melhor que MATLAB\n",
    "  - Ecossistema\n",
    "  - Onde e como obter informação e ajuda\n",
    "  - Operações básicas\n",
    "  - Controle de fluxo\n",
    "  - Escopo de variáveis\n",
    "  - Funções\n",
    "  - Compreensão de listas\n",
    "  - Álgebra Linear\n",
    "  - Estruturas, dicionários e conjuntos\n",
    "  - Gráficos\n",
    "  - Manipular arquivos"
   ]
  },
  {
   "cell_type": "markdown",
   "metadata": {
    "slideshow": {
     "slide_type": "slide"
    },
    "toc-hr-collapsed": true
   },
   "source": [
    "+ **Parte 2**\n",
    "  - Gráficos animados e iterativos\n",
    "  - Estatística online\n",
    "  - Desempenho e *benchmarking*\n",
    "  - Estabilidade de tipos\n",
    "  - Operações *in-place*: BLAS e LAPACK\n",
    "  - Integração numérica\n",
    "  - Diferenciação numérica\n",
    "  - Equações diferenciais\n",
    "  - Sistemas não-lineares\n",
    "  - Otimização"
   ]
  },
  {
   "cell_type": "markdown",
   "metadata": {},
   "source": [
    "Não faz parte deste tutorial falar de computação paralela, para o qual Julia também é poderoso. Este é um tópico extenso com muito potencial para *bugs* se a pessoa não souber o quê está fazendo. Para aqueles que desejam aprender, recomenda-se visitar o curso de [Computação Paralela no Julia Academy](https://juliaacademy.com/p/parallel-computing) (grátis, mas em inglês) ou ler a [documentação sobre computação paralela](https://docs.julialang.org/en/v1/manual/parallel-computing/)."
   ]
  },
  {
   "cell_type": "markdown",
   "metadata": {},
   "source": [
    "## Gráficos animados e iterativos\n",
    "\n",
    "### GIFs\n",
    "\n",
    "Lembrando que o melhor lugar para aprender é por exemplo; [confira a documentação](https://docs.juliaplots.org/latest/).\n",
    "\n",
    "Para gerar animações, `convert` ou `ffmpeg` deve estar disponível (instalado). Elas são criadas em 3 passos:\n",
    "  + Inicializar um objeto `Animation`.\n",
    "  + Salvar cada quadro da animação com `frame(anim)`.\n",
    "  + Converter os quadros para um gif animado com `gif(anim, arquivo, fps=15)`."
   ]
  },
  {
   "cell_type": "code",
   "execution_count": 1,
   "metadata": {},
   "outputs": [
    {
     "data": {
      "text/plain": [
       "Plots.GRBackend()"
      ]
     },
     "execution_count": 1,
     "metadata": {},
     "output_type": "execute_result"
    }
   ],
   "source": [
    "using Plots\n",
    "gr()"
   ]
  },
  {
   "cell_type": "code",
   "execution_count": 2,
   "metadata": {},
   "outputs": [
    {
     "name": "stderr",
     "output_type": "stream",
     "text": [
      "┌ Info: Saved animation to \n",
      "│   fn = /home/pedrohnv/codigos/comp-eletromag/notebooks/introducao_julia/anim1.gif\n",
      "└ @ Plots /home/pedrohnv/.julia/packages/Plots/Iuc9S/src/animation.jl:95\n"
     ]
    }
   ],
   "source": [
    "p = plot([sin, cos], zeros(0), leg=false)\n",
    "anim = Animation()\n",
    "for x = range(0, stop=10π, length=100)\n",
    "    push!(p, x, Float64[sin(x), cos(x)])\n",
    "    frame(anim)\n",
    "end\n",
    "gif(anim, \"anim1.gif\", fps=15);"
   ]
  },
  {
   "cell_type": "markdown",
   "metadata": {},
   "source": [
    "![outgif](anim1.gif)"
   ]
  },
  {
   "cell_type": "markdown",
   "metadata": {},
   "source": [
    "Também podemos usar a macro `@gif`. Vamos criar um gif do Atrator de Lorenz."
   ]
  },
  {
   "cell_type": "code",
   "execution_count": 3,
   "metadata": {},
   "outputs": [
    {
     "name": "stderr",
     "output_type": "stream",
     "text": [
      "┌ Info: Saved animation to \n",
      "│   fn = /home/pedrohnv/codigos/comp-eletromag/notebooks/introducao_julia/tmp.gif\n",
      "└ @ Plots /home/pedrohnv/.julia/packages/Plots/Iuc9S/src/animation.jl:95\n"
     ]
    }
   ],
   "source": [
    "# definir o atrator de Lorenz\n",
    "mutable struct Lorenz\n",
    "    dt; σ; ρ; β; x; y; z\n",
    "end\n",
    "\n",
    "# calcular próximo ponto modificando a estrutura\n",
    "function step!(l::Lorenz)\n",
    "    dx = l.σ*(l.y - l.x)       ; l.x += l.dt * dx\n",
    "    dy = l.x*(l.ρ - l.z) - l.y ; l.y += l.dt * dy\n",
    "    dz = l.x*l.y - l.β*l.z     ; l.z += l.dt * dz\n",
    "end\n",
    "\n",
    "# instanciar (criar) uma nova estrutura\n",
    "attractor = Lorenz((dt = 0.02, σ = 10., ρ = 28., β = 8//3, x = 1., y = 1., z = 1.)...)\n",
    "\n",
    "# inicializar um gráfico 3D com uma série vazia\n",
    "plt = plot3d(1, xlim=(-25,25), ylim=(-25,25), zlim=(0,50),\n",
    "                title = \"Lorenz Attractor\", marker = 2)\n",
    "\n",
    "# construir um gif animado por inserção de novos ponto, salvando cada 10° quadro\n",
    "@gif for i=1:1500\n",
    "    step!(attractor)\n",
    "    push!(plt, attractor.x, attractor.y, attractor.z)\n",
    "end every 10;"
   ]
  },
  {
   "cell_type": "markdown",
   "metadata": {},
   "source": [
    "![lorenzgif](tmp.gif)"
   ]
  },
  {
   "cell_type": "markdown",
   "metadata": {},
   "source": [
    "### Interação\n",
    "\n",
    "Criar gráficos interativos precisa do [Interact](https://juliagizmos.github.io/Interact.jl/latest/) e [WebIO](https://github.com/JuliaGizmos/WebIO.jl). Utilizamos a macro\n",
    "```julia\n",
    "@manipulate expressão\n",
    "```\n",
    "\n",
    "onde `expressão` deve ser um laço `for`. As variáveis no laço são convertidas para *widgets* automaticamente (intervalos se tornam barras, listas de opções se tornam botões, etc...).\n",
    "\n",
    "**Nota:** Há um bug no caso de usar [Jupyter Lab](https://github.com/JuliaGizmos/WebIO.jl/issues/348) no qual o valor dos *widgets* só atualiza propriamente após atualizar a página e reexecutar a célula."
   ]
  },
  {
   "cell_type": "code",
   "execution_count": 4,
   "metadata": {},
   "outputs": [
    {
     "data": {
      "text/html": [
       "<script>\n",
       "// Immediately-invoked-function-expression to avoid global variables.\n",
       "(function() {\n",
       "    var warning_div = document.getElementById(\"webio-warning-16710588726802871014\");\n",
       "    var hide = function () {\n",
       "        var script = document.getElementById(\"webio-setup-18218711712689361653\");\n",
       "        var parent = script && script.parentElement;\n",
       "        var grandparent = parent && parent.parentElement;\n",
       "        if (grandparent) {\n",
       "            grandparent.style.display = \"none\";\n",
       "        }\n",
       "        warning_div.style.display = \"none\";\n",
       "    };\n",
       "    if (typeof Jupyter !== \"undefined\") {\n",
       "        console.log(\"WebIO detected Jupyter notebook environment.\");\n",
       "        // Jupyter notebook.\n",
       "        var extensions = (\n",
       "            Jupyter\n",
       "            && Jupyter.notebook.config.data\n",
       "            && Jupyter.notebook.config.data.load_extensions\n",
       "        );\n",
       "        if (extensions && extensions[\"webio-jupyter-notebook\"]) {\n",
       "            // Extension already loaded.\n",
       "            console.log(\"Jupyter WebIO nbextension detected; not loading ad-hoc.\");\n",
       "            hide();\n",
       "            return;\n",
       "        }\n",
       "    } else if (window.location.pathname.includes(\"/lab\")) {\n",
       "        // Guessing JupyterLa\n",
       "        console.log(\"Jupyter Lab detected; make sure the @webio/jupyter-lab-provider labextension is installed.\");\n",
       "        hide();\n",
       "        return;\n",
       "    }\n",
       "})();\n",
       "\n",
       "</script>\n",
       "<p\n",
       "    id=\"webio-warning-16710588726802871014\"\n",
       "    class=\"output_text output_stderr\"\n",
       "    style=\"padding: 1em; font-weight: bold;\"\n",
       ">\n",
       "    Unable to load WebIO. Please make sure WebIO works for your Jupyter client.\n",
       "    For troubleshooting, please see <a href=\"https://juliagizmos.github.io/WebIO.jl/latest/providers/ijulia/\">\n",
       "    the WebIO/IJulia documentation</a>.\n",
       "    <!-- TODO: link to installation docs. -->\n",
       "</p>\n"
      ],
      "text/plain": [
       "HTML{String}(\"<script>\\n// Immediately-invoked-function-expression to avoid global variables.\\n(function() {\\n    var warning_div = document.getElementById(\\\"webio-warning-16710588726802871014\\\");\\n    var hide = function () {\\n        var script = document.getElementById(\\\"webio-setup-18218711712689361653\\\");\\n        var parent = script && script.parentElement;\\n        var grandparent = parent && parent.parentElement;\\n        if (grandparent) {\\n            grandparent.style.display = \\\"none\\\";\\n        }\\n        warning_div.style.display = \\\"none\\\";\\n    };\\n    if (typeof Jupyter !== \\\"undefined\\\") {\\n        console.log(\\\"WebIO detected Jupyter notebook environment.\\\");\\n        // Jupyter notebook.\\n        var extensions = (\\n            Jupyter\\n            && Jupyter.notebook.config.data\\n            && Jupyter.notebook.config.data.load_extensions\\n        );\\n        if (extensions && extensions[\\\"webio-jupyter-notebook\\\"]) {\\n            // Extension already loaded.\\n            console.log(\\\"Jupyter WebIO nbextension detected; not loading ad-hoc.\\\");\\n            hide();\\n            return;\\n        }\\n    } else if (window.location.pathname.includes(\\\"/lab\\\")) {\\n        // Guessing JupyterLa\\n        console.log(\\\"Jupyter Lab detected; make sure the @webio/jupyter-lab-provider labextension is installed.\\\");\\n        hide();\\n        return;\\n    }\\n})();\\n\\n</script>\\n<p\\n    id=\\\"webio-warning-16710588726802871014\\\"\\n    class=\\\"output_text output_stderr\\\"\\n    style=\\\"padding: 1em; font-weight: bold;\\\"\\n>\\n    Unable to load WebIO. Please make sure WebIO works for your Jupyter client.\\n    For troubleshooting, please see <a href=\\\"https://juliagizmos.github.io/WebIO.jl/latest/providers/ijulia/\\\">\\n    the WebIO/IJulia documentation</a>.\\n    <!-- TODO: link to installation docs. -->\\n</p>\\n\")"
      ]
     },
     "metadata": {},
     "output_type": "display_data"
    }
   ],
   "source": [
    "using Interact"
   ]
  },
  {
   "cell_type": "code",
   "execution_count": 5,
   "metadata": {},
   "outputs": [
    {
     "data": {
      "application/vnd.webio.node+json": {
       "children": [
        {
         "children": [
          {
           "children": [
            {
             "children": [
              {
               "children": [
                {
                 "children": [
                  "ϕ"
                 ],
                 "instanceArgs": {
                  "namespace": "html",
                  "tag": "label"
                 },
                 "nodeType": "DOM",
                 "props": {
                  "className": "interact ",
                  "style": {
                   "padding": "5px 10px 0px 10px"
                  }
                 },
                 "type": "node"
                }
               ],
               "instanceArgs": {
                "namespace": "html",
                "tag": "div"
               },
               "nodeType": "DOM",
               "props": {
                "className": "interact-flex-row-left"
               },
               "type": "node"
              },
              {
               "children": [
                {
                 "children": [],
                 "instanceArgs": {
                  "namespace": "html",
                  "tag": "input"
                 },
                 "nodeType": "DOM",
                 "props": {
                  "attributes": {
                   "data-bind": "numericValue: index, valueUpdate: 'input', event: {change: function (){this.changes(this.changes()+1)}}",
                   "orient": "horizontal",
                   "type": "range"
                  },
                  "className": "slider slider is-fullwidth",
                  "max": 65,
                  "min": 1,
                  "step": 1,
                  "style": {}
                 },
                 "type": "node"
                }
               ],
               "instanceArgs": {
                "namespace": "html",
                "tag": "div"
               },
               "nodeType": "DOM",
               "props": {
                "className": "interact-flex-row-center"
               },
               "type": "node"
              },
              {
               "children": [
                {
                 "children": [],
                 "instanceArgs": {
                  "namespace": "html",
                  "tag": "p"
                 },
                 "nodeType": "DOM",
                 "props": {
                  "attributes": {
                   "data-bind": "text: formatted_val"
                  }
                 },
                 "type": "node"
                }
               ],
               "instanceArgs": {
                "namespace": "html",
                "tag": "div"
               },
               "nodeType": "DOM",
               "props": {
                "className": "interact-flex-row-right"
               },
               "type": "node"
              }
             ],
             "instanceArgs": {
              "namespace": "html",
              "tag": "div"
             },
             "nodeType": "DOM",
             "props": {
              "className": "interact-flex-row interact-widget"
             },
             "type": "node"
            }
           ],
           "instanceArgs": {
            "handlers": {
             "changes": [
              "(function (val){return (val!=this.model[\"changes\"]()) ? (this.valueFromJulia[\"changes\"]=true, this.model[\"changes\"](val)) : undefined})"
             ],
             "index": [
              "(function (val){return (val!=this.model[\"index\"]()) ? (this.valueFromJulia[\"index\"]=true, this.model[\"index\"](val)) : undefined})"
             ]
            },
            "id": "1227126677141774213",
            "imports": {
             "data": [
              {
               "name": "knockout",
               "type": "js",
               "url": "/assetserver/512d6abf81dbd16b195ef7360e93a28e5ab18252-knockout.js"
              },
              {
               "name": "knockout_punches",
               "type": "js",
               "url": "/assetserver/5be9a53f5c5295f02f48bf470c59677b8bf733a7-knockout_punches.js"
              },
              {
               "name": null,
               "type": "js",
               "url": "/assetserver/6347d1962eeca20b405d200566186de31f932fa0-all.js"
              },
              {
               "name": null,
               "type": "css",
               "url": "/assetserver/b9e5e07a0fe9fac65c1597b73813ee449d42dd1f-style.css"
              },
              {
               "name": null,
               "type": "css",
               "url": "/assetserver/bd09bd82254ff43a253a74c24f12450215d5808c-bulma_confined.min.css"
              }
             ],
             "type": "async_block"
            },
            "mount_callbacks": [
             "function () {\n    var handler = (function (ko, koPunches) {\n    ko.punches.enableAll();\n    ko.bindingHandlers.numericValue = {\n        init: function(element, valueAccessor, allBindings, data, context) {\n            var stringified = ko.observable(ko.unwrap(valueAccessor()));\n            stringified.subscribe(function(value) {\n                var val = parseFloat(value);\n                if (!isNaN(val)) {\n                    valueAccessor()(val);\n                }\n            });\n            valueAccessor().subscribe(function(value) {\n                var str = JSON.stringify(value);\n                if ((str == \"0\") && ([\"-0\", \"-0.\"].indexOf(stringified()) >= 0))\n                     return;\n                 if ([\"null\", \"\"].indexOf(str) >= 0)\n                     return;\n                stringified(str);\n            });\n            ko.applyBindingsToNode(\n                element,\n                {\n                    value: stringified,\n                    valueUpdate: allBindings.get('valueUpdate'),\n                },\n                context,\n            );\n        }\n    };\n    var json_data = {\"formatted_vals\":[\"0.0\",\"0.19635\",\"0.392699\",\"0.589049\",\"0.785398\",\"0.981748\",\"1.1781\",\"1.37445\",\"1.5708\",\"1.76715\",\"1.9635\",\"2.15984\",\"2.35619\",\"2.55254\",\"2.74889\",\"2.94524\",\"3.14159\",\"3.33794\",\"3.53429\",\"3.73064\",\"3.92699\",\"4.12334\",\"4.31969\",\"4.51604\",\"4.71239\",\"4.90874\",\"5.10509\",\"5.30144\",\"5.49779\",\"5.69414\",\"5.89049\",\"6.08684\",\"6.28319\",\"6.47953\",\"6.67588\",\"6.87223\",\"7.06858\",\"7.26493\",\"7.46128\",\"7.65763\",\"7.85398\",\"8.05033\",\"8.24668\",\"8.44303\",\"8.63938\",\"8.83573\",\"9.03208\",\"9.22843\",\"9.42478\",\"9.62113\",\"9.81748\",\"10.0138\",\"10.2102\",\"10.4065\",\"10.6029\",\"10.7992\",\"10.9956\",\"11.1919\",\"11.3883\",\"11.5846\",\"11.781\",\"11.9773\",\"12.1737\",\"12.37\",\"12.5664\"],\"changes\":WebIO.getval({\"name\":\"changes\",\"scope\":\"1227126677141774213\",\"id\":\"ob_03\",\"type\":\"observable\"}),\"index\":WebIO.getval({\"name\":\"index\",\"scope\":\"1227126677141774213\",\"id\":\"ob_02\",\"type\":\"observable\"})};\n    var self = this;\n    function AppViewModel() {\n        for (var key in json_data) {\n            var el = json_data[key];\n            this[key] = Array.isArray(el) ? ko.observableArray(el) : ko.observable(el);\n        }\n        \n        [this[\"formatted_val\"]=ko.computed(    function(){\n        return this.formatted_vals()[parseInt(this.index())-(1)];\n    }\n,this)]\n        [this[\"changes\"].subscribe((function (val){!(this.valueFromJulia[\"changes\"]) ? (WebIO.setval({\"name\":\"changes\",\"scope\":\"1227126677141774213\",\"id\":\"ob_03\",\"type\":\"observable\"},val)) : undefined; return this.valueFromJulia[\"changes\"]=false}),self),this[\"index\"].subscribe((function (val){!(this.valueFromJulia[\"index\"]) ? (WebIO.setval({\"name\":\"index\",\"scope\":\"1227126677141774213\",\"id\":\"ob_02\",\"type\":\"observable\"},val)) : undefined; return this.valueFromJulia[\"index\"]=false}),self)]\n        \n    }\n    self.model = new AppViewModel();\n    self.valueFromJulia = {};\n    for (var key in json_data) {\n        self.valueFromJulia[key] = false;\n    }\n    ko.applyBindings(self.model, self.dom);\n}\n);\n    (WebIO.importBlock({\"data\":[{\"name\":\"knockout\",\"type\":\"js\",\"url\":\"/assetserver/512d6abf81dbd16b195ef7360e93a28e5ab18252-knockout.js\"},{\"name\":\"knockout_punches\",\"type\":\"js\",\"url\":\"/assetserver/5be9a53f5c5295f02f48bf470c59677b8bf733a7-knockout_punches.js\"}],\"type\":\"async_block\"})).then((imports) => handler.apply(this, imports));\n}\n"
            ],
            "observables": {
             "changes": {
              "id": "ob_03",
              "sync": false,
              "value": 0
             },
             "index": {
              "id": "ob_02",
              "sync": true,
              "value": 33
             }
            },
            "systemjs_options": null
           },
           "nodeType": "Scope",
           "props": {},
           "type": "node"
          }
         ],
         "instanceArgs": {
          "namespace": "html",
          "tag": "div"
         },
         "nodeType": "DOM",
         "props": {
          "className": "field interact-widget"
         },
         "type": "node"
        },
        {
         "children": [
          {
           "children": [
            {
             "children": [
              {
               "children": [
                {
                 "children": [
                  "f"
                 ],
                 "instanceArgs": {
                  "namespace": "html",
                  "tag": "label"
                 },
                 "nodeType": "DOM",
                 "props": {
                  "className": "interact ",
                  "style": {
                   "padding": "5px 10px 0px 10px"
                  }
                 },
                 "type": "node"
                }
               ],
               "instanceArgs": {
                "namespace": "html",
                "tag": "div"
               },
               "nodeType": "DOM",
               "props": {
                "className": "interact-flex-row-left"
               },
               "type": "node"
              },
              {
               "children": [
                {
                 "children": [
                  {
                   "children": [
                    {
                     "children": [],
                     "instanceArgs": {
                      "namespace": "html",
                      "tag": "label"
                     },
                     "nodeType": "DOM",
                     "props": {
                      "attributes": {
                       "data-bind": "text : key"
                      }
                     },
                     "type": "node"
                    }
                   ],
                   "instanceArgs": {
                    "namespace": "html",
                    "tag": "span"
                   },
                   "nodeType": "DOM",
                   "props": {
                    "attributes": {
                     "data-bind": "click: function (){$root.update(val)}, css: {'is-primary is-selected' : $root.index() == val, 'interact-widget is-medium button ' : true}"
                    }
                   },
                   "type": "node"
                  }
                 ],
                 "instanceArgs": {
                  "namespace": "html",
                  "tag": "div"
                 },
                 "nodeType": "DOM",
                 "props": {
                  "attributes": {
                   "data-bind": "foreach : options_js"
                  },
                  "className": "buttons has-addons is-centered"
                 },
                 "type": "node"
                }
               ],
               "instanceArgs": {
                "namespace": "html",
                "tag": "div"
               },
               "nodeType": "DOM",
               "props": {
                "className": "interact-flex-row-center"
               },
               "type": "node"
              },
              {
               "children": [
                {
                 "children": [],
                 "instanceArgs": {
                  "namespace": "html",
                  "tag": "div"
                 },
                 "nodeType": "DOM",
                 "props": {},
                 "type": "node"
                }
               ],
               "instanceArgs": {
                "namespace": "html",
                "tag": "div"
               },
               "nodeType": "DOM",
               "props": {
                "className": "interact-flex-row-right"
               },
               "type": "node"
              }
             ],
             "instanceArgs": {
              "namespace": "html",
              "tag": "div"
             },
             "nodeType": "DOM",
             "props": {
              "className": "interact-flex-row interact-widget"
             },
             "type": "node"
            }
           ],
           "instanceArgs": {
            "handlers": {
             "index": [
              "(function (val){return (val!=this.model[\"index\"]()) ? (this.valueFromJulia[\"index\"]=true, this.model[\"index\"](val)) : undefined})"
             ],
             "options_js": [
              "(function (val){return (val!=this.model[\"options_js\"]()) ? (this.valueFromJulia[\"options_js\"]=true, this.model[\"options_js\"](val)) : undefined})"
             ]
            },
            "id": "5000950192619085507",
            "imports": {
             "data": [
              {
               "name": "knockout",
               "type": "js",
               "url": "/assetserver/512d6abf81dbd16b195ef7360e93a28e5ab18252-knockout.js"
              },
              {
               "name": "knockout_punches",
               "type": "js",
               "url": "/assetserver/5be9a53f5c5295f02f48bf470c59677b8bf733a7-knockout_punches.js"
              },
              {
               "name": null,
               "type": "js",
               "url": "/assetserver/6347d1962eeca20b405d200566186de31f932fa0-all.js"
              },
              {
               "name": null,
               "type": "css",
               "url": "/assetserver/b9e5e07a0fe9fac65c1597b73813ee449d42dd1f-style.css"
              },
              {
               "name": null,
               "type": "css",
               "url": "/assetserver/bd09bd82254ff43a253a74c24f12450215d5808c-bulma_confined.min.css"
              }
             ],
             "type": "async_block"
            },
            "mount_callbacks": [
             "function () {\n    var handler = (function (ko, koPunches) {\n    ko.punches.enableAll();\n    ko.bindingHandlers.numericValue = {\n        init: function(element, valueAccessor, allBindings, data, context) {\n            var stringified = ko.observable(ko.unwrap(valueAccessor()));\n            stringified.subscribe(function(value) {\n                var val = parseFloat(value);\n                if (!isNaN(val)) {\n                    valueAccessor()(val);\n                }\n            });\n            valueAccessor().subscribe(function(value) {\n                var str = JSON.stringify(value);\n                if ((str == \"0\") && ([\"-0\", \"-0.\"].indexOf(stringified()) >= 0))\n                     return;\n                 if ([\"null\", \"\"].indexOf(str) >= 0)\n                     return;\n                stringified(str);\n            });\n            ko.applyBindingsToNode(\n                element,\n                {\n                    value: stringified,\n                    valueUpdate: allBindings.get('valueUpdate'),\n                },\n                context,\n            );\n        }\n    };\n    var json_data = {\"options_js\":WebIO.getval({\"name\":\"options_js\",\"scope\":\"5000950192619085507\",\"id\":\"ob_08\",\"type\":\"observable\"}),\"index\":WebIO.getval({\"name\":\"index\",\"scope\":\"5000950192619085507\",\"id\":\"ob_07\",\"type\":\"observable\"})};\n    var self = this;\n    function AppViewModel() {\n        for (var key in json_data) {\n            var el = json_data[key];\n            this[key] = Array.isArray(el) ? ko.observableArray(el) : ko.observable(el);\n        }\n        [this[\"update\"]=function (val) {this.index(val)}]\n        \n        [this[\"options_js\"].subscribe((function (val){!(this.valueFromJulia[\"options_js\"]) ? (WebIO.setval({\"name\":\"options_js\",\"scope\":\"5000950192619085507\",\"id\":\"ob_08\",\"type\":\"observable\"},val)) : undefined; return this.valueFromJulia[\"options_js\"]=false}),self),this[\"index\"].subscribe((function (val){!(this.valueFromJulia[\"index\"]) ? (WebIO.setval({\"name\":\"index\",\"scope\":\"5000950192619085507\",\"id\":\"ob_07\",\"type\":\"observable\"},val)) : undefined; return this.valueFromJulia[\"index\"]=false}),self)]\n        \n    }\n    self.model = new AppViewModel();\n    self.valueFromJulia = {};\n    for (var key in json_data) {\n        self.valueFromJulia[key] = false;\n    }\n    ko.applyBindings(self.model, self.dom);\n}\n);\n    (WebIO.importBlock({\"data\":[{\"name\":\"knockout\",\"type\":\"js\",\"url\":\"/assetserver/512d6abf81dbd16b195ef7360e93a28e5ab18252-knockout.js\"},{\"name\":\"knockout_punches\",\"type\":\"js\",\"url\":\"/assetserver/5be9a53f5c5295f02f48bf470c59677b8bf733a7-knockout_punches.js\"}],\"type\":\"async_block\"})).then((imports) => handler.apply(this, imports));\n}\n"
            ],
            "observables": {
             "index": {
              "id": "ob_07",
              "sync": true,
              "value": 1
             },
             "options_js": {
              "id": "ob_08",
              "sync": false,
              "value": [
               {
                "id": "idgrtIOUQ6",
                "key": "sin",
                "val": 1
               },
               {
                "id": "id4Z2aMlCv",
                "key": "cos",
                "val": 2
               }
              ]
             }
            },
            "systemjs_options": null
           },
           "nodeType": "Scope",
           "props": {},
           "type": "node"
          }
         ],
         "instanceArgs": {
          "namespace": "html",
          "tag": "div"
         },
         "nodeType": "DOM",
         "props": {
          "className": "interact-widget"
         },
         "type": "node"
        },
        {
         "children": [
          {
           "children": [
            {
             "children": [
              {
               "children": [
                {
                 "children": [],
                 "instanceArgs": {
                  "namespace": "html",
                  "tag": "input"
                 },
                 "nodeType": "DOM",
                 "props": {
                  "attributes": {
                   "data-bind": "checked: value, valueUpdate: 'change', event: {change: function (){this.changes(this.changes()+1)}}",
                   "type": "checkbox"
                  },
                  "className": "switch ",
                  "id": "##377",
                  "style": {}
                 },
                 "type": "node"
                },
                {
                 "children": [
                  "ambos"
                 ],
                 "instanceArgs": {
                  "namespace": "html",
                  "tag": "label"
                 },
                 "nodeType": "DOM",
                 "props": {
                  "attributes": {
                   "className": "",
                   "for": "##377"
                  }
                 },
                 "type": "node"
                }
               ],
               "instanceArgs": {
                "namespace": "html",
                "tag": "div"
               },
               "nodeType": "DOM",
               "props": {
                "className": "field interact-widget"
               },
               "type": "node"
              }
             ],
             "instanceArgs": {
              "handlers": {
               "changes": [
                "(function (val){return (val!=this.model[\"changes\"]()) ? (this.valueFromJulia[\"changes\"]=true, this.model[\"changes\"](val)) : undefined})"
               ],
               "value": [
                "(function (val){return (val!=this.model[\"value\"]()) ? (this.valueFromJulia[\"value\"]=true, this.model[\"value\"](val)) : undefined})"
               ]
              },
              "id": "16807465365040785026",
              "imports": {
               "data": [
                {
                 "name": "knockout",
                 "type": "js",
                 "url": "/assetserver/512d6abf81dbd16b195ef7360e93a28e5ab18252-knockout.js"
                },
                {
                 "name": "knockout_punches",
                 "type": "js",
                 "url": "/assetserver/5be9a53f5c5295f02f48bf470c59677b8bf733a7-knockout_punches.js"
                },
                {
                 "name": null,
                 "type": "js",
                 "url": "/assetserver/6347d1962eeca20b405d200566186de31f932fa0-all.js"
                },
                {
                 "name": null,
                 "type": "css",
                 "url": "/assetserver/b9e5e07a0fe9fac65c1597b73813ee449d42dd1f-style.css"
                },
                {
                 "name": null,
                 "type": "css",
                 "url": "/assetserver/bd09bd82254ff43a253a74c24f12450215d5808c-bulma_confined.min.css"
                }
               ],
               "type": "async_block"
              },
              "mount_callbacks": [
               "function () {\n    var handler = (function (ko, koPunches) {\n    ko.punches.enableAll();\n    ko.bindingHandlers.numericValue = {\n        init: function(element, valueAccessor, allBindings, data, context) {\n            var stringified = ko.observable(ko.unwrap(valueAccessor()));\n            stringified.subscribe(function(value) {\n                var val = parseFloat(value);\n                if (!isNaN(val)) {\n                    valueAccessor()(val);\n                }\n            });\n            valueAccessor().subscribe(function(value) {\n                var str = JSON.stringify(value);\n                if ((str == \"0\") && ([\"-0\", \"-0.\"].indexOf(stringified()) >= 0))\n                     return;\n                 if ([\"null\", \"\"].indexOf(str) >= 0)\n                     return;\n                stringified(str);\n            });\n            ko.applyBindingsToNode(\n                element,\n                {\n                    value: stringified,\n                    valueUpdate: allBindings.get('valueUpdate'),\n                },\n                context,\n            );\n        }\n    };\n    var json_data = {\"changes\":WebIO.getval({\"name\":\"changes\",\"scope\":\"16807465365040785026\",\"id\":\"ob_10\",\"type\":\"observable\"}),\"value\":WebIO.getval({\"name\":\"value\",\"scope\":\"16807465365040785026\",\"id\":\"ob_09\",\"type\":\"observable\"})};\n    var self = this;\n    function AppViewModel() {\n        for (var key in json_data) {\n            var el = json_data[key];\n            this[key] = Array.isArray(el) ? ko.observableArray(el) : ko.observable(el);\n        }\n        \n        \n        [this[\"changes\"].subscribe((function (val){!(this.valueFromJulia[\"changes\"]) ? (WebIO.setval({\"name\":\"changes\",\"scope\":\"16807465365040785026\",\"id\":\"ob_10\",\"type\":\"observable\"},val)) : undefined; return this.valueFromJulia[\"changes\"]=false}),self),this[\"value\"].subscribe((function (val){!(this.valueFromJulia[\"value\"]) ? (WebIO.setval({\"name\":\"value\",\"scope\":\"16807465365040785026\",\"id\":\"ob_09\",\"type\":\"observable\"},val)) : undefined; return this.valueFromJulia[\"value\"]=false}),self)]\n        \n    }\n    self.model = new AppViewModel();\n    self.valueFromJulia = {};\n    for (var key in json_data) {\n        self.valueFromJulia[key] = false;\n    }\n    ko.applyBindings(self.model, self.dom);\n}\n);\n    (WebIO.importBlock({\"data\":[{\"name\":\"knockout\",\"type\":\"js\",\"url\":\"/assetserver/512d6abf81dbd16b195ef7360e93a28e5ab18252-knockout.js\"},{\"name\":\"knockout_punches\",\"type\":\"js\",\"url\":\"/assetserver/5be9a53f5c5295f02f48bf470c59677b8bf733a7-knockout_punches.js\"}],\"type\":\"async_block\"})).then((imports) => handler.apply(this, imports));\n}\n"
              ],
              "observables": {
               "changes": {
                "id": "ob_10",
                "sync": false,
                "value": 0
               },
               "value": {
                "id": "ob_09",
                "sync": true,
                "value": false
               }
              },
              "systemjs_options": null
             },
             "nodeType": "Scope",
             "props": {},
             "type": "node"
            }
           ],
           "instanceArgs": {
            "namespace": "html",
            "tag": "div"
           },
           "nodeType": "DOM",
           "props": {
            "className": "field interact-widget"
           },
           "type": "node"
          }
         ],
         "instanceArgs": {
          "namespace": "html",
          "tag": "div"
         },
         "nodeType": "DOM",
         "props": {
          "className": "interact-flex-row interact-widget"
         },
         "type": "node"
        },
        {
         "children": [
          {
           "children": [],
           "instanceArgs": {
            "id": "ob_16",
            "name": "obs-node"
           },
           "nodeType": "ObservableNode",
           "props": {},
           "type": "node"
          }
         ],
         "instanceArgs": {
          "handlers": {},
          "id": "15153779879344094040",
          "imports": {
           "data": [],
           "type": "async_block"
          },
          "mount_callbacks": [],
          "observables": {
           "obs-node": {
            "id": "ob_16",
            "sync": false,
            "value": {
             "children": [
              {
               "children": [],
               "instanceArgs": {
                "namespace": "html",
                "tag": "div"
               },
               "nodeType": "DOM",
               "props": {
                "setInnerHtml": "<?xml version=\"1.0\" encoding=\"utf-8\"?>\n<svg xmlns=\"http://www.w3.org/2000/svg\" xmlns:xlink=\"http://www.w3.org/1999/xlink\" width=\"600\" height=\"400\" viewBox=\"0 0 2400 1600\">\n<defs>\n  <clipPath id=\"clip0700\">\n    <rect x=\"0\" y=\"0\" width=\"2400\" height=\"1600\"/>\n  </clipPath>\n</defs>\n<path clip-path=\"url(#clip0700)\" d=\"\nM0 1600 L2400 1600 L2400 0 L0 0  Z\n  \" fill=\"#ffffff\" fill-rule=\"evenodd\" fill-opacity=\"1\"/>\n<defs>\n  <clipPath id=\"clip0701\">\n    <rect x=\"480\" y=\"0\" width=\"1681\" height=\"1600\"/>\n  </clipPath>\n</defs>\n<path clip-path=\"url(#clip0700)\" d=\"\nM243.864 1425.62 L2352.76 1425.62 L2352.76 47.2441 L243.864 47.2441  Z\n  \" fill=\"#ffffff\" fill-rule=\"evenodd\" fill-opacity=\"1\"/>\n<defs>\n  <clipPath id=\"clip0702\">\n    <rect x=\"243\" y=\"47\" width=\"2110\" height=\"1379\"/>\n  </clipPath>\n</defs>\n<polyline clip-path=\"url(#clip0702)\" style=\"stroke:#000000; stroke-width:2; stroke-opacity:0.1; fill:none\" points=\"\n  303.55,1425.62 303.55,47.2441 \n  \"/>\n<polyline clip-path=\"url(#clip0702)\" style=\"stroke:#000000; stroke-width:2; stroke-opacity:0.1; fill:none\" points=\"\n  800.93,1425.62 800.93,47.2441 \n  \"/>\n<polyline clip-path=\"url(#clip0702)\" style=\"stroke:#000000; stroke-width:2; stroke-opacity:0.1; fill:none\" points=\"\n  1298.31,1425.62 1298.31,47.2441 \n  \"/>\n<polyline clip-path=\"url(#clip0702)\" style=\"stroke:#000000; stroke-width:2; stroke-opacity:0.1; fill:none\" points=\"\n  1795.69,1425.62 1795.69,47.2441 \n  \"/>\n<polyline clip-path=\"url(#clip0702)\" style=\"stroke:#000000; stroke-width:2; stroke-opacity:0.1; fill:none\" points=\"\n  2293.07,1425.62 2293.07,47.2441 \n  \"/>\n<polyline clip-path=\"url(#clip0702)\" style=\"stroke:#000000; stroke-width:2; stroke-opacity:0.1; fill:none\" points=\"\n  243.864,1387.3 2352.76,1387.3 \n  \"/>\n<polyline clip-path=\"url(#clip0702)\" style=\"stroke:#000000; stroke-width:2; stroke-opacity:0.1; fill:none\" points=\"\n  243.864,1061.96 2352.76,1061.96 \n  \"/>\n<polyline clip-path=\"url(#clip0702)\" style=\"stroke:#000000; stroke-width:2; stroke-opacity:0.1; fill:none\" points=\"\n  243.864,736.621 2352.76,736.621 \n  \"/>\n<polyline clip-path=\"url(#clip0702)\" style=\"stroke:#000000; stroke-width:2; stroke-opacity:0.1; fill:none\" points=\"\n  243.864,411.282 2352.76,411.282 \n  \"/>\n<polyline clip-path=\"url(#clip0702)\" style=\"stroke:#000000; stroke-width:2; stroke-opacity:0.1; fill:none\" points=\"\n  243.864,85.9441 2352.76,85.9441 \n  \"/>\n<polyline clip-path=\"url(#clip0700)\" style=\"stroke:#000000; stroke-width:4; stroke-opacity:1; fill:none\" points=\"\n  243.864,1425.62 2352.76,1425.62 \n  \"/>\n<polyline clip-path=\"url(#clip0700)\" style=\"stroke:#000000; stroke-width:4; stroke-opacity:1; fill:none\" points=\"\n  243.864,1425.62 243.864,47.2441 \n  \"/>\n<polyline clip-path=\"url(#clip0700)\" style=\"stroke:#000000; stroke-width:4; stroke-opacity:1; fill:none\" points=\"\n  303.55,1425.62 303.55,1404.94 \n  \"/>\n<polyline clip-path=\"url(#clip0700)\" style=\"stroke:#000000; stroke-width:4; stroke-opacity:1; fill:none\" points=\"\n  800.93,1425.62 800.93,1404.94 \n  \"/>\n<polyline clip-path=\"url(#clip0700)\" style=\"stroke:#000000; stroke-width:4; stroke-opacity:1; fill:none\" points=\"\n  1298.31,1425.62 1298.31,1404.94 \n  \"/>\n<polyline clip-path=\"url(#clip0700)\" style=\"stroke:#000000; stroke-width:4; stroke-opacity:1; fill:none\" points=\"\n  1795.69,1425.62 1795.69,1404.94 \n  \"/>\n<polyline clip-path=\"url(#clip0700)\" style=\"stroke:#000000; stroke-width:4; stroke-opacity:1; fill:none\" points=\"\n  2293.07,1425.62 2293.07,1404.94 \n  \"/>\n<polyline clip-path=\"url(#clip0700)\" style=\"stroke:#000000; stroke-width:4; stroke-opacity:1; fill:none\" points=\"\n  243.864,1387.3 275.498,1387.3 \n  \"/>\n<polyline clip-path=\"url(#clip0700)\" style=\"stroke:#000000; stroke-width:4; stroke-opacity:1; fill:none\" points=\"\n  243.864,1061.96 275.498,1061.96 \n  \"/>\n<polyline clip-path=\"url(#clip0700)\" style=\"stroke:#000000; stroke-width:4; stroke-opacity:1; fill:none\" points=\"\n  243.864,736.621 275.498,736.621 \n  \"/>\n<polyline clip-path=\"url(#clip0700)\" style=\"stroke:#000000; stroke-width:4; stroke-opacity:1; fill:none\" points=\"\n  243.864,411.282 275.498,411.282 \n  \"/>\n<polyline clip-path=\"url(#clip0700)\" style=\"stroke:#000000; stroke-width:4; stroke-opacity:1; fill:none\" points=\"\n  243.864,85.9441 275.498,85.9441 \n  \"/>\n<g clip-path=\"url(#clip0700)\">\n<text style=\"fill:#000000; fill-opacity:1; font-family:Arial,Helvetica Neue,Helvetica,sans-serif; font-size:48px; text-anchor:middle;\" transform=\"rotate(0, 303.55, 1479.62)\" x=\"303.55\" y=\"1479.62\">0</text>\n</g>\n<g clip-path=\"url(#clip0700)\">\n<text style=\"fill:#000000; fill-opacity:1; font-family:Arial,Helvetica Neue,Helvetica,sans-serif; font-size:48px; text-anchor:middle;\" transform=\"rotate(0, 800.93, 1479.62)\" x=\"800.93\" y=\"1479.62\">2</text>\n</g>\n<g clip-path=\"url(#clip0700)\">\n<text style=\"fill:#000000; fill-opacity:1; font-family:Arial,Helvetica Neue,Helvetica,sans-serif; font-size:48px; text-anchor:middle;\" transform=\"rotate(0, 1298.31, 1479.62)\" x=\"1298.31\" y=\"1479.62\">4</text>\n</g>\n<g clip-path=\"url(#clip0700)\">\n<text style=\"fill:#000000; fill-opacity:1; font-family:Arial,Helvetica Neue,Helvetica,sans-serif; font-size:48px; text-anchor:middle;\" transform=\"rotate(0, 1795.69, 1479.62)\" x=\"1795.69\" y=\"1479.62\">6</text>\n</g>\n<g clip-path=\"url(#clip0700)\">\n<text style=\"fill:#000000; fill-opacity:1; font-family:Arial,Helvetica Neue,Helvetica,sans-serif; font-size:48px; text-anchor:middle;\" transform=\"rotate(0, 2293.07, 1479.62)\" x=\"2293.07\" y=\"1479.62\">8</text>\n</g>\n<g clip-path=\"url(#clip0700)\">\n<text style=\"fill:#000000; fill-opacity:1; font-family:Arial,Helvetica Neue,Helvetica,sans-serif; font-size:48px; text-anchor:end;\" transform=\"rotate(0, 219.864, 1404.8)\" x=\"219.864\" y=\"1404.8\">-1.0</text>\n</g>\n<g clip-path=\"url(#clip0700)\">\n<text style=\"fill:#000000; fill-opacity:1; font-family:Arial,Helvetica Neue,Helvetica,sans-serif; font-size:48px; text-anchor:end;\" transform=\"rotate(0, 219.864, 1079.46)\" x=\"219.864\" y=\"1079.46\">-0.5</text>\n</g>\n<g clip-path=\"url(#clip0700)\">\n<text style=\"fill:#000000; fill-opacity:1; font-family:Arial,Helvetica Neue,Helvetica,sans-serif; font-size:48px; text-anchor:end;\" transform=\"rotate(0, 219.864, 754.121)\" x=\"219.864\" y=\"754.121\">0.0</text>\n</g>\n<g clip-path=\"url(#clip0700)\">\n<text style=\"fill:#000000; fill-opacity:1; font-family:Arial,Helvetica Neue,Helvetica,sans-serif; font-size:48px; text-anchor:end;\" transform=\"rotate(0, 219.864, 428.782)\" x=\"219.864\" y=\"428.782\">0.5</text>\n</g>\n<g clip-path=\"url(#clip0700)\">\n<text style=\"fill:#000000; fill-opacity:1; font-family:Arial,Helvetica Neue,Helvetica,sans-serif; font-size:48px; text-anchor:end;\" transform=\"rotate(0, 219.864, 103.444)\" x=\"219.864\" y=\"103.444\">1.0</text>\n</g>\n<g clip-path=\"url(#clip0700)\">\n<text style=\"fill:#000000; fill-opacity:1; font-family:Arial,Helvetica Neue,Helvetica,sans-serif; font-size:66px; text-anchor:middle;\" transform=\"rotate(0, 1298.31, 1559.48)\" x=\"1298.31\" y=\"1559.48\">theta + phi</text>\n</g>\n<g clip-path=\"url(#clip0700)\">\n<text style=\"fill:#000000; fill-opacity:1; font-family:Arial,Helvetica Neue,Helvetica,sans-serif; font-size:66px; text-anchor:middle;\" transform=\"rotate(-90, 89.2861, 736.431)\" x=\"89.2861\" y=\"736.431\">f(theta + phi)</text>\n</g>\n<polyline clip-path=\"url(#clip0702)\" style=\"stroke:#009af9; stroke-width:4; stroke-opacity:1; fill:none\" points=\"\n  303.55,736.621 308.407,723.913 313.264,711.21 318.122,698.516 322.979,685.837 367.892,570.147 412.805,459.871 457.718,358.597 502.631,269.619 529.622,223.288 \n  556.613,182.999 583.603,149.224 610.594,122.361 633.415,105.278 656.235,93.5079 679.055,87.1488 701.876,86.2547 726.665,91.4836 751.455,103.117 776.244,121.04 \n  801.033,145.075 823.887,172.442 846.74,204.57 869.594,241.187 892.448,281.986 941.451,381.915 990.454,495.571 1047.23,638.607 1104,786.729 1154.46,916.418 \n  1204.91,1038.73 1249.16,1135.95 1293.4,1220.56 1317.52,1260.41 1341.64,1295.33 1365.76,1325 1389.88,1349.13 1414.14,1367.61 1438.4,1380.08 1462.66,1386.43 \n  1486.93,1386.61 1513.75,1379.61 1540.58,1365.13 1567.4,1343.35 1594.23,1314.51 1619.75,1280.84 1645.27,1241.43 1670.8,1196.71 1696.32,1147.16 1749.4,1030.92 \n  1802.47,901.321 1847.15,786.185 1891.83,669.453 1946.38,530.238 2000.93,400.913 2026.57,345.334 2052.21,293.909 2077.85,247.186 2103.48,205.66 2144.56,151.047 \n  2185.64,112.372 2226.71,90.6874 2267.79,86.5837 2274.11,87.5268 2280.43,88.8893 2286.75,90.6702 2293.07,92.8684 \n  \"/>\n<path clip-path=\"url(#clip0700)\" d=\"\nM1989.93 251.724 L2280.76 251.724 L2280.76 130.764 L1989.93 130.764  Z\n  \" fill=\"#ffffff\" fill-rule=\"evenodd\" fill-opacity=\"1\"/>\n<polyline clip-path=\"url(#clip0700)\" style=\"stroke:#000000; stroke-width:4; stroke-opacity:1; fill:none\" points=\"\n  1989.93,251.724 2280.76,251.724 2280.76,130.764 1989.93,130.764 1989.93,251.724 \n  \"/>\n<polyline clip-path=\"url(#clip0700)\" style=\"stroke:#009af9; stroke-width:4; stroke-opacity:1; fill:none\" points=\"\n  2013.93,191.244 2157.93,191.244 \n  \"/>\n<g clip-path=\"url(#clip0700)\">\n<text style=\"fill:#000000; fill-opacity:1; font-family:Arial,Helvetica Neue,Helvetica,sans-serif; font-size:48px; text-anchor:start;\" transform=\"rotate(0, 2181.93, 208.744)\" x=\"2181.93\" y=\"208.744\">y1</text>\n</g>\n</svg>\n"
               },
               "type": "node"
              }
             ],
             "instanceArgs": {
              "namespace": "html",
              "tag": "div"
             },
             "nodeType": "DOM",
             "props": {
              "className": "interact-flex-row interact-widget"
             },
             "type": "node"
            }
           }
          },
          "systemjs_options": null
         },
         "nodeType": "Scope",
         "props": {},
         "type": "node"
        }
       ],
       "instanceArgs": {
        "namespace": "html",
        "tag": "div"
       },
       "nodeType": "DOM",
       "props": {},
       "type": "node"
      },
      "text/html": [
       "<div\n",
       "    class=\"webio-mountpoint\"\n",
       "    data-webio-mountpoint=\"10645009346661847149\"\n",
       ">\n",
       "    <script>\n",
       "    if (window.require && require.defined && require.defined(\"nbextensions/webio-jupyter-notebook\")) {\n",
       "        console.log(\"Jupyter WebIO extension detected, not mounting.\");\n",
       "    } else if (window.WebIO) {\n",
       "        WebIO.mount(\n",
       "            document.querySelector('[data-webio-mountpoint=\"10645009346661847149\"]'),\n",
       "            {\"props\":{},\"nodeType\":\"DOM\",\"type\":\"node\",\"instanceArgs\":{\"namespace\":\"html\",\"tag\":\"div\"},\"children\":[{\"props\":{\"className\":\"field interact-widget\"},\"nodeType\":\"DOM\",\"type\":\"node\",\"instanceArgs\":{\"namespace\":\"html\",\"tag\":\"div\"},\"children\":[{\"props\":{},\"nodeType\":\"Scope\",\"type\":\"node\",\"instanceArgs\":{\"imports\":{\"data\":[{\"name\":\"knockout\",\"type\":\"js\",\"url\":\"\\/assetserver\\/512d6abf81dbd16b195ef7360e93a28e5ab18252-knockout.js\"},{\"name\":\"knockout_punches\",\"type\":\"js\",\"url\":\"\\/assetserver\\/5be9a53f5c5295f02f48bf470c59677b8bf733a7-knockout_punches.js\"},{\"name\":null,\"type\":\"js\",\"url\":\"\\/assetserver\\/6347d1962eeca20b405d200566186de31f932fa0-all.js\"},{\"name\":null,\"type\":\"css\",\"url\":\"\\/assetserver\\/b9e5e07a0fe9fac65c1597b73813ee449d42dd1f-style.css\"},{\"name\":null,\"type\":\"css\",\"url\":\"\\/assetserver\\/bd09bd82254ff43a253a74c24f12450215d5808c-bulma_confined.min.css\"}],\"type\":\"async_block\"},\"id\":\"1227126677141774213\",\"handlers\":{\"changes\":[\"(function (val){return (val!=this.model[\\\"changes\\\"]()) ? (this.valueFromJulia[\\\"changes\\\"]=true, this.model[\\\"changes\\\"](val)) : undefined})\"],\"index\":[\"(function (val){return (val!=this.model[\\\"index\\\"]()) ? (this.valueFromJulia[\\\"index\\\"]=true, this.model[\\\"index\\\"](val)) : undefined})\"]},\"systemjs_options\":null,\"mount_callbacks\":[\"function () {\\n    var handler = (function (ko, koPunches) {\\n    ko.punches.enableAll();\\n    ko.bindingHandlers.numericValue = {\\n        init: function(element, valueAccessor, allBindings, data, context) {\\n            var stringified = ko.observable(ko.unwrap(valueAccessor()));\\n            stringified.subscribe(function(value) {\\n                var val = parseFloat(value);\\n                if (!isNaN(val)) {\\n                    valueAccessor()(val);\\n                }\\n            });\\n            valueAccessor().subscribe(function(value) {\\n                var str = JSON.stringify(value);\\n                if ((str == \\\"0\\\") && ([\\\"-0\\\", \\\"-0.\\\"].indexOf(stringified()) >= 0))\\n                     return;\\n                 if ([\\\"null\\\", \\\"\\\"].indexOf(str) >= 0)\\n                     return;\\n                stringified(str);\\n            });\\n            ko.applyBindingsToNode(\\n                element,\\n                {\\n                    value: stringified,\\n                    valueUpdate: allBindings.get('valueUpdate'),\\n                },\\n                context,\\n            );\\n        }\\n    };\\n    var json_data = {\\\"formatted_vals\\\":[\\\"0.0\\\",\\\"0.19635\\\",\\\"0.392699\\\",\\\"0.589049\\\",\\\"0.785398\\\",\\\"0.981748\\\",\\\"1.1781\\\",\\\"1.37445\\\",\\\"1.5708\\\",\\\"1.76715\\\",\\\"1.9635\\\",\\\"2.15984\\\",\\\"2.35619\\\",\\\"2.55254\\\",\\\"2.74889\\\",\\\"2.94524\\\",\\\"3.14159\\\",\\\"3.33794\\\",\\\"3.53429\\\",\\\"3.73064\\\",\\\"3.92699\\\",\\\"4.12334\\\",\\\"4.31969\\\",\\\"4.51604\\\",\\\"4.71239\\\",\\\"4.90874\\\",\\\"5.10509\\\",\\\"5.30144\\\",\\\"5.49779\\\",\\\"5.69414\\\",\\\"5.89049\\\",\\\"6.08684\\\",\\\"6.28319\\\",\\\"6.47953\\\",\\\"6.67588\\\",\\\"6.87223\\\",\\\"7.06858\\\",\\\"7.26493\\\",\\\"7.46128\\\",\\\"7.65763\\\",\\\"7.85398\\\",\\\"8.05033\\\",\\\"8.24668\\\",\\\"8.44303\\\",\\\"8.63938\\\",\\\"8.83573\\\",\\\"9.03208\\\",\\\"9.22843\\\",\\\"9.42478\\\",\\\"9.62113\\\",\\\"9.81748\\\",\\\"10.0138\\\",\\\"10.2102\\\",\\\"10.4065\\\",\\\"10.6029\\\",\\\"10.7992\\\",\\\"10.9956\\\",\\\"11.1919\\\",\\\"11.3883\\\",\\\"11.5846\\\",\\\"11.781\\\",\\\"11.9773\\\",\\\"12.1737\\\",\\\"12.37\\\",\\\"12.5664\\\"],\\\"changes\\\":WebIO.getval({\\\"name\\\":\\\"changes\\\",\\\"scope\\\":\\\"1227126677141774213\\\",\\\"id\\\":\\\"ob_03\\\",\\\"type\\\":\\\"observable\\\"}),\\\"index\\\":WebIO.getval({\\\"name\\\":\\\"index\\\",\\\"scope\\\":\\\"1227126677141774213\\\",\\\"id\\\":\\\"ob_02\\\",\\\"type\\\":\\\"observable\\\"})};\\n    var self = this;\\n    function AppViewModel() {\\n        for (var key in json_data) {\\n            var el = json_data[key];\\n            this[key] = Array.isArray(el) ? ko.observableArray(el) : ko.observable(el);\\n        }\\n        \\n        [this[\\\"formatted_val\\\"]=ko.computed(    function(){\\n        return this.formatted_vals()[parseInt(this.index())-(1)];\\n    }\\n,this)]\\n        [this[\\\"changes\\\"].subscribe((function (val){!(this.valueFromJulia[\\\"changes\\\"]) ? (WebIO.setval({\\\"name\\\":\\\"changes\\\",\\\"scope\\\":\\\"1227126677141774213\\\",\\\"id\\\":\\\"ob_03\\\",\\\"type\\\":\\\"observable\\\"},val)) : undefined; return this.valueFromJulia[\\\"changes\\\"]=false}),self),this[\\\"index\\\"].subscribe((function (val){!(this.valueFromJulia[\\\"index\\\"]) ? (WebIO.setval({\\\"name\\\":\\\"index\\\",\\\"scope\\\":\\\"1227126677141774213\\\",\\\"id\\\":\\\"ob_02\\\",\\\"type\\\":\\\"observable\\\"},val)) : undefined; return this.valueFromJulia[\\\"index\\\"]=false}),self)]\\n        \\n    }\\n    self.model = new AppViewModel();\\n    self.valueFromJulia = {};\\n    for (var key in json_data) {\\n        self.valueFromJulia[key] = false;\\n    }\\n    ko.applyBindings(self.model, self.dom);\\n}\\n);\\n    (WebIO.importBlock({\\\"data\\\":[{\\\"name\\\":\\\"knockout\\\",\\\"type\\\":\\\"js\\\",\\\"url\\\":\\\"\\/assetserver\\/512d6abf81dbd16b195ef7360e93a28e5ab18252-knockout.js\\\"},{\\\"name\\\":\\\"knockout_punches\\\",\\\"type\\\":\\\"js\\\",\\\"url\\\":\\\"\\/assetserver\\/5be9a53f5c5295f02f48bf470c59677b8bf733a7-knockout_punches.js\\\"}],\\\"type\\\":\\\"async_block\\\"})).then((imports) => handler.apply(this, imports));\\n}\\n\"],\"observables\":{\"changes\":{\"sync\":false,\"id\":\"ob_03\",\"value\":0},\"index\":{\"sync\":true,\"id\":\"ob_02\",\"value\":33}}},\"children\":[{\"props\":{\"className\":\"interact-flex-row interact-widget\"},\"nodeType\":\"DOM\",\"type\":\"node\",\"instanceArgs\":{\"namespace\":\"html\",\"tag\":\"div\"},\"children\":[{\"props\":{\"className\":\"interact-flex-row-left\"},\"nodeType\":\"DOM\",\"type\":\"node\",\"instanceArgs\":{\"namespace\":\"html\",\"tag\":\"div\"},\"children\":[{\"props\":{\"className\":\"interact \",\"style\":{\"padding\":\"5px 10px 0px 10px\"}},\"nodeType\":\"DOM\",\"type\":\"node\",\"instanceArgs\":{\"namespace\":\"html\",\"tag\":\"label\"},\"children\":[\"ϕ\"]}]},{\"props\":{\"className\":\"interact-flex-row-center\"},\"nodeType\":\"DOM\",\"type\":\"node\",\"instanceArgs\":{\"namespace\":\"html\",\"tag\":\"div\"},\"children\":[{\"props\":{\"max\":65,\"min\":1,\"attributes\":{\"type\":\"range\",\"data-bind\":\"numericValue: index, valueUpdate: 'input', event: {change: function (){this.changes(this.changes()+1)}}\",\"orient\":\"horizontal\"},\"step\":1,\"className\":\"slider slider is-fullwidth\",\"style\":{}},\"nodeType\":\"DOM\",\"type\":\"node\",\"instanceArgs\":{\"namespace\":\"html\",\"tag\":\"input\"},\"children\":[]}]},{\"props\":{\"className\":\"interact-flex-row-right\"},\"nodeType\":\"DOM\",\"type\":\"node\",\"instanceArgs\":{\"namespace\":\"html\",\"tag\":\"div\"},\"children\":[{\"props\":{\"attributes\":{\"data-bind\":\"text: formatted_val\"}},\"nodeType\":\"DOM\",\"type\":\"node\",\"instanceArgs\":{\"namespace\":\"html\",\"tag\":\"p\"},\"children\":[]}]}]}]}]},{\"props\":{\"className\":\"interact-widget\"},\"nodeType\":\"DOM\",\"type\":\"node\",\"instanceArgs\":{\"namespace\":\"html\",\"tag\":\"div\"},\"children\":[{\"props\":{},\"nodeType\":\"Scope\",\"type\":\"node\",\"instanceArgs\":{\"imports\":{\"data\":[{\"name\":\"knockout\",\"type\":\"js\",\"url\":\"\\/assetserver\\/512d6abf81dbd16b195ef7360e93a28e5ab18252-knockout.js\"},{\"name\":\"knockout_punches\",\"type\":\"js\",\"url\":\"\\/assetserver\\/5be9a53f5c5295f02f48bf470c59677b8bf733a7-knockout_punches.js\"},{\"name\":null,\"type\":\"js\",\"url\":\"\\/assetserver\\/6347d1962eeca20b405d200566186de31f932fa0-all.js\"},{\"name\":null,\"type\":\"css\",\"url\":\"\\/assetserver\\/b9e5e07a0fe9fac65c1597b73813ee449d42dd1f-style.css\"},{\"name\":null,\"type\":\"css\",\"url\":\"\\/assetserver\\/bd09bd82254ff43a253a74c24f12450215d5808c-bulma_confined.min.css\"}],\"type\":\"async_block\"},\"id\":\"5000950192619085507\",\"handlers\":{\"options_js\":[\"(function (val){return (val!=this.model[\\\"options_js\\\"]()) ? (this.valueFromJulia[\\\"options_js\\\"]=true, this.model[\\\"options_js\\\"](val)) : undefined})\"],\"index\":[\"(function (val){return (val!=this.model[\\\"index\\\"]()) ? (this.valueFromJulia[\\\"index\\\"]=true, this.model[\\\"index\\\"](val)) : undefined})\"]},\"systemjs_options\":null,\"mount_callbacks\":[\"function () {\\n    var handler = (function (ko, koPunches) {\\n    ko.punches.enableAll();\\n    ko.bindingHandlers.numericValue = {\\n        init: function(element, valueAccessor, allBindings, data, context) {\\n            var stringified = ko.observable(ko.unwrap(valueAccessor()));\\n            stringified.subscribe(function(value) {\\n                var val = parseFloat(value);\\n                if (!isNaN(val)) {\\n                    valueAccessor()(val);\\n                }\\n            });\\n            valueAccessor().subscribe(function(value) {\\n                var str = JSON.stringify(value);\\n                if ((str == \\\"0\\\") && ([\\\"-0\\\", \\\"-0.\\\"].indexOf(stringified()) >= 0))\\n                     return;\\n                 if ([\\\"null\\\", \\\"\\\"].indexOf(str) >= 0)\\n                     return;\\n                stringified(str);\\n            });\\n            ko.applyBindingsToNode(\\n                element,\\n                {\\n                    value: stringified,\\n                    valueUpdate: allBindings.get('valueUpdate'),\\n                },\\n                context,\\n            );\\n        }\\n    };\\n    var json_data = {\\\"options_js\\\":WebIO.getval({\\\"name\\\":\\\"options_js\\\",\\\"scope\\\":\\\"5000950192619085507\\\",\\\"id\\\":\\\"ob_08\\\",\\\"type\\\":\\\"observable\\\"}),\\\"index\\\":WebIO.getval({\\\"name\\\":\\\"index\\\",\\\"scope\\\":\\\"5000950192619085507\\\",\\\"id\\\":\\\"ob_07\\\",\\\"type\\\":\\\"observable\\\"})};\\n    var self = this;\\n    function AppViewModel() {\\n        for (var key in json_data) {\\n            var el = json_data[key];\\n            this[key] = Array.isArray(el) ? ko.observableArray(el) : ko.observable(el);\\n        }\\n        [this[\\\"update\\\"]=function (val) {this.index(val)}]\\n        \\n        [this[\\\"options_js\\\"].subscribe((function (val){!(this.valueFromJulia[\\\"options_js\\\"]) ? (WebIO.setval({\\\"name\\\":\\\"options_js\\\",\\\"scope\\\":\\\"5000950192619085507\\\",\\\"id\\\":\\\"ob_08\\\",\\\"type\\\":\\\"observable\\\"},val)) : undefined; return this.valueFromJulia[\\\"options_js\\\"]=false}),self),this[\\\"index\\\"].subscribe((function (val){!(this.valueFromJulia[\\\"index\\\"]) ? (WebIO.setval({\\\"name\\\":\\\"index\\\",\\\"scope\\\":\\\"5000950192619085507\\\",\\\"id\\\":\\\"ob_07\\\",\\\"type\\\":\\\"observable\\\"},val)) : undefined; return this.valueFromJulia[\\\"index\\\"]=false}),self)]\\n        \\n    }\\n    self.model = new AppViewModel();\\n    self.valueFromJulia = {};\\n    for (var key in json_data) {\\n        self.valueFromJulia[key] = false;\\n    }\\n    ko.applyBindings(self.model, self.dom);\\n}\\n);\\n    (WebIO.importBlock({\\\"data\\\":[{\\\"name\\\":\\\"knockout\\\",\\\"type\\\":\\\"js\\\",\\\"url\\\":\\\"\\/assetserver\\/512d6abf81dbd16b195ef7360e93a28e5ab18252-knockout.js\\\"},{\\\"name\\\":\\\"knockout_punches\\\",\\\"type\\\":\\\"js\\\",\\\"url\\\":\\\"\\/assetserver\\/5be9a53f5c5295f02f48bf470c59677b8bf733a7-knockout_punches.js\\\"}],\\\"type\\\":\\\"async_block\\\"})).then((imports) => handler.apply(this, imports));\\n}\\n\"],\"observables\":{\"options_js\":{\"sync\":false,\"id\":\"ob_08\",\"value\":[{\"key\":\"sin\",\"val\":1,\"id\":\"idgrtIOUQ6\"},{\"key\":\"cos\",\"val\":2,\"id\":\"id4Z2aMlCv\"}]},\"index\":{\"sync\":true,\"id\":\"ob_07\",\"value\":1}}},\"children\":[{\"props\":{\"className\":\"interact-flex-row interact-widget\"},\"nodeType\":\"DOM\",\"type\":\"node\",\"instanceArgs\":{\"namespace\":\"html\",\"tag\":\"div\"},\"children\":[{\"props\":{\"className\":\"interact-flex-row-left\"},\"nodeType\":\"DOM\",\"type\":\"node\",\"instanceArgs\":{\"namespace\":\"html\",\"tag\":\"div\"},\"children\":[{\"props\":{\"className\":\"interact \",\"style\":{\"padding\":\"5px 10px 0px 10px\"}},\"nodeType\":\"DOM\",\"type\":\"node\",\"instanceArgs\":{\"namespace\":\"html\",\"tag\":\"label\"},\"children\":[\"f\"]}]},{\"props\":{\"className\":\"interact-flex-row-center\"},\"nodeType\":\"DOM\",\"type\":\"node\",\"instanceArgs\":{\"namespace\":\"html\",\"tag\":\"div\"},\"children\":[{\"props\":{\"attributes\":{\"data-bind\":\"foreach : options_js\"},\"className\":\"buttons has-addons is-centered\"},\"nodeType\":\"DOM\",\"type\":\"node\",\"instanceArgs\":{\"namespace\":\"html\",\"tag\":\"div\"},\"children\":[{\"props\":{\"attributes\":{\"data-bind\":\"click: function (){$root.update(val)}, css: {'is-primary is-selected' : $root.index() == val, 'interact-widget is-medium button ' : true}\"}},\"nodeType\":\"DOM\",\"type\":\"node\",\"instanceArgs\":{\"namespace\":\"html\",\"tag\":\"span\"},\"children\":[{\"props\":{\"attributes\":{\"data-bind\":\"text : key\"}},\"nodeType\":\"DOM\",\"type\":\"node\",\"instanceArgs\":{\"namespace\":\"html\",\"tag\":\"label\"},\"children\":[]}]}]}]},{\"props\":{\"className\":\"interact-flex-row-right\"},\"nodeType\":\"DOM\",\"type\":\"node\",\"instanceArgs\":{\"namespace\":\"html\",\"tag\":\"div\"},\"children\":[{\"props\":{},\"nodeType\":\"DOM\",\"type\":\"node\",\"instanceArgs\":{\"namespace\":\"html\",\"tag\":\"div\"},\"children\":[]}]}]}]}]},{\"props\":{\"className\":\"interact-flex-row interact-widget\"},\"nodeType\":\"DOM\",\"type\":\"node\",\"instanceArgs\":{\"namespace\":\"html\",\"tag\":\"div\"},\"children\":[{\"props\":{\"className\":\"field interact-widget\"},\"nodeType\":\"DOM\",\"type\":\"node\",\"instanceArgs\":{\"namespace\":\"html\",\"tag\":\"div\"},\"children\":[{\"props\":{},\"nodeType\":\"Scope\",\"type\":\"node\",\"instanceArgs\":{\"imports\":{\"data\":[{\"name\":\"knockout\",\"type\":\"js\",\"url\":\"\\/assetserver\\/512d6abf81dbd16b195ef7360e93a28e5ab18252-knockout.js\"},{\"name\":\"knockout_punches\",\"type\":\"js\",\"url\":\"\\/assetserver\\/5be9a53f5c5295f02f48bf470c59677b8bf733a7-knockout_punches.js\"},{\"name\":null,\"type\":\"js\",\"url\":\"\\/assetserver\\/6347d1962eeca20b405d200566186de31f932fa0-all.js\"},{\"name\":null,\"type\":\"css\",\"url\":\"\\/assetserver\\/b9e5e07a0fe9fac65c1597b73813ee449d42dd1f-style.css\"},{\"name\":null,\"type\":\"css\",\"url\":\"\\/assetserver\\/bd09bd82254ff43a253a74c24f12450215d5808c-bulma_confined.min.css\"}],\"type\":\"async_block\"},\"id\":\"16807465365040785026\",\"handlers\":{\"changes\":[\"(function (val){return (val!=this.model[\\\"changes\\\"]()) ? (this.valueFromJulia[\\\"changes\\\"]=true, this.model[\\\"changes\\\"](val)) : undefined})\"],\"value\":[\"(function (val){return (val!=this.model[\\\"value\\\"]()) ? (this.valueFromJulia[\\\"value\\\"]=true, this.model[\\\"value\\\"](val)) : undefined})\"]},\"systemjs_options\":null,\"mount_callbacks\":[\"function () {\\n    var handler = (function (ko, koPunches) {\\n    ko.punches.enableAll();\\n    ko.bindingHandlers.numericValue = {\\n        init: function(element, valueAccessor, allBindings, data, context) {\\n            var stringified = ko.observable(ko.unwrap(valueAccessor()));\\n            stringified.subscribe(function(value) {\\n                var val = parseFloat(value);\\n                if (!isNaN(val)) {\\n                    valueAccessor()(val);\\n                }\\n            });\\n            valueAccessor().subscribe(function(value) {\\n                var str = JSON.stringify(value);\\n                if ((str == \\\"0\\\") && ([\\\"-0\\\", \\\"-0.\\\"].indexOf(stringified()) >= 0))\\n                     return;\\n                 if ([\\\"null\\\", \\\"\\\"].indexOf(str) >= 0)\\n                     return;\\n                stringified(str);\\n            });\\n            ko.applyBindingsToNode(\\n                element,\\n                {\\n                    value: stringified,\\n                    valueUpdate: allBindings.get('valueUpdate'),\\n                },\\n                context,\\n            );\\n        }\\n    };\\n    var json_data = {\\\"changes\\\":WebIO.getval({\\\"name\\\":\\\"changes\\\",\\\"scope\\\":\\\"16807465365040785026\\\",\\\"id\\\":\\\"ob_10\\\",\\\"type\\\":\\\"observable\\\"}),\\\"value\\\":WebIO.getval({\\\"name\\\":\\\"value\\\",\\\"scope\\\":\\\"16807465365040785026\\\",\\\"id\\\":\\\"ob_09\\\",\\\"type\\\":\\\"observable\\\"})};\\n    var self = this;\\n    function AppViewModel() {\\n        for (var key in json_data) {\\n            var el = json_data[key];\\n            this[key] = Array.isArray(el) ? ko.observableArray(el) : ko.observable(el);\\n        }\\n        \\n        \\n        [this[\\\"changes\\\"].subscribe((function (val){!(this.valueFromJulia[\\\"changes\\\"]) ? (WebIO.setval({\\\"name\\\":\\\"changes\\\",\\\"scope\\\":\\\"16807465365040785026\\\",\\\"id\\\":\\\"ob_10\\\",\\\"type\\\":\\\"observable\\\"},val)) : undefined; return this.valueFromJulia[\\\"changes\\\"]=false}),self),this[\\\"value\\\"].subscribe((function (val){!(this.valueFromJulia[\\\"value\\\"]) ? (WebIO.setval({\\\"name\\\":\\\"value\\\",\\\"scope\\\":\\\"16807465365040785026\\\",\\\"id\\\":\\\"ob_09\\\",\\\"type\\\":\\\"observable\\\"},val)) : undefined; return this.valueFromJulia[\\\"value\\\"]=false}),self)]\\n        \\n    }\\n    self.model = new AppViewModel();\\n    self.valueFromJulia = {};\\n    for (var key in json_data) {\\n        self.valueFromJulia[key] = false;\\n    }\\n    ko.applyBindings(self.model, self.dom);\\n}\\n);\\n    (WebIO.importBlock({\\\"data\\\":[{\\\"name\\\":\\\"knockout\\\",\\\"type\\\":\\\"js\\\",\\\"url\\\":\\\"\\/assetserver\\/512d6abf81dbd16b195ef7360e93a28e5ab18252-knockout.js\\\"},{\\\"name\\\":\\\"knockout_punches\\\",\\\"type\\\":\\\"js\\\",\\\"url\\\":\\\"\\/assetserver\\/5be9a53f5c5295f02f48bf470c59677b8bf733a7-knockout_punches.js\\\"}],\\\"type\\\":\\\"async_block\\\"})).then((imports) => handler.apply(this, imports));\\n}\\n\"],\"observables\":{\"changes\":{\"sync\":false,\"id\":\"ob_10\",\"value\":0},\"value\":{\"sync\":true,\"id\":\"ob_09\",\"value\":false}}},\"children\":[{\"props\":{\"className\":\"field interact-widget\"},\"nodeType\":\"DOM\",\"type\":\"node\",\"instanceArgs\":{\"namespace\":\"html\",\"tag\":\"div\"},\"children\":[{\"props\":{\"attributes\":{\"type\":\"checkbox\",\"data-bind\":\"checked: value, valueUpdate: 'change', event: {change: function (){this.changes(this.changes()+1)}}\"},\"id\":\"##377\",\"className\":\"switch \",\"style\":{}},\"nodeType\":\"DOM\",\"type\":\"node\",\"instanceArgs\":{\"namespace\":\"html\",\"tag\":\"input\"},\"children\":[]},{\"props\":{\"attributes\":{\"className\":\"\",\"for\":\"##377\"}},\"nodeType\":\"DOM\",\"type\":\"node\",\"instanceArgs\":{\"namespace\":\"html\",\"tag\":\"label\"},\"children\":[\"ambos\"]}]}]}]}]},{\"props\":{},\"nodeType\":\"Scope\",\"type\":\"node\",\"instanceArgs\":{\"imports\":{\"data\":[],\"type\":\"async_block\"},\"id\":\"17442902933134273182\",\"handlers\":{},\"systemjs_options\":null,\"mount_callbacks\":[],\"observables\":{\"obs-node\":{\"sync\":false,\"id\":\"ob_14\",\"value\":{\"props\":{\"className\":\"interact-flex-row interact-widget\"},\"nodeType\":\"DOM\",\"type\":\"node\",\"instanceArgs\":{\"namespace\":\"html\",\"tag\":\"div\"},\"children\":[{\"props\":{\"setInnerHtml\":\"<?xml version=\\\"1.0\\\" encoding=\\\"utf-8\\\"?>\\n<svg xmlns=\\\"http:\\/\\/www.w3.org\\/2000\\/svg\\\" xmlns:xlink=\\\"http:\\/\\/www.w3.org\\/1999\\/xlink\\\" width=\\\"600\\\" height=\\\"400\\\" viewBox=\\\"0 0 2400 1600\\\">\\n<defs>\\n  <clipPath id=\\\"clip0300\\\">\\n    <rect x=\\\"0\\\" y=\\\"0\\\" width=\\\"2400\\\" height=\\\"1600\\\"\\/>\\n  <\\/clipPath>\\n<\\/defs>\\n<path clip-path=\\\"url(#clip0300)\\\" d=\\\"\\nM0 1600 L2400 1600 L2400 0 L0 0  Z\\n  \\\" fill=\\\"#ffffff\\\" fill-rule=\\\"evenodd\\\" fill-opacity=\\\"1\\\"\\/>\\n<defs>\\n  <clipPath id=\\\"clip0301\\\">\\n    <rect x=\\\"480\\\" y=\\\"0\\\" width=\\\"1681\\\" height=\\\"1600\\\"\\/>\\n  <\\/clipPath>\\n<\\/defs>\\n<path clip-path=\\\"url(#clip0300)\\\" d=\\\"\\nM243.864 1425.62 L2352.76 1425.62 L2352.76 47.2441 L243.864 47.2441  Z\\n  \\\" fill=\\\"#ffffff\\\" fill-rule=\\\"evenodd\\\" fill-opacity=\\\"1\\\"\\/>\\n<defs>\\n  <clipPath id=\\\"clip0302\\\">\\n    <rect x=\\\"243\\\" y=\\\"47\\\" width=\\\"2110\\\" height=\\\"1379\\\"\\/>\\n  <\\/clipPath>\\n<\\/defs>\\n<polyline clip-path=\\\"url(#clip0302)\\\" style=\\\"stroke:#000000; stroke-width:2; stroke-opacity:0.1; fill:none\\\" points=\\\"\\n  303.55,1425.62 303.55,47.2441 \\n  \\\"\\/>\\n<polyline clip-path=\\\"url(#clip0302)\\\" style=\\\"stroke:#000000; stroke-width:2; stroke-opacity:0.1; fill:none\\\" points=\\\"\\n  800.93,1425.62 800.93,47.2441 \\n  \\\"\\/>\\n<polyline clip-path=\\\"url(#clip0302)\\\" style=\\\"stroke:#000000; stroke-width:2; stroke-opacity:0.1; fill:none\\\" points=\\\"\\n  1298.31,1425.62 1298.31,47.2441 \\n  \\\"\\/>\\n<polyline clip-path=\\\"url(#clip0302)\\\" style=\\\"stroke:#000000; stroke-width:2; stroke-opacity:0.1; fill:none\\\" points=\\\"\\n  1795.69,1425.62 1795.69,47.2441 \\n  \\\"\\/>\\n<polyline clip-path=\\\"url(#clip0302)\\\" style=\\\"stroke:#000000; stroke-width:2; stroke-opacity:0.1; fill:none\\\" points=\\\"\\n  2293.07,1425.62 2293.07,47.2441 \\n  \\\"\\/>\\n<polyline clip-path=\\\"url(#clip0302)\\\" style=\\\"stroke:#000000; stroke-width:2; stroke-opacity:0.1; fill:none\\\" points=\\\"\\n  243.864,1387.3 2352.76,1387.3 \\n  \\\"\\/>\\n<polyline clip-path=\\\"url(#clip0302)\\\" style=\\\"stroke:#000000; stroke-width:2; stroke-opacity:0.1; fill:none\\\" points=\\\"\\n  243.864,1061.96 2352.76,1061.96 \\n  \\\"\\/>\\n<polyline clip-path=\\\"url(#clip0302)\\\" style=\\\"stroke:#000000; stroke-width:2; stroke-opacity:0.1; fill:none\\\" points=\\\"\\n  243.864,736.621 2352.76,736.621 \\n  \\\"\\/>\\n<polyline clip-path=\\\"url(#clip0302)\\\" style=\\\"stroke:#000000; stroke-width:2; stroke-opacity:0.1; fill:none\\\" points=\\\"\\n  243.864,411.282 2352.76,411.282 \\n  \\\"\\/>\\n<polyline clip-path=\\\"url(#clip0302)\\\" style=\\\"stroke:#000000; stroke-width:2; stroke-opacity:0.1; fill:none\\\" points=\\\"\\n  243.864,85.9441 2352.76,85.9441 \\n  \\\"\\/>\\n<polyline clip-path=\\\"url(#clip0300)\\\" style=\\\"stroke:#000000; stroke-width:4; stroke-opacity:1; fill:none\\\" points=\\\"\\n  243.864,1425.62 2352.76,1425.62 \\n  \\\"\\/>\\n<polyline clip-path=\\\"url(#clip0300)\\\" style=\\\"stroke:#000000; stroke-width:4; stroke-opacity:1; fill:none\\\" points=\\\"\\n  243.864,1425.62 243.864,47.2441 \\n  \\\"\\/>\\n<polyline clip-path=\\\"url(#clip0300)\\\" style=\\\"stroke:#000000; stroke-width:4; stroke-opacity:1; fill:none\\\" points=\\\"\\n  303.55,1425.62 303.55,1404.94 \\n  \\\"\\/>\\n<polyline clip-path=\\\"url(#clip0300)\\\" style=\\\"stroke:#000000; stroke-width:4; stroke-opacity:1; fill:none\\\" points=\\\"\\n  800.93,1425.62 800.93,1404.94 \\n  \\\"\\/>\\n<polyline clip-path=\\\"url(#clip0300)\\\" style=\\\"stroke:#000000; stroke-width:4; stroke-opacity:1; fill:none\\\" points=\\\"\\n  1298.31,1425.62 1298.31,1404.94 \\n  \\\"\\/>\\n<polyline clip-path=\\\"url(#clip0300)\\\" style=\\\"stroke:#000000; stroke-width:4; stroke-opacity:1; fill:none\\\" points=\\\"\\n  1795.69,1425.62 1795.69,1404.94 \\n  \\\"\\/>\\n<polyline clip-path=\\\"url(#clip0300)\\\" style=\\\"stroke:#000000; stroke-width:4; stroke-opacity:1; fill:none\\\" points=\\\"\\n  2293.07,1425.62 2293.07,1404.94 \\n  \\\"\\/>\\n<polyline clip-path=\\\"url(#clip0300)\\\" style=\\\"stroke:#000000; stroke-width:4; stroke-opacity:1; fill:none\\\" points=\\\"\\n  243.864,1387.3 275.498,1387.3 \\n  \\\"\\/>\\n<polyline clip-path=\\\"url(#clip0300)\\\" style=\\\"stroke:#000000; stroke-width:4; stroke-opacity:1; fill:none\\\" points=\\\"\\n  243.864,1061.96 275.498,1061.96 \\n  \\\"\\/>\\n<polyline clip-path=\\\"url(#clip0300)\\\" style=\\\"stroke:#000000; stroke-width:4; stroke-opacity:1; fill:none\\\" points=\\\"\\n  243.864,736.621 275.498,736.621 \\n  \\\"\\/>\\n<polyline clip-path=\\\"url(#clip0300)\\\" style=\\\"stroke:#000000; stroke-width:4; stroke-opacity:1; fill:none\\\" points=\\\"\\n  243.864,411.282 275.498,411.282 \\n  \\\"\\/>\\n<polyline clip-path=\\\"url(#clip0300)\\\" style=\\\"stroke:#000000; stroke-width:4; stroke-opacity:1; fill:none\\\" points=\\\"\\n  243.864,85.9441 275.498,85.9441 \\n  \\\"\\/>\\n<g clip-path=\\\"url(#clip0300)\\\">\\n<text style=\\\"fill:#000000; fill-opacity:1; font-family:Arial,Helvetica Neue,Helvetica,sans-serif; font-size:48px; text-anchor:middle;\\\" transform=\\\"rotate(0, 303.55, 1479.62)\\\" x=\\\"303.55\\\" y=\\\"1479.62\\\">0<\\/text>\\n<\\/g>\\n<g clip-path=\\\"url(#clip0300)\\\">\\n<text style=\\\"fill:#000000; fill-opacity:1; font-family:Arial,Helvetica Neue,Helvetica,sans-serif; font-size:48px; text-anchor:middle;\\\" transform=\\\"rotate(0, 800.93, 1479.62)\\\" x=\\\"800.93\\\" y=\\\"1479.62\\\">2<\\/text>\\n<\\/g>\\n<g clip-path=\\\"url(#clip0300)\\\">\\n<text style=\\\"fill:#000000; fill-opacity:1; font-family:Arial,Helvetica Neue,Helvetica,sans-serif; font-size:48px; text-anchor:middle;\\\" transform=\\\"rotate(0, 1298.31, 1479.62)\\\" x=\\\"1298.31\\\" y=\\\"1479.62\\\">4<\\/text>\\n<\\/g>\\n<g clip-path=\\\"url(#clip0300)\\\">\\n<text style=\\\"fill:#000000; fill-opacity:1; font-family:Arial,Helvetica Neue,Helvetica,sans-serif; font-size:48px; text-anchor:middle;\\\" transform=\\\"rotate(0, 1795.69, 1479.62)\\\" x=\\\"1795.69\\\" y=\\\"1479.62\\\">6<\\/text>\\n<\\/g>\\n<g clip-path=\\\"url(#clip0300)\\\">\\n<text style=\\\"fill:#000000; fill-opacity:1; font-family:Arial,Helvetica Neue,Helvetica,sans-serif; font-size:48px; text-anchor:middle;\\\" transform=\\\"rotate(0, 2293.07, 1479.62)\\\" x=\\\"2293.07\\\" y=\\\"1479.62\\\">8<\\/text>\\n<\\/g>\\n<g clip-path=\\\"url(#clip0300)\\\">\\n<text style=\\\"fill:#000000; fill-opacity:1; font-family:Arial,Helvetica Neue,Helvetica,sans-serif; font-size:48px; text-anchor:end;\\\" transform=\\\"rotate(0, 219.864, 1404.8)\\\" x=\\\"219.864\\\" y=\\\"1404.8\\\">-1.0<\\/text>\\n<\\/g>\\n<g clip-path=\\\"url(#clip0300)\\\">\\n<text style=\\\"fill:#000000; fill-opacity:1; font-family:Arial,Helvetica Neue,Helvetica,sans-serif; font-size:48px; text-anchor:end;\\\" transform=\\\"rotate(0, 219.864, 1079.46)\\\" x=\\\"219.864\\\" y=\\\"1079.46\\\">-0.5<\\/text>\\n<\\/g>\\n<g clip-path=\\\"url(#clip0300)\\\">\\n<text style=\\\"fill:#000000; fill-opacity:1; font-family:Arial,Helvetica Neue,Helvetica,sans-serif; font-size:48px; text-anchor:end;\\\" transform=\\\"rotate(0, 219.864, 754.121)\\\" x=\\\"219.864\\\" y=\\\"754.121\\\">0.0<\\/text>\\n<\\/g>\\n<g clip-path=\\\"url(#clip0300)\\\">\\n<text style=\\\"fill:#000000; fill-opacity:1; font-family:Arial,Helvetica Neue,Helvetica,sans-serif; font-size:48px; text-anchor:end;\\\" transform=\\\"rotate(0, 219.864, 428.782)\\\" x=\\\"219.864\\\" y=\\\"428.782\\\">0.5<\\/text>\\n<\\/g>\\n<g clip-path=\\\"url(#clip0300)\\\">\\n<text style=\\\"fill:#000000; fill-opacity:1; font-family:Arial,Helvetica Neue,Helvetica,sans-serif; font-size:48px; text-anchor:end;\\\" transform=\\\"rotate(0, 219.864, 103.444)\\\" x=\\\"219.864\\\" y=\\\"103.444\\\">1.0<\\/text>\\n<\\/g>\\n<g clip-path=\\\"url(#clip0300)\\\">\\n<text style=\\\"fill:#000000; fill-opacity:1; font-family:Arial,Helvetica Neue,Helvetica,sans-serif; font-size:66px; text-anchor:middle;\\\" transform=\\\"rotate(0, 1298.31, 1559.48)\\\" x=\\\"1298.31\\\" y=\\\"1559.48\\\">theta + phi<\\/text>\\n<\\/g>\\n<g clip-path=\\\"url(#clip0300)\\\">\\n<text style=\\\"fill:#000000; fill-opacity:1; font-family:Arial,Helvetica Neue,Helvetica,sans-serif; font-size:66px; text-anchor:middle;\\\" transform=\\\"rotate(-90, 89.2861, 736.431)\\\" x=\\\"89.2861\\\" y=\\\"736.431\\\">f(theta + phi)<\\/text>\\n<\\/g>\\n<polyline clip-path=\\\"url(#clip0302)\\\" style=\\\"stroke:#009af9; stroke-width:4; stroke-opacity:1; fill:none\\\" points=\\\"\\n  303.55,736.621 308.407,723.913 313.264,711.21 318.122,698.516 322.979,685.837 367.892,570.147 412.805,459.871 457.718,358.597 502.631,269.619 529.622,223.288 \\n  556.613,182.999 583.603,149.224 610.594,122.361 633.415,105.278 656.235,93.5079 679.055,87.1488 701.876,86.2547 726.665,91.4836 751.455,103.117 776.244,121.04 \\n  801.033,145.075 823.887,172.442 846.74,204.57 869.594,241.187 892.448,281.986 941.451,381.915 990.454,495.571 1047.23,638.607 1104,786.729 1154.46,916.418 \\n  1204.91,1038.73 1249.16,1135.95 1293.4,1220.56 1317.52,1260.41 1341.64,1295.33 1365.76,1325 1389.88,1349.13 1414.14,1367.61 1438.4,1380.08 1462.66,1386.43 \\n  1486.93,1386.61 1513.75,1379.61 1540.58,1365.13 1567.4,1343.35 1594.23,1314.51 1619.75,1280.84 1645.27,1241.43 1670.8,1196.71 1696.32,1147.16 1749.4,1030.92 \\n  1802.47,901.321 1847.15,786.185 1891.83,669.453 1946.38,530.238 2000.93,400.913 2026.57,345.334 2052.21,293.909 2077.85,247.186 2103.48,205.66 2144.56,151.047 \\n  2185.64,112.372 2226.71,90.6874 2267.79,86.5837 2274.11,87.5268 2280.43,88.8893 2286.75,90.6702 2293.07,92.8684 \\n  \\\"\\/>\\n<path clip-path=\\\"url(#clip0300)\\\" d=\\\"\\nM1989.93 251.724 L2280.76 251.724 L2280.76 130.764 L1989.93 130.764  Z\\n  \\\" fill=\\\"#ffffff\\\" fill-rule=\\\"evenodd\\\" fill-opacity=\\\"1\\\"\\/>\\n<polyline clip-path=\\\"url(#clip0300)\\\" style=\\\"stroke:#000000; stroke-width:4; stroke-opacity:1; fill:none\\\" points=\\\"\\n  1989.93,251.724 2280.76,251.724 2280.76,130.764 1989.93,130.764 1989.93,251.724 \\n  \\\"\\/>\\n<polyline clip-path=\\\"url(#clip0300)\\\" style=\\\"stroke:#009af9; stroke-width:4; stroke-opacity:1; fill:none\\\" points=\\\"\\n  2013.93,191.244 2157.93,191.244 \\n  \\\"\\/>\\n<g clip-path=\\\"url(#clip0300)\\\">\\n<text style=\\\"fill:#000000; fill-opacity:1; font-family:Arial,Helvetica Neue,Helvetica,sans-serif; font-size:48px; text-anchor:start;\\\" transform=\\\"rotate(0, 2181.93, 208.744)\\\" x=\\\"2181.93\\\" y=\\\"208.744\\\">y1<\\/text>\\n<\\/g>\\n<\\/svg>\\n\"},\"nodeType\":\"DOM\",\"type\":\"node\",\"instanceArgs\":{\"namespace\":\"html\",\"tag\":\"div\"},\"children\":[]}]}}}},\"children\":[{\"props\":{},\"nodeType\":\"ObservableNode\",\"type\":\"node\",\"instanceArgs\":{\"id\":\"ob_14\",\"name\":\"obs-node\"},\"children\":[]}]}]},\n",
       "            window,\n",
       "        );\n",
       "    } else {\n",
       "        document\n",
       "            .querySelector('[data-webio-mountpoint=\"10645009346661847149\"]')\n",
       "            .innerHTML = (\n",
       "                '<strong>WebIO not detected. Please read ' +\n",
       "                '<a href=\"https://juliagizmos.github.io/WebIO.jl/latest/troubleshooting/not-detected/\">the troubleshooting guide</a> ' +\n",
       "                'for more information on how to resolve this issue.' +\n",
       "                '</strong>'\n",
       "            );\n",
       "    }\n",
       "    </script>\n",
       "</div>\n"
      ],
      "text/plain": [
       "Node{WebIO.DOM}(WebIO.DOM(:html, :div), Any[Node{WebIO.DOM}(WebIO.DOM(:html, :div), Any[Scope(Node{WebIO.DOM}(WebIO.DOM(:html, :div), Any[Node{WebIO.DOM}(WebIO.DOM(:html, :div), Any[Node{WebIO.DOM}(WebIO.DOM(:html, :label), Any[\"ϕ\"], Dict{Symbol,Any}(:className => \"interact \",:style => Dict{Any,Any}(:padding => \"5px 10px 0px 10px\")))], Dict{Symbol,Any}(:className => \"interact-flex-row-left\")), Node{WebIO.DOM}(WebIO.DOM(:html, :div), Any[Node{WebIO.DOM}(WebIO.DOM(:html, :input), Any[], Dict{Symbol,Any}(:max => 65,:min => 1,:attributes => Dict{Any,Any}(:type => \"range\",Symbol(\"data-bind\") => \"numericValue: index, valueUpdate: 'input', event: {change: function (){this.changes(this.changes()+1)}}\",\"orient\" => \"horizontal\"),:step => 1,:className => \"slider slider is-fullwidth\",:style => Dict{Any,Any}()))], Dict{Symbol,Any}(:className => \"interact-flex-row-center\")), Node{WebIO.DOM}(WebIO.DOM(:html, :div), Any[Node{WebIO.DOM}(WebIO.DOM(:html, :p), Any[], Dict{Symbol,Any}(:attributes => Dict(\"data-bind\" => \"text: formatted_val\")))], Dict{Symbol,Any}(:className => \"interact-flex-row-right\"))], Dict{Symbol,Any}(:className => \"interact-flex-row interact-widget\")), Dict{String,Tuple{Observables.AbstractObservable,Union{Nothing, Bool}}}(\"changes\" => (Observable{Int64} with 1 listeners. Value:\n",
       "0, nothing),\"index\" => (Observable{Any} with 2 listeners. Value:\n",
       "33, nothing)), Set(String[]), nothing, Asset[Asset(\"js\", \"knockout\", \"/home/pedrohnv/.julia/packages/Knockout/1sDlc/src/../assets/knockout.js\"), Asset(\"js\", \"knockout_punches\", \"/home/pedrohnv/.julia/packages/Knockout/1sDlc/src/../assets/knockout_punches.js\"), Asset(\"js\", nothing, \"/home/pedrohnv/.julia/packages/InteractBase/9mFwe/src/../assets/all.js\"), Asset(\"css\", nothing, \"/home/pedrohnv/.julia/packages/InteractBase/9mFwe/src/../assets/style.css\"), Asset(\"css\", nothing, \"/home/pedrohnv/.julia/packages/Interact/SbgIk/src/../assets/bulma_confined.min.css\")], Dict{Any,Any}(\"changes\" => Any[WebIO.JSString(\"(function (val){return (val!=this.model[\\\"changes\\\"]()) ? (this.valueFromJulia[\\\"changes\\\"]=true, this.model[\\\"changes\\\"](val)) : undefined})\")],\"index\" => Any[WebIO.JSString(\"(function (val){return (val!=this.model[\\\"index\\\"]()) ? (this.valueFromJulia[\\\"index\\\"]=true, this.model[\\\"index\\\"](val)) : undefined})\")]), WebIO.ConnectionPool(Channel{Any}(sz_max:32,sz_curr:0), Set(AbstractConnection[]), Base.GenericCondition{Base.AlwaysLockedST}(Base.InvasiveLinkedList{Task}(Task (runnable) @0x00007fec7b9cc9d0, Task (runnable) @0x00007fec7b9cc9d0), Base.AlwaysLockedST(1))), WebIO.JSString[WebIO.JSString(\"function () {\\n    var handler = (function (ko, koPunches) {\\n    ko.punches.enableAll();\\n    ko.bindingHandlers.numericValue = {\\n        init: function(element, valueAccessor, allBindings, data, context) {\\n            var stringified = ko.observable(ko.unwrap(valueAccessor()));\\n            stringified.subscribe(function(value) {\\n                var val = parseFloat(value);\\n                if (!isNaN(val)) {\\n                    valueAccessor()(val);\\n                }\\n            });\\n            valueAccessor().subscribe(function(value) {\\n                var str = JSON.stringify(value);\\n                if ((str == \\\"0\\\") && ([\\\"-0\\\", \\\"-0.\\\"].indexOf(stringified()) >= 0))\\n                     return;\\n                 if ([\\\"null\\\", \\\"\\\"].indexOf(str) >= 0)\\n                     return;\\n                stringified(str);\\n            });\\n            ko.applyBindingsToNode(\\n                element,\\n                {\\n                    value: stringified,\\n                    valueUpdate: allBindings.get('valueUpdate'),\\n                },\\n                context,\\n            );\\n        }\\n    };\\n    var json_data = {\\\"formatted_vals\\\":[\\\"0.0\\\",\\\"0.19635\\\",\\\"0.392699\\\",\\\"0.589049\\\",\\\"0.785398\\\",\\\"0.981748\\\",\\\"1.1781\\\",\\\"1.37445\\\",\\\"1.5708\\\",\\\"1.76715\\\",\\\"1.9635\\\",\\\"2.15984\\\",\\\"2.35619\\\",\\\"2.55254\\\",\\\"2.74889\\\",\\\"2.94524\\\",\\\"3.14159\\\",\\\"3.33794\\\",\\\"3.53429\\\",\\\"3.73064\\\",\\\"3.92699\\\",\\\"4.12334\\\",\\\"4.31969\\\",\\\"4.51604\\\",\\\"4.71239\\\",\\\"4.90874\\\",\\\"5.10509\\\",\\\"5.30144\\\",\\\"5.49779\\\",\\\"5.69414\\\",\\\"5.89049\\\",\\\"6.08684\\\",\\\"6.28319\\\",\\\"6.47953\\\",\\\"6.67588\\\",\\\"6.87223\\\",\\\"7.06858\\\",\\\"7.26493\\\",\\\"7.46128\\\",\\\"7.65763\\\",\\\"7.85398\\\",\\\"8.05033\\\",\\\"8.24668\\\",\\\"8.44303\\\",\\\"8.63938\\\",\\\"8.83573\\\",\\\"9.03208\\\",\\\"9.22843\\\",\\\"9.42478\\\",\\\"9.62113\\\",\\\"9.81748\\\",\\\"10.0138\\\",\\\"10.2102\\\",\\\"10.4065\\\",\\\"10.6029\\\",\\\"10.7992\\\",\\\"10.9956\\\",\\\"11.1919\\\",\\\"11.3883\\\",\\\"11.5846\\\",\\\"11.781\\\",\\\"11.9773\\\",\\\"12.1737\\\",\\\"12.37\\\",\\\"12.5664\\\"],\\\"changes\\\":WebIO.getval({\\\"name\\\":\\\"changes\\\",\\\"scope\\\":\\\"1227126677141774213\\\",\\\"id\\\":\\\"ob_03\\\",\\\"type\\\":\\\"observable\\\"}),\\\"index\\\":WebIO.getval({\\\"name\\\":\\\"index\\\",\\\"scope\\\":\\\"1227126677141774213\\\",\\\"id\\\":\\\"ob_02\\\",\\\"type\\\":\\\"observable\\\"})};\\n    var self = this;\\n    function AppViewModel() {\\n        for (var key in json_data) {\\n            var el = json_data[key];\\n            this[key] = Array.isArray(el) ? ko.observableArray(el) : ko.observable(el);\\n        }\\n        \\n        [this[\\\"formatted_val\\\"]=ko.computed(    function(){\\n        return this.formatted_vals()[parseInt(this.index())-(1)];\\n    }\\n,this)]\\n        [this[\\\"changes\\\"].subscribe((function (val){!(this.valueFromJulia[\\\"changes\\\"]) ? (WebIO.setval({\\\"name\\\":\\\"changes\\\",\\\"scope\\\":\\\"1227126677141774213\\\",\\\"id\\\":\\\"ob_03\\\",\\\"type\\\":\\\"observable\\\"},val)) : undefined; return this.valueFromJulia[\\\"changes\\\"]=false}),self),this[\\\"index\\\"].subscribe((function (val){!(this.valueFromJulia[\\\"index\\\"]) ? (WebIO.setval({\\\"name\\\":\\\"index\\\",\\\"scope\\\":\\\"1227126677141774213\\\",\\\"id\\\":\\\"ob_02\\\",\\\"type\\\":\\\"observable\\\"},val)) : undefined; return this.valueFromJulia[\\\"index\\\"]=false}),self)]\\n        \\n    }\\n    self.model = new AppViewModel();\\n    self.valueFromJulia = {};\\n    for (var key in json_data) {\\n        self.valueFromJulia[key] = false;\\n    }\\n    ko.applyBindings(self.model, self.dom);\\n}\\n);\\n    (WebIO.importBlock({\\\"data\\\":[{\\\"name\\\":\\\"knockout\\\",\\\"type\\\":\\\"js\\\",\\\"url\\\":\\\"/assetserver/512d6abf81dbd16b195ef7360e93a28e5ab18252-knockout.js\\\"},{\\\"name\\\":\\\"knockout_punches\\\",\\\"type\\\":\\\"js\\\",\\\"url\\\":\\\"/assetserver/5be9a53f5c5295f02f48bf470c59677b8bf733a7-knockout_punches.js\\\"}],\\\"type\\\":\\\"async_block\\\"})).then((imports) => handler.apply(this, imports));\\n}\\n\")])], Dict{Symbol,Any}(:className => \"field interact-widget\")), Node{WebIO.DOM}(WebIO.DOM(:html, :div), Any[Scope(Node{WebIO.DOM}(WebIO.DOM(:html, :div), Any[Node{WebIO.DOM}(WebIO.DOM(:html, :div), Any[Node{WebIO.DOM}(WebIO.DOM(:html, :label), Any[\"f\"], Dict{Symbol,Any}(:className => \"interact \",:style => Dict{Any,Any}(:padding => \"5px 10px 0px 10px\")))], Dict{Symbol,Any}(:className => \"interact-flex-row-left\")), Node{WebIO.DOM}(WebIO.DOM(:html, :div), Any[Node{WebIO.DOM}(WebIO.DOM(:html, :div), Any[Node{WebIO.DOM}(WebIO.DOM(:html, :span), Any[Node{WebIO.DOM}(WebIO.DOM(:html, :label), Any[], Dict{Symbol,Any}(:attributes => Dict(\"data-bind\" => \"text : key\")))], Dict{Symbol,Any}(:attributes => Dict(\"data-bind\" => \"click: function (){\\$root.update(val)}, css: {'is-primary is-selected' : \\$root.index() == val, 'interact-widget is-medium button ' : true}\")))], Dict{Symbol,Any}(:attributes => (\"data-bind\" => \"foreach : options_js\"),:className => \"buttons has-addons is-centered\"))], Dict{Symbol,Any}(:className => \"interact-flex-row-center\")), Node{WebIO.DOM}(WebIO.DOM(:html, :div), Any[Node{WebIO.DOM}(WebIO.DOM(:html, :div), Any[], Dict{Symbol,Any}())], Dict{Symbol,Any}(:className => \"interact-flex-row-right\"))], Dict{Symbol,Any}(:className => \"interact-flex-row interact-widget\")), Dict{String,Tuple{Observables.AbstractObservable,Union{Nothing, Bool}}}(\"options_js\" => (Observable{Any} with 1 listeners. Value:\n",
       "OrderedDict[OrderedDict{String,Any}(\"key\" => \"sin\",\"val\" => 1,\"id\" => \"idgrtIOUQ6\"), OrderedDict{String,Any}(\"key\" => \"cos\",\"val\" => 2,\"id\" => \"id4Z2aMlCv\")], nothing),\"index\" => (Observable{Any} with 2 listeners. Value:\n",
       "1, nothing)), Set(String[]), nothing, Asset[Asset(\"js\", \"knockout\", \"/home/pedrohnv/.julia/packages/Knockout/1sDlc/src/../assets/knockout.js\"), Asset(\"js\", \"knockout_punches\", \"/home/pedrohnv/.julia/packages/Knockout/1sDlc/src/../assets/knockout_punches.js\"), Asset(\"js\", nothing, \"/home/pedrohnv/.julia/packages/InteractBase/9mFwe/src/../assets/all.js\"), Asset(\"css\", nothing, \"/home/pedrohnv/.julia/packages/InteractBase/9mFwe/src/../assets/style.css\"), Asset(\"css\", nothing, \"/home/pedrohnv/.julia/packages/Interact/SbgIk/src/../assets/bulma_confined.min.css\")], Dict{Any,Any}(\"options_js\" => Any[WebIO.JSString(\"(function (val){return (val!=this.model[\\\"options_js\\\"]()) ? (this.valueFromJulia[\\\"options_js\\\"]=true, this.model[\\\"options_js\\\"](val)) : undefined})\")],\"index\" => Any[WebIO.JSString(\"(function (val){return (val!=this.model[\\\"index\\\"]()) ? (this.valueFromJulia[\\\"index\\\"]=true, this.model[\\\"index\\\"](val)) : undefined})\")]), WebIO.ConnectionPool(Channel{Any}(sz_max:32,sz_curr:0), Set(AbstractConnection[]), Base.GenericCondition{Base.AlwaysLockedST}(Base.InvasiveLinkedList{Task}(Task (runnable) @0x00007fec79cc1120, Task (runnable) @0x00007fec79cc1120), Base.AlwaysLockedST(1))), WebIO.JSString[WebIO.JSString(\"function () {\\n    var handler = (function (ko, koPunches) {\\n    ko.punches.enableAll();\\n    ko.bindingHandlers.numericValue = {\\n        init: function(element, valueAccessor, allBindings, data, context) {\\n            var stringified = ko.observable(ko.unwrap(valueAccessor()));\\n            stringified.subscribe(function(value) {\\n                var val = parseFloat(value);\\n                if (!isNaN(val)) {\\n                    valueAccessor()(val);\\n                }\\n            });\\n            valueAccessor().subscribe(function(value) {\\n                var str = JSON.stringify(value);\\n                if ((str == \\\"0\\\") && ([\\\"-0\\\", \\\"-0.\\\"].indexOf(stringified()) >= 0))\\n                     return;\\n                 if ([\\\"null\\\", \\\"\\\"].indexOf(str) >= 0)\\n                     return;\\n                stringified(str);\\n            });\\n            ko.applyBindingsToNode(\\n                element,\\n                {\\n                    value: stringified,\\n                    valueUpdate: allBindings.get('valueUpdate'),\\n                },\\n                context,\\n            );\\n        }\\n    };\\n    var json_data = {\\\"options_js\\\":WebIO.getval({\\\"name\\\":\\\"options_js\\\",\\\"scope\\\":\\\"5000950192619085507\\\",\\\"id\\\":\\\"ob_08\\\",\\\"type\\\":\\\"observable\\\"}),\\\"index\\\":WebIO.getval({\\\"name\\\":\\\"index\\\",\\\"scope\\\":\\\"5000950192619085507\\\",\\\"id\\\":\\\"ob_07\\\",\\\"type\\\":\\\"observable\\\"})};\\n    var self = this;\\n    function AppViewModel() {\\n        for (var key in json_data) {\\n            var el = json_data[key];\\n            this[key] = Array.isArray(el) ? ko.observableArray(el) : ko.observable(el);\\n        }\\n        [this[\\\"update\\\"]=function (val) {this.index(val)}]\\n        \\n        [this[\\\"options_js\\\"].subscribe((function (val){!(this.valueFromJulia[\\\"options_js\\\"]) ? (WebIO.setval({\\\"name\\\":\\\"options_js\\\",\\\"scope\\\":\\\"5000950192619085507\\\",\\\"id\\\":\\\"ob_08\\\",\\\"type\\\":\\\"observable\\\"},val)) : undefined; return this.valueFromJulia[\\\"options_js\\\"]=false}),self),this[\\\"index\\\"].subscribe((function (val){!(this.valueFromJulia[\\\"index\\\"]) ? (WebIO.setval({\\\"name\\\":\\\"index\\\",\\\"scope\\\":\\\"5000950192619085507\\\",\\\"id\\\":\\\"ob_07\\\",\\\"type\\\":\\\"observable\\\"},val)) : undefined; return this.valueFromJulia[\\\"index\\\"]=false}),self)]\\n        \\n    }\\n    self.model = new AppViewModel();\\n    self.valueFromJulia = {};\\n    for (var key in json_data) {\\n        self.valueFromJulia[key] = false;\\n    }\\n    ko.applyBindings(self.model, self.dom);\\n}\\n);\\n    (WebIO.importBlock({\\\"data\\\":[{\\\"name\\\":\\\"knockout\\\",\\\"type\\\":\\\"js\\\",\\\"url\\\":\\\"/assetserver/512d6abf81dbd16b195ef7360e93a28e5ab18252-knockout.js\\\"},{\\\"name\\\":\\\"knockout_punches\\\",\\\"type\\\":\\\"js\\\",\\\"url\\\":\\\"/assetserver/5be9a53f5c5295f02f48bf470c59677b8bf733a7-knockout_punches.js\\\"}],\\\"type\\\":\\\"async_block\\\"})).then((imports) => handler.apply(this, imports));\\n}\\n\")])], Dict{Symbol,Any}(:className => \"interact-widget\")), Node{WebIO.DOM}(WebIO.DOM(:html, :div), Any[Node{WebIO.DOM}(WebIO.DOM(:html, :div), Any[Scope(Node{WebIO.DOM}(WebIO.DOM(:html, :div), Any[Node{WebIO.DOM}(WebIO.DOM(:html, :input), Any[], Dict{Symbol,Any}(:attributes => Dict{Any,Any}(:type => \"checkbox\",Symbol(\"data-bind\") => \"checked: value, valueUpdate: 'change', event: {change: function (){this.changes(this.changes()+1)}}\"),:id => \"##377\",:className => \"switch \",:style => Dict{Any,Any}())), Node{WebIO.DOM}(WebIO.DOM(:html, :label), Any[\"ambos\"], Dict{Symbol,Any}(:attributes => Dict(\"className\" => \"\",\"for\" => \"##377\")))], Dict{Symbol,Any}(:className => \"field interact-widget\")), Dict{String,Tuple{Observables.AbstractObservable,Union{Nothing, Bool}}}(\"changes\" => (Observable{Int64} with 1 listeners. Value:\n",
       "0, nothing),\"value\" => (Observable{Bool} with 2 listeners. Value:\n",
       "false, nothing)), Set(String[]), nothing, Asset[Asset(\"js\", \"knockout\", \"/home/pedrohnv/.julia/packages/Knockout/1sDlc/src/../assets/knockout.js\"), Asset(\"js\", \"knockout_punches\", \"/home/pedrohnv/.julia/packages/Knockout/1sDlc/src/../assets/knockout_punches.js\"), Asset(\"js\", nothing, \"/home/pedrohnv/.julia/packages/InteractBase/9mFwe/src/../assets/all.js\"), Asset(\"css\", nothing, \"/home/pedrohnv/.julia/packages/InteractBase/9mFwe/src/../assets/style.css\"), Asset(\"css\", nothing, \"/home/pedrohnv/.julia/packages/Interact/SbgIk/src/../assets/bulma_confined.min.css\")], Dict{Any,Any}(\"changes\" => Any[WebIO.JSString(\"(function (val){return (val!=this.model[\\\"changes\\\"]()) ? (this.valueFromJulia[\\\"changes\\\"]=true, this.model[\\\"changes\\\"](val)) : undefined})\")],\"value\" => Any[WebIO.JSString(\"(function (val){return (val!=this.model[\\\"value\\\"]()) ? (this.valueFromJulia[\\\"value\\\"]=true, this.model[\\\"value\\\"](val)) : undefined})\")]), WebIO.ConnectionPool(Channel{Any}(sz_max:32,sz_curr:0), Set(AbstractConnection[]), Base.GenericCondition{Base.AlwaysLockedST}(Base.InvasiveLinkedList{Task}(Task (runnable) @0x00007fec78306980, Task (runnable) @0x00007fec78306980), Base.AlwaysLockedST(1))), WebIO.JSString[WebIO.JSString(\"function () {\\n    var handler = (function (ko, koPunches) {\\n    ko.punches.enableAll();\\n    ko.bindingHandlers.numericValue = {\\n        init: function(element, valueAccessor, allBindings, data, context) {\\n            var stringified = ko.observable(ko.unwrap(valueAccessor()));\\n            stringified.subscribe(function(value) {\\n                var val = parseFloat(value);\\n                if (!isNaN(val)) {\\n                    valueAccessor()(val);\\n                }\\n            });\\n            valueAccessor().subscribe(function(value) {\\n                var str = JSON.stringify(value);\\n                if ((str == \\\"0\\\") && ([\\\"-0\\\", \\\"-0.\\\"].indexOf(stringified()) >= 0))\\n                     return;\\n                 if ([\\\"null\\\", \\\"\\\"].indexOf(str) >= 0)\\n                     return;\\n                stringified(str);\\n            });\\n            ko.applyBindingsToNode(\\n                element,\\n                {\\n                    value: stringified,\\n                    valueUpdate: allBindings.get('valueUpdate'),\\n                },\\n                context,\\n            );\\n        }\\n    };\\n    var json_data = {\\\"changes\\\":WebIO.getval({\\\"name\\\":\\\"changes\\\",\\\"scope\\\":\\\"16807465365040785026\\\",\\\"id\\\":\\\"ob_10\\\",\\\"type\\\":\\\"observable\\\"}),\\\"value\\\":WebIO.getval({\\\"name\\\":\\\"value\\\",\\\"scope\\\":\\\"16807465365040785026\\\",\\\"id\\\":\\\"ob_09\\\",\\\"type\\\":\\\"observable\\\"})};\\n    var self = this;\\n    function AppViewModel() {\\n        for (var key in json_data) {\\n            var el = json_data[key];\\n            this[key] = Array.isArray(el) ? ko.observableArray(el) : ko.observable(el);\\n        }\\n        \\n        \\n        [this[\\\"changes\\\"].subscribe((function (val){!(this.valueFromJulia[\\\"changes\\\"]) ? (WebIO.setval({\\\"name\\\":\\\"changes\\\",\\\"scope\\\":\\\"16807465365040785026\\\",\\\"id\\\":\\\"ob_10\\\",\\\"type\\\":\\\"observable\\\"},val)) : undefined; return this.valueFromJulia[\\\"changes\\\"]=false}),self),this[\\\"value\\\"].subscribe((function (val){!(this.valueFromJulia[\\\"value\\\"]) ? (WebIO.setval({\\\"name\\\":\\\"value\\\",\\\"scope\\\":\\\"16807465365040785026\\\",\\\"id\\\":\\\"ob_09\\\",\\\"type\\\":\\\"observable\\\"},val)) : undefined; return this.valueFromJulia[\\\"value\\\"]=false}),self)]\\n        \\n    }\\n    self.model = new AppViewModel();\\n    self.valueFromJulia = {};\\n    for (var key in json_data) {\\n        self.valueFromJulia[key] = false;\\n    }\\n    ko.applyBindings(self.model, self.dom);\\n}\\n);\\n    (WebIO.importBlock({\\\"data\\\":[{\\\"name\\\":\\\"knockout\\\",\\\"type\\\":\\\"js\\\",\\\"url\\\":\\\"/assetserver/512d6abf81dbd16b195ef7360e93a28e5ab18252-knockout.js\\\"},{\\\"name\\\":\\\"knockout_punches\\\",\\\"type\\\":\\\"js\\\",\\\"url\\\":\\\"/assetserver/5be9a53f5c5295f02f48bf470c59677b8bf733a7-knockout_punches.js\\\"}],\\\"type\\\":\\\"async_block\\\"})).then((imports) => handler.apply(this, imports));\\n}\\n\")])], Dict{Symbol,Any}(:className => \"field interact-widget\"))], Dict{Symbol,Any}(:className => \"interact-flex-row interact-widget\")), Observable{Any} with 0 listeners. Value:\n",
       "Node{WebIO.DOM}(WebIO.DOM(:html, :div), Any[Plot{Plots.GRBackend() n=1}], Dict{Symbol,Any}(:className => \"interact-flex-row interact-widget\"))], Dict{Symbol,Any}())"
      ]
     },
     "execution_count": 5,
     "metadata": {
      "@webio": {
       "kernelId": "ecf49cc9-003a-42d9-af8b-a6fd2c73d34d"
      }
     },
     "output_type": "execute_result"
    }
   ],
   "source": [
    "@manipulate for ϕ = 0:π/16:4π, f = [sin, cos], ambos = false\n",
    "    if ambos\n",
    "        p1 = plot(θ -> cos(θ + ϕ), 0, 8);\n",
    "        p2 = plot(θ -> sin(θ + ϕ), 0, 8);\n",
    "        plot(p1, p2, ylabel=\"f(theta + phi)\", xlabel=\"theta + phi\")\n",
    "    else\n",
    "        plot(θ -> f(θ + ϕ), 0, 8, ylabel=\"f(theta + phi)\", xlabel=\"theta + phi\")\n",
    "    end\n",
    "end"
   ]
  },
  {
   "cell_type": "markdown",
   "metadata": {},
   "source": [
    "**Nota 2:** na página da web, os códigos acima exibirão mensagens de erro. A figura seguinte mostra a \"cara\" da saída do código acima.\n",
    "\n",
    "![manipulate](manipulate.png)"
   ]
  },
  {
   "cell_type": "markdown",
   "metadata": {},
   "source": [
    "## Estatística online\n",
    "\n",
    "Quando se lida com dados em tempo real, ou com um conjunto muito grande de dados (ou ambos), é melhor utilizar algoritmos de \"passada única\" para fazer a análise destes dados, de preferência combinando com cuomputação paralela. O pacote [OnlineStats](https://joshday.github.io/OnlineStats.jl/latest/) pode ser utilizado para tal."
   ]
  },
  {
   "cell_type": "code",
   "execution_count": 6,
   "metadata": {},
   "outputs": [],
   "source": [
    "using OnlineStats"
   ]
  },
  {
   "cell_type": "code",
   "execution_count": 7,
   "metadata": {},
   "outputs": [
    {
     "data": {
      "image/svg+xml": [
       "<?xml version=\"1.0\" encoding=\"utf-8\"?>\n",
       "<svg xmlns=\"http://www.w3.org/2000/svg\" xmlns:xlink=\"http://www.w3.org/1999/xlink\" width=\"600\" height=\"400\" viewBox=\"0 0 2400 1600\">\n",
       "<defs>\n",
       "  <clipPath id=\"clip1100\">\n",
       "    <rect x=\"0\" y=\"0\" width=\"2400\" height=\"1600\"/>\n",
       "  </clipPath>\n",
       "</defs>\n",
       "<path clip-path=\"url(#clip1100)\" d=\"\n",
       "M0 1600 L2400 1600 L2400 0 L0 0  Z\n",
       "  \" fill=\"#ffffff\" fill-rule=\"evenodd\" fill-opacity=\"1\"/>\n",
       "<defs>\n",
       "  <clipPath id=\"clip1101\">\n",
       "    <rect x=\"480\" y=\"0\" width=\"1681\" height=\"1600\"/>\n",
       "  </clipPath>\n",
       "</defs>\n",
       "<path clip-path=\"url(#clip1100)\" d=\"\n",
       "M153.898 687.475 L743.835 687.475 L743.835 121.675 L153.898 121.675  Z\n",
       "  \" fill=\"#ffffff\" fill-rule=\"evenodd\" fill-opacity=\"1\"/>\n",
       "<defs>\n",
       "  <clipPath id=\"clip1102\">\n",
       "    <rect x=\"153\" y=\"121\" width=\"591\" height=\"567\"/>\n",
       "  </clipPath>\n",
       "</defs>\n",
       "<polyline clip-path=\"url(#clip1102)\" style=\"stroke:#000000; stroke-width:2; stroke-opacity:0.1; fill:none\" points=\"\n",
       "  215.201,687.475 215.201,121.675 \n",
       "  \"/>\n",
       "<polyline clip-path=\"url(#clip1102)\" style=\"stroke:#000000; stroke-width:2; stroke-opacity:0.1; fill:none\" points=\"\n",
       "  334.101,687.475 334.101,121.675 \n",
       "  \"/>\n",
       "<polyline clip-path=\"url(#clip1102)\" style=\"stroke:#000000; stroke-width:2; stroke-opacity:0.1; fill:none\" points=\"\n",
       "  453.002,687.475 453.002,121.675 \n",
       "  \"/>\n",
       "<polyline clip-path=\"url(#clip1102)\" style=\"stroke:#000000; stroke-width:2; stroke-opacity:0.1; fill:none\" points=\"\n",
       "  571.903,687.475 571.903,121.675 \n",
       "  \"/>\n",
       "<polyline clip-path=\"url(#clip1102)\" style=\"stroke:#000000; stroke-width:2; stroke-opacity:0.1; fill:none\" points=\"\n",
       "  690.803,687.475 690.803,121.675 \n",
       "  \"/>\n",
       "<polyline clip-path=\"url(#clip1102)\" style=\"stroke:#000000; stroke-width:2; stroke-opacity:0.1; fill:none\" points=\"\n",
       "  153.898,671.462 743.835,671.462 \n",
       "  \"/>\n",
       "<polyline clip-path=\"url(#clip1102)\" style=\"stroke:#000000; stroke-width:2; stroke-opacity:0.1; fill:none\" points=\"\n",
       "  153.898,542.467 743.835,542.467 \n",
       "  \"/>\n",
       "<polyline clip-path=\"url(#clip1102)\" style=\"stroke:#000000; stroke-width:2; stroke-opacity:0.1; fill:none\" points=\"\n",
       "  153.898,413.472 743.835,413.472 \n",
       "  \"/>\n",
       "<polyline clip-path=\"url(#clip1102)\" style=\"stroke:#000000; stroke-width:2; stroke-opacity:0.1; fill:none\" points=\"\n",
       "  153.898,284.478 743.835,284.478 \n",
       "  \"/>\n",
       "<polyline clip-path=\"url(#clip1102)\" style=\"stroke:#000000; stroke-width:2; stroke-opacity:0.1; fill:none\" points=\"\n",
       "  153.898,155.483 743.835,155.483 \n",
       "  \"/>\n",
       "<polyline clip-path=\"url(#clip1100)\" style=\"stroke:#000000; stroke-width:4; stroke-opacity:1; fill:none\" points=\"\n",
       "  153.898,687.475 743.835,687.475 \n",
       "  \"/>\n",
       "<polyline clip-path=\"url(#clip1100)\" style=\"stroke:#000000; stroke-width:4; stroke-opacity:1; fill:none\" points=\"\n",
       "  153.898,687.475 153.898,121.675 \n",
       "  \"/>\n",
       "<polyline clip-path=\"url(#clip1100)\" style=\"stroke:#000000; stroke-width:4; stroke-opacity:1; fill:none\" points=\"\n",
       "  215.201,687.475 215.201,678.988 \n",
       "  \"/>\n",
       "<polyline clip-path=\"url(#clip1100)\" style=\"stroke:#000000; stroke-width:4; stroke-opacity:1; fill:none\" points=\"\n",
       "  334.101,687.475 334.101,678.988 \n",
       "  \"/>\n",
       "<polyline clip-path=\"url(#clip1100)\" style=\"stroke:#000000; stroke-width:4; stroke-opacity:1; fill:none\" points=\"\n",
       "  453.002,687.475 453.002,678.988 \n",
       "  \"/>\n",
       "<polyline clip-path=\"url(#clip1100)\" style=\"stroke:#000000; stroke-width:4; stroke-opacity:1; fill:none\" points=\"\n",
       "  571.903,687.475 571.903,678.988 \n",
       "  \"/>\n",
       "<polyline clip-path=\"url(#clip1100)\" style=\"stroke:#000000; stroke-width:4; stroke-opacity:1; fill:none\" points=\"\n",
       "  690.803,687.475 690.803,678.988 \n",
       "  \"/>\n",
       "<polyline clip-path=\"url(#clip1100)\" style=\"stroke:#000000; stroke-width:4; stroke-opacity:1; fill:none\" points=\"\n",
       "  153.898,671.462 162.747,671.462 \n",
       "  \"/>\n",
       "<polyline clip-path=\"url(#clip1100)\" style=\"stroke:#000000; stroke-width:4; stroke-opacity:1; fill:none\" points=\"\n",
       "  153.898,542.467 162.747,542.467 \n",
       "  \"/>\n",
       "<polyline clip-path=\"url(#clip1100)\" style=\"stroke:#000000; stroke-width:4; stroke-opacity:1; fill:none\" points=\"\n",
       "  153.898,413.472 162.747,413.472 \n",
       "  \"/>\n",
       "<polyline clip-path=\"url(#clip1100)\" style=\"stroke:#000000; stroke-width:4; stroke-opacity:1; fill:none\" points=\"\n",
       "  153.898,284.478 162.747,284.478 \n",
       "  \"/>\n",
       "<polyline clip-path=\"url(#clip1100)\" style=\"stroke:#000000; stroke-width:4; stroke-opacity:1; fill:none\" points=\"\n",
       "  153.898,155.483 162.747,155.483 \n",
       "  \"/>\n",
       "<g clip-path=\"url(#clip1100)\">\n",
       "<text style=\"fill:#000000; fill-opacity:1; font-family:Arial,Helvetica Neue,Helvetica,sans-serif; font-size:48px; text-anchor:middle;\" transform=\"rotate(0, 215.201, 741.475)\" x=\"215.201\" y=\"741.475\">-4</text>\n",
       "</g>\n",
       "<g clip-path=\"url(#clip1100)\">\n",
       "<text style=\"fill:#000000; fill-opacity:1; font-family:Arial,Helvetica Neue,Helvetica,sans-serif; font-size:48px; text-anchor:middle;\" transform=\"rotate(0, 334.101, 741.475)\" x=\"334.101\" y=\"741.475\">-2</text>\n",
       "</g>\n",
       "<g clip-path=\"url(#clip1100)\">\n",
       "<text style=\"fill:#000000; fill-opacity:1; font-family:Arial,Helvetica Neue,Helvetica,sans-serif; font-size:48px; text-anchor:middle;\" transform=\"rotate(0, 453.002, 741.475)\" x=\"453.002\" y=\"741.475\">0</text>\n",
       "</g>\n",
       "<g clip-path=\"url(#clip1100)\">\n",
       "<text style=\"fill:#000000; fill-opacity:1; font-family:Arial,Helvetica Neue,Helvetica,sans-serif; font-size:48px; text-anchor:middle;\" transform=\"rotate(0, 571.903, 741.475)\" x=\"571.903\" y=\"741.475\">2</text>\n",
       "</g>\n",
       "<g clip-path=\"url(#clip1100)\">\n",
       "<text style=\"fill:#000000; fill-opacity:1; font-family:Arial,Helvetica Neue,Helvetica,sans-serif; font-size:48px; text-anchor:middle;\" transform=\"rotate(0, 690.803, 741.475)\" x=\"690.803\" y=\"741.475\">4</text>\n",
       "</g>\n",
       "<g clip-path=\"url(#clip1100)\">\n",
       "<text style=\"fill:#000000; fill-opacity:1; font-family:Arial,Helvetica Neue,Helvetica,sans-serif; font-size:48px; text-anchor:end;\" transform=\"rotate(0, 129.898, 688.962)\" x=\"129.898\" y=\"688.962\">0.0</text>\n",
       "</g>\n",
       "<g clip-path=\"url(#clip1100)\">\n",
       "<text style=\"fill:#000000; fill-opacity:1; font-family:Arial,Helvetica Neue,Helvetica,sans-serif; font-size:48px; text-anchor:end;\" transform=\"rotate(0, 129.898, 559.967)\" x=\"129.898\" y=\"559.967\">0.1</text>\n",
       "</g>\n",
       "<g clip-path=\"url(#clip1100)\">\n",
       "<text style=\"fill:#000000; fill-opacity:1; font-family:Arial,Helvetica Neue,Helvetica,sans-serif; font-size:48px; text-anchor:end;\" transform=\"rotate(0, 129.898, 430.972)\" x=\"129.898\" y=\"430.972\">0.2</text>\n",
       "</g>\n",
       "<g clip-path=\"url(#clip1100)\">\n",
       "<text style=\"fill:#000000; fill-opacity:1; font-family:Arial,Helvetica Neue,Helvetica,sans-serif; font-size:48px; text-anchor:end;\" transform=\"rotate(0, 129.898, 301.978)\" x=\"129.898\" y=\"301.978\">0.3</text>\n",
       "</g>\n",
       "<g clip-path=\"url(#clip1100)\">\n",
       "<text style=\"fill:#000000; fill-opacity:1; font-family:Arial,Helvetica Neue,Helvetica,sans-serif; font-size:48px; text-anchor:end;\" transform=\"rotate(0, 129.898, 172.983)\" x=\"129.898\" y=\"172.983\">0.4</text>\n",
       "</g>\n",
       "<g clip-path=\"url(#clip1100)\">\n",
       "<text style=\"fill:#000000; fill-opacity:1; font-family:Arial,Helvetica Neue,Helvetica,sans-serif; font-size:84px; text-anchor:middle;\" transform=\"rotate(0, 448.867, 73.2)\" x=\"448.867\" y=\"73.2\">Var 1</text>\n",
       "</g>\n",
       "<path clip-path=\"url(#clip1102)\" d=\"\n",
       "M188.948 671.458 L230.347 671.43 L267.286 669.425 L316.223 648.116 L365.662 501.169 L414.502 287.061 L459.602 183.359 L505.406 309.408 L557.858 521.305 L623.321 665.288 \n",
       "  L665.84 671.303 L727.139 671.458 L727.139 671.462 L665.84 671.462 L623.321 671.462 L557.858 671.462 L505.406 671.462 L459.602 671.462 L414.502 671.462 L365.662 671.462 \n",
       "  L316.223 671.462 L267.286 671.462 L230.347 671.462 L188.948 671.462  Z\n",
       "  \" fill=\"#009af9\" fill-rule=\"evenodd\" fill-opacity=\"0.5\"/>\n",
       "<polyline clip-path=\"url(#clip1102)\" style=\"stroke:#009af9; stroke-width:4; stroke-opacity:0.5; fill:none\" points=\"\n",
       "  188.948,671.458 230.347,671.43 267.286,669.425 316.223,648.116 365.662,501.169 414.502,287.061 459.602,183.359 505.406,309.408 557.858,521.305 623.321,665.288 \n",
       "  665.84,671.303 727.139,671.458 \n",
       "  \"/>\n",
       "<path clip-path=\"url(#clip1102)\" d=\"\n",
       "M170.594 671.459 L230.719 671.292 L274.437 668.764 L320.567 627.1 L373.847 458.232 L428.043 137.688 L481.822 243.5 L535.239 482.641 L587.335 648.218 L632.612 669.427 \n",
       "  L680.75 671.327 L726.274 671.459 L726.274 671.462 L680.75 671.462 L632.612 671.462 L587.335 671.462 L535.239 671.462 L481.822 671.462 L428.043 671.462 L373.847 671.462 \n",
       "  L320.567 671.462 L274.437 671.462 L230.719 671.462 L170.594 671.462  Z\n",
       "  \" fill=\"#e26f46\" fill-rule=\"evenodd\" fill-opacity=\"0.5\"/>\n",
       "<polyline clip-path=\"url(#clip1102)\" style=\"stroke:#e26f46; stroke-width:4; stroke-opacity:0.5; fill:none\" points=\"\n",
       "  170.594,671.459 230.719,671.292 274.437,668.764 320.567,627.1 373.847,458.232 428.043,137.688 481.822,243.5 535.239,482.641 587.335,648.218 632.612,669.427 \n",
       "  680.75,671.327 726.274,671.459 \n",
       "  \"/>\n",
       "<path clip-path=\"url(#clip1100)\" d=\"\n",
       "M944.977 687.475 L1534.91 687.475 L1534.91 121.675 L944.977 121.675  Z\n",
       "  \" fill=\"#ffffff\" fill-rule=\"evenodd\" fill-opacity=\"1\"/>\n",
       "<defs>\n",
       "  <clipPath id=\"clip1103\">\n",
       "    <rect x=\"944\" y=\"121\" width=\"591\" height=\"567\"/>\n",
       "  </clipPath>\n",
       "</defs>\n",
       "<polyline clip-path=\"url(#clip1103)\" style=\"stroke:#000000; stroke-width:2; stroke-opacity:0.1; fill:none\" points=\"\n",
       "  999.954,687.475 999.954,121.675 \n",
       "  \"/>\n",
       "<polyline clip-path=\"url(#clip1103)\" style=\"stroke:#000000; stroke-width:2; stroke-opacity:0.1; fill:none\" points=\"\n",
       "  1120.61,687.475 1120.61,121.675 \n",
       "  \"/>\n",
       "<polyline clip-path=\"url(#clip1103)\" style=\"stroke:#000000; stroke-width:2; stroke-opacity:0.1; fill:none\" points=\"\n",
       "  1241.26,687.475 1241.26,121.675 \n",
       "  \"/>\n",
       "<polyline clip-path=\"url(#clip1103)\" style=\"stroke:#000000; stroke-width:2; stroke-opacity:0.1; fill:none\" points=\"\n",
       "  1361.91,687.475 1361.91,121.675 \n",
       "  \"/>\n",
       "<polyline clip-path=\"url(#clip1103)\" style=\"stroke:#000000; stroke-width:2; stroke-opacity:0.1; fill:none\" points=\"\n",
       "  1482.57,687.475 1482.57,121.675 \n",
       "  \"/>\n",
       "<polyline clip-path=\"url(#clip1103)\" style=\"stroke:#000000; stroke-width:2; stroke-opacity:0.1; fill:none\" points=\"\n",
       "  944.977,671.462 1534.91,671.462 \n",
       "  \"/>\n",
       "<polyline clip-path=\"url(#clip1103)\" style=\"stroke:#000000; stroke-width:2; stroke-opacity:0.1; fill:none\" points=\"\n",
       "  944.977,560.372 1534.91,560.372 \n",
       "  \"/>\n",
       "<polyline clip-path=\"url(#clip1103)\" style=\"stroke:#000000; stroke-width:2; stroke-opacity:0.1; fill:none\" points=\"\n",
       "  944.977,449.283 1534.91,449.283 \n",
       "  \"/>\n",
       "<polyline clip-path=\"url(#clip1103)\" style=\"stroke:#000000; stroke-width:2; stroke-opacity:0.1; fill:none\" points=\"\n",
       "  944.977,338.194 1534.91,338.194 \n",
       "  \"/>\n",
       "<polyline clip-path=\"url(#clip1103)\" style=\"stroke:#000000; stroke-width:2; stroke-opacity:0.1; fill:none\" points=\"\n",
       "  944.977,227.105 1534.91,227.105 \n",
       "  \"/>\n",
       "<polyline clip-path=\"url(#clip1100)\" style=\"stroke:#000000; stroke-width:4; stroke-opacity:1; fill:none\" points=\"\n",
       "  944.977,687.475 1534.91,687.475 \n",
       "  \"/>\n",
       "<polyline clip-path=\"url(#clip1100)\" style=\"stroke:#000000; stroke-width:4; stroke-opacity:1; fill:none\" points=\"\n",
       "  944.977,687.475 944.977,121.675 \n",
       "  \"/>\n",
       "<polyline clip-path=\"url(#clip1100)\" style=\"stroke:#000000; stroke-width:4; stroke-opacity:1; fill:none\" points=\"\n",
       "  999.954,687.475 999.954,678.988 \n",
       "  \"/>\n",
       "<polyline clip-path=\"url(#clip1100)\" style=\"stroke:#000000; stroke-width:4; stroke-opacity:1; fill:none\" points=\"\n",
       "  1120.61,687.475 1120.61,678.988 \n",
       "  \"/>\n",
       "<polyline clip-path=\"url(#clip1100)\" style=\"stroke:#000000; stroke-width:4; stroke-opacity:1; fill:none\" points=\"\n",
       "  1241.26,687.475 1241.26,678.988 \n",
       "  \"/>\n",
       "<polyline clip-path=\"url(#clip1100)\" style=\"stroke:#000000; stroke-width:4; stroke-opacity:1; fill:none\" points=\"\n",
       "  1361.91,687.475 1361.91,678.988 \n",
       "  \"/>\n",
       "<polyline clip-path=\"url(#clip1100)\" style=\"stroke:#000000; stroke-width:4; stroke-opacity:1; fill:none\" points=\"\n",
       "  1482.57,687.475 1482.57,678.988 \n",
       "  \"/>\n",
       "<polyline clip-path=\"url(#clip1100)\" style=\"stroke:#000000; stroke-width:4; stroke-opacity:1; fill:none\" points=\"\n",
       "  944.977,671.462 953.826,671.462 \n",
       "  \"/>\n",
       "<polyline clip-path=\"url(#clip1100)\" style=\"stroke:#000000; stroke-width:4; stroke-opacity:1; fill:none\" points=\"\n",
       "  944.977,560.372 953.826,560.372 \n",
       "  \"/>\n",
       "<polyline clip-path=\"url(#clip1100)\" style=\"stroke:#000000; stroke-width:4; stroke-opacity:1; fill:none\" points=\"\n",
       "  944.977,449.283 953.826,449.283 \n",
       "  \"/>\n",
       "<polyline clip-path=\"url(#clip1100)\" style=\"stroke:#000000; stroke-width:4; stroke-opacity:1; fill:none\" points=\"\n",
       "  944.977,338.194 953.826,338.194 \n",
       "  \"/>\n",
       "<polyline clip-path=\"url(#clip1100)\" style=\"stroke:#000000; stroke-width:4; stroke-opacity:1; fill:none\" points=\"\n",
       "  944.977,227.105 953.826,227.105 \n",
       "  \"/>\n",
       "<g clip-path=\"url(#clip1100)\">\n",
       "<text style=\"fill:#000000; fill-opacity:1; font-family:Arial,Helvetica Neue,Helvetica,sans-serif; font-size:48px; text-anchor:middle;\" transform=\"rotate(0, 999.954, 741.475)\" x=\"999.954\" y=\"741.475\">-4</text>\n",
       "</g>\n",
       "<g clip-path=\"url(#clip1100)\">\n",
       "<text style=\"fill:#000000; fill-opacity:1; font-family:Arial,Helvetica Neue,Helvetica,sans-serif; font-size:48px; text-anchor:middle;\" transform=\"rotate(0, 1120.61, 741.475)\" x=\"1120.61\" y=\"741.475\">-2</text>\n",
       "</g>\n",
       "<g clip-path=\"url(#clip1100)\">\n",
       "<text style=\"fill:#000000; fill-opacity:1; font-family:Arial,Helvetica Neue,Helvetica,sans-serif; font-size:48px; text-anchor:middle;\" transform=\"rotate(0, 1241.26, 741.475)\" x=\"1241.26\" y=\"741.475\">0</text>\n",
       "</g>\n",
       "<g clip-path=\"url(#clip1100)\">\n",
       "<text style=\"fill:#000000; fill-opacity:1; font-family:Arial,Helvetica Neue,Helvetica,sans-serif; font-size:48px; text-anchor:middle;\" transform=\"rotate(0, 1361.91, 741.475)\" x=\"1361.91\" y=\"741.475\">2</text>\n",
       "</g>\n",
       "<g clip-path=\"url(#clip1100)\">\n",
       "<text style=\"fill:#000000; fill-opacity:1; font-family:Arial,Helvetica Neue,Helvetica,sans-serif; font-size:48px; text-anchor:middle;\" transform=\"rotate(0, 1482.57, 741.475)\" x=\"1482.57\" y=\"741.475\">4</text>\n",
       "</g>\n",
       "<g clip-path=\"url(#clip1100)\">\n",
       "<text style=\"fill:#000000; fill-opacity:1; font-family:Arial,Helvetica Neue,Helvetica,sans-serif; font-size:48px; text-anchor:end;\" transform=\"rotate(0, 920.977, 688.962)\" x=\"920.977\" y=\"688.962\">0.0</text>\n",
       "</g>\n",
       "<g clip-path=\"url(#clip1100)\">\n",
       "<text style=\"fill:#000000; fill-opacity:1; font-family:Arial,Helvetica Neue,Helvetica,sans-serif; font-size:48px; text-anchor:end;\" transform=\"rotate(0, 920.977, 577.872)\" x=\"920.977\" y=\"577.872\">0.1</text>\n",
       "</g>\n",
       "<g clip-path=\"url(#clip1100)\">\n",
       "<text style=\"fill:#000000; fill-opacity:1; font-family:Arial,Helvetica Neue,Helvetica,sans-serif; font-size:48px; text-anchor:end;\" transform=\"rotate(0, 920.977, 466.783)\" x=\"920.977\" y=\"466.783\">0.2</text>\n",
       "</g>\n",
       "<g clip-path=\"url(#clip1100)\">\n",
       "<text style=\"fill:#000000; fill-opacity:1; font-family:Arial,Helvetica Neue,Helvetica,sans-serif; font-size:48px; text-anchor:end;\" transform=\"rotate(0, 920.977, 355.694)\" x=\"920.977\" y=\"355.694\">0.3</text>\n",
       "</g>\n",
       "<g clip-path=\"url(#clip1100)\">\n",
       "<text style=\"fill:#000000; fill-opacity:1; font-family:Arial,Helvetica Neue,Helvetica,sans-serif; font-size:48px; text-anchor:end;\" transform=\"rotate(0, 920.977, 244.605)\" x=\"920.977\" y=\"244.605\">0.4</text>\n",
       "</g>\n",
       "<g clip-path=\"url(#clip1100)\">\n",
       "<text style=\"fill:#000000; fill-opacity:1; font-family:Arial,Helvetica Neue,Helvetica,sans-serif; font-size:84px; text-anchor:middle;\" transform=\"rotate(0, 1239.95, 73.2)\" x=\"1239.95\" y=\"73.2\">Var 2</text>\n",
       "</g>\n",
       "<path clip-path=\"url(#clip1103)\" d=\"\n",
       "M983.528 671.459 L1011.83 671.456 L1058.08 669.907 L1104.26 657.856 L1147.5 598.573 L1194.88 408.836 L1249.44 137.688 L1305.09 372.367 L1354.05 586.158 L1403.53 655.705 \n",
       "  L1448.38 671.222 L1518.22 671.459 L1518.22 671.462 L1448.38 671.462 L1403.53 671.462 L1354.05 671.462 L1305.09 671.462 L1249.44 671.462 L1194.88 671.462 L1147.5 671.462 \n",
       "  L1104.26 671.462 L1058.08 671.462 L1011.83 671.462 L983.528 671.462  Z\n",
       "  \" fill=\"#009af9\" fill-rule=\"evenodd\" fill-opacity=\"0.5\"/>\n",
       "<polyline clip-path=\"url(#clip1103)\" style=\"stroke:#009af9; stroke-width:4; stroke-opacity:0.5; fill:none\" points=\"\n",
       "  983.528,671.459 1011.83,671.456 1058.08,669.907 1104.26,657.856 1147.5,598.573 1194.88,408.836 1249.44,137.688 1305.09,372.367 1354.05,586.158 1403.53,655.705 \n",
       "  1448.38,671.222 1518.22,671.459 \n",
       "  \"/>\n",
       "<path clip-path=\"url(#clip1103)\" d=\"\n",
       "M961.674 671.459 L1001.46 671.369 L1046.29 669.97 L1088.31 651.93 L1139.77 527.213 L1191.06 308.594 L1241.57 208.692 L1300.55 357.302 L1332.89 669.372 L1380.78 655.189 \n",
       "  L1423.83 670.782 L1511.2 671.459 L1511.2 671.462 L1423.83 671.462 L1380.78 671.462 L1332.89 671.462 L1300.55 671.462 L1241.57 671.462 L1191.06 671.462 L1139.77 671.462 \n",
       "  L1088.31 671.462 L1046.29 671.462 L1001.46 671.462 L961.674 671.462  Z\n",
       "  \" fill=\"#e26f46\" fill-rule=\"evenodd\" fill-opacity=\"0.5\"/>\n",
       "<polyline clip-path=\"url(#clip1103)\" style=\"stroke:#e26f46; stroke-width:4; stroke-opacity:0.5; fill:none\" points=\"\n",
       "  961.674,671.459 1001.46,671.369 1046.29,669.97 1088.31,651.93 1139.77,527.213 1191.06,308.594 1241.57,208.692 1300.55,357.302 1332.89,669.372 1380.78,655.189 \n",
       "  1423.83,670.782 1511.2,671.459 \n",
       "  \"/>\n",
       "<path clip-path=\"url(#clip1100)\" d=\"\n",
       "M1762.82 687.475 L2352.76 687.475 L2352.76 121.675 L1762.82 121.675  Z\n",
       "  \" fill=\"#ffffff\" fill-rule=\"evenodd\" fill-opacity=\"1\"/>\n",
       "<defs>\n",
       "  <clipPath id=\"clip1104\">\n",
       "    <rect x=\"1762\" y=\"121\" width=\"591\" height=\"567\"/>\n",
       "  </clipPath>\n",
       "</defs>\n",
       "<polyline clip-path=\"url(#clip1104)\" style=\"stroke:#000000; stroke-width:2; stroke-opacity:0.1; fill:none\" points=\"\n",
       "  1816.89,687.475 1816.89,121.675 \n",
       "  \"/>\n",
       "<polyline clip-path=\"url(#clip1104)\" style=\"stroke:#000000; stroke-width:2; stroke-opacity:0.1; fill:none\" points=\"\n",
       "  1936.29,687.475 1936.29,121.675 \n",
       "  \"/>\n",
       "<polyline clip-path=\"url(#clip1104)\" style=\"stroke:#000000; stroke-width:2; stroke-opacity:0.1; fill:none\" points=\"\n",
       "  2055.69,687.475 2055.69,121.675 \n",
       "  \"/>\n",
       "<polyline clip-path=\"url(#clip1104)\" style=\"stroke:#000000; stroke-width:2; stroke-opacity:0.1; fill:none\" points=\"\n",
       "  2175.09,687.475 2175.09,121.675 \n",
       "  \"/>\n",
       "<polyline clip-path=\"url(#clip1104)\" style=\"stroke:#000000; stroke-width:2; stroke-opacity:0.1; fill:none\" points=\"\n",
       "  2294.49,687.475 2294.49,121.675 \n",
       "  \"/>\n",
       "<polyline clip-path=\"url(#clip1104)\" style=\"stroke:#000000; stroke-width:2; stroke-opacity:0.1; fill:none\" points=\"\n",
       "  1762.82,671.462 2352.76,671.462 \n",
       "  \"/>\n",
       "<polyline clip-path=\"url(#clip1104)\" style=\"stroke:#000000; stroke-width:2; stroke-opacity:0.1; fill:none\" points=\"\n",
       "  1762.82,563.583 2352.76,563.583 \n",
       "  \"/>\n",
       "<polyline clip-path=\"url(#clip1104)\" style=\"stroke:#000000; stroke-width:2; stroke-opacity:0.1; fill:none\" points=\"\n",
       "  1762.82,455.704 2352.76,455.704 \n",
       "  \"/>\n",
       "<polyline clip-path=\"url(#clip1104)\" style=\"stroke:#000000; stroke-width:2; stroke-opacity:0.1; fill:none\" points=\"\n",
       "  1762.82,347.825 2352.76,347.825 \n",
       "  \"/>\n",
       "<polyline clip-path=\"url(#clip1104)\" style=\"stroke:#000000; stroke-width:2; stroke-opacity:0.1; fill:none\" points=\"\n",
       "  1762.82,239.947 2352.76,239.947 \n",
       "  \"/>\n",
       "<polyline clip-path=\"url(#clip1104)\" style=\"stroke:#000000; stroke-width:2; stroke-opacity:0.1; fill:none\" points=\"\n",
       "  1762.82,132.068 2352.76,132.068 \n",
       "  \"/>\n",
       "<polyline clip-path=\"url(#clip1100)\" style=\"stroke:#000000; stroke-width:4; stroke-opacity:1; fill:none\" points=\"\n",
       "  1762.82,687.475 2352.76,687.475 \n",
       "  \"/>\n",
       "<polyline clip-path=\"url(#clip1100)\" style=\"stroke:#000000; stroke-width:4; stroke-opacity:1; fill:none\" points=\"\n",
       "  1762.82,687.475 1762.82,121.675 \n",
       "  \"/>\n",
       "<polyline clip-path=\"url(#clip1100)\" style=\"stroke:#000000; stroke-width:4; stroke-opacity:1; fill:none\" points=\"\n",
       "  1816.89,687.475 1816.89,678.988 \n",
       "  \"/>\n",
       "<polyline clip-path=\"url(#clip1100)\" style=\"stroke:#000000; stroke-width:4; stroke-opacity:1; fill:none\" points=\"\n",
       "  1936.29,687.475 1936.29,678.988 \n",
       "  \"/>\n",
       "<polyline clip-path=\"url(#clip1100)\" style=\"stroke:#000000; stroke-width:4; stroke-opacity:1; fill:none\" points=\"\n",
       "  2055.69,687.475 2055.69,678.988 \n",
       "  \"/>\n",
       "<polyline clip-path=\"url(#clip1100)\" style=\"stroke:#000000; stroke-width:4; stroke-opacity:1; fill:none\" points=\"\n",
       "  2175.09,687.475 2175.09,678.988 \n",
       "  \"/>\n",
       "<polyline clip-path=\"url(#clip1100)\" style=\"stroke:#000000; stroke-width:4; stroke-opacity:1; fill:none\" points=\"\n",
       "  2294.49,687.475 2294.49,678.988 \n",
       "  \"/>\n",
       "<polyline clip-path=\"url(#clip1100)\" style=\"stroke:#000000; stroke-width:4; stroke-opacity:1; fill:none\" points=\"\n",
       "  1762.82,671.462 1771.67,671.462 \n",
       "  \"/>\n",
       "<polyline clip-path=\"url(#clip1100)\" style=\"stroke:#000000; stroke-width:4; stroke-opacity:1; fill:none\" points=\"\n",
       "  1762.82,563.583 1771.67,563.583 \n",
       "  \"/>\n",
       "<polyline clip-path=\"url(#clip1100)\" style=\"stroke:#000000; stroke-width:4; stroke-opacity:1; fill:none\" points=\"\n",
       "  1762.82,455.704 1771.67,455.704 \n",
       "  \"/>\n",
       "<polyline clip-path=\"url(#clip1100)\" style=\"stroke:#000000; stroke-width:4; stroke-opacity:1; fill:none\" points=\"\n",
       "  1762.82,347.825 1771.67,347.825 \n",
       "  \"/>\n",
       "<polyline clip-path=\"url(#clip1100)\" style=\"stroke:#000000; stroke-width:4; stroke-opacity:1; fill:none\" points=\"\n",
       "  1762.82,239.947 1771.67,239.947 \n",
       "  \"/>\n",
       "<polyline clip-path=\"url(#clip1100)\" style=\"stroke:#000000; stroke-width:4; stroke-opacity:1; fill:none\" points=\"\n",
       "  1762.82,132.068 1771.67,132.068 \n",
       "  \"/>\n",
       "<g clip-path=\"url(#clip1100)\">\n",
       "<text style=\"fill:#000000; fill-opacity:1; font-family:Arial,Helvetica Neue,Helvetica,sans-serif; font-size:48px; text-anchor:middle;\" transform=\"rotate(0, 1816.89, 741.475)\" x=\"1816.89\" y=\"741.475\">-4</text>\n",
       "</g>\n",
       "<g clip-path=\"url(#clip1100)\">\n",
       "<text style=\"fill:#000000; fill-opacity:1; font-family:Arial,Helvetica Neue,Helvetica,sans-serif; font-size:48px; text-anchor:middle;\" transform=\"rotate(0, 1936.29, 741.475)\" x=\"1936.29\" y=\"741.475\">-2</text>\n",
       "</g>\n",
       "<g clip-path=\"url(#clip1100)\">\n",
       "<text style=\"fill:#000000; fill-opacity:1; font-family:Arial,Helvetica Neue,Helvetica,sans-serif; font-size:48px; text-anchor:middle;\" transform=\"rotate(0, 2055.69, 741.475)\" x=\"2055.69\" y=\"741.475\">0</text>\n",
       "</g>\n",
       "<g clip-path=\"url(#clip1100)\">\n",
       "<text style=\"fill:#000000; fill-opacity:1; font-family:Arial,Helvetica Neue,Helvetica,sans-serif; font-size:48px; text-anchor:middle;\" transform=\"rotate(0, 2175.09, 741.475)\" x=\"2175.09\" y=\"741.475\">2</text>\n",
       "</g>\n",
       "<g clip-path=\"url(#clip1100)\">\n",
       "<text style=\"fill:#000000; fill-opacity:1; font-family:Arial,Helvetica Neue,Helvetica,sans-serif; font-size:48px; text-anchor:middle;\" transform=\"rotate(0, 2294.49, 741.475)\" x=\"2294.49\" y=\"741.475\">4</text>\n",
       "</g>\n",
       "<g clip-path=\"url(#clip1100)\">\n",
       "<text style=\"fill:#000000; fill-opacity:1; font-family:Arial,Helvetica Neue,Helvetica,sans-serif; font-size:48px; text-anchor:end;\" transform=\"rotate(0, 1738.82, 688.962)\" x=\"1738.82\" y=\"688.962\">0.0</text>\n",
       "</g>\n",
       "<g clip-path=\"url(#clip1100)\">\n",
       "<text style=\"fill:#000000; fill-opacity:1; font-family:Arial,Helvetica Neue,Helvetica,sans-serif; font-size:48px; text-anchor:end;\" transform=\"rotate(0, 1738.82, 581.083)\" x=\"1738.82\" y=\"581.083\">0.1</text>\n",
       "</g>\n",
       "<g clip-path=\"url(#clip1100)\">\n",
       "<text style=\"fill:#000000; fill-opacity:1; font-family:Arial,Helvetica Neue,Helvetica,sans-serif; font-size:48px; text-anchor:end;\" transform=\"rotate(0, 1738.82, 473.204)\" x=\"1738.82\" y=\"473.204\">0.2</text>\n",
       "</g>\n",
       "<g clip-path=\"url(#clip1100)\">\n",
       "<text style=\"fill:#000000; fill-opacity:1; font-family:Arial,Helvetica Neue,Helvetica,sans-serif; font-size:48px; text-anchor:end;\" transform=\"rotate(0, 1738.82, 365.325)\" x=\"1738.82\" y=\"365.325\">0.3</text>\n",
       "</g>\n",
       "<g clip-path=\"url(#clip1100)\">\n",
       "<text style=\"fill:#000000; fill-opacity:1; font-family:Arial,Helvetica Neue,Helvetica,sans-serif; font-size:48px; text-anchor:end;\" transform=\"rotate(0, 1738.82, 257.447)\" x=\"1738.82\" y=\"257.447\">0.4</text>\n",
       "</g>\n",
       "<g clip-path=\"url(#clip1100)\">\n",
       "<text style=\"fill:#000000; fill-opacity:1; font-family:Arial,Helvetica Neue,Helvetica,sans-serif; font-size:48px; text-anchor:end;\" transform=\"rotate(0, 1738.82, 149.568)\" x=\"1738.82\" y=\"149.568\">0.5</text>\n",
       "</g>\n",
       "<g clip-path=\"url(#clip1100)\">\n",
       "<text style=\"fill:#000000; fill-opacity:1; font-family:Arial,Helvetica Neue,Helvetica,sans-serif; font-size:84px; text-anchor:middle;\" transform=\"rotate(0, 2057.79, 73.2)\" x=\"2057.79\" y=\"73.2\">Var 3</text>\n",
       "</g>\n",
       "<path clip-path=\"url(#clip1104)\" d=\"\n",
       "M1825.34 671.459 L1875.46 671.165 L1912.88 666.449 L1958.69 629.546 L2007.24 447.831 L2063.23 137.688 L2116.4 354.917 L2161.82 564.257 L2203.32 646.959 L2246.53 667.81 \n",
       "  L2281.77 671.378 L2336.06 671.459 L2336.06 671.462 L2281.77 671.462 L2246.53 671.462 L2203.32 671.462 L2161.82 671.462 L2116.4 671.462 L2063.23 671.462 L2007.24 671.462 \n",
       "  L1958.69 671.462 L1912.88 671.462 L1875.46 671.462 L1825.34 671.462  Z\n",
       "  \" fill=\"#009af9\" fill-rule=\"evenodd\" fill-opacity=\"0.5\"/>\n",
       "<polyline clip-path=\"url(#clip1104)\" style=\"stroke:#009af9; stroke-width:4; stroke-opacity:0.5; fill:none\" points=\"\n",
       "  1825.34,671.459 1875.46,671.165 1912.88,666.449 1958.69,629.546 2007.24,447.831 2063.23,137.688 2116.4,354.917 2161.82,564.257 2203.32,646.959 2246.53,667.81 \n",
       "  2281.77,671.378 2336.06,671.459 \n",
       "  \"/>\n",
       "<path clip-path=\"url(#clip1104)\" d=\"\n",
       "M1779.52 671.459 L1827.58 671.406 L1862.81 668.98 L1907.35 651.464 L1954.42 541.772 L2010.52 238.747 L2071.83 239.308 L2130.41 580.711 L2179.08 660.22 L2218.94 670.376 \n",
       "  L2266.18 671.415 L2312.53 671.459 L2312.53 671.462 L2266.18 671.462 L2218.94 671.462 L2179.08 671.462 L2130.41 671.462 L2071.83 671.462 L2010.52 671.462 L1954.42 671.462 \n",
       "  L1907.35 671.462 L1862.81 671.462 L1827.58 671.462 L1779.52 671.462  Z\n",
       "  \" fill=\"#e26f46\" fill-rule=\"evenodd\" fill-opacity=\"0.5\"/>\n",
       "<polyline clip-path=\"url(#clip1104)\" style=\"stroke:#e26f46; stroke-width:4; stroke-opacity:0.5; fill:none\" points=\"\n",
       "  1779.52,671.459 1827.58,671.406 1862.81,668.98 1907.35,651.464 1954.42,541.772 2010.52,238.747 2071.83,239.308 2130.41,580.711 2179.08,660.22 2218.94,670.376 \n",
       "  2266.18,671.415 2312.53,671.459 \n",
       "  \"/>\n",
       "<path clip-path=\"url(#clip1100)\" d=\"\n",
       "M153.898 1487.47 L743.835 1487.47 L743.835 921.675 L153.898 921.675  Z\n",
       "  \" fill=\"#ffffff\" fill-rule=\"evenodd\" fill-opacity=\"1\"/>\n",
       "<defs>\n",
       "  <clipPath id=\"clip1105\">\n",
       "    <rect x=\"153\" y=\"921\" width=\"591\" height=\"567\"/>\n",
       "  </clipPath>\n",
       "</defs>\n",
       "<polyline clip-path=\"url(#clip1105)\" style=\"stroke:#000000; stroke-width:2; stroke-opacity:0.1; fill:none\" points=\"\n",
       "  209.417,1487.47 209.417,921.675 \n",
       "  \"/>\n",
       "<polyline clip-path=\"url(#clip1105)\" style=\"stroke:#000000; stroke-width:2; stroke-opacity:0.1; fill:none\" points=\"\n",
       "  345.165,1487.47 345.165,921.675 \n",
       "  \"/>\n",
       "<polyline clip-path=\"url(#clip1105)\" style=\"stroke:#000000; stroke-width:2; stroke-opacity:0.1; fill:none\" points=\"\n",
       "  480.914,1487.47 480.914,921.675 \n",
       "  \"/>\n",
       "<polyline clip-path=\"url(#clip1105)\" style=\"stroke:#000000; stroke-width:2; stroke-opacity:0.1; fill:none\" points=\"\n",
       "  616.662,1487.47 616.662,921.675 \n",
       "  \"/>\n",
       "<polyline clip-path=\"url(#clip1105)\" style=\"stroke:#000000; stroke-width:2; stroke-opacity:0.1; fill:none\" points=\"\n",
       "  153.898,1471.46 743.835,1471.46 \n",
       "  \"/>\n",
       "<polyline clip-path=\"url(#clip1105)\" style=\"stroke:#000000; stroke-width:2; stroke-opacity:0.1; fill:none\" points=\"\n",
       "  153.898,1363.52 743.835,1363.52 \n",
       "  \"/>\n",
       "<polyline clip-path=\"url(#clip1105)\" style=\"stroke:#000000; stroke-width:2; stroke-opacity:0.1; fill:none\" points=\"\n",
       "  153.898,1255.59 743.835,1255.59 \n",
       "  \"/>\n",
       "<polyline clip-path=\"url(#clip1105)\" style=\"stroke:#000000; stroke-width:2; stroke-opacity:0.1; fill:none\" points=\"\n",
       "  153.898,1147.65 743.835,1147.65 \n",
       "  \"/>\n",
       "<polyline clip-path=\"url(#clip1105)\" style=\"stroke:#000000; stroke-width:2; stroke-opacity:0.1; fill:none\" points=\"\n",
       "  153.898,1039.71 743.835,1039.71 \n",
       "  \"/>\n",
       "<polyline clip-path=\"url(#clip1105)\" style=\"stroke:#000000; stroke-width:2; stroke-opacity:0.1; fill:none\" points=\"\n",
       "  153.898,931.775 743.835,931.775 \n",
       "  \"/>\n",
       "<polyline clip-path=\"url(#clip1100)\" style=\"stroke:#000000; stroke-width:4; stroke-opacity:1; fill:none\" points=\"\n",
       "  153.898,1487.47 743.835,1487.47 \n",
       "  \"/>\n",
       "<polyline clip-path=\"url(#clip1100)\" style=\"stroke:#000000; stroke-width:4; stroke-opacity:1; fill:none\" points=\"\n",
       "  153.898,1487.47 153.898,921.675 \n",
       "  \"/>\n",
       "<polyline clip-path=\"url(#clip1100)\" style=\"stroke:#000000; stroke-width:4; stroke-opacity:1; fill:none\" points=\"\n",
       "  209.417,1487.47 209.417,1478.99 \n",
       "  \"/>\n",
       "<polyline clip-path=\"url(#clip1100)\" style=\"stroke:#000000; stroke-width:4; stroke-opacity:1; fill:none\" points=\"\n",
       "  345.165,1487.47 345.165,1478.99 \n",
       "  \"/>\n",
       "<polyline clip-path=\"url(#clip1100)\" style=\"stroke:#000000; stroke-width:4; stroke-opacity:1; fill:none\" points=\"\n",
       "  480.914,1487.47 480.914,1478.99 \n",
       "  \"/>\n",
       "<polyline clip-path=\"url(#clip1100)\" style=\"stroke:#000000; stroke-width:4; stroke-opacity:1; fill:none\" points=\"\n",
       "  616.662,1487.47 616.662,1478.99 \n",
       "  \"/>\n",
       "<polyline clip-path=\"url(#clip1100)\" style=\"stroke:#000000; stroke-width:4; stroke-opacity:1; fill:none\" points=\"\n",
       "  153.898,1471.46 162.747,1471.46 \n",
       "  \"/>\n",
       "<polyline clip-path=\"url(#clip1100)\" style=\"stroke:#000000; stroke-width:4; stroke-opacity:1; fill:none\" points=\"\n",
       "  153.898,1363.52 162.747,1363.52 \n",
       "  \"/>\n",
       "<polyline clip-path=\"url(#clip1100)\" style=\"stroke:#000000; stroke-width:4; stroke-opacity:1; fill:none\" points=\"\n",
       "  153.898,1255.59 162.747,1255.59 \n",
       "  \"/>\n",
       "<polyline clip-path=\"url(#clip1100)\" style=\"stroke:#000000; stroke-width:4; stroke-opacity:1; fill:none\" points=\"\n",
       "  153.898,1147.65 162.747,1147.65 \n",
       "  \"/>\n",
       "<polyline clip-path=\"url(#clip1100)\" style=\"stroke:#000000; stroke-width:4; stroke-opacity:1; fill:none\" points=\"\n",
       "  153.898,1039.71 162.747,1039.71 \n",
       "  \"/>\n",
       "<polyline clip-path=\"url(#clip1100)\" style=\"stroke:#000000; stroke-width:4; stroke-opacity:1; fill:none\" points=\"\n",
       "  153.898,931.775 162.747,931.775 \n",
       "  \"/>\n",
       "<g clip-path=\"url(#clip1100)\">\n",
       "<text style=\"fill:#000000; fill-opacity:1; font-family:Arial,Helvetica Neue,Helvetica,sans-serif; font-size:48px; text-anchor:middle;\" transform=\"rotate(0, 209.417, 1541.47)\" x=\"209.417\" y=\"1541.47\">-5.0</text>\n",
       "</g>\n",
       "<g clip-path=\"url(#clip1100)\">\n",
       "<text style=\"fill:#000000; fill-opacity:1; font-family:Arial,Helvetica Neue,Helvetica,sans-serif; font-size:48px; text-anchor:middle;\" transform=\"rotate(0, 345.165, 1541.47)\" x=\"345.165\" y=\"1541.47\">-2.5</text>\n",
       "</g>\n",
       "<g clip-path=\"url(#clip1100)\">\n",
       "<text style=\"fill:#000000; fill-opacity:1; font-family:Arial,Helvetica Neue,Helvetica,sans-serif; font-size:48px; text-anchor:middle;\" transform=\"rotate(0, 480.914, 1541.47)\" x=\"480.914\" y=\"1541.47\">0.0</text>\n",
       "</g>\n",
       "<g clip-path=\"url(#clip1100)\">\n",
       "<text style=\"fill:#000000; fill-opacity:1; font-family:Arial,Helvetica Neue,Helvetica,sans-serif; font-size:48px; text-anchor:middle;\" transform=\"rotate(0, 616.662, 1541.47)\" x=\"616.662\" y=\"1541.47\">2.5</text>\n",
       "</g>\n",
       "<g clip-path=\"url(#clip1100)\">\n",
       "<text style=\"fill:#000000; fill-opacity:1; font-family:Arial,Helvetica Neue,Helvetica,sans-serif; font-size:48px; text-anchor:end;\" transform=\"rotate(0, 129.898, 1488.96)\" x=\"129.898\" y=\"1488.96\">0.0</text>\n",
       "</g>\n",
       "<g clip-path=\"url(#clip1100)\">\n",
       "<text style=\"fill:#000000; fill-opacity:1; font-family:Arial,Helvetica Neue,Helvetica,sans-serif; font-size:48px; text-anchor:end;\" transform=\"rotate(0, 129.898, 1381.02)\" x=\"129.898\" y=\"1381.02\">0.1</text>\n",
       "</g>\n",
       "<g clip-path=\"url(#clip1100)\">\n",
       "<text style=\"fill:#000000; fill-opacity:1; font-family:Arial,Helvetica Neue,Helvetica,sans-serif; font-size:48px; text-anchor:end;\" transform=\"rotate(0, 129.898, 1273.09)\" x=\"129.898\" y=\"1273.09\">0.2</text>\n",
       "</g>\n",
       "<g clip-path=\"url(#clip1100)\">\n",
       "<text style=\"fill:#000000; fill-opacity:1; font-family:Arial,Helvetica Neue,Helvetica,sans-serif; font-size:48px; text-anchor:end;\" transform=\"rotate(0, 129.898, 1165.15)\" x=\"129.898\" y=\"1165.15\">0.3</text>\n",
       "</g>\n",
       "<g clip-path=\"url(#clip1100)\">\n",
       "<text style=\"fill:#000000; fill-opacity:1; font-family:Arial,Helvetica Neue,Helvetica,sans-serif; font-size:48px; text-anchor:end;\" transform=\"rotate(0, 129.898, 1057.21)\" x=\"129.898\" y=\"1057.21\">0.4</text>\n",
       "</g>\n",
       "<g clip-path=\"url(#clip1100)\">\n",
       "<text style=\"fill:#000000; fill-opacity:1; font-family:Arial,Helvetica Neue,Helvetica,sans-serif; font-size:48px; text-anchor:end;\" transform=\"rotate(0, 129.898, 949.275)\" x=\"129.898\" y=\"949.275\">0.5</text>\n",
       "</g>\n",
       "<g clip-path=\"url(#clip1100)\">\n",
       "<text style=\"fill:#000000; fill-opacity:1; font-family:Arial,Helvetica Neue,Helvetica,sans-serif; font-size:84px; text-anchor:middle;\" transform=\"rotate(0, 448.867, 873.2)\" x=\"448.867\" y=\"873.2\">Var 4</text>\n",
       "</g>\n",
       "<path clip-path=\"url(#clip1105)\" d=\"\n",
       "M295.866 1471.46 L327.467 1471.41 L374.688 1461.95 L417.305 1385.6 L463.408 1063.24 L507.304 1007.63 L546.848 1164.63 L585.094 1368.09 L621.656 1450.15 L659.487 1468.49 \n",
       "  L693.797 1471.39 L727.139 1471.46 L727.139 1471.46 L693.797 1471.46 L659.487 1471.46 L621.656 1471.46 L585.094 1471.46 L546.848 1471.46 L507.304 1471.46 L463.408 1471.46 \n",
       "  L417.305 1471.46 L374.688 1471.46 L327.467 1471.46 L295.866 1471.46  Z\n",
       "  \" fill=\"#009af9\" fill-rule=\"evenodd\" fill-opacity=\"0.5\"/>\n",
       "<polyline clip-path=\"url(#clip1105)\" style=\"stroke:#009af9; stroke-width:4; stroke-opacity:0.5; fill:none\" points=\"\n",
       "  295.866,1471.46 327.467,1471.41 374.688,1461.95 417.305,1385.6 463.408,1063.24 507.304,1007.63 546.848,1164.63 585.094,1368.09 621.656,1450.15 659.487,1468.49 \n",
       "  693.797,1471.39 727.139,1471.46 \n",
       "  \"/>\n",
       "<path clip-path=\"url(#clip1105)\" d=\"\n",
       "M170.594 1471.46 L283.956 1470.86 L326.407 1463.27 L366.925 1389.94 L412.976 1155.9 L459.837 937.688 L504.75 1193.57 L547.245 1396.51 L587.255 1463.04 L619.138 1471.37 \n",
       "  L699.024 1471.46 L699.024 1471.46 L619.138 1471.46 L587.255 1471.46 L547.245 1471.46 L504.75 1471.46 L459.837 1471.46 L412.976 1471.46 L366.925 1471.46 L326.407 1471.46 \n",
       "  L283.956 1471.46 L170.594 1471.46  Z\n",
       "  \" fill=\"#e26f46\" fill-rule=\"evenodd\" fill-opacity=\"0.5\"/>\n",
       "<polyline clip-path=\"url(#clip1105)\" style=\"stroke:#e26f46; stroke-width:4; stroke-opacity:0.5; fill:none\" points=\"\n",
       "  170.594,1471.46 283.956,1470.86 326.407,1463.27 366.925,1389.94 412.976,1155.9 459.837,937.688 504.75,1193.57 547.245,1396.51 587.255,1463.04 619.138,1471.37 \n",
       "  699.024,1471.46 \n",
       "  \"/>\n",
       "<path clip-path=\"url(#clip1100)\" d=\"\n",
       "M944.977 1487.47 L1534.91 1487.47 L1534.91 921.675 L944.977 921.675  Z\n",
       "  \" fill=\"#ffffff\" fill-rule=\"evenodd\" fill-opacity=\"1\"/>\n",
       "<defs>\n",
       "  <clipPath id=\"clip1106\">\n",
       "    <rect x=\"944\" y=\"921\" width=\"591\" height=\"567\"/>\n",
       "  </clipPath>\n",
       "</defs>\n",
       "<polyline clip-path=\"url(#clip1106)\" style=\"stroke:#000000; stroke-width:2; stroke-opacity:0.1; fill:none\" points=\"\n",
       "  1024.34,1487.47 1024.34,921.675 \n",
       "  \"/>\n",
       "<polyline clip-path=\"url(#clip1106)\" style=\"stroke:#000000; stroke-width:2; stroke-opacity:0.1; fill:none\" points=\"\n",
       "  1136.71,1487.47 1136.71,921.675 \n",
       "  \"/>\n",
       "<polyline clip-path=\"url(#clip1106)\" style=\"stroke:#000000; stroke-width:2; stroke-opacity:0.1; fill:none\" points=\"\n",
       "  1249.08,1487.47 1249.08,921.675 \n",
       "  \"/>\n",
       "<polyline clip-path=\"url(#clip1106)\" style=\"stroke:#000000; stroke-width:2; stroke-opacity:0.1; fill:none\" points=\"\n",
       "  1361.45,1487.47 1361.45,921.675 \n",
       "  \"/>\n",
       "<polyline clip-path=\"url(#clip1106)\" style=\"stroke:#000000; stroke-width:2; stroke-opacity:0.1; fill:none\" points=\"\n",
       "  1473.81,1487.47 1473.81,921.675 \n",
       "  \"/>\n",
       "<polyline clip-path=\"url(#clip1106)\" style=\"stroke:#000000; stroke-width:2; stroke-opacity:0.1; fill:none\" points=\"\n",
       "  944.977,1471.46 1534.91,1471.46 \n",
       "  \"/>\n",
       "<polyline clip-path=\"url(#clip1106)\" style=\"stroke:#000000; stroke-width:2; stroke-opacity:0.1; fill:none\" points=\"\n",
       "  944.977,1376.86 1534.91,1376.86 \n",
       "  \"/>\n",
       "<polyline clip-path=\"url(#clip1106)\" style=\"stroke:#000000; stroke-width:2; stroke-opacity:0.1; fill:none\" points=\"\n",
       "  944.977,1282.27 1534.91,1282.27 \n",
       "  \"/>\n",
       "<polyline clip-path=\"url(#clip1106)\" style=\"stroke:#000000; stroke-width:2; stroke-opacity:0.1; fill:none\" points=\"\n",
       "  944.977,1187.67 1534.91,1187.67 \n",
       "  \"/>\n",
       "<polyline clip-path=\"url(#clip1106)\" style=\"stroke:#000000; stroke-width:2; stroke-opacity:0.1; fill:none\" points=\"\n",
       "  944.977,1093.07 1534.91,1093.07 \n",
       "  \"/>\n",
       "<polyline clip-path=\"url(#clip1106)\" style=\"stroke:#000000; stroke-width:2; stroke-opacity:0.1; fill:none\" points=\"\n",
       "  944.977,998.471 1534.91,998.471 \n",
       "  \"/>\n",
       "<polyline clip-path=\"url(#clip1100)\" style=\"stroke:#000000; stroke-width:4; stroke-opacity:1; fill:none\" points=\"\n",
       "  944.977,1487.47 1534.91,1487.47 \n",
       "  \"/>\n",
       "<polyline clip-path=\"url(#clip1100)\" style=\"stroke:#000000; stroke-width:4; stroke-opacity:1; fill:none\" points=\"\n",
       "  944.977,1487.47 944.977,921.675 \n",
       "  \"/>\n",
       "<polyline clip-path=\"url(#clip1100)\" style=\"stroke:#000000; stroke-width:4; stroke-opacity:1; fill:none\" points=\"\n",
       "  1024.34,1487.47 1024.34,1478.99 \n",
       "  \"/>\n",
       "<polyline clip-path=\"url(#clip1100)\" style=\"stroke:#000000; stroke-width:4; stroke-opacity:1; fill:none\" points=\"\n",
       "  1136.71,1487.47 1136.71,1478.99 \n",
       "  \"/>\n",
       "<polyline clip-path=\"url(#clip1100)\" style=\"stroke:#000000; stroke-width:4; stroke-opacity:1; fill:none\" points=\"\n",
       "  1249.08,1487.47 1249.08,1478.99 \n",
       "  \"/>\n",
       "<polyline clip-path=\"url(#clip1100)\" style=\"stroke:#000000; stroke-width:4; stroke-opacity:1; fill:none\" points=\"\n",
       "  1361.45,1487.47 1361.45,1478.99 \n",
       "  \"/>\n",
       "<polyline clip-path=\"url(#clip1100)\" style=\"stroke:#000000; stroke-width:4; stroke-opacity:1; fill:none\" points=\"\n",
       "  1473.81,1487.47 1473.81,1478.99 \n",
       "  \"/>\n",
       "<polyline clip-path=\"url(#clip1100)\" style=\"stroke:#000000; stroke-width:4; stroke-opacity:1; fill:none\" points=\"\n",
       "  944.977,1471.46 953.826,1471.46 \n",
       "  \"/>\n",
       "<polyline clip-path=\"url(#clip1100)\" style=\"stroke:#000000; stroke-width:4; stroke-opacity:1; fill:none\" points=\"\n",
       "  944.977,1376.86 953.826,1376.86 \n",
       "  \"/>\n",
       "<polyline clip-path=\"url(#clip1100)\" style=\"stroke:#000000; stroke-width:4; stroke-opacity:1; fill:none\" points=\"\n",
       "  944.977,1282.27 953.826,1282.27 \n",
       "  \"/>\n",
       "<polyline clip-path=\"url(#clip1100)\" style=\"stroke:#000000; stroke-width:4; stroke-opacity:1; fill:none\" points=\"\n",
       "  944.977,1187.67 953.826,1187.67 \n",
       "  \"/>\n",
       "<polyline clip-path=\"url(#clip1100)\" style=\"stroke:#000000; stroke-width:4; stroke-opacity:1; fill:none\" points=\"\n",
       "  944.977,1093.07 953.826,1093.07 \n",
       "  \"/>\n",
       "<polyline clip-path=\"url(#clip1100)\" style=\"stroke:#000000; stroke-width:4; stroke-opacity:1; fill:none\" points=\"\n",
       "  944.977,998.471 953.826,998.471 \n",
       "  \"/>\n",
       "<g clip-path=\"url(#clip1100)\">\n",
       "<text style=\"fill:#000000; fill-opacity:1; font-family:Arial,Helvetica Neue,Helvetica,sans-serif; font-size:48px; text-anchor:middle;\" transform=\"rotate(0, 1024.34, 1541.47)\" x=\"1024.34\" y=\"1541.47\">-4</text>\n",
       "</g>\n",
       "<g clip-path=\"url(#clip1100)\">\n",
       "<text style=\"fill:#000000; fill-opacity:1; font-family:Arial,Helvetica Neue,Helvetica,sans-serif; font-size:48px; text-anchor:middle;\" transform=\"rotate(0, 1136.71, 1541.47)\" x=\"1136.71\" y=\"1541.47\">-2</text>\n",
       "</g>\n",
       "<g clip-path=\"url(#clip1100)\">\n",
       "<text style=\"fill:#000000; fill-opacity:1; font-family:Arial,Helvetica Neue,Helvetica,sans-serif; font-size:48px; text-anchor:middle;\" transform=\"rotate(0, 1249.08, 1541.47)\" x=\"1249.08\" y=\"1541.47\">0</text>\n",
       "</g>\n",
       "<g clip-path=\"url(#clip1100)\">\n",
       "<text style=\"fill:#000000; fill-opacity:1; font-family:Arial,Helvetica Neue,Helvetica,sans-serif; font-size:48px; text-anchor:middle;\" transform=\"rotate(0, 1361.45, 1541.47)\" x=\"1361.45\" y=\"1541.47\">2</text>\n",
       "</g>\n",
       "<g clip-path=\"url(#clip1100)\">\n",
       "<text style=\"fill:#000000; fill-opacity:1; font-family:Arial,Helvetica Neue,Helvetica,sans-serif; font-size:48px; text-anchor:middle;\" transform=\"rotate(0, 1473.81, 1541.47)\" x=\"1473.81\" y=\"1541.47\">4</text>\n",
       "</g>\n",
       "<g clip-path=\"url(#clip1100)\">\n",
       "<text style=\"fill:#000000; fill-opacity:1; font-family:Arial,Helvetica Neue,Helvetica,sans-serif; font-size:48px; text-anchor:end;\" transform=\"rotate(0, 920.977, 1488.96)\" x=\"920.977\" y=\"1488.96\">0.0</text>\n",
       "</g>\n",
       "<g clip-path=\"url(#clip1100)\">\n",
       "<text style=\"fill:#000000; fill-opacity:1; font-family:Arial,Helvetica Neue,Helvetica,sans-serif; font-size:48px; text-anchor:end;\" transform=\"rotate(0, 920.977, 1394.36)\" x=\"920.977\" y=\"1394.36\">0.1</text>\n",
       "</g>\n",
       "<g clip-path=\"url(#clip1100)\">\n",
       "<text style=\"fill:#000000; fill-opacity:1; font-family:Arial,Helvetica Neue,Helvetica,sans-serif; font-size:48px; text-anchor:end;\" transform=\"rotate(0, 920.977, 1299.77)\" x=\"920.977\" y=\"1299.77\">0.2</text>\n",
       "</g>\n",
       "<g clip-path=\"url(#clip1100)\">\n",
       "<text style=\"fill:#000000; fill-opacity:1; font-family:Arial,Helvetica Neue,Helvetica,sans-serif; font-size:48px; text-anchor:end;\" transform=\"rotate(0, 920.977, 1205.17)\" x=\"920.977\" y=\"1205.17\">0.3</text>\n",
       "</g>\n",
       "<g clip-path=\"url(#clip1100)\">\n",
       "<text style=\"fill:#000000; fill-opacity:1; font-family:Arial,Helvetica Neue,Helvetica,sans-serif; font-size:48px; text-anchor:end;\" transform=\"rotate(0, 920.977, 1110.57)\" x=\"920.977\" y=\"1110.57\">0.4</text>\n",
       "</g>\n",
       "<g clip-path=\"url(#clip1100)\">\n",
       "<text style=\"fill:#000000; fill-opacity:1; font-family:Arial,Helvetica Neue,Helvetica,sans-serif; font-size:48px; text-anchor:end;\" transform=\"rotate(0, 920.977, 1015.97)\" x=\"920.977\" y=\"1015.97\">0.5</text>\n",
       "</g>\n",
       "<g clip-path=\"url(#clip1100)\">\n",
       "<text style=\"fill:#000000; fill-opacity:1; font-family:Arial,Helvetica Neue,Helvetica,sans-serif; font-size:84px; text-anchor:middle;\" transform=\"rotate(0, 1239.95, 873.2)\" x=\"1239.95\" y=\"873.2\">Var 5</text>\n",
       "</g>\n",
       "<path clip-path=\"url(#clip1106)\" d=\"\n",
       "M1087.86 1471.46 L1159.11 1469.61 L1195.85 1395.37 L1240.78 1164.84 L1290.26 937.688 L1340.58 1310.18 L1382.39 1440.48 L1419.1 1466.84 L1454.14 1470.95 L1492.16 1471.43 \n",
       "  L1518.22 1471.46 L1518.22 1471.46 L1492.16 1471.46 L1454.14 1471.46 L1419.1 1471.46 L1382.39 1471.46 L1340.58 1471.46 L1290.26 1471.46 L1240.78 1471.46 L1195.85 1471.46 \n",
       "  L1159.11 1471.46 L1087.86 1471.46  Z\n",
       "  \" fill=\"#009af9\" fill-rule=\"evenodd\" fill-opacity=\"0.5\"/>\n",
       "<polyline clip-path=\"url(#clip1106)\" style=\"stroke:#009af9; stroke-width:4; stroke-opacity:0.5; fill:none\" points=\"\n",
       "  1087.86,1471.46 1159.11,1469.61 1195.85,1395.37 1240.78,1164.84 1290.26,937.688 1340.58,1310.18 1382.39,1440.48 1419.1,1466.84 1454.14,1470.95 1492.16,1471.43 \n",
       "  1518.22,1471.46 \n",
       "  \"/>\n",
       "<path clip-path=\"url(#clip1106)\" d=\"\n",
       "M961.674 1471.46 L981.056 1471.45 L1036.61 1471.07 L1076.17 1466.98 L1118.76 1431.74 L1166.1 1196.04 L1211.48 1025.74 L1253.97 1109.44 L1294.21 1380.1 L1332.38 1458.3 \n",
       "  L1360.84 1471.33 L1417.02 1471.46 L1417.02 1471.46 L1360.84 1471.46 L1332.38 1471.46 L1294.21 1471.46 L1253.97 1471.46 L1211.48 1471.46 L1166.1 1471.46 L1118.76 1471.46 \n",
       "  L1076.17 1471.46 L1036.61 1471.46 L981.056 1471.46 L961.674 1471.46  Z\n",
       "  \" fill=\"#e26f46\" fill-rule=\"evenodd\" fill-opacity=\"0.5\"/>\n",
       "<polyline clip-path=\"url(#clip1106)\" style=\"stroke:#e26f46; stroke-width:4; stroke-opacity:0.5; fill:none\" points=\"\n",
       "  961.674,1471.46 981.056,1471.45 1036.61,1471.07 1076.17,1466.98 1118.76,1431.74 1166.1,1196.04 1211.48,1025.74 1253.97,1109.44 1294.21,1380.1 1332.38,1458.3 \n",
       "  1360.84,1471.33 1417.02,1471.46 \n",
       "  \"/>\n",
       "<path clip-path=\"url(#clip1100)\" d=\"\n",
       "M1762.82 1487.47 L2352.76 1487.47 L2352.76 921.675 L1762.82 921.675  Z\n",
       "  \" fill=\"#ffffff\" fill-rule=\"evenodd\" fill-opacity=\"1\"/>\n",
       "<defs>\n",
       "  <clipPath id=\"clip1107\">\n",
       "    <rect x=\"1762\" y=\"921\" width=\"591\" height=\"567\"/>\n",
       "  </clipPath>\n",
       "</defs>\n",
       "<path clip-path=\"url(#clip1100)\" d=\"\n",
       "M1939.1 1186.64 L2280.76 1186.64 L2280.76 1005.2 L1939.1 1005.2  Z\n",
       "  \" fill=\"#ffffff\" fill-rule=\"evenodd\" fill-opacity=\"1\"/>\n",
       "<polyline clip-path=\"url(#clip1100)\" style=\"stroke:#000000; stroke-width:4; stroke-opacity:1; fill:none\" points=\"\n",
       "  1939.1,1186.64 2280.76,1186.64 2280.76,1005.2 1939.1,1005.2 1939.1,1186.64 \n",
       "  \"/>\n",
       "<polyline clip-path=\"url(#clip1100)\" style=\"stroke:#009af9; stroke-width:4; stroke-opacity:1; fill:none\" points=\"\n",
       "  1963.1,1065.68 2107.1,1065.68 \n",
       "  \"/>\n",
       "<g clip-path=\"url(#clip1100)\">\n",
       "<text style=\"fill:#000000; fill-opacity:1; font-family:Arial,Helvetica Neue,Helvetica,sans-serif; font-size:48px; text-anchor:start;\" transform=\"rotate(0, 2131.1, 1083.18)\" x=\"2131.1\" y=\"1083.18\">true</text>\n",
       "</g>\n",
       "<polyline clip-path=\"url(#clip1100)\" style=\"stroke:#e26f46; stroke-width:4; stroke-opacity:1; fill:none\" points=\"\n",
       "  1963.1,1126.16 2107.1,1126.16 \n",
       "  \"/>\n",
       "<g clip-path=\"url(#clip1100)\">\n",
       "<text style=\"fill:#000000; fill-opacity:1; font-family:Arial,Helvetica Neue,Helvetica,sans-serif; font-size:48px; text-anchor:start;\" transform=\"rotate(0, 2131.1, 1143.66)\" x=\"2131.1\" y=\"1143.66\">false</text>\n",
       "</g>\n",
       "</svg>\n"
      ]
     },
     "execution_count": 7,
     "metadata": {},
     "output_type": "execute_result"
    }
   ],
   "source": [
    "x = randn(10^6, 5)  # criar dados\n",
    "y = x * [1,3,5,7,9] .> 0  # filtrar valores positivos\n",
    "o = NBClassifier(5, Bool)  # 5 preditores com categorias Booleanas\n",
    "fit!(o, zip(eachrow(x), y))  # fazer ajuste da estatística dos preditores\n",
    "plot(o)"
   ]
  },
  {
   "cell_type": "code",
   "execution_count": 8,
   "metadata": {},
   "outputs": [],
   "source": [
    "using Distributed  # usar computação distribuída\n",
    "addprocs(3)  # adicionar 3 processos\n",
    "@everywhere using OnlineStats  # fazer todos os processos usar OnlineStats\n",
    "# distribuir a execução para os processos (assincronamente) e combinar os resultados\n",
    "s = @distributed merge for i in 1:3\n",
    "    y = cumsum(randn(10^6)) + 100*randn(10^6)  # gerar dados\n",
    "    o1 = Partition(Mean())  # particionar baseado na média\n",
    "    o2 = Partition(Extrema())  # particionar baseado nos extremos\n",
    "    s = Series(o1, o2)  # série composta pelas partições\n",
    "    fit!(s, y)  # ajustar estatística da série incluindo y nela\n",
    "end;"
   ]
  },
  {
   "cell_type": "code",
   "execution_count": 9,
   "metadata": {},
   "outputs": [
    {
     "data": {
      "image/svg+xml": [
       "<?xml version=\"1.0\" encoding=\"utf-8\"?>\n",
       "<svg xmlns=\"http://www.w3.org/2000/svg\" xmlns:xlink=\"http://www.w3.org/1999/xlink\" width=\"600\" height=\"400\" viewBox=\"0 0 2400 1600\">\n",
       "<defs>\n",
       "  <clipPath id=\"clip1500\">\n",
       "    <rect x=\"0\" y=\"0\" width=\"2400\" height=\"1600\"/>\n",
       "  </clipPath>\n",
       "</defs>\n",
       "<path clip-path=\"url(#clip1500)\" d=\"\n",
       "M0 1600 L2400 1600 L2400 0 L0 0  Z\n",
       "  \" fill=\"#ffffff\" fill-rule=\"evenodd\" fill-opacity=\"1\"/>\n",
       "<defs>\n",
       "  <clipPath id=\"clip1501\">\n",
       "    <rect x=\"480\" y=\"0\" width=\"1681\" height=\"1600\"/>\n",
       "  </clipPath>\n",
       "</defs>\n",
       "<path clip-path=\"url(#clip1500)\" d=\"\n",
       "M222.152 1425.62 L2352.76 1425.62 L2352.76 47.2441 L222.152 47.2441  Z\n",
       "  \" fill=\"#ffffff\" fill-rule=\"evenodd\" fill-opacity=\"1\"/>\n",
       "<defs>\n",
       "  <clipPath id=\"clip1502\">\n",
       "    <rect x=\"222\" y=\"47\" width=\"2132\" height=\"1379\"/>\n",
       "  </clipPath>\n",
       "</defs>\n",
       "<polyline clip-path=\"url(#clip1502)\" style=\"stroke:#000000; stroke-width:2; stroke-opacity:0.1; fill:none\" points=\"\n",
       "  271.427,1425.62 271.427,47.2441 \n",
       "  \"/>\n",
       "<polyline clip-path=\"url(#clip1502)\" style=\"stroke:#000000; stroke-width:2; stroke-opacity:0.1; fill:none\" points=\"\n",
       "  944.313,1425.62 944.313,47.2441 \n",
       "  \"/>\n",
       "<polyline clip-path=\"url(#clip1502)\" style=\"stroke:#000000; stroke-width:2; stroke-opacity:0.1; fill:none\" points=\"\n",
       "  1617.2,1425.62 1617.2,47.2441 \n",
       "  \"/>\n",
       "<polyline clip-path=\"url(#clip1502)\" style=\"stroke:#000000; stroke-width:2; stroke-opacity:0.1; fill:none\" points=\"\n",
       "  2290.09,1425.62 2290.09,47.2441 \n",
       "  \"/>\n",
       "<polyline clip-path=\"url(#clip1502)\" style=\"stroke:#000000; stroke-width:2; stroke-opacity:0.1; fill:none\" points=\"\n",
       "  222.152,1219.95 2352.76,1219.95 \n",
       "  \"/>\n",
       "<polyline clip-path=\"url(#clip1502)\" style=\"stroke:#000000; stroke-width:2; stroke-opacity:0.1; fill:none\" points=\"\n",
       "  222.152,981.084 2352.76,981.084 \n",
       "  \"/>\n",
       "<polyline clip-path=\"url(#clip1502)\" style=\"stroke:#000000; stroke-width:2; stroke-opacity:0.1; fill:none\" points=\"\n",
       "  222.152,742.221 2352.76,742.221 \n",
       "  \"/>\n",
       "<polyline clip-path=\"url(#clip1502)\" style=\"stroke:#000000; stroke-width:2; stroke-opacity:0.1; fill:none\" points=\"\n",
       "  222.152,503.359 2352.76,503.359 \n",
       "  \"/>\n",
       "<polyline clip-path=\"url(#clip1502)\" style=\"stroke:#000000; stroke-width:2; stroke-opacity:0.1; fill:none\" points=\"\n",
       "  222.152,264.496 2352.76,264.496 \n",
       "  \"/>\n",
       "<polyline clip-path=\"url(#clip1500)\" style=\"stroke:#000000; stroke-width:4; stroke-opacity:1; fill:none\" points=\"\n",
       "  222.152,1425.62 2352.76,1425.62 \n",
       "  \"/>\n",
       "<polyline clip-path=\"url(#clip1500)\" style=\"stroke:#000000; stroke-width:4; stroke-opacity:1; fill:none\" points=\"\n",
       "  222.152,1425.62 222.152,47.2441 \n",
       "  \"/>\n",
       "<polyline clip-path=\"url(#clip1500)\" style=\"stroke:#000000; stroke-width:4; stroke-opacity:1; fill:none\" points=\"\n",
       "  271.427,1425.62 271.427,1404.94 \n",
       "  \"/>\n",
       "<polyline clip-path=\"url(#clip1500)\" style=\"stroke:#000000; stroke-width:4; stroke-opacity:1; fill:none\" points=\"\n",
       "  944.313,1425.62 944.313,1404.94 \n",
       "  \"/>\n",
       "<polyline clip-path=\"url(#clip1500)\" style=\"stroke:#000000; stroke-width:4; stroke-opacity:1; fill:none\" points=\"\n",
       "  1617.2,1425.62 1617.2,1404.94 \n",
       "  \"/>\n",
       "<polyline clip-path=\"url(#clip1500)\" style=\"stroke:#000000; stroke-width:4; stroke-opacity:1; fill:none\" points=\"\n",
       "  2290.09,1425.62 2290.09,1404.94 \n",
       "  \"/>\n",
       "<polyline clip-path=\"url(#clip1500)\" style=\"stroke:#000000; stroke-width:4; stroke-opacity:1; fill:none\" points=\"\n",
       "  222.152,1219.95 254.111,1219.95 \n",
       "  \"/>\n",
       "<polyline clip-path=\"url(#clip1500)\" style=\"stroke:#000000; stroke-width:4; stroke-opacity:1; fill:none\" points=\"\n",
       "  222.152,981.084 254.111,981.084 \n",
       "  \"/>\n",
       "<polyline clip-path=\"url(#clip1500)\" style=\"stroke:#000000; stroke-width:4; stroke-opacity:1; fill:none\" points=\"\n",
       "  222.152,742.221 254.111,742.221 \n",
       "  \"/>\n",
       "<polyline clip-path=\"url(#clip1500)\" style=\"stroke:#000000; stroke-width:4; stroke-opacity:1; fill:none\" points=\"\n",
       "  222.152,503.359 254.111,503.359 \n",
       "  \"/>\n",
       "<polyline clip-path=\"url(#clip1500)\" style=\"stroke:#000000; stroke-width:4; stroke-opacity:1; fill:none\" points=\"\n",
       "  222.152,264.496 254.111,264.496 \n",
       "  \"/>\n",
       "<g clip-path=\"url(#clip1500)\">\n",
       "<text style=\"fill:#000000; fill-opacity:1; font-family:Arial,Helvetica Neue,Helvetica,sans-serif; font-size:48px; text-anchor:middle;\" transform=\"rotate(0, 271.427, 1479.62)\" x=\"271.427\" y=\"1479.62\">0</text>\n",
       "</g>\n",
       "<g clip-path=\"url(#clip1500)\">\n",
       "<text style=\"fill:#000000; fill-opacity:1; font-family:Arial,Helvetica Neue,Helvetica,sans-serif; font-size:48px; text-anchor:start;\" transform=\"rotate(0, 879.243, 1500.63)\" x=\"879.243\" y=\"1500.63\">1×10</text>\n",
       "</g>\n",
       "<g clip-path=\"url(#clip1500)\">\n",
       "<text style=\"fill:#000000; fill-opacity:1; font-family:Arial,Helvetica Neue,Helvetica,sans-serif; font-size:38px; text-anchor:start;\" transform=\"rotate(0, 987.64, 1473.22)\" x=\"987.64\" y=\"1473.22\">6</text>\n",
       "</g>\n",
       "<g clip-path=\"url(#clip1500)\">\n",
       "<text style=\"fill:#000000; fill-opacity:1; font-family:Arial,Helvetica Neue,Helvetica,sans-serif; font-size:48px; text-anchor:start;\" transform=\"rotate(0, 1552.13, 1500.63)\" x=\"1552.13\" y=\"1500.63\">2×10</text>\n",
       "</g>\n",
       "<g clip-path=\"url(#clip1500)\">\n",
       "<text style=\"fill:#000000; fill-opacity:1; font-family:Arial,Helvetica Neue,Helvetica,sans-serif; font-size:38px; text-anchor:start;\" transform=\"rotate(0, 1660.53, 1473.22)\" x=\"1660.53\" y=\"1473.22\">6</text>\n",
       "</g>\n",
       "<g clip-path=\"url(#clip1500)\">\n",
       "<text style=\"fill:#000000; fill-opacity:1; font-family:Arial,Helvetica Neue,Helvetica,sans-serif; font-size:48px; text-anchor:start;\" transform=\"rotate(0, 2225.02, 1500.63)\" x=\"2225.02\" y=\"1500.63\">3×10</text>\n",
       "</g>\n",
       "<g clip-path=\"url(#clip1500)\">\n",
       "<text style=\"fill:#000000; fill-opacity:1; font-family:Arial,Helvetica Neue,Helvetica,sans-serif; font-size:38px; text-anchor:start;\" transform=\"rotate(0, 2333.41, 1473.22)\" x=\"2333.41\" y=\"1473.22\">6</text>\n",
       "</g>\n",
       "<g clip-path=\"url(#clip1500)\">\n",
       "<text style=\"fill:#000000; fill-opacity:1; font-family:Arial,Helvetica Neue,Helvetica,sans-serif; font-size:48px; text-anchor:end;\" transform=\"rotate(0, 198.152, 1237.45)\" x=\"198.152\" y=\"1237.45\">-1000</text>\n",
       "</g>\n",
       "<g clip-path=\"url(#clip1500)\">\n",
       "<text style=\"fill:#000000; fill-opacity:1; font-family:Arial,Helvetica Neue,Helvetica,sans-serif; font-size:48px; text-anchor:end;\" transform=\"rotate(0, 198.152, 998.584)\" x=\"198.152\" y=\"998.584\">-500</text>\n",
       "</g>\n",
       "<g clip-path=\"url(#clip1500)\">\n",
       "<text style=\"fill:#000000; fill-opacity:1; font-family:Arial,Helvetica Neue,Helvetica,sans-serif; font-size:48px; text-anchor:end;\" transform=\"rotate(0, 198.152, 759.721)\" x=\"198.152\" y=\"759.721\">0</text>\n",
       "</g>\n",
       "<g clip-path=\"url(#clip1500)\">\n",
       "<text style=\"fill:#000000; fill-opacity:1; font-family:Arial,Helvetica Neue,Helvetica,sans-serif; font-size:48px; text-anchor:end;\" transform=\"rotate(0, 198.152, 520.859)\" x=\"198.152\" y=\"520.859\">500</text>\n",
       "</g>\n",
       "<g clip-path=\"url(#clip1500)\">\n",
       "<text style=\"fill:#000000; fill-opacity:1; font-family:Arial,Helvetica Neue,Helvetica,sans-serif; font-size:48px; text-anchor:end;\" transform=\"rotate(0, 198.152, 281.996)\" x=\"198.152\" y=\"281.996\">1000</text>\n",
       "</g>\n",
       "<g clip-path=\"url(#clip1500)\">\n",
       "<text style=\"fill:#000000; fill-opacity:1; font-family:Arial,Helvetica Neue,Helvetica,sans-serif; font-size:66px; text-anchor:middle;\" transform=\"rotate(0, 1287.45, 1559.48)\" x=\"1287.45\" y=\"1559.48\">pontos</text>\n",
       "</g>\n",
       "<polyline clip-path=\"url(#clip1502)\" style=\"stroke:#009af9; stroke-width:4; stroke-opacity:1; fill:none\" points=\"\n",
       "  282.452,808.298 304.501,808.298 304.501,894.009 326.55,894.009 326.55,932.661 348.599,932.661 348.599,947.513 370.648,947.513 370.648,944.845 392.697,944.845 \n",
       "  392.697,1101.96 414.747,1101.96 414.747,1134.06 436.796,1134.06 436.796,1056.37 458.845,1056.37 458.845,1047.55 480.894,1047.55 480.894,989.981 502.943,989.981 \n",
       "  502.943,1079.7 524.992,1079.7 524.992,1115.13 547.042,1115.13 547.042,1145.24 569.091,1145.24 569.091,1149.32 591.14,1149.32 591.14,1073.73 613.189,1073.73 \n",
       "  613.189,1098.14 635.238,1098.14 635.238,1125.82 657.287,1125.82 657.287,1109.85 679.336,1109.85 679.336,1071.34 701.386,1071.34 701.386,1097.45 723.435,1097.45 \n",
       "  723.435,1116.8 745.484,1116.8 745.484,1091.13 767.533,1091.13 767.533,1089.03 789.582,1089.03 789.582,1104.3 811.631,1104.3 811.631,1068.81 833.68,1068.81 \n",
       "  833.68,924.759 855.73,924.759 855.73,772.286 877.779,772.286 877.779,677.294 899.828,677.294 899.828,706.223 921.877,706.223 921.877,635.411 944.12,635.411 \n",
       "  944.12,659.643 966.363,659.643 966.363,692.761 988.412,692.761 988.412,693.843 1010.46,693.843 1010.46,878.571 1032.51,878.571 1032.51,831.172 1054.56,831.172 \n",
       "  1054.56,835.992 1076.61,835.992 1076.61,861.465 1098.66,861.465 1098.66,897.722 1120.71,897.722 1120.71,868.226 1142.76,868.226 1142.76,863.982 1164.81,863.982 \n",
       "  1164.81,824.065 1186.85,824.065 1186.85,816.221 1208.9,816.221 1208.9,832.242 1230.95,832.242 1230.95,835.523 1253,835.523 1253,808.008 1275.05,808.008 \n",
       "  1275.05,754.567 1297.1,754.567 1297.1,745.628 1319.15,745.628 1319.15,630.263 1341.2,630.263 1341.2,610.256 1363.25,610.256 1363.25,702.111 1385.3,702.111 \n",
       "  1385.3,629.737 1407.35,629.737 1407.35,624.234 1429.4,624.234 1429.4,756.13 1451.44,756.13 1451.44,755.08 1473.49,755.08 1473.49,769.777 1495.54,769.777 \n",
       "  1495.54,751.363 1517.59,751.363 1517.59,648.436 1539.64,648.436 1539.64,670.101 1561.69,670.101 1561.69,635.944 1583.74,635.944 1583.74,552.465 1608.54,552.465 \n",
       "  1608.54,493.807 1628.23,493.807 1628.23,716.51 1650.27,716.51 1650.27,648.898 1672.32,648.898 1672.32,600.348 1694.37,600.348 1694.37,639.538 1716.42,639.538 \n",
       "  1716.42,815.886 1738.47,815.886 1738.47,795.767 1760.52,795.767 1760.52,766.239 1782.57,766.239 1782.57,763.483 1804.62,763.483 1804.62,686.086 1826.67,686.086 \n",
       "  1826.67,647.326 1848.72,647.326 1848.72,702.495 1870.77,702.495 1870.77,680.087 1892.81,680.087 1892.81,701.002 1914.86,701.002 1914.86,613.629 1936.91,613.629 \n",
       "  1936.91,549.256 1958.96,549.256 1958.96,657.773 1981.01,657.773 1981.01,650.387 2003.06,650.387 2003.06,694.006 2025.11,694.006 2025.11,749.456 2047.16,749.456 \n",
       "  2047.16,752.372 2069.21,752.372 2069.21,700.458 2091.26,700.458 2091.26,786.342 2113.31,786.342 2113.31,764.753 2135.36,764.753 2135.36,698.779 2157.4,698.779 \n",
       "  2157.4,748.608 2179.45,748.608 2179.45,760.082 2201.5,760.082 2201.5,729.094 2223.55,729.094 2223.55,657.5 2237.33,657.5 2237.33,557.961 2242.85,557.961 \n",
       "  2242.85,517.689 2248.36,517.689 2248.36,491.476 2253.87,491.476 2253.87,516.395 2259.38,516.395 2259.38,471.189 2264.89,471.189 2264.89,447.352 2270.41,447.352 \n",
       "  2270.41,391.355 2275.92,391.355 2275.92,346.558 2281.43,346.558 2281.43,270.551 2286.94,270.551 2286.94,277.273 2292.46,277.273 2292.46,252.408 \n",
       "  \"/>\n",
       "<path clip-path=\"url(#clip1502)\" d=\"\n",
       "M282.452 590.111 L304.501 681.255 L326.55 708.542 L348.599 741.528 L370.648 735.43 L392.697 856.763 L414.747 931.846 L436.796 850.125 L458.845 844.354 L480.894 760.464 \n",
       "  L502.943 828.571 L524.992 911.504 L547.042 926.187 L569.091 891.172 L591.14 872.081 L613.189 828.993 L635.238 883.798 L657.287 916.894 L679.336 853.586 L701.386 826.176 \n",
       "  L723.435 918.306 L745.484 890.338 L767.533 872.288 L789.582 906.798 L811.631 851.654 L833.68 667.726 L855.73 495.853 L877.779 448.058 L899.828 492.771 L921.877 411.105 \n",
       "  L944.12 385.911 L966.363 400.424 L988.412 396.49 L1010.46 655.76 L1032.51 636.23 L1054.56 581.096 L1076.61 568.041 L1098.66 669.497 L1120.71 647.693 L1142.76 655.404 \n",
       "  L1164.81 639.43 L1186.85 623.711 L1208.9 615.712 L1230.95 622.798 L1253 599.452 L1275.05 528.273 L1297.1 549.126 L1319.15 380.355 L1341.2 352.521 L1363.25 467.602 \n",
       "  L1385.3 390.368 L1407.35 400.736 L1429.4 534.867 L1451.44 556.083 L1473.49 525.547 L1495.54 504.761 L1517.59 426.135 L1539.64 441.498 L1561.69 381.547 L1583.74 341.111 \n",
       "  L1608.54 260.058 L1628.23 487.209 L1650.27 438.85 L1672.32 367.618 L1694.37 376.221 L1716.42 585.622 L1738.47 551.595 L1760.52 545.95 L1782.57 543.595 L1804.62 440.414 \n",
       "  L1826.67 409.496 L1848.72 479.553 L1870.77 440.097 L1892.81 455.792 L1914.86 389.562 L1936.91 319.441 L1958.96 380.401 L1981.01 402.139 L2003.06 427.754 L2025.11 549.391 \n",
       "  L2047.16 547.627 L2069.21 431.625 L2091.26 584.642 L2113.31 541.576 L2135.36 468.622 L2157.4 520.609 L2179.45 542.863 L2201.5 509.137 L2223.55 428.962 L2237.33 385.674 \n",
       "  L2242.85 312.262 L2248.36 318.545 L2253.87 303.235 L2259.38 245.4 L2264.89 247.016 L2270.41 125.501 L2275.92 152.643 L2281.43 86.2547 L2286.94 94.5787 L2292.46 100.479 \n",
       "  L2292.46 421.755 L2286.94 482.563 L2281.43 455.075 L2275.92 528.227 L2270.41 600.616 L2264.89 633.926 L2259.38 658.988 L2253.87 687.926 L2248.36 667.827 L2242.85 714.692 \n",
       "  L2237.33 756.171 L2223.55 877.586 L2201.5 933.674 L2179.45 993.62 L2157.4 999.519 L2135.36 939.424 L2113.31 977.901 L2091.26 1024.07 L2069.21 938.031 L2047.16 959.151 \n",
       "  L2025.11 966.587 L2003.06 921.13 L1981.01 884.232 L1958.96 894.448 L1936.91 793.181 L1914.86 843.343 L1892.81 957.29 L1870.77 935.595 L1848.72 907.146 L1826.67 877.292 \n",
       "  L1804.62 914.081 L1782.57 1015.41 L1760.52 990.728 L1738.47 1038.87 L1716.42 1058.72 L1694.37 943.829 L1672.32 834.171 L1650.27 877.459 L1628.23 915.938 L1608.54 711.276 \n",
       "  L1583.74 753.074 L1561.69 859.036 L1539.64 878.147 L1517.59 864.835 L1495.54 966.806 L1473.49 989.224 L1451.44 947.971 L1429.4 986.566 L1407.35 838.107 L1385.3 922.725 \n",
       "  L1363.25 928.835 L1341.2 871.577 L1319.15 906.508 L1297.1 953.506 L1275.05 971.163 L1253 1018.14 L1230.95 1025.97 L1208.9 1053.54 L1186.85 1034.78 L1164.81 1028.9 \n",
       "  L1142.76 1112.13 L1120.71 1105.8 L1098.66 1116.85 L1076.61 1102.89 L1054.56 1033.39 L1032.51 1030.1 L1010.46 1107.56 L988.412 991.835 L966.363 922.266 L944.12 916.905 \n",
       "  L921.877 843.301 L899.828 919.41 L877.779 890.191 L855.73 1047.24 L833.68 1212.69 L811.631 1272.89 L789.582 1362.45 L767.533 1289.96 L745.484 1291.23 L723.435 1320.81 \n",
       "  L701.386 1348.56 L679.336 1311.7 L657.287 1314.67 L635.238 1332.39 L613.189 1338.83 L591.14 1277.58 L569.091 1368.3 L547.042 1386.61 L524.992 1333.58 L502.943 1352.43 \n",
       "  L480.894 1208.15 L458.845 1272.3 L436.796 1265.83 L414.747 1342.08 L392.697 1356.51 L370.648 1155.3 L348.599 1148.85 L326.55 1143.56 L304.501 1151.61 L282.452 1020.72 \n",
       "   Z\n",
       "  \" fill=\"#e26f46\" fill-rule=\"evenodd\" fill-opacity=\"0.4\"/>\n",
       "<polyline clip-path=\"url(#clip1502)\" style=\"stroke:#e26f46; stroke-width:0; stroke-opacity:0.4; fill:none\" points=\"\n",
       "  282.452,590.111 304.501,681.255 326.55,708.542 348.599,741.528 370.648,735.43 392.697,856.763 414.747,931.846 436.796,850.125 458.845,844.354 480.894,760.464 \n",
       "  502.943,828.571 524.992,911.504 547.042,926.187 569.091,891.172 591.14,872.081 613.189,828.993 635.238,883.798 657.287,916.894 679.336,853.586 701.386,826.176 \n",
       "  723.435,918.306 745.484,890.338 767.533,872.288 789.582,906.798 811.631,851.654 833.68,667.726 855.73,495.853 877.779,448.058 899.828,492.771 921.877,411.105 \n",
       "  944.12,385.911 966.363,400.424 988.412,396.49 1010.46,655.76 1032.51,636.23 1054.56,581.096 1076.61,568.041 1098.66,669.497 1120.71,647.693 1142.76,655.404 \n",
       "  1164.81,639.43 1186.85,623.711 1208.9,615.712 1230.95,622.798 1253,599.452 1275.05,528.273 1297.1,549.126 1319.15,380.355 1341.2,352.521 1363.25,467.602 \n",
       "  1385.3,390.368 1407.35,400.736 1429.4,534.867 1451.44,556.083 1473.49,525.547 1495.54,504.761 1517.59,426.135 1539.64,441.498 1561.69,381.547 1583.74,341.111 \n",
       "  1608.54,260.058 1628.23,487.209 1650.27,438.85 1672.32,367.618 1694.37,376.221 1716.42,585.622 1738.47,551.595 1760.52,545.95 1782.57,543.595 1804.62,440.414 \n",
       "  1826.67,409.496 1848.72,479.553 1870.77,440.097 1892.81,455.792 1914.86,389.562 1936.91,319.441 1958.96,380.401 1981.01,402.139 2003.06,427.754 2025.11,549.391 \n",
       "  2047.16,547.627 2069.21,431.625 2091.26,584.642 2113.31,541.576 2135.36,468.622 2157.4,520.609 2179.45,542.863 2201.5,509.137 2223.55,428.962 2237.33,385.674 \n",
       "  2242.85,312.262 2248.36,318.545 2253.87,303.235 2259.38,245.4 2264.89,247.016 2270.41,125.501 2275.92,152.643 2281.43,86.2547 2286.94,94.5787 2292.46,100.479 \n",
       "  \n",
       "  \"/>\n",
       "<path clip-path=\"url(#clip1500)\" d=\"\n",
       "M1861.55 312.204 L2280.76 312.204 L2280.76 130.764 L1861.55 130.764  Z\n",
       "  \" fill=\"#ffffff\" fill-rule=\"evenodd\" fill-opacity=\"1\"/>\n",
       "<polyline clip-path=\"url(#clip1500)\" style=\"stroke:#000000; stroke-width:4; stroke-opacity:1; fill:none\" points=\"\n",
       "  1861.55,312.204 2280.76,312.204 2280.76,130.764 1861.55,130.764 1861.55,312.204 \n",
       "  \"/>\n",
       "<polyline clip-path=\"url(#clip1500)\" style=\"stroke:#009af9; stroke-width:4; stroke-opacity:1; fill:none\" points=\"\n",
       "  1885.55,191.244 2029.55,191.244 \n",
       "  \"/>\n",
       "<g clip-path=\"url(#clip1500)\">\n",
       "<text style=\"fill:#000000; fill-opacity:1; font-family:Arial,Helvetica Neue,Helvetica,sans-serif; font-size:48px; text-anchor:start;\" transform=\"rotate(0, 2053.55, 208.744)\" x=\"2053.55\" y=\"208.744\">Mean</text>\n",
       "</g>\n",
       "<path clip-path=\"url(#clip1500)\" d=\"\n",
       "M1885.55 275.916 L2029.55 275.916 L2029.55 227.532 L1885.55 227.532 L1885.55 275.916  Z\n",
       "  \" fill=\"#e26f46\" fill-rule=\"evenodd\" fill-opacity=\"0.4\"/>\n",
       "<polyline clip-path=\"url(#clip1500)\" style=\"stroke:#e26f46; stroke-width:0; stroke-opacity:0.4; fill:none\" points=\"\n",
       "  1885.55,227.532 2029.55,227.532 \n",
       "  \"/>\n",
       "<g clip-path=\"url(#clip1500)\">\n",
       "<text style=\"fill:#000000; fill-opacity:1; font-family:Arial,Helvetica Neue,Helvetica,sans-serif; font-size:48px; text-anchor:start;\" transform=\"rotate(0, 2053.55, 269.224)\" x=\"2053.55\" y=\"269.224\">Extrema</text>\n",
       "</g>\n",
       "</svg>\n"
      ]
     },
     "execution_count": 9,
     "metadata": {},
     "output_type": "execute_result"
    }
   ],
   "source": [
    "plot(s, layout=1, xlab=\"pontos\")"
   ]
  },
  {
   "cell_type": "markdown",
   "metadata": {
    "toc-hr-collapsed": false
   },
   "source": [
    "## Desempenho e benchmarking\n",
    "\n",
    "Para mensurar o desempenho de um código, utiliza-se o [BenchmarkTools](https://github.com/JuliaCI/BenchmarkTools.jl). Então utiliza-se as macros `@benchmark` ou `@btime` (versão resumida do primeiro). Elas fazem várias execuções do código e retornam o tempo mediano para executar, número de alocações de memória e total de bytes alocados (de cada execução). O resultado `GC` siginifica a porcentagem do tempo gasto com *Garbage Collection*, que é a liberação de memória alocada da qual não se precisa mais.\n",
    "\n",
    "Ao fazer este tipo de análise, faça-o com código no escopo local (funções, por exemplo), pois o escopo global terá uma performance pior. Ademais, se for usar variáveis globais, declare-as como constante. Vide:"
   ]
  },
  {
   "cell_type": "code",
   "execution_count": 10,
   "metadata": {},
   "outputs": [],
   "source": [
    "using BenchmarkTools"
   ]
  },
  {
   "cell_type": "code",
   "execution_count": 11,
   "metadata": {},
   "outputs": [
    {
     "name": "stdout",
     "output_type": "stream",
     "text": [
      "  21.555 ns (0 allocations: 0 bytes)\n"
     ]
    },
    {
     "data": {
      "text/plain": [
       "4"
      ]
     },
     "execution_count": 11,
     "metadata": {},
     "output_type": "execute_result"
    }
   ],
   "source": [
    "global a = 2\n",
    "@btime x = 2a"
   ]
  },
  {
   "cell_type": "code",
   "execution_count": 12,
   "metadata": {},
   "outputs": [
    {
     "name": "stdout",
     "output_type": "stream",
     "text": [
      "  21.558 ns (0 allocations: 0 bytes)\n"
     ]
    },
    {
     "data": {
      "text/plain": [
       "4"
      ]
     },
     "execution_count": 12,
     "metadata": {},
     "output_type": "execute_result"
    }
   ],
   "source": [
    "foo() = 2a\n",
    "@btime foo()"
   ]
  },
  {
   "cell_type": "code",
   "execution_count": 13,
   "metadata": {},
   "outputs": [
    {
     "name": "stdout",
     "output_type": "stream",
     "text": [
      "  0.021 ns (0 allocations: 0 bytes)\n"
     ]
    },
    {
     "data": {
      "text/plain": [
       "4"
      ]
     },
     "execution_count": 13,
     "metadata": {},
     "output_type": "execute_result"
    }
   ],
   "source": [
    "foo(x) = 2x\n",
    "@btime foo(2)"
   ]
  },
  {
   "cell_type": "code",
   "execution_count": 14,
   "metadata": {},
   "outputs": [
    {
     "name": "stdout",
     "output_type": "stream",
     "text": [
      "  0.021 ns (0 allocations: 0 bytes)\n"
     ]
    },
    {
     "data": {
      "text/plain": [
       "4"
      ]
     },
     "execution_count": 14,
     "metadata": {},
     "output_type": "execute_result"
    }
   ],
   "source": [
    "const c1 = 2\n",
    "@btime (x = 2c1)"
   ]
  },
  {
   "cell_type": "markdown",
   "metadata": {},
   "source": [
    "Vamos criar uma função mais complicada e fazer o *benchmark* dela."
   ]
  },
  {
   "cell_type": "code",
   "execution_count": 15,
   "metadata": {},
   "outputs": [
    {
     "data": {
      "text/plain": [
       "foo (generic function with 3 methods)"
      ]
     },
     "execution_count": 15,
     "metadata": {},
     "output_type": "execute_result"
    }
   ],
   "source": [
    "function foo(x, y)\n",
    "    if x > y\n",
    "        res = x^2 + 3x - y^4\n",
    "    else\n",
    "        res = x^2 + 3x - y^3\n",
    "    end\n",
    "    return res\n",
    "end"
   ]
  },
  {
   "cell_type": "markdown",
   "metadata": {},
   "source": [
    "Precisamos dizer à macro para fazer um setup antes de fazer suas avaliar: atribuir valores aleatórios a `x` e `y`. Caso contrário, a geração e atribuição deste número aleatório seria temporizado também."
   ]
  },
  {
   "cell_type": "code",
   "execution_count": 16,
   "metadata": {},
   "outputs": [
    {
     "data": {
      "text/plain": [
       "BenchmarkTools.Trial: \n",
       "  memory estimate:  0 bytes\n",
       "  allocs estimate:  0\n",
       "  --------------\n",
       "  minimum time:     58.326 ns (0.00% GC)\n",
       "  median time:      62.722 ns (0.00% GC)\n",
       "  mean time:        63.502 ns (0.00% GC)\n",
       "  maximum time:     119.348 ns (0.00% GC)\n",
       "  --------------\n",
       "  samples:          10000\n",
       "  evals/sample:     983"
      ]
     },
     "execution_count": 16,
     "metadata": {},
     "output_type": "execute_result"
    }
   ],
   "source": [
    "@benchmark foo(x, y) setup=(x=rand(); y=rand())"
   ]
  },
  {
   "cell_type": "code",
   "execution_count": 17,
   "metadata": {},
   "outputs": [
    {
     "name": "stdout",
     "output_type": "stream",
     "text": [
      "  61.415 ns (0 allocations: 0 bytes)\n"
     ]
    },
    {
     "data": {
      "text/plain": [
       "-0.04594987601393077"
      ]
     },
     "execution_count": 17,
     "metadata": {},
     "output_type": "execute_result"
    }
   ],
   "source": [
    "@btime foo(x, y) setup=(x=rand(); y=rand())"
   ]
  },
  {
   "cell_type": "code",
   "execution_count": 18,
   "metadata": {},
   "outputs": [
    {
     "data": {
      "text/plain": [
       "BenchmarkTools.Trial: \n",
       "  memory estimate:  0 bytes\n",
       "  allocs estimate:  0\n",
       "  --------------\n",
       "  minimum time:     73.174 ns (0.00% GC)\n",
       "  median time:      74.357 ns (0.00% GC)\n",
       "  mean time:        74.779 ns (0.00% GC)\n",
       "  maximum time:     246.165 ns (0.00% GC)\n",
       "  --------------\n",
       "  samples:          10000\n",
       "  evals/sample:     974"
      ]
     },
     "execution_count": 18,
     "metadata": {},
     "output_type": "execute_result"
    }
   ],
   "source": [
    "@benchmark foo(rand(), rand())  # sem setup"
   ]
  },
  {
   "cell_type": "markdown",
   "metadata": {},
   "source": [
    "Usar a função vetorizada:"
   ]
  },
  {
   "cell_type": "code",
   "execution_count": 19,
   "metadata": {},
   "outputs": [
    {
     "data": {
      "text/plain": [
       "BenchmarkTools.Trial: \n",
       "  memory estimate:  7.94 KiB\n",
       "  allocs estimate:  1\n",
       "  --------------\n",
       "  minimum time:     69.650 μs (0.00% GC)\n",
       "  median time:      70.184 μs (0.00% GC)\n",
       "  mean time:        71.657 μs (1.49% GC)\n",
       "  maximum time:     2.298 ms (95.95% GC)\n",
       "  --------------\n",
       "  samples:          10000\n",
       "  evals/sample:     1"
      ]
     },
     "execution_count": 19,
     "metadata": {},
     "output_type": "execute_result"
    }
   ],
   "source": [
    "n = 1000\n",
    "@benchmark (res = foo.(x, y)) setup=(x=rand(n); y=rand(n))"
   ]
  },
  {
   "cell_type": "markdown",
   "metadata": {},
   "source": [
    "Usar a função dentro de um `for` (que cria escopo local):"
   ]
  },
  {
   "cell_type": "code",
   "execution_count": 20,
   "metadata": {},
   "outputs": [
    {
     "data": {
      "text/plain": [
       "BenchmarkTools.Trial: \n",
       "  memory estimate:  93.44 KiB\n",
       "  allocs estimate:  4979\n",
       "  --------------\n",
       "  minimum time:     223.205 μs (0.00% GC)\n",
       "  median time:      234.673 μs (0.00% GC)\n",
       "  mean time:        248.704 μs (6.02% GC)\n",
       "  maximum time:     3.624 ms (92.97% GC)\n",
       "  --------------\n",
       "  samples:          10000\n",
       "  evals/sample:     1"
      ]
     },
     "execution_count": 20,
     "metadata": {},
     "output_type": "execute_result"
    }
   ],
   "source": [
    "n = 1000\n",
    "res = Array{Float64}(undef, n)\n",
    "@benchmark for i = 1:n\n",
    "    res[i] = foo(x[i], y[i])\n",
    "end setup=(x=rand(n); y=rand(n))"
   ]
  },
  {
   "cell_type": "markdown",
   "metadata": {},
   "source": [
    "Mesma função, mas que recebe vetores e faz um laço `for` dentro dela."
   ]
  },
  {
   "cell_type": "code",
   "execution_count": 21,
   "metadata": {},
   "outputs": [
    {
     "data": {
      "text/plain": [
       "bar (generic function with 1 method)"
      ]
     },
     "execution_count": 21,
     "metadata": {},
     "output_type": "execute_result"
    }
   ],
   "source": [
    "function bar(x, y)\n",
    "    n = minimum([length(x), length(y)])\n",
    "    res = Array{Float64}(undef, n)\n",
    "    for i  = 1:n\n",
    "        if x[i] > y[i]\n",
    "            res[i] = x[i]^2 + 3x[i] - y[i]^4\n",
    "        else\n",
    "            res[i] = x[i]^2 + 3x[i] - y[i]^3\n",
    "        end\n",
    "    end\n",
    "    return res\n",
    "end"
   ]
  },
  {
   "cell_type": "code",
   "execution_count": 22,
   "metadata": {},
   "outputs": [
    {
     "data": {
      "text/plain": [
       "BenchmarkTools.Trial: \n",
       "  memory estimate:  8.03 KiB\n",
       "  allocs estimate:  2\n",
       "  --------------\n",
       "  minimum time:     35.826 μs (0.00% GC)\n",
       "  median time:      39.899 μs (0.00% GC)\n",
       "  mean time:        40.793 μs (1.62% GC)\n",
       "  maximum time:     2.260 ms (97.57% GC)\n",
       "  --------------\n",
       "  samples:          10000\n",
       "  evals/sample:     1"
      ]
     },
     "execution_count": 22,
     "metadata": {},
     "output_type": "execute_result"
    }
   ],
   "source": [
    "@benchmark (res = bar(x, y)) setup=(x=rand(n); y=rand(n))"
   ]
  },
  {
   "cell_type": "markdown",
   "metadata": {},
   "source": [
    "### Estabilidade de tipos\n",
    "\n",
    "A instabilidade do tipo de uma variável ocorre quando ele pode mudar durante a execução, isto é, não pode ser inferido durante compilação. O efeito disto é que o compilador JIT não consegue otimizar código que lida com tais variáveis (cujo tipo é instável). Para saber se um código é tipo-estável, usamos a macro `@code_warntype`. A saída desta macro é o código \"digerido\" pelo compilador JIT; o importante é procurar por texto em vermelho ou amarelo, que sinalizam variáveis cujo tipo é instável."
   ]
  },
  {
   "cell_type": "code",
   "execution_count": 23,
   "metadata": {},
   "outputs": [
    {
     "data": {
      "text/latex": [
       "\\begin{verbatim}\n",
       "@code_warntype\n",
       "\\end{verbatim}\n",
       "Evaluates the arguments to the function or macro call, determines their types, and calls \\href{@ref}{\\texttt{code\\_warntype}} on the resulting expression.\n",
       "\n"
      ],
      "text/markdown": [
       "```\n",
       "@code_warntype\n",
       "```\n",
       "\n",
       "Evaluates the arguments to the function or macro call, determines their types, and calls [`code_warntype`](@ref) on the resulting expression.\n"
      ],
      "text/plain": [
       "\u001b[36m  @code_warntype\u001b[39m\n",
       "\n",
       "  Evaluates the arguments to the function or macro call, determines their\n",
       "  types, and calls \u001b[36mcode_warntype\u001b[39m on the resulting expression."
      ]
     },
     "execution_count": 23,
     "metadata": {},
     "output_type": "execute_result"
    }
   ],
   "source": [
    "?@code_warntype"
   ]
  },
  {
   "cell_type": "code",
   "execution_count": 24,
   "metadata": {},
   "outputs": [],
   "source": [
    "# exemplo tomado de https://discourse.julialang.org/t/suggestions-for-a-good-example-of-a-realistic-type-instability-for-julia-demo/23232/7?u=pedrohnv\n",
    "function bad_positives(xs)\n",
    "    ys = []\n",
    "    for x in xs\n",
    "        if x > 0\n",
    "            push!(ys, x)\n",
    "        end\n",
    "    end\n",
    "    return ys\n",
    "end\n",
    "\n",
    "function good_positives(xs)\n",
    "    ys = similar(xs, 0)\n",
    "    for x in xs\n",
    "        if x > 0\n",
    "            push!(ys, x)\n",
    "        end\n",
    "    end\n",
    "    return ys\n",
    "end\n",
    "\n",
    "data = randn(1000);"
   ]
  },
  {
   "cell_type": "markdown",
   "metadata": {},
   "source": [
    "**Nota:** na célula de saída do código seguinte, `@_4::Union{Nothing, Tuple{Float64,Nothing}}` está colorido. A versão página da web deste notebook, devido a uma limitação do Markdown, não renderiza cores no texto."
   ]
  },
  {
   "cell_type": "code",
   "execution_count": 25,
   "metadata": {},
   "outputs": [
    {
     "name": "stdout",
     "output_type": "stream",
     "text": [
      "Variables\n",
      "  #self#\u001b[36m::Core.Compiler.Const(bad_positives, false)\u001b[39m\n",
      "  xs\u001b[36m::Float64\u001b[39m\n",
      "  ys\u001b[36m::Array{Any,1}\u001b[39m\n",
      "  @_4\u001b[33m\u001b[1m::Union{Nothing, Tuple{Float64,Nothing}}\u001b[22m\u001b[39m\n",
      "  x\u001b[36m::Float64\u001b[39m\n",
      "\n",
      "Body\u001b[36m::Array{Any,1}\u001b[39m\n",
      "\u001b[90m1 ─\u001b[39m       (ys = Base.vect())\n",
      "\u001b[90m│  \u001b[39m %2  = xs\u001b[36m::Float64\u001b[39m\n",
      "\u001b[90m│  \u001b[39m       (@_4 = Base.iterate(%2))\n",
      "\u001b[90m│  \u001b[39m %4  = (@_4::Tuple{Float64,Nothing} === nothing)\u001b[36m::Core.Compiler.Const(false, false)\u001b[39m\n",
      "\u001b[90m│  \u001b[39m %5  = Base.not_int(%4)\u001b[36m::Core.Compiler.Const(true, false)\u001b[39m\n",
      "\u001b[90m└──\u001b[39m       goto #6 if not %5\n",
      "\u001b[90m2 ─\u001b[39m %7  = @_4::Tuple{Float64,Nothing}\u001b[36m::Tuple{Float64,Nothing}\u001b[39m\n",
      "\u001b[90m│  \u001b[39m       (x = Core.getfield(%7, 1))\n",
      "\u001b[90m│  \u001b[39m %9  = Core.getfield(%7, 2)\u001b[36m::Core.Compiler.Const(nothing, false)\u001b[39m\n",
      "\u001b[90m│  \u001b[39m %10 = (x > 0)\u001b[36m::Bool\u001b[39m\n",
      "\u001b[90m└──\u001b[39m       goto #4 if not %10\n",
      "\u001b[90m3 ─\u001b[39m       Main.push!(ys, x)\n",
      "\u001b[90m4 ┄\u001b[39m       (@_4 = Base.iterate(%2, %9))\n",
      "\u001b[90m│  \u001b[39m %14 = (@_4::Core.Compiler.Const(nothing, false) === nothing)\u001b[36m::Core.Compiler.Const(true, false)\u001b[39m\n",
      "\u001b[90m│  \u001b[39m %15 = Base.not_int(%14)\u001b[36m::Core.Compiler.Const(false, false)\u001b[39m\n",
      "\u001b[90m└──\u001b[39m       goto #6 if not %15\n",
      "\u001b[90m5 ─\u001b[39m       Core.Compiler.Const(:(goto %7), false)\n",
      "\u001b[90m6 ┄\u001b[39m       return ys\n"
     ]
    }
   ],
   "source": [
    "@code_warntype bad_positives(data[1])"
   ]
  },
  {
   "cell_type": "code",
   "execution_count": 26,
   "metadata": {},
   "outputs": [
    {
     "name": "stdout",
     "output_type": "stream",
     "text": [
      "Variables\n",
      "  #self#\u001b[36m::Core.Compiler.Const(good_positives, false)\u001b[39m\n",
      "  xs\u001b[36m::Float64\u001b[39m\n",
      "  ys\u001b[36m::Union{}\u001b[39m\n",
      "  @_4\u001b[36m::Union{}\u001b[39m\n",
      "  x\u001b[36m::Union{}\u001b[39m\n",
      "\n",
      "Body\u001b[36m::Union{}\u001b[39m\n",
      "\u001b[90m1 ─\u001b[39m     (ys = Main.similar(xs, 0))\n",
      "\u001b[90m│  \u001b[39m     Core.Compiler.Const(:(xs), false)\n",
      "\u001b[90m│  \u001b[39m     Core.Compiler.Const(:(@_4 = Base.iterate(%2)), false)\n",
      "\u001b[90m│  \u001b[39m     Core.Compiler.Const(:(@_4 === nothing), false)\n",
      "\u001b[90m│  \u001b[39m     Core.Compiler.Const(:(Base.not_int(%4)), false)\n",
      "\u001b[90m│  \u001b[39m     Core.Compiler.Const(:(%5), false)\n",
      "\u001b[90m│  \u001b[39m     Core.Compiler.Const(:(@_4), false)\n",
      "\u001b[90m│  \u001b[39m     Core.Compiler.Const(:(x = Core.getfield(%7, 1)), false)\n",
      "\u001b[90m│  \u001b[39m     Core.Compiler.Const(:(Core.getfield(%7, 2)), false)\n",
      "\u001b[90m│  \u001b[39m     Core.Compiler.Const(:(x > 0), false)\n",
      "\u001b[90m│  \u001b[39m     Core.Compiler.Const(:(%10), false)\n",
      "\u001b[90m│  \u001b[39m     Core.Compiler.Const(:(Main.push!(ys, x)), false)\n",
      "\u001b[90m│  \u001b[39m     Core.Compiler.Const(:(@_4 = Base.iterate(%2, %9)), false)\n",
      "\u001b[90m│  \u001b[39m     Core.Compiler.Const(:(@_4 === nothing), false)\n",
      "\u001b[90m│  \u001b[39m     Core.Compiler.Const(:(Base.not_int(%14)), false)\n",
      "\u001b[90m│  \u001b[39m     Core.Compiler.Const(:(%15), false)\n",
      "\u001b[90m│  \u001b[39m     Core.Compiler.Const(:(goto %7), false)\n",
      "\u001b[90m└──\u001b[39m     Core.Compiler.Const(:(return ys), false)\n"
     ]
    }
   ],
   "source": [
    "@code_warntype good_positives(data[1])"
   ]
  },
  {
   "cell_type": "code",
   "execution_count": 27,
   "metadata": {},
   "outputs": [
    {
     "data": {
      "text/plain": [
       "BenchmarkTools.Trial: \n",
       "  memory estimate:  24.13 KiB\n",
       "  allocs estimate:  1020\n",
       "  --------------\n",
       "  minimum time:     17.636 μs (0.00% GC)\n",
       "  median time:      18.332 μs (0.00% GC)\n",
       "  mean time:        21.841 μs (13.86% GC)\n",
       "  maximum time:     2.835 ms (98.28% GC)\n",
       "  --------------\n",
       "  samples:          10000\n",
       "  evals/sample:     1"
      ]
     },
     "execution_count": 27,
     "metadata": {},
     "output_type": "execute_result"
    }
   ],
   "source": [
    "@benchmark sum(bad_positives($data))"
   ]
  },
  {
   "cell_type": "code",
   "execution_count": 28,
   "metadata": {},
   "outputs": [
    {
     "data": {
      "text/plain": [
       "BenchmarkTools.Trial: \n",
       "  memory estimate:  8.33 KiB\n",
       "  allocs estimate:  9\n",
       "  --------------\n",
       "  minimum time:     4.595 μs (0.00% GC)\n",
       "  median time:      4.849 μs (0.00% GC)\n",
       "  mean time:        5.798 μs (15.19% GC)\n",
       "  maximum time:     386.205 μs (97.05% GC)\n",
       "  --------------\n",
       "  samples:          10000\n",
       "  evals/sample:     7"
      ]
     },
     "execution_count": 28,
     "metadata": {},
     "output_type": "execute_result"
    }
   ],
   "source": [
    "@benchmark sum(good_positives($data))"
   ]
  },
  {
   "cell_type": "markdown",
   "metadata": {},
   "source": [
    "**Nota:** otimização precoce é a mãe de todos os bugs. Primeiro crie um código que funciona, depois use `BenchmarkTools` para encontrar as partes do código que são o gargalo e otimize eles (princípio de Pareto: 20% das causas são responsáveis por 80% dos problemas)."
   ]
  },
  {
   "cell_type": "markdown",
   "metadata": {},
   "source": [
    "## Operações *in-place*: BLAS e LAPACK\n",
    "\n",
    "O Gargalo da computação atualmente não é poder de processamento, e sim movimento de memória. Sempre que puder, evite novas alocações de memória utilizando, por exemplo, operações no lugar (*in-place*), isto é, usar código que modifica as variáveis ao invés de criar cópias modificadas. Exemplo: resolver o sistema linear $A\\cdot x = b$, onde somente $x$ importa, $A$ e $b$ podem ser modificados sem prejuízo.\n",
    "\n",
    "O MATLAB, por *design*, não aceita funções que modificam os argumentos (pois os argumentos sempre são [passados por valor](https://en.wikipedia.org/wiki/Evaluation_strategy#Call_by_value)). Tecnicamente, é [possível subverter isto](https://blogs.mathworks.com/loren/2007/03/22/in-place-operations-on-data/), porém inconsistente. Por isso, um código bem otimizado em Julia terá um desempenho superior que o equivalente em MATLAB."
   ]
  },
  {
   "cell_type": "code",
   "execution_count": 29,
   "metadata": {},
   "outputs": [],
   "source": [
    "using LinearAlgebra\n",
    "n = 2500\n",
    "a = rand(n,n)\n",
    "b = rand(n);"
   ]
  },
  {
   "cell_type": "markdown",
   "metadata": {},
   "source": [
    "Por inversão de matriz:"
   ]
  },
  {
   "cell_type": "code",
   "execution_count": 30,
   "metadata": {},
   "outputs": [
    {
     "data": {
      "text/plain": [
       "BenchmarkTools.Trial: \n",
       "  memory estimate:  48.94 MiB\n",
       "  allocs estimate:  9\n",
       "  --------------\n",
       "  minimum time:     474.855 ms (0.84% GC)\n",
       "  median time:      592.481 ms (0.67% GC)\n",
       "  mean time:        584.324 ms (2.67% GC)\n",
       "  maximum time:     717.727 ms (0.10% GC)\n",
       "  --------------\n",
       "  samples:          9\n",
       "  evals/sample:     1"
      ]
     },
     "execution_count": 30,
     "metadata": {},
     "output_type": "execute_result"
    }
   ],
   "source": [
    "@benchmark inv($a)*$b"
   ]
  },
  {
   "cell_type": "markdown",
   "metadata": {},
   "source": [
    "Resolver o sistema linear por Eliminação de Gauss:"
   ]
  },
  {
   "cell_type": "code",
   "execution_count": 31,
   "metadata": {},
   "outputs": [
    {
     "data": {
      "text/plain": [
       "BenchmarkTools.Trial: \n",
       "  memory estimate:  47.72 MiB\n",
       "  allocs estimate:  7\n",
       "  --------------\n",
       "  minimum time:     166.821 ms (0.41% GC)\n",
       "  median time:      217.238 ms (1.78% GC)\n",
       "  mean time:        221.354 ms (3.82% GC)\n",
       "  maximum time:     337.054 ms (27.80% GC)\n",
       "  --------------\n",
       "  samples:          23\n",
       "  evals/sample:     1"
      ]
     },
     "execution_count": 31,
     "metadata": {},
     "output_type": "execute_result"
    }
   ],
   "source": [
    "@benchmark $a\\$b"
   ]
  },
  {
   "cell_type": "markdown",
   "metadata": {},
   "source": [
    "Eliminação de Gauss no lugar (note que primeiro precisamos fatorizar $A$ explicitamente, que também fazemos no lugar com `lu!`):"
   ]
  },
  {
   "cell_type": "code",
   "execution_count": 32,
   "metadata": {},
   "outputs": [
    {
     "data": {
      "text/plain": [
       "BenchmarkTools.Trial: \n",
       "  memory estimate:  19.67 KiB\n",
       "  allocs estimate:  3\n",
       "  --------------\n",
       "  minimum time:     143.681 ms (0.00% GC)\n",
       "  median time:      145.294 ms (0.00% GC)\n",
       "  mean time:        159.698 ms (0.00% GC)\n",
       "  maximum time:     233.984 ms (0.00% GC)\n",
       "  --------------\n",
       "  samples:          27\n",
       "  evals/sample:     1"
      ]
     },
     "execution_count": 32,
     "metadata": {},
     "output_type": "execute_result"
    }
   ],
   "source": [
    "@benchmark ldiv!(lu!(ac), bc) setup=(ac=copy(a); bc=copy(b))"
   ]
  },
  {
   "cell_type": "markdown",
   "metadata": {},
   "source": [
    "### Vistas de matrizes"
   ]
  },
  {
   "cell_type": "markdown",
   "metadata": {},
   "source": [
    "Por padrão, utilizar `A[i1:k1, i2:k2]` numa expressão cria uma cópia desse corte. Uma macro que é muito útil é a `@view`, que cria uma referência para o corte, ao invés de uma cópia. Esta macro só pode ser usada para valores no lado direito da expressão, isto é, não pode ser usada para atribuição.\n",
    "\n",
    "**Lembre-se:** `a = b` faz com que `a` seja outro nome para `b`; enquanto `a = b[:]` faz com que `a` seja uma cópia independente de `b`."
   ]
  },
  {
   "cell_type": "code",
   "execution_count": 33,
   "metadata": {},
   "outputs": [
    {
     "data": {
      "text/plain": [
       "2×2 Array{Int64,2}:\n",
       " 0  2\n",
       " 0  4"
      ]
     },
     "execution_count": 33,
     "metadata": {},
     "output_type": "execute_result"
    }
   ],
   "source": [
    "A = [1 2; 3 4]\n",
    "b = @view A[:, 1]\n",
    "fill!(b, 0)  # modificar b modificará o corte de A\n",
    "A"
   ]
  },
  {
   "cell_type": "markdown",
   "metadata": {},
   "source": [
    "Tentar o seguinte causará erro:\n",
    "\n",
    "```julia\n",
    "A = [1 2; 3 4]\n",
    "@view A[:, 1] = zeros(2)\n",
    "\n",
    "ArgumentError: Invalid use of @view macro: argument must be a reference expression A[...].\n",
    "```"
   ]
  },
  {
   "cell_type": "markdown",
   "metadata": {},
   "source": [
    "Outra macro útil é a `@views expressão`, que faz com que toda operação de corte de matrizes dentro da expressão utilize vistas ao invés cópias."
   ]
  },
  {
   "cell_type": "code",
   "execution_count": 34,
   "metadata": {},
   "outputs": [
    {
     "data": {
      "text/plain": [
       "foo2 (generic function with 1 method)"
      ]
     },
     "execution_count": 34,
     "metadata": {},
     "output_type": "execute_result"
    }
   ],
   "source": [
    "function foo1()\n",
    "    A = zeros(3, 3)\n",
    "    @views for row in 1:3\n",
    "        b = A[row, :]\n",
    "        b[:] .= row\n",
    "    end\n",
    "end\n",
    "\n",
    "function foo2()\n",
    "    A = zeros(3, 3)\n",
    "    for row in 1:3\n",
    "        b = A[row, :]\n",
    "        b[:] .= row\n",
    "    end\n",
    "end"
   ]
  },
  {
   "cell_type": "code",
   "execution_count": 35,
   "metadata": {},
   "outputs": [
    {
     "data": {
      "text/plain": [
       "BenchmarkTools.Trial: \n",
       "  memory estimate:  160 bytes\n",
       "  allocs estimate:  1\n",
       "  --------------\n",
       "  minimum time:     41.986 ns (0.00% GC)\n",
       "  median time:      46.955 ns (0.00% GC)\n",
       "  mean time:        62.158 ns (23.61% GC)\n",
       "  maximum time:     2.320 μs (97.84% GC)\n",
       "  --------------\n",
       "  samples:          10000\n",
       "  evals/sample:     991"
      ]
     },
     "execution_count": 35,
     "metadata": {},
     "output_type": "execute_result"
    }
   ],
   "source": [
    "@benchmark foo1()"
   ]
  },
  {
   "cell_type": "code",
   "execution_count": 36,
   "metadata": {},
   "outputs": [
    {
     "data": {
      "text/plain": [
       "BenchmarkTools.Trial: \n",
       "  memory estimate:  496 bytes\n",
       "  allocs estimate:  4\n",
       "  --------------\n",
       "  minimum time:     137.196 ns (0.00% GC)\n",
       "  median time:      146.019 ns (0.00% GC)\n",
       "  mean time:        238.946 ns (35.30% GC)\n",
       "  maximum time:     5.736 μs (97.17% GC)\n",
       "  --------------\n",
       "  samples:          10000\n",
       "  evals/sample:     873"
      ]
     },
     "execution_count": 36,
     "metadata": {},
     "output_type": "execute_result"
    }
   ],
   "source": [
    "@benchmark foo2()"
   ]
  },
  {
   "cell_type": "markdown",
   "metadata": {},
   "source": [
    "### BLAS e LAPACK\n",
    "\n",
    "**Nota:** Essa subseção é mais de curiosidade.\n",
    "\n",
    "- [BLAS](https://www.netlib.org/blas/) significa *Basic Linear Algebra Subprograms* e é um conjunto de rotinas em FORTRAN que providenciam os blocos fundamentais para operações com vetores e matrizes. \n",
    "\n",
    "- [LAPACK](http://performance.netlib.org/lapack/) significa *Linear Algebra PACKage* e providencia rotinas em FORTRAN para resolver sistemas de equações lineares, soluções de quadrado-mínimos de sistemas lineares, problemas de autovalores e valor singular.\n",
    "\n",
    "Qualquer computação de alto desempenho depende deles e os usa atrás das cortinas (inclusive Julia, MATLAB, NumPy, etc). Os nomes das rotinas e seus argumentos são arcanos, e.g. `ZGEMM` para fazer multiplicação de matrizes complexas com precisão dupla. É necessário completar uma *side quest* e gastar dois pontos em liguística para entendê-los, porém vale o esforço quando se tem código cuja performance é realmente crítica (código que demora dias para executar).\n",
    "\n",
    "É possível acessar essas rotinas do BLAS e LAPACK diretamente do Julia através de uma interface providenciada pelo `LinearAlgebra`. Exemplo:\n",
    "\n",
    "```julia\n",
    "using LinearAlgebra\n",
    "BLAS.gemm(tA, tB, alpha, A, B)\n",
    "LAPACK.gesv!(A, B)\n",
    "```\n",
    "\n",
    "Além disso, para casos críticos de desempenho, vale a pena aprender a compilar versões otimizadas (para uma máquina particular) do BLAS e LAPACK e vinculá-las ao Julia (ou qualquer outra biblioteca ou executável que depende deles). Isto, provavelmente, necessitará compilar tudo a partir do código fonte; o quê faz Linux mais atrativo para computação de alta performance.\n",
    "\n",
    "Para quem quiser saber mais, dê uma olhada em: [OpenBLAS](https://www.openblas.net/), [IntelMKL](https://software.intel.com/en-us/articles/julia-with-intel-mkl-for-improved-performance), [ATLAS](http://math-atlas.sourceforge.net/). Qual destes é o melhor é impossível responder, pois depende da arquitetura da máquina sendo usada. Na minha experiência, o IntelMKL é a melhor opção para computadores que tem processadores Intel."
   ]
  },
  {
   "cell_type": "markdown",
   "metadata": {},
   "source": [
    "## Cálculo numérico\n",
    "\n",
    "Às vezes é necessário recorrer ao cálculo numérico para realizar integração e diferenciação de funções, seja porque fórmula fechada para elas não existe, ou porque elas são argumento para uma rotina qualquer. Existem alguns pacotes para tal:\n",
    "\n",
    "- [**Calculus**](https://github.com/JuliaMath/Calculus.jl): operações básicas de cálculo.\n",
    "- [**QuadGK**](https://github.com/JuliaMath/QuadGK.jl): integração numérica unidimensional utilizando quadratura de Gauss-Kronrod adaptativa.\n",
    "- [**ForwardDiff**](https://github.com/JuliaDiff/ForwardDiff.jl): métodos para calcular derivadas, gradientes, Jacobianos, Hessianos e derivadas de ordem elevada de funções Julia nativas (ou qualquer objeto chamável) utilizando *forward mode automatic differentiation* (diferenciação automática do modo de avanço).\n",
    "- [**HCubature**](https://github.com/stevengj/HCubature.jl): integração numerica multidimensiona \"h-adaptativa\".\n",
    "\n",
    "### Integração numérica\n",
    "\n",
    "Utilizaremos o `HCubature` para realizar integração numérica. A utilização involve a função\n",
    "\n",
    "```julia\n",
    "integral, erro = hcubature(f, a, b; norm=norm, rtol=sqrt(eps), atol=0, maxevals=typemax(Int), initdiv=1)\n",
    "```\n",
    "\n",
    "Ela computa a integral $n$-dimensional de $f(x)$, onde `n == length(a) == length(b)`, sobre o hipercube cujos vértices são os vetores `a` e `b`. Isto é, a dimensão `x[i]` é integrada de `a[i]` até `b[i]`. Esta função retorna o valor computado da integral e a norma do erro estimado. Os argumentos opicionais dela são:\n",
    "\n",
    "- `norm`: a função que computa a norma do erro\n",
    "- `rtol`: o erro relativo requerido\n",
    "- `atol`: o erro absoluto requerido\n",
    "- `maxeval`: número máximo de avaliações de ${f(x)}$\n",
    "- `initdiv`: número inicial de intervalos de cada dimensão\n",
    "\n",
    "**Nota:** É importante que $f(x)$ seja capaz de realizar operações vetorizadas sobre seu argumento e que os limites sejam numeros de ponto flutuante!"
   ]
  },
  {
   "cell_type": "markdown",
   "metadata": {},
   "source": [
    "Vamos supor que queremos integrar a função $f(\\mathbf{x}) \\,|\\, \\mathbb{R}^2 \\to \\mathbb{R}^3$\n",
    "\n",
    "$$\n",
    "f(\\mathbf{x}, \\alpha, \\beta) =\n",
    "\\frac{\\exp({-x_1^2 - x_2})}{\\alpha} \\,\\hat a_1 +\n",
    "\\frac{\\exp({-x_1 + \\beta x_2})}{\\alpha\\beta} \\,\\hat a_2 +\n",
    "\\frac{\\exp({-x_1^2 - x_2^\\beta})}{\\beta} \\,\\hat a_3\n",
    "$$\n",
    "\n",
    "Onde $\\alpha$ e $\\beta$ são parâmetros ajustáveis."
   ]
  },
  {
   "cell_type": "code",
   "execution_count": 37,
   "metadata": {},
   "outputs": [
    {
     "data": {
      "text/plain": [
       "foo (generic function with 4 methods)"
      ]
     },
     "execution_count": 37,
     "metadata": {},
     "output_type": "execute_result"
    }
   ],
   "source": [
    "using HCubature\n",
    "\n",
    "function foo(x, a, b)\n",
    "    return [exp(-x[1]^2 - x[2])/a, exp(-x[1] - b*x[2])/(a*b), exp(-x[1]^2 - x[2]^b)/b]\n",
    "end"
   ]
  },
  {
   "cell_type": "code",
   "execution_count": 38,
   "metadata": {},
   "outputs": [],
   "source": [
    "n = 50\n",
    "x1 = x2 = range(0, 1, length=n)\n",
    "y = Array{Float64}(undef, 3, n)\n",
    "for i = 1:n\n",
    "    x = [x1[i], x2[i]]\n",
    "    y[:, i] = foo(x, 1.1, 0.8)\n",
    "end"
   ]
  },
  {
   "cell_type": "code",
   "execution_count": 39,
   "metadata": {},
   "outputs": [
    {
     "data": {
      "image/svg+xml": [
       "<?xml version=\"1.0\" encoding=\"utf-8\"?>\n",
       "<svg xmlns=\"http://www.w3.org/2000/svg\" xmlns:xlink=\"http://www.w3.org/1999/xlink\" width=\"600\" height=\"400\" viewBox=\"0 0 2400 1600\">\n",
       "<defs>\n",
       "  <clipPath id=\"clip1900\">\n",
       "    <rect x=\"0\" y=\"0\" width=\"2400\" height=\"1600\"/>\n",
       "  </clipPath>\n",
       "</defs>\n",
       "<path clip-path=\"url(#clip1900)\" d=\"\n",
       "M0 1600 L2400 1600 L2400 0 L0 0  Z\n",
       "  \" fill=\"#ffffff\" fill-rule=\"evenodd\" fill-opacity=\"1\"/>\n",
       "<defs>\n",
       "  <clipPath id=\"clip1901\">\n",
       "    <rect x=\"480\" y=\"0\" width=\"1681\" height=\"1600\"/>\n",
       "  </clipPath>\n",
       "</defs>\n",
       "<path clip-path=\"url(#clip1900)\" d=\"\n",
       "M546.593 1487.47 L1986.82 1487.47 L1986.82 47.2441 L546.593 47.2441  Z\n",
       "  \" fill=\"#ffffff\" fill-rule=\"evenodd\" fill-opacity=\"1\"/>\n",
       "<defs>\n",
       "  <clipPath id=\"clip1902\">\n",
       "    <rect x=\"546\" y=\"47\" width=\"1441\" height=\"1441\"/>\n",
       "  </clipPath>\n",
       "</defs>\n",
       "<polyline clip-path=\"url(#clip1900)\" style=\"stroke:#cccccc; stroke-width:2; stroke-opacity:0.1; fill:none\" points=\"\n",
       "  572.434,1404.8 1099.6,1149.57 \n",
       "  \"/>\n",
       "<polyline clip-path=\"url(#clip1900)\" style=\"stroke:#cccccc; stroke-width:2; stroke-opacity:0.1; fill:none\" points=\"\n",
       "  1099.6,1149.57 1099.6,49.652 \n",
       "  \"/>\n",
       "<polyline clip-path=\"url(#clip1900)\" style=\"stroke:#ededed; stroke-width:2; stroke-opacity:0.1; fill:none\" points=\"\n",
       "  787.781,1424.87 1314.94,1169.63 \n",
       "  \"/>\n",
       "<polyline clip-path=\"url(#clip1900)\" style=\"stroke:#ededed; stroke-width:2; stroke-opacity:0.1; fill:none\" points=\"\n",
       "  1314.94,1169.63 1314.94,69.7177 \n",
       "  \"/>\n",
       "<polyline clip-path=\"url(#clip1900)\" style=\"stroke:#cccccc; stroke-width:2; stroke-opacity:0.1; fill:none\" points=\"\n",
       "  1003.13,1444.94 1530.29,1189.7 \n",
       "  \"/>\n",
       "<polyline clip-path=\"url(#clip1900)\" style=\"stroke:#cccccc; stroke-width:2; stroke-opacity:0.1; fill:none\" points=\"\n",
       "  1530.29,1189.7 1530.29,89.7835 \n",
       "  \"/>\n",
       "<polyline clip-path=\"url(#clip1900)\" style=\"stroke:#ededed; stroke-width:2; stroke-opacity:0.1; fill:none\" points=\"\n",
       "  1218.47,1465 1745.64,1209.76 \n",
       "  \"/>\n",
       "<polyline clip-path=\"url(#clip1900)\" style=\"stroke:#ededed; stroke-width:2; stroke-opacity:0.1; fill:none\" points=\"\n",
       "  1745.64,1209.76 1745.64,109.849 \n",
       "  \"/>\n",
       "<polyline clip-path=\"url(#clip1900)\" style=\"stroke:#cccccc; stroke-width:2; stroke-opacity:0.1; fill:none\" points=\"\n",
       "  1433.82,1485.07 1960.98,1229.83 \n",
       "  \"/>\n",
       "<polyline clip-path=\"url(#clip1900)\" style=\"stroke:#cccccc; stroke-width:2; stroke-opacity:0.1; fill:none\" points=\"\n",
       "  1960.98,1229.83 1960.98,129.915 \n",
       "  \"/>\n",
       "<polyline clip-path=\"url(#clip1900)\" style=\"stroke:#cccccc; stroke-width:2; stroke-opacity:0.1; fill:none\" points=\"\n",
       "  561.512,1395.17 1474.58,1480.25 \n",
       "  \"/>\n",
       "<polyline clip-path=\"url(#clip1900)\" style=\"stroke:#cccccc; stroke-width:2; stroke-opacity:0.1; fill:none\" points=\"\n",
       "  561.512,1395.17 561.512,295.257 \n",
       "  \"/>\n",
       "<polyline clip-path=\"url(#clip1900)\" style=\"stroke:#ededed; stroke-width:2; stroke-opacity:0.1; fill:none\" points=\"\n",
       "  685.843,1334.98 1598.91,1420.05 \n",
       "  \"/>\n",
       "<polyline clip-path=\"url(#clip1900)\" style=\"stroke:#ededed; stroke-width:2; stroke-opacity:0.1; fill:none\" points=\"\n",
       "  685.843,1334.98 685.843,235.059 \n",
       "  \"/>\n",
       "<polyline clip-path=\"url(#clip1900)\" style=\"stroke:#cccccc; stroke-width:2; stroke-opacity:0.1; fill:none\" points=\"\n",
       "  810.173,1274.78 1723.24,1359.86 \n",
       "  \"/>\n",
       "<polyline clip-path=\"url(#clip1900)\" style=\"stroke:#cccccc; stroke-width:2; stroke-opacity:0.1; fill:none\" points=\"\n",
       "  810.173,1274.78 810.173,174.862 \n",
       "  \"/>\n",
       "<polyline clip-path=\"url(#clip1900)\" style=\"stroke:#ededed; stroke-width:2; stroke-opacity:0.1; fill:none\" points=\"\n",
       "  934.504,1214.58 1847.57,1299.66 \n",
       "  \"/>\n",
       "<polyline clip-path=\"url(#clip1900)\" style=\"stroke:#ededed; stroke-width:2; stroke-opacity:0.1; fill:none\" points=\"\n",
       "  934.504,1214.58 934.504,114.665 \n",
       "  \"/>\n",
       "<polyline clip-path=\"url(#clip1900)\" style=\"stroke:#cccccc; stroke-width:2; stroke-opacity:0.1; fill:none\" points=\"\n",
       "  1058.83,1154.38 1971.9,1239.46 \n",
       "  \"/>\n",
       "<polyline clip-path=\"url(#clip1900)\" style=\"stroke:#cccccc; stroke-width:2; stroke-opacity:0.1; fill:none\" points=\"\n",
       "  1058.83,1154.38 1058.83,54.4678 \n",
       "  \"/>\n",
       "<polyline clip-path=\"url(#clip1900)\" style=\"stroke:#ededed; stroke-width:2; stroke-opacity:0.1; fill:none\" points=\"\n",
       "  546.593,1219.08 1073.75,963.84 \n",
       "  \"/>\n",
       "<polyline clip-path=\"url(#clip1900)\" style=\"stroke:#ededed; stroke-width:2; stroke-opacity:0.1; fill:none\" points=\"\n",
       "  1073.75,963.84 1986.82,1048.92 \n",
       "  \"/>\n",
       "<polyline clip-path=\"url(#clip1900)\" style=\"stroke:#cccccc; stroke-width:2; stroke-opacity:0.1; fill:none\" points=\"\n",
       "  546.593,1035.76 1073.75,780.521 \n",
       "  \"/>\n",
       "<polyline clip-path=\"url(#clip1900)\" style=\"stroke:#cccccc; stroke-width:2; stroke-opacity:0.1; fill:none\" points=\"\n",
       "  1073.75,780.521 1986.82,865.6 \n",
       "  \"/>\n",
       "<polyline clip-path=\"url(#clip1900)\" style=\"stroke:#ededed; stroke-width:2; stroke-opacity:0.1; fill:none\" points=\"\n",
       "  546.593,852.438 1073.75,597.202 \n",
       "  \"/>\n",
       "<polyline clip-path=\"url(#clip1900)\" style=\"stroke:#ededed; stroke-width:2; stroke-opacity:0.1; fill:none\" points=\"\n",
       "  1073.75,597.202 1986.82,682.281 \n",
       "  \"/>\n",
       "<polyline clip-path=\"url(#clip1900)\" style=\"stroke:#cccccc; stroke-width:2; stroke-opacity:0.1; fill:none\" points=\"\n",
       "  546.593,669.119 1073.75,413.883 \n",
       "  \"/>\n",
       "<polyline clip-path=\"url(#clip1900)\" style=\"stroke:#cccccc; stroke-width:2; stroke-opacity:0.1; fill:none\" points=\"\n",
       "  1073.75,413.883 1986.82,498.961 \n",
       "  \"/>\n",
       "<polyline clip-path=\"url(#clip1900)\" style=\"stroke:#ededed; stroke-width:2; stroke-opacity:0.1; fill:none\" points=\"\n",
       "  546.593,485.8 1073.75,230.563 \n",
       "  \"/>\n",
       "<polyline clip-path=\"url(#clip1900)\" style=\"stroke:#ededed; stroke-width:2; stroke-opacity:0.1; fill:none\" points=\"\n",
       "  1073.75,230.563 1986.82,315.642 \n",
       "  \"/>\n",
       "<polyline clip-path=\"url(#clip1900)\" style=\"stroke:#cccccc; stroke-width:2; stroke-opacity:0.1; fill:none\" points=\"\n",
       "  546.593,302.48 1073.75,47.2441 \n",
       "  \"/>\n",
       "<polyline clip-path=\"url(#clip1900)\" style=\"stroke:#cccccc; stroke-width:2; stroke-opacity:0.1; fill:none\" points=\"\n",
       "  1073.75,47.2441 1986.82,132.323 \n",
       "  \"/>\n",
       "<polyline clip-path=\"url(#clip1900)\" style=\"stroke:#000000; stroke-width:4; stroke-opacity:1; fill:none\" points=\"\n",
       "  482.066,1047.61 478.067,1051.19 475.4,1057.42 474.067,1066.29 474.067,1071.23 475.4,1078.81 478.067,1082.46 482.066,1082.17 484.733,1080.88 488.732,1077.29 \n",
       "  491.399,1071.07 492.732,1062.19 492.732,1057.25 491.399,1049.67 488.732,1046.02 484.733,1046.32 482.066,1047.61 \n",
       "  \"/>\n",
       "<polyline clip-path=\"url(#clip1900)\" style=\"stroke:#000000; stroke-width:4; stroke-opacity:1; fill:none\" points=\"\n",
       "  503.397,1068.55 502.064,1070.84 503.397,1071.84 504.73,1069.55 503.397,1068.55 \n",
       "  \"/>\n",
       "<polyline clip-path=\"url(#clip1900)\" style=\"stroke:#000000; stroke-width:4; stroke-opacity:1; fill:none\" points=\"\n",
       "  530.061,1024.37 516.729,1030.82 515.396,1046.28 516.729,1043.99 520.729,1040.41 524.728,1038.47 528.728,1038.18 531.394,1040.18 532.727,1044.47 532.727,1047.76 \n",
       "  531.394,1053.35 528.728,1057.93 524.728,1061.51 520.729,1063.45 516.729,1063.74 515.396,1062.74 514.063,1060.09 \n",
       "  \"/>\n",
       "<polyline clip-path=\"url(#clip1900)\" style=\"stroke:#000000; stroke-width:4; stroke-opacity:1; fill:none\" points=\"\n",
       "  478.067,689.487 480.733,686.551 484.733,679.677 484.733,714.237 \n",
       "  \"/>\n",
       "<polyline clip-path=\"url(#clip1900)\" style=\"stroke:#000000; stroke-width:4; stroke-opacity:1; fill:none\" points=\"\n",
       "  503.397,701.909 502.064,704.2 503.397,705.2 504.73,702.909 503.397,701.909 \n",
       "  \"/>\n",
       "<polyline clip-path=\"url(#clip1900)\" style=\"stroke:#000000; stroke-width:4; stroke-opacity:1; fill:none\" points=\"\n",
       "  522.062,661.603 518.062,665.185 515.396,671.414 514.063,680.288 514.063,685.225 515.396,692.808 518.062,696.454 522.062,696.163 524.728,694.872 528.728,691.29 \n",
       "  531.394,685.062 532.727,676.188 532.727,671.251 531.394,663.668 528.728,660.021 524.728,660.312 522.062,661.603 \n",
       "  \"/>\n",
       "<polyline clip-path=\"url(#clip1900)\" style=\"stroke:#000000; stroke-width:4; stroke-opacity:1; fill:none\" points=\"\n",
       "  478.067,322.849 480.733,319.912 484.733,313.038 484.733,347.598 \n",
       "  \"/>\n",
       "<polyline clip-path=\"url(#clip1900)\" style=\"stroke:#000000; stroke-width:4; stroke-opacity:1; fill:none\" points=\"\n",
       "  503.397,335.27 502.064,337.561 503.397,338.562 504.73,336.27 503.397,335.27 \n",
       "  \"/>\n",
       "<polyline clip-path=\"url(#clip1900)\" style=\"stroke:#000000; stroke-width:4; stroke-opacity:1; fill:none\" points=\"\n",
       "  530.061,291.092 516.729,297.547 515.396,313.004 516.729,310.712 520.729,307.13 524.728,305.194 528.728,304.903 531.394,306.903 532.727,311.195 532.727,314.486 \n",
       "  531.394,320.069 528.728,324.652 524.728,328.234 520.729,330.17 516.729,330.461 515.396,329.461 514.063,326.815 \n",
       "  \"/>\n",
       "<polyline clip-path=\"url(#clip1900)\" style=\"stroke:#000000; stroke-width:4; stroke-opacity:1; fill:none\" points=\"\n",
       "  546.593,1402.4 546.593,1402.4 536.05,1407.5 546.593,1402.4 546.593,1219.08 541.321,1221.63 546.593,1219.08 546.593,1035.76 536.05,1040.86 546.593,1035.76 \n",
       "  546.593,852.438 541.321,854.991 546.593,852.438 546.593,669.119 536.05,674.224 546.593,669.119 546.593,485.8 541.321,488.352 546.593,485.8 546.593,302.48 \n",
       "  536.05,307.585 546.593,302.48 \n",
       "  \"/>\n",
       "<polyline clip-path=\"url(#clip1900)\" style=\"stroke:#000000; stroke-width:4; stroke-opacity:1; fill:none\" points=\"\n",
       "  551.012,1420.42 546.117,1421.61 542.854,1426.24 541.223,1434.32 541.223,1439.25 542.854,1447.64 546.117,1452.88 551.012,1454.98 554.275,1455.28 559.17,1454.09 \n",
       "  562.433,1449.46 564.064,1441.38 564.064,1436.45 562.433,1428.07 559.17,1422.82 554.275,1420.72 551.012,1420.42 \n",
       "  \"/>\n",
       "<polyline clip-path=\"url(#clip1900)\" style=\"stroke:#000000; stroke-width:4; stroke-opacity:1; fill:none\" points=\"\n",
       "  957.232,1458.27 952.337,1459.46 949.074,1464.09 947.443,1472.17 947.443,1477.11 949.074,1485.49 952.337,1490.73 957.232,1492.83 960.495,1493.13 965.39,1491.94 \n",
       "  968.653,1487.31 970.284,1479.23 970.284,1474.3 968.653,1465.92 965.39,1460.68 960.495,1458.57 957.232,1458.27 \n",
       "  \"/>\n",
       "<polyline clip-path=\"url(#clip1900)\" style=\"stroke:#000000; stroke-width:4; stroke-opacity:1; fill:none\" points=\"\n",
       "  983.337,1491.97 981.705,1493.46 983.337,1495.26 984.968,1493.77 983.337,1491.97 \n",
       "  \"/>\n",
       "<polyline clip-path=\"url(#clip1900)\" style=\"stroke:#000000; stroke-width:4; stroke-opacity:1; fill:none\" points=\"\n",
       "  1015.97,1463.74 999.652,1462.22 998.021,1476.88 999.652,1475.39 1004.55,1474.2 1009.44,1474.65 1014.34,1476.76 1017.6,1480.35 1019.23,1485.44 1019.23,1488.73 \n",
       "  1017.6,1493.52 1014.34,1496.5 1009.44,1497.69 1004.55,1497.24 999.652,1495.14 998.021,1493.34 996.389,1489.9 \n",
       "  \"/>\n",
       "<polyline clip-path=\"url(#clip1900)\" style=\"stroke:#000000; stroke-width:4; stroke-opacity:1; fill:none\" points=\"\n",
       "  1383.03,1504.53 1386.29,1503.19 1391.19,1498.71 1391.19,1533.27 \n",
       "  \"/>\n",
       "<polyline clip-path=\"url(#clip1900)\" style=\"stroke:#000000; stroke-width:4; stroke-opacity:1; fill:none\" points=\"\n",
       "  1414.03,1532.1 1412.4,1533.6 1414.03,1535.39 1415.66,1533.9 1414.03,1532.1 \n",
       "  \"/>\n",
       "<polyline clip-path=\"url(#clip1900)\" style=\"stroke:#000000; stroke-width:4; stroke-opacity:1; fill:none\" points=\"\n",
       "  1436.87,1502.96 1431.98,1504.15 1428.71,1508.78 1427.08,1516.86 1427.08,1521.8 1428.71,1530.18 1431.98,1535.42 1436.87,1537.52 1440.13,1537.83 1445.03,1536.64 \n",
       "  1448.29,1532 1449.92,1523.93 1449.92,1518.99 1448.29,1510.61 1445.03,1505.37 1440.13,1503.27 1436.87,1502.96 \n",
       "  \"/>\n",
       "<polyline clip-path=\"url(#clip1900)\" style=\"stroke:#000000; stroke-width:4; stroke-opacity:1; fill:none\" points=\"\n",
       "  546.593,1402.4 572.434,1404.8 561.891,1409.91 572.434,1404.8 787.781,1424.87 782.509,1427.42 787.781,1424.87 1003.13,1444.94 992.584,1450.04 1003.13,1444.94 \n",
       "  1218.47,1465 1213.2,1467.55 1218.47,1465 1433.82,1485.07 1423.28,1490.17 1433.82,1485.07 1459.66,1487.47 \n",
       "  \"/>\n",
       "<polyline clip-path=\"url(#clip1900)\" style=\"stroke:#000000; stroke-width:4; stroke-opacity:1; fill:none\" points=\"\n",
       "  1519.32,1487.46 1515.32,1491.04 1512.65,1497.27 1511.32,1506.14 1511.32,1511.08 1512.65,1518.66 1515.32,1522.31 1519.32,1522.02 1521.98,1520.73 1525.98,1517.15 \n",
       "  1528.65,1510.92 1529.98,1502.04 1529.98,1497.11 1528.65,1489.52 1525.98,1485.88 1521.98,1486.17 1519.32,1487.46 \n",
       "  \"/>\n",
       "<polyline clip-path=\"url(#clip1900)\" style=\"stroke:#000000; stroke-width:4; stroke-opacity:1; fill:none\" points=\"\n",
       "  1747.98,1376.75 1743.98,1380.33 1741.31,1386.56 1739.98,1395.43 1739.98,1400.37 1741.31,1407.95 1743.98,1411.6 1747.98,1411.31 1750.65,1410.02 1754.65,1406.43 \n",
       "  1757.31,1400.21 1758.64,1391.33 1758.64,1386.4 1757.31,1378.81 1754.65,1375.17 1750.65,1375.46 1747.98,1376.75 \n",
       "  \"/>\n",
       "<polyline clip-path=\"url(#clip1900)\" style=\"stroke:#000000; stroke-width:4; stroke-opacity:1; fill:none\" points=\"\n",
       "  1769.31,1397.69 1767.98,1399.98 1769.31,1400.98 1770.64,1398.69 1769.31,1397.69 \n",
       "  \"/>\n",
       "<polyline clip-path=\"url(#clip1900)\" style=\"stroke:#000000; stroke-width:4; stroke-opacity:1; fill:none\" points=\"\n",
       "  1795.97,1353.51 1782.64,1359.97 1781.31,1375.42 1782.64,1373.13 1786.64,1369.55 1790.64,1367.61 1794.64,1367.32 1797.31,1369.32 1798.64,1373.61 1798.64,1376.91 \n",
       "  1797.31,1382.49 1794.64,1387.07 1790.64,1390.65 1786.64,1392.59 1782.64,1392.88 1781.31,1391.88 1779.98,1389.23 \n",
       "  \"/>\n",
       "<polyline clip-path=\"url(#clip1900)\" style=\"stroke:#000000; stroke-width:4; stroke-opacity:1; fill:none\" points=\"\n",
       "  1992.64,1264.87 1995.31,1261.94 1999.31,1255.06 1999.31,1289.62 \n",
       "  \"/>\n",
       "<polyline clip-path=\"url(#clip1900)\" style=\"stroke:#000000; stroke-width:4; stroke-opacity:1; fill:none\" points=\"\n",
       "  2017.97,1277.29 2016.64,1279.59 2017.97,1280.59 2019.3,1278.29 2017.97,1277.29 \n",
       "  \"/>\n",
       "<polyline clip-path=\"url(#clip1900)\" style=\"stroke:#000000; stroke-width:4; stroke-opacity:1; fill:none\" points=\"\n",
       "  2036.64,1236.99 2032.64,1240.57 2029.97,1246.8 2028.64,1255.67 2028.64,1260.61 2029.97,1268.19 2032.64,1271.84 2036.64,1271.55 2039.3,1270.26 2043.3,1266.68 \n",
       "  2045.97,1260.45 2047.3,1251.57 2047.3,1246.64 2045.97,1239.05 2043.3,1235.41 2039.3,1235.7 2036.64,1236.99 \n",
       "  \"/>\n",
       "<polyline clip-path=\"url(#clip1900)\" style=\"stroke:#000000; stroke-width:4; stroke-opacity:1; fill:none\" points=\"\n",
       "  1459.66,1487.47 1474.58,1480.25 1492.84,1481.95 1474.58,1480.25 1598.91,1420.05 1608.04,1420.9 1598.91,1420.05 1723.24,1359.86 1741.5,1361.56 1723.24,1359.86 \n",
       "  1847.57,1299.66 1856.7,1300.51 1847.57,1299.66 1971.9,1239.46 1990.17,1241.16 1971.9,1239.46 1986.82,1232.24 \n",
       "  \"/>\n",
       "<polyline clip-path=\"url(#clip1902)\" style=\"stroke:#009af9; stroke-width:4; stroke-opacity:1; fill:none\" points=\"\n",
       "  587.354,730.965 615.083,741.427 642.812,752.139 670.54,763.071 698.269,774.197 725.998,785.486 753.726,796.912 781.455,808.447 809.184,820.064 836.913,831.737 \n",
       "  864.641,843.438 892.37,855.143 920.099,866.827 947.828,878.467 975.556,890.038 1003.29,901.519 1031.01,912.889 1058.74,924.127 1086.47,935.214 1114.2,946.131 \n",
       "  1141.93,956.862 1169.66,967.389 1197.39,977.699 1225.12,987.777 1252.84,997.61 1280.57,1007.19 1308.3,1016.49 1336.03,1025.53 1363.76,1034.27 1391.49,1042.72 \n",
       "  1419.22,1050.88 1446.94,1058.73 1474.67,1066.27 1502.4,1073.49 1530.13,1080.4 1557.86,1087 1585.59,1093.27 1613.32,1099.23 1641.05,1104.87 1668.77,1110.19 \n",
       "  1696.5,1115.2 1724.23,1119.9 1751.96,1124.3 1779.69,1128.39 1807.42,1132.18 1835.15,1135.67 1862.88,1138.88 1890.6,1141.81 1918.33,1144.46 1946.06,1146.84 \n",
       "  \n",
       "  \"/>\n",
       "<polyline clip-path=\"url(#clip1902)\" style=\"stroke:#e26f46; stroke-width:4; stroke-opacity:1; fill:none\" points=\"\n",
       "  587.354,564.311 615.083,591.089 642.812,616.784 670.54,641.433 698.269,665.076 725.998,687.747 753.726,709.482 781.455,730.316 809.184,750.28 836.913,769.405 \n",
       "  864.641,787.723 892.37,805.262 920.099,822.05 947.828,838.114 975.556,853.481 1003.29,868.175 1031.01,882.221 1058.74,895.643 1086.47,908.462 1114.2,920.701 \n",
       "  1141.93,932.38 1169.66,943.519 1197.39,954.139 1225.12,964.258 1252.84,973.893 1280.57,983.063 1308.3,991.784 1336.03,1000.07 1363.76,1007.94 1391.49,1015.41 \n",
       "  1419.22,1022.49 1446.94,1029.2 1474.67,1035.55 1502.4,1041.55 1530.13,1047.22 1557.86,1052.56 1585.59,1057.59 1613.32,1062.32 1641.05,1066.77 1668.77,1070.93 \n",
       "  1696.5,1074.83 1724.23,1078.47 1751.96,1081.86 1779.69,1085.01 1807.42,1087.92 1835.15,1090.62 1862.88,1093.1 1890.6,1095.37 1918.33,1097.44 1946.06,1099.32 \n",
       "  \n",
       "  \"/>\n",
       "<polyline clip-path=\"url(#clip1902)\" style=\"stroke:#3da44d; stroke-width:4; stroke-opacity:1; fill:none\" points=\"\n",
       "  587.354,480.984 615.083,517.921 642.812,544.101 670.54,567.28 698.269,588.742 725.998,609.047 753.726,628.497 781.455,647.279 809.184,665.511 836.913,683.274 \n",
       "  864.641,700.625 892.37,717.601 920.099,734.229 947.828,750.528 975.556,766.508 1003.29,782.176 1031.01,797.536 1058.74,812.589 1086.47,827.333 1114.2,841.765 \n",
       "  1141.93,855.881 1169.66,869.678 1197.39,883.149 1225.12,896.29 1252.84,909.096 1280.57,921.561 1308.3,933.68 1336.03,945.449 1363.76,956.864 1391.49,967.92 \n",
       "  1419.22,978.615 1446.94,988.946 1474.67,998.91 1502.4,1008.51 1530.13,1017.73 1557.86,1026.59 1585.59,1035.08 1613.32,1043.2 1641.05,1050.95 1668.77,1058.34 \n",
       "  1696.5,1065.37 1724.23,1072.04 1751.96,1078.35 1779.69,1084.31 1807.42,1089.93 1835.15,1095.2 1862.88,1100.14 1890.6,1104.75 1918.33,1109.04 1946.06,1113.01 \n",
       "  \n",
       "  \"/>\n",
       "<path clip-path=\"url(#clip1900)\" d=\"\n",
       "M1623.99 372.684 L1914.82 372.684 L1914.82 130.764 L1623.99 130.764  Z\n",
       "  \" fill=\"#ffffff\" fill-rule=\"evenodd\" fill-opacity=\"1\"/>\n",
       "<polyline clip-path=\"url(#clip1900)\" style=\"stroke:#000000; stroke-width:4; stroke-opacity:1; fill:none\" points=\"\n",
       "  1623.99,372.684 1914.82,372.684 1914.82,130.764 1623.99,130.764 1623.99,372.684 \n",
       "  \"/>\n",
       "<g clip-path=\"url(#clip1900)\">\n",
       "<text style=\"fill:#000000; fill-opacity:1; font-family:Arial,Helvetica Neue,Helvetica,sans-serif; font-size:48px; text-anchor:start;\" transform=\"rotate(0, 1815.99, 208.744)\" x=\"1815.99\" y=\"208.744\">y1</text>\n",
       "</g>\n",
       "<g clip-path=\"url(#clip1900)\">\n",
       "<text style=\"fill:#000000; fill-opacity:1; font-family:Arial,Helvetica Neue,Helvetica,sans-serif; font-size:48px; text-anchor:start;\" transform=\"rotate(0, 1815.99, 269.224)\" x=\"1815.99\" y=\"269.224\">y2</text>\n",
       "</g>\n",
       "<g clip-path=\"url(#clip1900)\">\n",
       "<text style=\"fill:#000000; fill-opacity:1; font-family:Arial,Helvetica Neue,Helvetica,sans-serif; font-size:48px; text-anchor:start;\" transform=\"rotate(0, 1815.99, 329.704)\" x=\"1815.99\" y=\"329.704\">y3</text>\n",
       "</g>\n",
       "</svg>\n"
      ]
     },
     "execution_count": 39,
     "metadata": {},
     "output_type": "execute_result"
    }
   ],
   "source": [
    "plot(x1, x2, y[1,:])\n",
    "plot!(x1, x2, y[2,:])\n",
    "plot!(x1, x2, y[3,:])"
   ]
  },
  {
   "cell_type": "markdown",
   "metadata": {},
   "source": [
    "Precisamos, primeiro, colocar nossa função na forma esperada por `hcubature`, que é `f(x)`."
   ]
  },
  {
   "cell_type": "code",
   "execution_count": 40,
   "metadata": {},
   "outputs": [
    {
     "name": "stdout",
     "output_type": "stream",
     "text": [
      "integral = [0.42916626198169877, 0.4944467087115467, 0.5565696972874351]\n",
      "erro = 1.2527131988722264e-8\n"
     ]
    }
   ],
   "source": [
    "g(x) = foo(x, 1.1, 0.8)\n",
    "a = [x1[1], x2[1]]  # limites inferiores\n",
    "b = [x1[end], x2[end]]  # limites superiores\n",
    "integral, erro = hcubature(g, a, b)  # vamos deixar todos os argumentos opcionais com valor padrão\n",
    "@show integral\n",
    "@show erro;"
   ]
  },
  {
   "cell_type": "markdown",
   "metadata": {},
   "source": [
    "Outro exemplo: vamos integrar\n",
    "\n",
    "$$ \\int_{0.1}^1 \\frac{e^x}{x}dx $$"
   ]
  },
  {
   "cell_type": "code",
   "execution_count": 41,
   "metadata": {},
   "outputs": [
    {
     "data": {
      "image/svg+xml": [
       "<?xml version=\"1.0\" encoding=\"utf-8\"?>\n",
       "<svg xmlns=\"http://www.w3.org/2000/svg\" xmlns:xlink=\"http://www.w3.org/1999/xlink\" width=\"600\" height=\"400\" viewBox=\"0 0 2400 1600\">\n",
       "<defs>\n",
       "  <clipPath id=\"clip2300\">\n",
       "    <rect x=\"0\" y=\"0\" width=\"2400\" height=\"1600\"/>\n",
       "  </clipPath>\n",
       "</defs>\n",
       "<path clip-path=\"url(#clip2300)\" d=\"\n",
       "M0 1600 L2400 1600 L2400 0 L0 0  Z\n",
       "  \" fill=\"#ffffff\" fill-rule=\"evenodd\" fill-opacity=\"1\"/>\n",
       "<defs>\n",
       "  <clipPath id=\"clip2301\">\n",
       "    <rect x=\"480\" y=\"0\" width=\"1681\" height=\"1600\"/>\n",
       "  </clipPath>\n",
       "</defs>\n",
       "<path clip-path=\"url(#clip2300)\" d=\"\n",
       "M140.517 1487.47 L2352.76 1487.47 L2352.76 47.2441 L140.517 47.2441  Z\n",
       "  \" fill=\"#ffffff\" fill-rule=\"evenodd\" fill-opacity=\"1\"/>\n",
       "<defs>\n",
       "  <clipPath id=\"clip2302\">\n",
       "    <rect x=\"140\" y=\"47\" width=\"2213\" height=\"1441\"/>\n",
       "  </clipPath>\n",
       "</defs>\n",
       "<polyline clip-path=\"url(#clip2302)\" style=\"stroke:#000000; stroke-width:2; stroke-opacity:0.1; fill:none\" points=\"\n",
       "  435.018,1487.47 435.018,47.2441 \n",
       "  \"/>\n",
       "<polyline clip-path=\"url(#clip2302)\" style=\"stroke:#000000; stroke-width:2; stroke-opacity:0.1; fill:none\" points=\"\n",
       "  898.8,1487.47 898.8,47.2441 \n",
       "  \"/>\n",
       "<polyline clip-path=\"url(#clip2302)\" style=\"stroke:#000000; stroke-width:2; stroke-opacity:0.1; fill:none\" points=\"\n",
       "  1362.58,1487.47 1362.58,47.2441 \n",
       "  \"/>\n",
       "<polyline clip-path=\"url(#clip2302)\" style=\"stroke:#000000; stroke-width:2; stroke-opacity:0.1; fill:none\" points=\"\n",
       "  1826.36,1487.47 1826.36,47.2441 \n",
       "  \"/>\n",
       "<polyline clip-path=\"url(#clip2302)\" style=\"stroke:#000000; stroke-width:2; stroke-opacity:0.1; fill:none\" points=\"\n",
       "  2290.15,1487.47 2290.15,47.2441 \n",
       "  \"/>\n",
       "<polyline clip-path=\"url(#clip2302)\" style=\"stroke:#000000; stroke-width:2; stroke-opacity:0.1; fill:none\" points=\"\n",
       "  140.517,1237.74 2352.76,1237.74 \n",
       "  \"/>\n",
       "<polyline clip-path=\"url(#clip2302)\" style=\"stroke:#000000; stroke-width:2; stroke-opacity:0.1; fill:none\" points=\"\n",
       "  140.517,911.652 2352.76,911.652 \n",
       "  \"/>\n",
       "<polyline clip-path=\"url(#clip2302)\" style=\"stroke:#000000; stroke-width:2; stroke-opacity:0.1; fill:none\" points=\"\n",
       "  140.517,585.566 2352.76,585.566 \n",
       "  \"/>\n",
       "<polyline clip-path=\"url(#clip2302)\" style=\"stroke:#000000; stroke-width:2; stroke-opacity:0.1; fill:none\" points=\"\n",
       "  140.517,259.479 2352.76,259.479 \n",
       "  \"/>\n",
       "<polyline clip-path=\"url(#clip2300)\" style=\"stroke:#000000; stroke-width:4; stroke-opacity:1; fill:none\" points=\"\n",
       "  140.517,1487.47 2352.76,1487.47 \n",
       "  \"/>\n",
       "<polyline clip-path=\"url(#clip2300)\" style=\"stroke:#000000; stroke-width:4; stroke-opacity:1; fill:none\" points=\"\n",
       "  140.517,1487.47 140.517,47.2441 \n",
       "  \"/>\n",
       "<polyline clip-path=\"url(#clip2300)\" style=\"stroke:#000000; stroke-width:4; stroke-opacity:1; fill:none\" points=\"\n",
       "  435.018,1487.47 435.018,1465.87 \n",
       "  \"/>\n",
       "<polyline clip-path=\"url(#clip2300)\" style=\"stroke:#000000; stroke-width:4; stroke-opacity:1; fill:none\" points=\"\n",
       "  898.8,1487.47 898.8,1465.87 \n",
       "  \"/>\n",
       "<polyline clip-path=\"url(#clip2300)\" style=\"stroke:#000000; stroke-width:4; stroke-opacity:1; fill:none\" points=\"\n",
       "  1362.58,1487.47 1362.58,1465.87 \n",
       "  \"/>\n",
       "<polyline clip-path=\"url(#clip2300)\" style=\"stroke:#000000; stroke-width:4; stroke-opacity:1; fill:none\" points=\"\n",
       "  1826.36,1487.47 1826.36,1465.87 \n",
       "  \"/>\n",
       "<polyline clip-path=\"url(#clip2300)\" style=\"stroke:#000000; stroke-width:4; stroke-opacity:1; fill:none\" points=\"\n",
       "  2290.15,1487.47 2290.15,1465.87 \n",
       "  \"/>\n",
       "<polyline clip-path=\"url(#clip2300)\" style=\"stroke:#000000; stroke-width:4; stroke-opacity:1; fill:none\" points=\"\n",
       "  140.517,1237.74 173.7,1237.74 \n",
       "  \"/>\n",
       "<polyline clip-path=\"url(#clip2300)\" style=\"stroke:#000000; stroke-width:4; stroke-opacity:1; fill:none\" points=\"\n",
       "  140.517,911.652 173.7,911.652 \n",
       "  \"/>\n",
       "<polyline clip-path=\"url(#clip2300)\" style=\"stroke:#000000; stroke-width:4; stroke-opacity:1; fill:none\" points=\"\n",
       "  140.517,585.566 173.7,585.566 \n",
       "  \"/>\n",
       "<polyline clip-path=\"url(#clip2300)\" style=\"stroke:#000000; stroke-width:4; stroke-opacity:1; fill:none\" points=\"\n",
       "  140.517,259.479 173.7,259.479 \n",
       "  \"/>\n",
       "<g clip-path=\"url(#clip2300)\">\n",
       "<text style=\"fill:#000000; fill-opacity:1; font-family:Arial,Helvetica Neue,Helvetica,sans-serif; font-size:48px; text-anchor:middle;\" transform=\"rotate(0, 435.018, 1541.47)\" x=\"435.018\" y=\"1541.47\">0.2</text>\n",
       "</g>\n",
       "<g clip-path=\"url(#clip2300)\">\n",
       "<text style=\"fill:#000000; fill-opacity:1; font-family:Arial,Helvetica Neue,Helvetica,sans-serif; font-size:48px; text-anchor:middle;\" transform=\"rotate(0, 898.8, 1541.47)\" x=\"898.8\" y=\"1541.47\">0.4</text>\n",
       "</g>\n",
       "<g clip-path=\"url(#clip2300)\">\n",
       "<text style=\"fill:#000000; fill-opacity:1; font-family:Arial,Helvetica Neue,Helvetica,sans-serif; font-size:48px; text-anchor:middle;\" transform=\"rotate(0, 1362.58, 1541.47)\" x=\"1362.58\" y=\"1541.47\">0.6</text>\n",
       "</g>\n",
       "<g clip-path=\"url(#clip2300)\">\n",
       "<text style=\"fill:#000000; fill-opacity:1; font-family:Arial,Helvetica Neue,Helvetica,sans-serif; font-size:48px; text-anchor:middle;\" transform=\"rotate(0, 1826.36, 1541.47)\" x=\"1826.36\" y=\"1541.47\">0.8</text>\n",
       "</g>\n",
       "<g clip-path=\"url(#clip2300)\">\n",
       "<text style=\"fill:#000000; fill-opacity:1; font-family:Arial,Helvetica Neue,Helvetica,sans-serif; font-size:48px; text-anchor:middle;\" transform=\"rotate(0, 2290.15, 1541.47)\" x=\"2290.15\" y=\"1541.47\">1.0</text>\n",
       "</g>\n",
       "<g clip-path=\"url(#clip2300)\">\n",
       "<text style=\"fill:#000000; fill-opacity:1; font-family:Arial,Helvetica Neue,Helvetica,sans-serif; font-size:48px; text-anchor:end;\" transform=\"rotate(0, 116.517, 1255.24)\" x=\"116.517\" y=\"1255.24\">4</text>\n",
       "</g>\n",
       "<g clip-path=\"url(#clip2300)\">\n",
       "<text style=\"fill:#000000; fill-opacity:1; font-family:Arial,Helvetica Neue,Helvetica,sans-serif; font-size:48px; text-anchor:end;\" transform=\"rotate(0, 116.517, 929.152)\" x=\"116.517\" y=\"929.152\">6</text>\n",
       "</g>\n",
       "<g clip-path=\"url(#clip2300)\">\n",
       "<text style=\"fill:#000000; fill-opacity:1; font-family:Arial,Helvetica Neue,Helvetica,sans-serif; font-size:48px; text-anchor:end;\" transform=\"rotate(0, 116.517, 603.066)\" x=\"116.517\" y=\"603.066\">8</text>\n",
       "</g>\n",
       "<g clip-path=\"url(#clip2300)\">\n",
       "<text style=\"fill:#000000; fill-opacity:1; font-family:Arial,Helvetica Neue,Helvetica,sans-serif; font-size:48px; text-anchor:end;\" transform=\"rotate(0, 116.517, 276.979)\" x=\"116.517\" y=\"276.979\">10</text>\n",
       "</g>\n",
       "<polyline clip-path=\"url(#clip2302)\" style=\"stroke:#009af9; stroke-width:4; stroke-opacity:1; fill:none\" points=\"\n",
       "  203.127,88.0053 226.316,235.352 249.506,357.989 272.695,461.617 295.884,550.309 319.073,627.05 342.262,694.08 365.451,753.112 388.64,805.477 411.829,852.227 \n",
       "  435.018,894.204 458.207,932.088 481.396,966.437 504.586,997.71 527.775,1026.29 550.964,1052.5 574.153,1076.62 597.342,1098.87 620.531,1119.46 643.72,1138.55 \n",
       "  666.909,1156.29 690.098,1172.82 713.287,1188.25 736.476,1202.67 759.665,1216.18 782.855,1228.86 806.044,1240.76 829.233,1251.96 852.422,1262.5 875.611,1272.45 \n",
       "  898.8,1281.83 921.989,1290.7 945.178,1299.09 968.367,1307.03 991.556,1314.55 1014.75,1321.68 1037.93,1328.45 1061.12,1334.87 1084.31,1340.97 1107.5,1346.77 \n",
       "  1130.69,1352.29 1153.88,1357.53 1177.07,1362.52 1200.26,1367.27 1223.45,1371.79 1246.64,1376.1 1269.83,1380.21 1293.01,1384.11 1316.2,1387.84 1339.39,1391.39 \n",
       "  1362.58,1394.77 1385.77,1397.99 1408.96,1401.06 1432.15,1403.99 1455.34,1406.77 1478.53,1409.42 1501.72,1411.95 1524.91,1414.35 1548.09,1416.64 1571.28,1418.81 \n",
       "  1594.47,1420.87 1617.66,1422.83 1640.85,1424.69 1664.04,1426.45 1687.23,1428.12 1710.42,1429.69 1733.61,1431.19 1756.8,1432.59 1779.99,1433.92 1803.17,1435.17 \n",
       "  1826.36,1436.34 1849.55,1437.43 1872.74,1438.46 1895.93,1439.42 1919.12,1440.31 1942.31,1441.13 1965.5,1441.89 1988.69,1442.59 2011.88,1443.23 2035.07,1443.81 \n",
       "  2058.25,1444.33 2081.44,1444.8 2104.63,1445.21 2127.82,1445.57 2151.01,1445.88 2174.2,1446.14 2197.39,1446.35 2220.58,1446.51 2243.77,1446.62 2266.96,1446.69 \n",
       "  2290.15,1446.71 \n",
       "  \"/>\n",
       "<path clip-path=\"url(#clip2300)\" d=\"\n",
       "M1989.93 251.724 L2280.76 251.724 L2280.76 130.764 L1989.93 130.764  Z\n",
       "  \" fill=\"#ffffff\" fill-rule=\"evenodd\" fill-opacity=\"1\"/>\n",
       "<polyline clip-path=\"url(#clip2300)\" style=\"stroke:#000000; stroke-width:4; stroke-opacity:1; fill:none\" points=\"\n",
       "  1989.93,251.724 2280.76,251.724 2280.76,130.764 1989.93,130.764 1989.93,251.724 \n",
       "  \"/>\n",
       "<polyline clip-path=\"url(#clip2300)\" style=\"stroke:#009af9; stroke-width:4; stroke-opacity:1; fill:none\" points=\"\n",
       "  2013.93,191.244 2157.93,191.244 \n",
       "  \"/>\n",
       "<g clip-path=\"url(#clip2300)\">\n",
       "<text style=\"fill:#000000; fill-opacity:1; font-family:Arial,Helvetica Neue,Helvetica,sans-serif; font-size:48px; text-anchor:start;\" transform=\"rotate(0, 2181.93, 208.744)\" x=\"2181.93\" y=\"208.744\">y1</text>\n",
       "</g>\n",
       "</svg>\n"
      ]
     },
     "execution_count": 41,
     "metadata": {},
     "output_type": "execute_result"
    }
   ],
   "source": [
    "g(x) = @. exp(x)/x\n",
    "plot(0.1:0.01:1, g)"
   ]
  },
  {
   "cell_type": "code",
   "execution_count": 42,
   "metadata": {},
   "outputs": [
    {
     "name": "stdout",
     "output_type": "stream",
     "text": [
      "integral = [3.51793063032522]\n",
      "erro = 4.326912383945114e-8\n"
     ]
    }
   ],
   "source": [
    "a = [0.1]  # limite inferior, é esperado um vetor\n",
    "b = [1.0]  # limite superior, deve ser vetor\n",
    "integral, erro = hcubature(g, a, b)\n",
    "@show integral\n",
    "@show erro;"
   ]
  },
  {
   "cell_type": "markdown",
   "metadata": {},
   "source": [
    "### Diferenciação numérica\n",
    "\n",
    "Para diferenciação numérica, utilizaremos `ForwardDiff`, [vide documentação](http://www.juliadiff.org/ForwardDiff.jl/stable/). Diferenciação numérica é muito custoso de se fazer computacionalmente. Sempre que houver uma fórmula fechada para tal, é melhor usá-la. Este pacote é similar ao `HCubature`, no qual espera-se que a função `f(x)` passada para suas rotinas seja unária, isto é, tenha somente o argumento `x`.\n",
    "\n",
    "Suponha que se tenha a função potencial elétrico dado por:\n",
    "\n",
    "$$ u(x,y) = (3x + y^2)\\,|\\sin(x) + \\cos(y)| $$\n",
    "\n",
    "Vamos calcular o campo elétrico $\\vec E = -\\nabla u$ deste potencial usando diferenciação numérica."
   ]
  },
  {
   "cell_type": "code",
   "execution_count": 43,
   "metadata": {},
   "outputs": [],
   "source": [
    "using ForwardDiff\n",
    "import PyPlot  # import ao invés de using, para não ter conflito de nomes"
   ]
  },
  {
   "cell_type": "code",
   "execution_count": 44,
   "metadata": {},
   "outputs": [],
   "source": [
    "x = 1:0.2:20\n",
    "y = 1:0.2:10\n",
    "h(x, y) = (3x + y^2) * abs(sin(x) + cos(y))  # potencial\n",
    "# não tem meshgrid, tem que fazer umas piruetas...\n",
    "X = repeat(reshape(x, 1, :), length(y), 1)\n",
    "Y = repeat(y, 1, length(x))\n",
    "Z = map(h, X, Y);\n",
    "# criamos uma função para -gradiente no ponto\n",
    "dh(x, y) = -ForwardDiff.gradient(a -> h(a[1], a[2]), [x, y])\n",
    "v = map(dh, X, Y)\n",
    "U = [vi[1] for vi in v]\n",
    "V = [vi[2] for vi in v];"
   ]
  },
  {
   "cell_type": "code",
   "execution_count": 45,
   "metadata": {},
   "outputs": [
    {
     "data": {
      "image/png": "[encoded data removed]",
      "text/plain": [
       "PyPlot.Figure(PyObject <Figure size 640x480 with 1 Axes>)"
      ]
     },
     "metadata": {},
     "output_type": "display_data"
    },
    {
     "data": {
      "text/plain": [
       "PyObject <matplotlib.streamplot.StreamplotSet object at 0x7fec72b22810>"
      ]
     },
     "execution_count": 45,
     "metadata": {},
     "output_type": "execute_result"
    }
   ],
   "source": [
    "PyPlot.contour(X, Y, Z, levels=15, cmap=\"coolwarm\")\n",
    "PyPlot.streamplot(X, Y, U, V, color=:black)"
   ]
  },
  {
   "cell_type": "markdown",
   "metadata": {},
   "source": [
    "### Equações diferenciais\n",
    "\n",
    "Resolver um sistema de equações diferenciais numericamente pode ser feito utilizando o pacote [DifferentialEquations](https://docs.juliadiffeq.org/latest/), também disponível para Python e R. Ele é capaz, inclusive, de [lidar com sistemas que possuem descontinuidades](https://docs.juliadiffeq.org/latest/features/callback_functions/) e [sistemas não-homogêneos](https://docs.juliadiffeq.org/latest/tutorials/ode_example/#Example-3:-Solving-Nonhomogeneous-Equations-using-Parameterized-Functions-1). O melhor lugar para se aprender é o [tutorial oficial](https://docs.juliadiffeq.org/latest/tutorials/ode_example/).\n",
    "\n",
    "[DifferentialEquations](https://docs.juliadiffeq.org/latest/) pode ser usado para lidar com:\n",
    "\n",
    "-    Equações discretas (mapas de funções, simulações estocásticas discretas (Gillespie/Markov))\n",
    "-    Equações diferenciais ordinárias (ODEs)\n",
    "-    ODEs divididas e particionadas (Integradores simpléticos, métodos IMEX)\n",
    "-    ODEs estocásticas (SODEs ou SDEs)\n",
    "-    Equações diferenciais aleatórias (RODEs or RDEs)\n",
    "-    Equações diferenciais algébricas (DAEs)\n",
    "-    Equações diferenciais de atraso (DDEs)\n",
    "-    Equações discretas e contínuas mistas (Equações Híbridas, Difusões de Salto)\n",
    "-    Equações diferenciais parciais (estocásticas) ((S)PDEs) (com ambos métodos de diferenças finitas e elementos finitos)\n",
    "\n",
    "Vamos resolver um atrator de Lorenz parametrizado como exemplo.\n",
    "\n",
    "$$\n",
    "\\begin{aligned}\n",
    "\\frac{dx}{dt} &= σ(y-x) \\\\\n",
    "\\frac{dy}{dt} &= x(ρ-z) - y \\\\\n",
    "\\frac{dz}{dt} &= xy - βz \\\\\n",
    "\\end{aligned}\n",
    "$$\n",
    "\n",
    "Definimos a função de forma que ela modifica os argumentos, para ter um desempenho melhor."
   ]
  },
  {
   "cell_type": "code",
   "execution_count": 46,
   "metadata": {},
   "outputs": [
    {
     "data": {
      "text/plain": [
       "parameterized_lorenz! (generic function with 1 method)"
      ]
     },
     "execution_count": 46,
     "metadata": {},
     "output_type": "execute_result"
    }
   ],
   "source": [
    "using DifferentialEquations\n",
    "\n",
    "function parameterized_lorenz!(du, u, p, t)\n",
    "    x,y,z = u\n",
    "    σ,ρ,β = p\n",
    "    du[1] = dx = σ*(y-x)\n",
    "    du[2] = dy = x*(ρ-z) - y\n",
    "    du[3] = dz = x*y - β*z\n",
    "end"
   ]
  },
  {
   "cell_type": "markdown",
   "metadata": {},
   "source": [
    "Em seguida, definimos os valores iniciais `u0`, o intervalo `tspan` no qual desejamos solucionar o sistema, os parâmetros `p`, o problema `prob` e, por fim, achamos a solução `sol`."
   ]
  },
  {
   "cell_type": "code",
   "execution_count": 47,
   "metadata": {},
   "outputs": [],
   "source": [
    "u0 = [1.0; 0.0; 0.0]\n",
    "tspan = (0.0, 100.0)\n",
    "p = [10.0, 28.0, 8/3]\n",
    "prob = ODEProblem(parameterized_lorenz!, u0, tspan, p)\n",
    "sol = solve(prob);"
   ]
  },
  {
   "cell_type": "markdown",
   "metadata": {},
   "source": [
    "A solução `sol` é uma estrutura que pode ser alimentada diretamente para `Plots`."
   ]
  },
  {
   "cell_type": "code",
   "execution_count": 48,
   "metadata": {},
   "outputs": [
    {
     "name": "stdout",
     "output_type": "stream",
     "text": [
      "número de pontos: 1278\n"
     ]
    },
    {
     "data": {
      "image/svg+xml": [
       "<?xml version=\"1.0\" encoding=\"utf-8\"?>\n",
       "<svg xmlns=\"http://www.w3.org/2000/svg\" xmlns:xlink=\"http://www.w3.org/1999/xlink\" width=\"600\" height=\"400\" viewBox=\"0 0 2400 1600\">\n",
       "<defs>\n",
       "  <clipPath id=\"clip2700\">\n",
       "    <rect x=\"0\" y=\"0\" width=\"2400\" height=\"1600\"/>\n",
       "  </clipPath>\n",
       "</defs>\n",
       "<path clip-path=\"url(#clip2700)\" d=\"\n",
       "M0 1600 L2400 1600 L2400 0 L0 0  Z\n",
       "  \" fill=\"#ffffff\" fill-rule=\"evenodd\" fill-opacity=\"1\"/>\n",
       "<defs>\n",
       "  <clipPath id=\"clip2701\">\n",
       "    <rect x=\"480\" y=\"0\" width=\"1681\" height=\"1600\"/>\n",
       "  </clipPath>\n",
       "</defs>\n",
       "<path clip-path=\"url(#clip2700)\" d=\"\n",
       "M540.576 1487.47 L1980.81 1487.47 L1980.81 47.2441 L540.576 47.2441  Z\n",
       "  \" fill=\"#ffffff\" fill-rule=\"evenodd\" fill-opacity=\"1\"/>\n",
       "<defs>\n",
       "  <clipPath id=\"clip2702\">\n",
       "    <rect x=\"540\" y=\"47\" width=\"1441\" height=\"1441\"/>\n",
       "  </clipPath>\n",
       "</defs>\n",
       "<polyline clip-path=\"url(#clip2700)\" style=\"stroke:#cccccc; stroke-width:2; stroke-opacity:0.1; fill:none\" points=\"\n",
       "  639.967,1411.66 1167.13,1156.42 \n",
       "  \"/>\n",
       "<polyline clip-path=\"url(#clip2700)\" style=\"stroke:#cccccc; stroke-width:2; stroke-opacity:0.1; fill:none\" points=\"\n",
       "  1167.13,1156.42 1167.13,56.5052 \n",
       "  \"/>\n",
       "<polyline clip-path=\"url(#clip2700)\" style=\"stroke:#ededed; stroke-width:2; stroke-opacity:0.1; fill:none\" points=\"\n",
       "  752.366,1422.13 1279.53,1166.89 \n",
       "  \"/>\n",
       "<polyline clip-path=\"url(#clip2700)\" style=\"stroke:#ededed; stroke-width:2; stroke-opacity:0.1; fill:none\" points=\"\n",
       "  1279.53,1166.89 1279.53,66.9784 \n",
       "  \"/>\n",
       "<polyline clip-path=\"url(#clip2700)\" style=\"stroke:#cccccc; stroke-width:2; stroke-opacity:0.1; fill:none\" points=\"\n",
       "  864.765,1432.6 1391.93,1177.37 \n",
       "  \"/>\n",
       "<polyline clip-path=\"url(#clip2700)\" style=\"stroke:#cccccc; stroke-width:2; stroke-opacity:0.1; fill:none\" points=\"\n",
       "  1391.93,1177.37 1391.93,77.4516 \n",
       "  \"/>\n",
       "<polyline clip-path=\"url(#clip2700)\" style=\"stroke:#ededed; stroke-width:2; stroke-opacity:0.1; fill:none\" points=\"\n",
       "  977.164,1443.08 1504.32,1187.84 \n",
       "  \"/>\n",
       "<polyline clip-path=\"url(#clip2700)\" style=\"stroke:#ededed; stroke-width:2; stroke-opacity:0.1; fill:none\" points=\"\n",
       "  1504.32,1187.84 1504.32,87.9248 \n",
       "  \"/>\n",
       "<polyline clip-path=\"url(#clip2700)\" style=\"stroke:#cccccc; stroke-width:2; stroke-opacity:0.1; fill:none\" points=\"\n",
       "  1089.56,1453.55 1616.72,1198.31 \n",
       "  \"/>\n",
       "<polyline clip-path=\"url(#clip2700)\" style=\"stroke:#cccccc; stroke-width:2; stroke-opacity:0.1; fill:none\" points=\"\n",
       "  1616.72,1198.31 1616.72,98.3981 \n",
       "  \"/>\n",
       "<polyline clip-path=\"url(#clip2700)\" style=\"stroke:#ededed; stroke-width:2; stroke-opacity:0.1; fill:none\" points=\"\n",
       "  1201.96,1464.02 1729.12,1208.79 \n",
       "  \"/>\n",
       "<polyline clip-path=\"url(#clip2700)\" style=\"stroke:#ededed; stroke-width:2; stroke-opacity:0.1; fill:none\" points=\"\n",
       "  1729.12,1208.79 1729.12,108.871 \n",
       "  \"/>\n",
       "<polyline clip-path=\"url(#clip2700)\" style=\"stroke:#cccccc; stroke-width:2; stroke-opacity:0.1; fill:none\" points=\"\n",
       "  1314.36,1474.5 1841.52,1219.26 \n",
       "  \"/>\n",
       "<polyline clip-path=\"url(#clip2700)\" style=\"stroke:#cccccc; stroke-width:2; stroke-opacity:0.1; fill:none\" points=\"\n",
       "  1841.52,1219.26 1841.52,119.345 \n",
       "  \"/>\n",
       "<polyline clip-path=\"url(#clip2700)\" style=\"stroke:#ededed; stroke-width:2; stroke-opacity:0.1; fill:none\" points=\"\n",
       "  1426.76,1484.97 1953.92,1229.73 \n",
       "  \"/>\n",
       "<polyline clip-path=\"url(#clip2700)\" style=\"stroke:#ededed; stroke-width:2; stroke-opacity:0.1; fill:none\" points=\"\n",
       "  1953.92,1229.73 1953.92,129.818 \n",
       "  \"/>\n",
       "<polyline clip-path=\"url(#clip2700)\" style=\"stroke:#cccccc; stroke-width:2; stroke-opacity:0.1; fill:none\" points=\"\n",
       "  592.668,1377.17 1505.74,1462.25 \n",
       "  \"/>\n",
       "<polyline clip-path=\"url(#clip2700)\" style=\"stroke:#cccccc; stroke-width:2; stroke-opacity:0.1; fill:none\" points=\"\n",
       "  592.668,1377.17 592.668,277.259 \n",
       "  \"/>\n",
       "<polyline clip-path=\"url(#clip2700)\" style=\"stroke:#ededed; stroke-width:2; stroke-opacity:0.1; fill:none\" points=\"\n",
       "  689.146,1330.46 1602.22,1415.54 \n",
       "  \"/>\n",
       "<polyline clip-path=\"url(#clip2700)\" style=\"stroke:#ededed; stroke-width:2; stroke-opacity:0.1; fill:none\" points=\"\n",
       "  689.146,1330.46 689.146,230.547 \n",
       "  \"/>\n",
       "<polyline clip-path=\"url(#clip2700)\" style=\"stroke:#cccccc; stroke-width:2; stroke-opacity:0.1; fill:none\" points=\"\n",
       "  785.624,1283.75 1698.69,1368.83 \n",
       "  \"/>\n",
       "<polyline clip-path=\"url(#clip2700)\" style=\"stroke:#cccccc; stroke-width:2; stroke-opacity:0.1; fill:none\" points=\"\n",
       "  785.624,1283.75 785.624,183.835 \n",
       "  \"/>\n",
       "<polyline clip-path=\"url(#clip2700)\" style=\"stroke:#ededed; stroke-width:2; stroke-opacity:0.1; fill:none\" points=\"\n",
       "  882.102,1237.04 1795.17,1322.12 \n",
       "  \"/>\n",
       "<polyline clip-path=\"url(#clip2700)\" style=\"stroke:#ededed; stroke-width:2; stroke-opacity:0.1; fill:none\" points=\"\n",
       "  882.102,1237.04 882.102,137.123 \n",
       "  \"/>\n",
       "<polyline clip-path=\"url(#clip2700)\" style=\"stroke:#cccccc; stroke-width:2; stroke-opacity:0.1; fill:none\" points=\"\n",
       "  978.579,1190.33 1891.65,1275.41 \n",
       "  \"/>\n",
       "<polyline clip-path=\"url(#clip2700)\" style=\"stroke:#cccccc; stroke-width:2; stroke-opacity:0.1; fill:none\" points=\"\n",
       "  978.579,1190.33 978.579,90.4117 \n",
       "  \"/>\n",
       "<polyline clip-path=\"url(#clip2700)\" style=\"stroke:#cccccc; stroke-width:2; stroke-opacity:0.1; fill:none\" points=\"\n",
       "  540.576,1402.4 1067.74,1147.16 \n",
       "  \"/>\n",
       "<polyline clip-path=\"url(#clip2700)\" style=\"stroke:#cccccc; stroke-width:2; stroke-opacity:0.1; fill:none\" points=\"\n",
       "  1067.74,1147.16 1980.81,1232.24 \n",
       "  \"/>\n",
       "<polyline clip-path=\"url(#clip2700)\" style=\"stroke:#ededed; stroke-width:2; stroke-opacity:0.1; fill:none\" points=\"\n",
       "  540.576,1264.91 1067.74,1009.67 \n",
       "  \"/>\n",
       "<polyline clip-path=\"url(#clip2700)\" style=\"stroke:#ededed; stroke-width:2; stroke-opacity:0.1; fill:none\" points=\"\n",
       "  1067.74,1009.67 1980.81,1094.75 \n",
       "  \"/>\n",
       "<polyline clip-path=\"url(#clip2700)\" style=\"stroke:#cccccc; stroke-width:2; stroke-opacity:0.1; fill:none\" points=\"\n",
       "  540.576,1127.42 1067.74,872.181 \n",
       "  \"/>\n",
       "<polyline clip-path=\"url(#clip2700)\" style=\"stroke:#cccccc; stroke-width:2; stroke-opacity:0.1; fill:none\" points=\"\n",
       "  1067.74,872.181 1980.81,957.26 \n",
       "  \"/>\n",
       "<polyline clip-path=\"url(#clip2700)\" style=\"stroke:#ededed; stroke-width:2; stroke-opacity:0.1; fill:none\" points=\"\n",
       "  540.576,989.928 1067.74,734.691 \n",
       "  \"/>\n",
       "<polyline clip-path=\"url(#clip2700)\" style=\"stroke:#ededed; stroke-width:2; stroke-opacity:0.1; fill:none\" points=\"\n",
       "  1067.74,734.691 1980.81,819.77 \n",
       "  \"/>\n",
       "<polyline clip-path=\"url(#clip2700)\" style=\"stroke:#cccccc; stroke-width:2; stroke-opacity:0.1; fill:none\" points=\"\n",
       "  540.576,852.438 1067.74,597.202 \n",
       "  \"/>\n",
       "<polyline clip-path=\"url(#clip2700)\" style=\"stroke:#cccccc; stroke-width:2; stroke-opacity:0.1; fill:none\" points=\"\n",
       "  1067.74,597.202 1980.81,682.281 \n",
       "  \"/>\n",
       "<polyline clip-path=\"url(#clip2700)\" style=\"stroke:#ededed; stroke-width:2; stroke-opacity:0.1; fill:none\" points=\"\n",
       "  540.576,714.949 1067.74,459.712 \n",
       "  \"/>\n",
       "<polyline clip-path=\"url(#clip2700)\" style=\"stroke:#ededed; stroke-width:2; stroke-opacity:0.1; fill:none\" points=\"\n",
       "  1067.74,459.712 1980.81,544.791 \n",
       "  \"/>\n",
       "<polyline clip-path=\"url(#clip2700)\" style=\"stroke:#cccccc; stroke-width:2; stroke-opacity:0.1; fill:none\" points=\"\n",
       "  540.576,577.459 1067.74,322.223 \n",
       "  \"/>\n",
       "<polyline clip-path=\"url(#clip2700)\" style=\"stroke:#cccccc; stroke-width:2; stroke-opacity:0.1; fill:none\" points=\"\n",
       "  1067.74,322.223 1980.81,407.302 \n",
       "  \"/>\n",
       "<polyline clip-path=\"url(#clip2700)\" style=\"stroke:#ededed; stroke-width:2; stroke-opacity:0.1; fill:none\" points=\"\n",
       "  540.576,439.97 1067.74,184.734 \n",
       "  \"/>\n",
       "<polyline clip-path=\"url(#clip2700)\" style=\"stroke:#ededed; stroke-width:2; stroke-opacity:0.1; fill:none\" points=\"\n",
       "  1067.74,184.734 1980.81,269.812 \n",
       "  \"/>\n",
       "<polyline clip-path=\"url(#clip2700)\" style=\"stroke:#cccccc; stroke-width:2; stroke-opacity:0.1; fill:none\" points=\"\n",
       "  540.576,302.48 1067.74,47.2441 \n",
       "  \"/>\n",
       "<polyline clip-path=\"url(#clip2700)\" style=\"stroke:#cccccc; stroke-width:2; stroke-opacity:0.1; fill:none\" points=\"\n",
       "  1067.74,47.2441 1980.81,132.323 \n",
       "  \"/>\n",
       "<polyline clip-path=\"url(#clip2700)\" style=\"stroke:#000000; stroke-width:4; stroke-opacity:1; fill:none\" points=\"\n",
       "  516.045,1119.9 512.046,1123.48 509.379,1129.71 508.046,1138.59 508.046,1143.52 509.379,1151.11 512.046,1154.75 516.045,1154.46 518.711,1153.17 522.711,1149.59 \n",
       "  525.377,1143.36 526.711,1134.49 526.711,1129.55 525.377,1121.97 522.711,1118.32 518.711,1118.61 516.045,1119.9 \n",
       "  \"/>\n",
       "<polyline clip-path=\"url(#clip2700)\" style=\"stroke:#000000; stroke-width:4; stroke-opacity:1; fill:none\" points=\"\n",
       "  482.715,869.288 482.715,867.643 484.049,863.706 485.382,861.414 488.048,858.478 493.381,855.896 496.047,856.251 497.381,857.251 498.714,859.897 498.714,863.188 \n",
       "  497.381,867.125 494.714,873.353 481.382,896.265 500.047,887.228 \n",
       "  \"/>\n",
       "<polyline clip-path=\"url(#clip2700)\" style=\"stroke:#000000; stroke-width:4; stroke-opacity:1; fill:none\" points=\"\n",
       "  516.045,844.922 512.046,848.505 509.379,854.733 508.046,863.607 508.046,868.544 509.379,876.127 512.046,879.773 516.045,879.482 518.711,878.191 522.711,874.609 \n",
       "  525.377,868.381 526.711,859.507 526.711,854.57 525.377,846.987 522.711,843.341 518.711,843.631 516.045,844.922 \n",
       "  \"/>\n",
       "<polyline clip-path=\"url(#clip2700)\" style=\"stroke:#000000; stroke-width:4; stroke-opacity:1; fill:none\" points=\"\n",
       "  494.714,580.271 481.382,609.766 501.38,600.084 \n",
       "  \"/>\n",
       "<polyline clip-path=\"url(#clip2700)\" style=\"stroke:#000000; stroke-width:4; stroke-opacity:1; fill:none\" points=\"\n",
       "  494.714,580.271 494.714,614.831 \n",
       "  \"/>\n",
       "<polyline clip-path=\"url(#clip2700)\" style=\"stroke:#000000; stroke-width:4; stroke-opacity:1; fill:none\" points=\"\n",
       "  516.045,569.944 512.046,573.526 509.379,579.754 508.046,588.628 508.046,593.565 509.379,601.148 512.046,604.794 516.045,604.504 518.711,603.213 522.711,599.63 \n",
       "  525.377,593.402 526.711,584.528 526.711,579.591 525.377,572.008 522.711,568.362 518.711,568.653 516.045,569.944 \n",
       "  \"/>\n",
       "<polyline clip-path=\"url(#clip2700)\" style=\"stroke:#000000; stroke-width:4; stroke-opacity:1; fill:none\" points=\"\n",
       "  498.714,308.293 497.381,305.647 493.381,305.938 490.715,307.229 486.715,310.811 484.049,317.039 482.715,325.913 482.715,334.142 484.049,340.079 486.715,342.08 \n",
       "  490.715,341.789 492.048,341.144 496.047,337.561 498.714,332.979 500.047,327.396 500.047,325.751 498.714,321.459 496.047,319.458 492.048,319.749 490.715,320.395 \n",
       "  486.715,323.977 484.049,328.559 482.715,334.142 \n",
       "  \"/>\n",
       "<polyline clip-path=\"url(#clip2700)\" style=\"stroke:#000000; stroke-width:4; stroke-opacity:1; fill:none\" points=\"\n",
       "  516.045,294.965 512.046,298.547 509.379,304.775 508.046,313.649 508.046,318.586 509.379,326.169 512.046,329.815 516.045,329.525 518.711,328.234 522.711,324.652 \n",
       "  525.377,318.423 526.711,309.549 526.711,304.612 525.377,297.029 522.711,293.383 518.711,293.674 516.045,294.965 \n",
       "  \"/>\n",
       "<polyline clip-path=\"url(#clip2700)\" style=\"stroke:#000000; stroke-width:4; stroke-opacity:1; fill:none\" points=\"\n",
       "  540.576,1402.4 540.576,1402.4 530.033,1407.5 540.576,1402.4 540.576,1264.91 535.304,1267.46 540.576,1264.91 540.576,1127.42 530.033,1132.52 540.576,1127.42 \n",
       "  540.576,989.928 535.304,992.48 540.576,989.928 540.576,852.438 530.033,857.543 540.576,852.438 540.576,714.949 535.304,717.501 540.576,714.949 540.576,577.459 \n",
       "  530.033,582.564 540.576,577.459 540.576,439.97 535.304,442.522 540.576,439.97 540.576,302.48 530.033,307.585 540.576,302.48 \n",
       "  \"/>\n",
       "<polyline clip-path=\"url(#clip2700)\" style=\"stroke:#000000; stroke-width:4; stroke-opacity:1; fill:none\" points=\"\n",
       "  685.26,1453.24 714.628,1455.97 \n",
       "  \"/>\n",
       "<polyline clip-path=\"url(#clip2700)\" style=\"stroke:#000000; stroke-width:4; stroke-opacity:1; fill:none\" points=\"\n",
       "  730.943,1444.33 734.206,1442.99 739.101,1438.51 739.101,1473.07 \n",
       "  \"/>\n",
       "<polyline clip-path=\"url(#clip2700)\" style=\"stroke:#000000; stroke-width:4; stroke-opacity:1; fill:none\" points=\"\n",
       "  768.469,1441.24 763.574,1442.43 760.311,1447.06 758.68,1455.14 758.68,1460.08 760.311,1468.46 763.574,1473.7 768.469,1475.8 771.732,1476.11 776.627,1474.92 \n",
       "  779.89,1470.28 781.521,1462.21 781.521,1457.27 779.89,1448.89 776.627,1443.65 771.732,1441.55 768.469,1441.24 \n",
       "  \"/>\n",
       "<polyline clip-path=\"url(#clip2700)\" style=\"stroke:#000000; stroke-width:4; stroke-opacity:1; fill:none\" points=\"\n",
       "  955.742,1458.69 950.847,1459.88 947.584,1464.51 945.952,1472.59 945.952,1477.53 947.584,1485.91 950.847,1491.15 955.742,1493.25 959.005,1493.56 963.899,1492.37 \n",
       "  967.163,1487.73 968.794,1479.66 968.794,1474.72 967.163,1466.34 963.899,1461.1 959.005,1459 955.742,1458.69 \n",
       "  \"/>\n",
       "<polyline clip-path=\"url(#clip2700)\" style=\"stroke:#000000; stroke-width:4; stroke-opacity:1; fill:none\" points=\"\n",
       "  1159.33,1484.24 1162.59,1482.9 1167.49,1478.42 1167.49,1512.98 \n",
       "  \"/>\n",
       "<polyline clip-path=\"url(#clip2700)\" style=\"stroke:#000000; stroke-width:4; stroke-opacity:1; fill:none\" points=\"\n",
       "  1196.86,1481.16 1191.96,1482.35 1188.7,1486.98 1187.07,1495.06 1187.07,1499.99 1188.7,1508.38 1191.96,1513.62 1196.86,1515.72 1200.12,1516.02 1205.01,1514.83 \n",
       "  1208.28,1510.2 1209.91,1502.12 1209.91,1497.19 1208.28,1488.81 1205.01,1483.56 1200.12,1481.46 1196.86,1481.16 \n",
       "  \"/>\n",
       "<polyline clip-path=\"url(#clip2700)\" style=\"stroke:#000000; stroke-width:4; stroke-opacity:1; fill:none\" points=\"\n",
       "  1380.87,1506.53 1380.87,1504.89 1382.5,1501.75 1384.13,1500.25 1387.39,1498.91 1393.92,1499.52 1397.18,1501.47 1398.81,1503.27 1400.44,1506.71 1400.44,1510 \n",
       "  1398.81,1513.14 1395.55,1517.77 1379.23,1532.71 1402.08,1534.84 \n",
       "  \"/>\n",
       "<polyline clip-path=\"url(#clip2700)\" style=\"stroke:#000000; stroke-width:4; stroke-opacity:1; fill:none\" points=\"\n",
       "  1421.65,1502.1 1416.76,1503.29 1413.5,1507.93 1411.86,1516 1411.86,1520.94 1413.5,1529.32 1416.76,1534.56 1421.65,1536.66 1424.92,1536.97 1429.81,1535.78 \n",
       "  1433.07,1531.15 1434.71,1523.07 1434.71,1518.13 1433.07,1509.75 1429.81,1504.51 1424.92,1502.41 1421.65,1502.1 \n",
       "  \"/>\n",
       "<polyline clip-path=\"url(#clip2700)\" style=\"stroke:#000000; stroke-width:4; stroke-opacity:1; fill:none\" points=\"\n",
       "  540.576,1402.4 639.967,1411.66 634.695,1414.21 639.967,1411.66 752.366,1422.13 741.822,1427.23 752.366,1422.13 864.765,1432.6 859.493,1435.16 864.765,1432.6 \n",
       "  977.164,1443.08 966.621,1448.18 977.164,1443.08 1089.56,1453.55 1084.29,1456.1 1089.56,1453.55 1201.96,1464.02 1191.42,1469.13 1201.96,1464.02 1314.36,1474.5 \n",
       "  1309.09,1477.05 1314.36,1474.5 1426.76,1484.97 1416.22,1490.07 1426.76,1484.97 1453.65,1487.47 \n",
       "  \"/>\n",
       "<polyline clip-path=\"url(#clip2700)\" style=\"stroke:#000000; stroke-width:4; stroke-opacity:1; fill:none\" points=\"\n",
       "  1513.14,1507.28 1537.14,1495.67 \n",
       "  \"/>\n",
       "<polyline clip-path=\"url(#clip2700)\" style=\"stroke:#000000; stroke-width:4; stroke-opacity:1; fill:none\" points=\"\n",
       "  1547.81,1478.98 1547.81,1477.34 1549.14,1473.4 1550.47,1471.11 1553.14,1468.17 1558.47,1465.59 1561.14,1465.94 1562.47,1466.94 1563.8,1469.59 1563.8,1472.88 \n",
       "  1562.47,1476.82 1559.8,1483.05 1546.47,1505.96 1565.14,1496.92 \n",
       "  \"/>\n",
       "<polyline clip-path=\"url(#clip2700)\" style=\"stroke:#000000; stroke-width:4; stroke-opacity:1; fill:none\" points=\"\n",
       "  1581.14,1454.62 1577.14,1458.2 1574.47,1464.43 1573.14,1473.3 1573.14,1478.24 1574.47,1485.82 1577.14,1489.47 1581.14,1489.18 1583.8,1487.88 1587.8,1484.3 \n",
       "  1590.47,1478.07 1591.8,1469.2 1591.8,1464.26 1590.47,1456.68 1587.8,1453.03 1583.8,1453.32 1581.14,1454.62 \n",
       "  \"/>\n",
       "<polyline clip-path=\"url(#clip2700)\" style=\"stroke:#000000; stroke-width:4; stroke-opacity:1; fill:none\" points=\"\n",
       "  1743.43,1376.04 1739.43,1379.62 1736.76,1385.85 1735.43,1394.72 1735.43,1399.66 1736.76,1407.24 1739.43,1410.89 1743.43,1410.6 1746.09,1409.31 1750.09,1405.73 \n",
       "  1752.76,1399.5 1754.09,1390.62 1754.09,1385.69 1752.76,1378.1 1750.09,1374.46 1746.09,1374.75 1743.43,1376.04 \n",
       "  \"/>\n",
       "<polyline clip-path=\"url(#clip2700)\" style=\"stroke:#000000; stroke-width:4; stroke-opacity:1; fill:none\" points=\"\n",
       "  1916.39,1300.53 1916.39,1298.88 1917.72,1294.94 1919.05,1292.65 1921.72,1289.72 1927.05,1287.13 1929.72,1287.49 1931.05,1288.49 1932.38,1291.13 1932.38,1294.43 \n",
       "  1931.05,1298.36 1928.38,1304.59 1915.05,1327.5 1933.72,1318.47 \n",
       "  \"/>\n",
       "<polyline clip-path=\"url(#clip2700)\" style=\"stroke:#000000; stroke-width:4; stroke-opacity:1; fill:none\" points=\"\n",
       "  1949.71,1276.16 1945.72,1279.74 1943.05,1285.97 1941.72,1294.84 1941.72,1299.78 1943.05,1307.36 1945.72,1311.01 1949.71,1310.72 1952.38,1309.43 1956.38,1305.85 \n",
       "  1959.05,1299.62 1960.38,1290.74 1960.38,1285.81 1959.05,1278.22 1956.38,1274.58 1952.38,1274.87 1949.71,1276.16 \n",
       "  \"/>\n",
       "<polyline clip-path=\"url(#clip2700)\" style=\"stroke:#000000; stroke-width:4; stroke-opacity:1; fill:none\" points=\"\n",
       "  1453.65,1487.47 1505.74,1462.25 1524,1463.95 1505.74,1462.25 1602.22,1415.54 1611.35,1416.39 1602.22,1415.54 1698.69,1368.83 1716.95,1370.53 1698.69,1368.83 \n",
       "  1795.17,1322.12 1804.3,1322.97 1795.17,1322.12 1891.65,1275.41 1909.91,1277.11 1891.65,1275.41 1980.81,1232.24 \n",
       "  \"/>\n",
       "<polyline clip-path=\"url(#clip2702)\" style=\"stroke:#009af9; stroke-width:12; stroke-opacity:1; fill:none\" points=\"\n",
       "  1244.69,1051.55 1245.21,1050.41 1246.06,1049.37 1247.21,1048.39 1248.66,1047.46 1250.41,1046.55 1252.47,1045.66 1254.83,1044.76 1257.52,1043.84 1260.54,1042.88 \n",
       "  1263.92,1041.87 1267.68,1040.79 1271.85,1039.62 1276.46,1038.34 1281.54,1036.94 1287.13,1035.39 1293.28,1033.66 1300.04,1031.73 1307.46,1029.57 1315.6,1027.13 \n",
       "  1324.51,1024.39 1334.27,1021.28 1344.94,1017.76 1356.61,1013.76 1369.35,1009.21 1383.25,1004.02 1398.39,998.105 1414.86,991.342 1432.74,983.612 1452.11,974.772 \n",
       "  1473.04,964.665 1495.59,953.114 1519.79,939.922 1545.65,924.884 1573.11,907.785 1602.09,888.408 1632.42,866.551 1663.85,842.007 1696.04,814.611 1728.5,784.309 \n",
       "  1760.6,751.161 1791.58,715.34 1820.6,677.162 1846.61,637.226 1868.39,596.348 1884.87,555.525 1895.05,515.934 1898.05,478.931 1893.14,446.032 1880.07,418.571 \n",
       "  1859,397.536 1830.42,383.556 1795.13,376.889 1754.3,377.417 1709.41,384.635 1661.96,397.46 1613.32,414.6 1564.71,434.826 1517.13,456.952 1471.37,479.832 \n",
       "  1428.03,502.451 1387.42,524.229 1349.71,544.721 1314.95,563.632 1283.12,580.817 1254.07,596.277 1227.67,610.061 1203.72,622.296 1182.04,633.121 1162.45,642.678 \n",
       "  1144.76,651.111 1128.8,658.564 1114.39,665.176 1101.38,671.064 1089.63,676.333 1079,681.073 1069.37,685.362 1060.62,689.266 1052.66,692.836 1045.38,696.118 \n",
       "  1038.71,699.147 1032.57,701.952 1026.9,704.558 1021.63,706.984 1016.71,709.244 1012.09,711.348 1007.7,713.301 1003.53,715.108 999.537,716.774 995.694,718.298 \n",
       "  991.978,719.68 988.365,720.922 984.837,722.021 981.376,722.974 977.969,723.781 974.609,724.437 971.292,724.94 968.013,725.288 964.773,725.477 961.571,725.507 \n",
       "  958.407,725.377 955.287,725.085 952.213,724.632 949.193,724.019 946.237,723.247 943.356,722.319 940.562,721.236 937.866,720.004 935.282,718.628 932.822,717.115 \n",
       "  930.498,715.474 928.324,713.715 926.312,711.847 924.475,709.884 922.824,707.838 921.375,705.723 920.138,703.554 919.123,701.346 918.339,699.115 917.792,696.878 \n",
       "  917.487,694.652 917.424,692.454 917.606,690.304 918.03,688.22 918.694,686.22 919.591,684.319 920.715,682.533 922.056,680.875 923.605,679.359 925.348,677.996 \n",
       "  927.272,676.797 929.362,675.769 931.601,674.919 933.971,674.253 936.451,673.774 939.021,673.485 941.657,673.384 944.343,673.469 947.059,673.735 949.785,674.18 \n",
       "  952.502,674.797 955.192,675.581 957.839,676.524 960.425,677.619 962.936,678.856 965.355,680.225 967.67,681.715 969.866,683.313 971.932,685.007 973.854,686.782 \n",
       "  975.624,688.624 977.234,690.525 978.679,692.475 979.953,694.463 981.05,696.477 981.967,698.507 982.701,700.542 983.249,702.57 983.608,704.583 983.78,706.57 \n",
       "  983.764,708.521 983.562,710.426 983.175,712.277 982.607,714.065 981.865,715.783 980.951,717.422 979.865,718.973 978.613,720.428 977.197,721.777 975.624,723.015 \n",
       "  973.9,724.132 972.032,725.124 970.03,725.983 967.901,726.705 965.658,727.283 963.312,727.713 960.875,727.991 958.362,728.113 955.787,728.077 953.164,727.878 \n",
       "  950.504,727.519 947.822,726.996 945.133,726.309 942.454,725.455 939.802,724.438 937.194,723.259 934.647,721.922 932.177,720.433 929.803,718.799 927.541,717.028 \n",
       "  925.411,715.131 923.428,713.118 921.612,711.002 919.981,708.799 918.551,706.524 917.329,704.194 916.327,701.828 915.557,699.441 915.028,697.052 914.746,694.675 \n",
       "  914.715,692.329 914.939,690.03 915.417,687.795 916.147,685.641 917.126,683.585 918.345,681.643 919.797,679.833 921.471,678.172 923.353,676.675 925.428,675.361 \n",
       "  927.678,674.242 930.085,673.315 932.626,672.585 935.283,672.054 938.033,671.727 940.858,671.602 943.737,671.679 946.65,671.956 949.576,672.427 952.496,673.088 \n",
       "  955.389,673.929 958.237,674.942 961.019,676.115 963.716,677.436 966.308,678.89 968.783,680.467 971.131,682.157 973.338,683.948 975.396,685.828 977.293,687.785 \n",
       "  979.021,689.806 980.572,691.881 981.94,693.996 983.12,696.14 984.107,698.301 984.897,700.469 985.489,702.63 985.882,704.775 986.075,706.891 986.07,708.967 \n",
       "  985.869,710.992 985.476,712.961 984.895,714.865 984.125,716.694 983.169,718.439 982.031,720.092 980.714,721.643 979.224,723.084 977.567,724.408 975.75,725.608 \n",
       "  973.781,726.676 971.669,727.605 969.425,728.391 967.061,729.028 964.587,729.509 962.019,729.83 959.368,729.989 956.647,729.984 953.869,729.812 951.049,729.467 \n",
       "  948.202,728.946 945.344,728.246 942.491,727.368 939.661,726.313 936.871,725.083 934.138,723.683 931.482,722.118 928.921,720.396 926.475,718.526 924.164,716.517 \n",
       "  922.007,714.383 920.027,712.135 918.245,709.79 916.681,707.365 915.34,704.879 914.233,702.351 913.373,699.799 912.77,697.241 912.431,694.695 912.361,692.178 \n",
       "  912.563,689.709 913.037,687.305 913.782,684.985 914.793,682.767 916.065,680.668 917.588,678.707 919.35,676.901 921.34,675.27 923.54,673.83 925.933,672.601 \n",
       "  928.497,671.586 931.208,670.782 934.045,670.192 936.984,669.82 940.003,669.665 943.081,669.728 946.195,670.004 949.324,670.491 952.448,671.181 955.545,672.066 \n",
       "  958.595,673.137 961.577,674.382 964.471,675.788 967.257,677.34 969.917,679.021 972.434,680.818 974.802,682.723 977.011,684.722 979.048,686.803 980.907,688.953 \n",
       "  982.578,691.158 984.055,693.406 985.332,695.684 986.405,697.981 987.269,700.284 987.923,702.581 988.365,704.861 988.596,707.112 988.615,709.324 988.426,711.485 \n",
       "  988.031,713.584 987.435,715.614 986.645,717.567 985.663,719.435 984.489,721.208 983.127,722.875 981.582,724.429 979.858,725.861 977.963,727.162 975.903,728.326 \n",
       "  973.689,729.345 971.329,730.212 968.836,730.921 966.221,731.468 963.498,731.846 960.682,732.051 957.789,732.079 954.835,731.926 951.832,731.593 948.794,731.079 \n",
       "  945.739,730.38 942.687,729.493 939.656,728.417 936.665,727.155 933.733,725.709 930.88,724.084 928.125,722.287 925.488,720.326 922.99,718.212 920.649,715.956 \n",
       "  918.488,713.573 916.525,711.078 914.783,708.488 913.281,705.823 912.041,703.104 911.069,700.356 910.371,697.6 909.956,694.858 909.829,692.149 909.992,689.491 \n",
       "  910.447,686.905 911.191,684.409 912.221,682.021 913.529,679.759 915.108,677.64 916.947,675.682 919.031,673.902 921.345,672.315 923.871,670.937 926.589,669.785 \n",
       "  929.476,668.874 932.506,668.21 935.651,667.78 938.884,667.583 942.181,667.618 945.518,667.881 948.87,668.368 952.215,669.073 955.531,669.988 958.796,671.103 \n",
       "  961.99,672.407 965.093,673.888 968.087,675.532 970.952,677.322 973.671,679.241 976.228,681.269 978.609,683.39 980.807,685.598 982.816,687.88 984.626,690.222 \n",
       "  986.232,692.609 987.627,695.029 988.807,697.469 989.767,699.916 990.506,702.358 991.021,704.782 991.312,707.178 991.379,709.534 991.225,711.839 990.851,714.083 \n",
       "  990.261,716.255 989.46,718.347 988.457,720.35 987.258,722.257 985.865,724.059 984.279,725.745 982.506,727.305 980.549,728.73 978.415,730.012 976.113,731.142 \n",
       "  973.651,732.114 971.041,732.92 968.293,733.555 965.421,734.012 962.441,734.286 959.368,734.374 956.219,734.27 953.013,733.971 949.77,733.475 946.51,732.78 \n",
       "  943.241,731.891 939.984,730.804 936.762,729.521 933.596,728.042 930.509,726.37 927.524,724.512 924.66,722.474 921.941,720.266 919.386,717.9 917.016,715.389 \n",
       "  914.853,712.749 912.915,709.997 911.224,707.154 909.798,704.241 908.657,701.281 907.819,698.302 907.29,695.331 907.073,692.394 907.171,689.511 907.583,686.704 \n",
       "  908.307,683.994 909.34,681.399 910.673,678.94 912.299,676.634 914.204,674.498 916.376,672.548 918.799,670.802 921.454,669.272 924.32,667.975 927.375,666.923 \n",
       "  930.593,666.128 933.947,665.604 937.406,665.346 940.938,665.338 944.517,665.575 948.115,666.052 951.708,666.763 955.27,667.697 958.779,668.847 962.213,670.2 \n",
       "  965.551,671.744 968.774,673.465 971.862,675.347 974.799,677.373 977.568,679.526 980.154,681.784 982.544,684.128 984.729,686.545 986.704,689.027 988.462,691.561 \n",
       "  989.998,694.131 991.308,696.724 992.386,699.326 993.23,701.925 993.839,704.507 994.212,707.062 994.348,709.576 994.249,712.039 993.918,714.44 993.357,716.768 \n",
       "  992.571,719.015 991.565,721.169 990.348,723.224 988.93,725.173 987.313,727.006 985.498,728.71 983.489,730.276 981.292,731.695 978.913,732.958 976.36,734.056 \n",
       "  973.644,734.981 970.775,735.727 967.766,736.287 964.632,736.655 961.388,736.826 958.053,736.796 954.645,736.559 951.185,736.114 947.695,735.457 944.198,734.586 \n",
       "  940.71,733.503 937.244,732.211 933.825,730.711 930.478,729.005 927.229,727.095 924.102,724.99 921.12,722.698 918.308,720.229 915.687,717.596 913.279,714.817 \n",
       "  911.107,711.907 909.19,708.887 907.55,705.78 906.206,702.61 905.177,699.403 904.481,696.19 904.127,693.002 904.115,689.867 904.445,686.808 905.114,683.848 \n",
       "  906.119,681.008 907.451,678.31 909.101,675.774 911.057,673.417 913.305,671.259 915.828,669.314 918.607,667.6 921.62,666.131 924.844,664.92 928.251,663.981 \n",
       "  931.815,663.324 935.503,662.96 939.281,662.881 943.116,663.068 946.978,663.516 950.84,664.215 954.674,665.156 958.455,666.33 962.159,667.724 965.763,669.325 \n",
       "  969.246,671.117 972.589,673.085 975.773,675.211 978.782,677.477 981.598,679.862 984.21,682.344 986.603,684.903 988.774,687.531 990.715,690.217 992.422,692.944 \n",
       "  993.889,695.698 995.112,698.465 996.089,701.231 996.817,703.983 997.296,706.709 997.525,709.395 997.507,712.03 997.242,714.603 996.734,717.104 995.987,719.521 \n",
       "  995.005,721.846 993.797,724.069 992.375,726.184 990.742,728.18 988.899,730.047 986.849,731.773 984.597,733.348 982.148,734.763 979.511,736.008 976.695,737.075 \n",
       "  973.71,737.956 970.571,738.644 967.29,739.132 963.885,739.415 960.371,739.486 956.77,739.341 953.101,738.975 949.387,738.385 945.653,737.568 941.919,736.522 \n",
       "  938.196,735.252 934.508,733.758 930.883,732.039 927.347,730.099 923.928,727.943 920.65,725.579 917.54,723.018 914.623,720.272 911.922,717.358 909.463,714.293 \n",
       "  907.268,711.098 905.361,707.795 903.764,704.412 902.5,700.975 901.59,697.515 901.045,694.07 900.868,690.668 901.06,687.336 901.621,684.099 902.547,680.98 \n",
       "  903.831,678.004 905.464,675.192 907.435,672.565 909.728,670.144 912.326,667.948 915.211,665.995 918.359,664.302 921.745,662.885 925.341,661.761 929.117,660.942 \n",
       "  933.04,660.443 937.072,660.251 941.175,660.35 945.318,660.732 949.469,661.39 953.599,662.313 957.68,663.49 961.686,664.908 965.591,666.552 969.372,668.407 \n",
       "  973.009,670.454 976.479,672.674 979.766,675.047 982.851,677.55 985.719,680.159 988.359,682.856 990.765,685.634 992.928,688.476 994.844,691.367 996.507,694.291 \n",
       "  997.912,697.232 999.057,700.177 999.94,703.111 1000.56,706.02 1000.92,708.893 1001.01,711.716 1000.84,714.478 1000.42,717.169 999.741,719.776 998.817,722.292 \n",
       "  997.656,724.707 996.264,727.012 994.643,729.196 992.794,731.247 990.72,733.155 988.427,734.909 985.921,736.5 983.21,737.918 980.305,739.154 977.216,740.2 \n",
       "  973.957,741.047 970.542,741.689 966.987,742.118 963.31,742.327 959.53,742.311 955.668,742.063 951.746,741.579 947.784,740.855 943.793,739.894 939.799,738.69 \n",
       "  935.828,737.24 931.906,735.544 928.062,733.604 924.32,731.424 920.71,729.013 917.258,726.38 913.991,723.539 910.939,720.506 908.129,717.298 905.589,713.937 \n",
       "  903.348,710.447 901.435,706.854 899.877,703.188 898.689,699.489 897.881,695.786 897.463,692.109 897.44,688.484 897.815,684.94 898.587,681.502 899.752,678.197 \n",
       "  901.303,675.051 903.23,672.089 905.519,669.336 908.152,666.815 911.11,664.551 914.369,662.566 917.903,660.883 921.682,659.524 925.672,658.51 929.831,657.827 \n",
       "  934.119,657.465 938.498,657.421 942.935,657.688 947.396,658.26 951.848,659.126 956.262,660.274 960.606,661.69 964.854,663.357 968.979,665.256 972.956,667.366 \n",
       "  976.761,669.665 980.373,672.126 983.77,674.725 986.942,677.45 989.878,680.286 992.569,683.215 995.005,686.218 997.181,689.278 999.089,692.378 1000.73,695.503 \n",
       "  1002.09,698.637 1003.17,701.764 1003.97,704.872 1004.5,707.947 1004.75,710.975 1004.72,713.945 1004.42,716.846 1003.86,719.666 1003.04,722.398 1001.97,725.029 \n",
       "  1000.64,727.547 999.059,729.943 997.231,732.205 995.159,734.323 992.852,736.286 990.315,738.084 987.56,739.708 984.595,741.149 981.433,742.397 978.086,743.443 \n",
       "  974.569,744.28 970.898,744.898 967.088,745.291 963.158,745.451 959.122,745.377 954.996,745.06 950.801,744.489 946.559,743.657 942.292,742.559 938.026,741.193 \n",
       "  933.785,739.558 929.598,737.656 925.491,735.493 921.496,733.076 917.643,730.414 913.965,727.519 910.495,724.406 907.269,721.091 904.323,717.595 901.689,713.943 \n",
       "  899.382,710.168 897.43,706.299 895.857,702.364 894.682,698.391 893.921,694.411 893.586,690.452 893.684,686.546 894.218,682.723 895.188,679.016 896.589,675.456 \n",
       "  898.414,672.076 900.649,668.911 903.277,665.993 906.279,663.358 909.63,661.042 913.297,659.067 917.24,657.428 921.418,656.133 925.794,655.186 930.33,654.591 \n",
       "  934.987,654.347 939.73,654.449 944.523,654.889 949.329,655.658 954.113,656.74 958.841,658.119 963.478,659.774 967.992,661.681 972.349,663.812 976.524,666.149 \n",
       "  980.501,668.676 984.264,671.371 987.796,674.214 991.083,677.184 994.113,680.26 996.875,683.424 999.36,686.657 1001.56,689.942 1003.47,693.259 1005.09,696.594 \n",
       "  1006.42,699.929 1007.45,703.249 1008.19,706.54 1008.63,709.787 1008.79,712.978 1008.67,716.105 1008.27,719.156 1007.58,722.118 1006.62,724.98 1005.39,727.731 \n",
       "  1003.88,730.361 1002.12,732.857 1000.09,735.21 997.814,737.408 995.295,739.443 992.543,741.305 989.567,742.983 986.379,744.468 982.989,745.752 979.414,746.829 \n",
       "  975.666,747.692 971.755,748.326 967.694,748.718 963.497,748.857 959.18,748.733 954.761,748.339 950.263,747.668 945.707,746.717 941.12,745.483 936.53,743.964 \n",
       "  931.965,742.162 927.459,740.08 923.046,737.721 918.762,735.092 914.647,732.201 910.74,729.057 907.058,725.682 903.634,722.098 900.509,718.325 897.719,714.385 \n",
       "  895.296,710.305 893.267,706.112 891.657,701.835 890.485,697.508 889.767,693.164 889.516,688.841 889.739,684.579 890.441,680.418 891.622,676.403 893.278,672.58 \n",
       "  895.401,668.998 897.971,665.687 900.957,662.67 904.328,659.97 908.05,657.607 912.089,655.598 916.41,653.955 920.975,652.686 925.746,651.798 930.683,651.29 \n",
       "  935.745,651.16 940.89,651.401 946.074,652.003 951.251,652.952 956.376,654.23 961.411,655.815 966.329,657.682 971.099,659.809 975.696,662.175 980.094,664.757 \n",
       "  984.273,667.532 988.212,670.479 991.894,673.576 995.305,676.8 998.433,680.131 1001.27,683.546 1003.8,687.025 1006.03,690.545 1007.96,694.086 1009.57,697.626 \n",
       "  1010.88,701.153 1011.89,704.659 1012.58,708.131 1012.98,711.557 1013.06,714.921 1012.85,718.213 1012.34,721.419 1011.54,724.528 1010.45,727.528 1009.07,730.408 \n",
       "  1007.42,733.158 1005.49,735.767 1003.3,738.227 1000.84,740.527 998.159,742.663 995.247,744.626 992.108,746.399 988.744,747.969 985.16,749.323 981.362,750.449 \n",
       "  977.362,751.335 973.171,751.97 968.804,752.346 964.28,752.454 959.619,752.285 954.845,751.834 949.983,751.094 945.061,750.06 940.112,748.728 935.169,747.095 \n",
       "  930.268,745.159 925.449,742.917 920.75,740.372 916.182,737.538 911.781,734.423 907.592,731.038 903.656,727.397 900.012,723.518 896.697,719.423 893.744,715.136 \n",
       "  891.185,710.689 889.049,706.113 887.363,701.445 886.151,696.728 885.434,692.004 885.233,687.324 885.562,682.74 886.426,678.304 887.81,674.056 889.698,670.029 \n",
       "  892.069,666.257 894.902,662.767 898.17,659.587 901.845,656.741 905.896,654.249 910.288,652.13 914.984,650.4 919.944,649.073 925.124,648.158 930.479,647.664 \n",
       "  935.961,647.595 941.516,647.951 947.092,648.695 952.645,649.803 958.133,651.253 963.52,653.026 968.771,655.098 973.854,657.447 978.741,660.049 983.406,662.878 \n",
       "  987.828,665.908 991.985,669.114 995.863,672.466 999.448,675.937 1002.73,679.497 1005.7,683.131 1008.35,686.826 1010.68,690.562 1012.69,694.32 1014.37,698.084 \n",
       "  1015.73,701.838 1016.76,705.565 1017.47,709.25 1017.85,712.881 1017.92,716.444 1017.67,719.926 1017.11,723.317 1016.24,726.607 1015.08,729.785 1013.63,732.841 \n",
       "  1011.89,735.765 1009.87,738.544 1007.57,741.166 1004.99,743.62 1002.14,745.894 999.025,747.978 995.65,749.86 992.027,751.528 988.168,752.972 984.086,754.181 \n",
       "  979.798,755.144 975.319,755.85 970.668,756.29 965.865,756.452 960.931,756.326 955.889,755.905 950.752,755.185 945.547,754.154 940.304,752.799 935.052,751.114 \n",
       "  929.825,749.095 924.655,746.742 919.579,744.058 914.635,741.049 909.862,737.727 905.301,734.103 900.995,730.197 896.989,726.027 893.329,721.619 890.063,717.002 \n",
       "  887.22,712.223 884.833,707.321 882.935,702.335 881.55,697.304 880.699,692.268 880.396,687.266 880.65,682.339 881.467,677.529 882.843,672.878 884.773,668.429 \n",
       "  887.244,664.225 890.237,660.31 893.73,656.73 897.695,653.53 902.096,650.756 906.89,648.438 912.015,646.566 917.416,645.147 923.041,644.182 928.839,643.671 \n",
       "  934.759,643.609 940.752,643.984 946.772,644.783 952.772,645.986 958.707,647.569 964.533,649.505 970.209,651.762 975.693,654.302 980.953,657.097 985.968,660.129 \n",
       "  990.718,663.368 995.184,666.788 999.352,670.361 1003.21,674.063 1006.74,677.87 1009.93,681.759 1012.79,685.707 1015.3,689.695 1017.46,693.703 1019.28,697.713 \n",
       "  1020.75,701.707 1021.88,705.67 1022.67,709.588 1023.12,713.45 1023.24,717.243 1023.04,720.955 1022.5,724.573 1021.65,728.087 1020.48,731.483 1018.99,734.751 \n",
       "  1017.19,737.879 1015.1,740.857 1012.71,743.673 1010.03,746.317 1007.07,748.779 1003.84,751.049 1000.34,753.117 996.607,754.977 992.631,756.612 988.419,758.008 \n",
       "  983.979,759.148 979.32,760.02 974.456,760.609 969.403,760.904 964.18,760.894 958.81,760.569 953.318,759.919 947.731,758.937 942.082,757.616 936.405,755.949 \n",
       "  930.737,753.932 925.118,751.56 919.591,748.831 914.186,745.752 908.936,742.335 903.897,738.588 899.121,734.522 894.656,730.155 890.55,725.508 886.845,720.609 \n",
       "  883.582,715.489 880.799,710.186 878.532,704.742 876.812,699.204 875.67,693.625 875.13,688.061 875.219,682.576 875.951,677.236 877.316,672.099 879.298,667.211 \n",
       "  881.872,662.614 885.014,658.347 888.693,654.445 892.875,650.939 897.522,647.858 902.591,645.225 908.036,643.06 913.807,641.38 919.85,640.198 926.106,639.522 \n",
       "  932.512,639.358 939.005,639.695 945.523,640.49 952.015,641.716 958.431,643.349 964.727,645.36 970.861,647.723 976.796,650.408 982.5,653.385 987.942,656.623 \n",
       "  993.098,660.089 997.947,663.75 1002.47,667.572 1006.66,671.517 1010.5,675.562 1013.98,679.693 1017.1,683.888 1019.86,688.125 1022.25,692.386 1024.29,696.651 \n",
       "  1025.95,700.902 1027.26,705.123 1028.21,709.299 1028.8,713.415 1029.04,717.459 1028.94,721.419 1028.49,725.285 1027.7,729.046 1026.6,732.69 1025.17,736.207 \n",
       "  1023.41,739.584 1021.34,742.812 1018.96,745.878 1016.26,748.771 1013.26,751.481 1009.96,753.994 1006.38,756.3 1002.52,758.385 998.384,760.239 993.995,761.849 \n",
       "  989.363,763.202 984.501,764.286 979.424,765.088 974.148,765.603 968.687,765.81 963.058,765.693 957.283,765.234 951.385,764.421 945.392,763.243 939.336,761.691 \n",
       "  933.25,759.759 927.174,757.444 921.148,754.744 915.217,751.661 909.43,748.198 903.837,744.361 898.494,740.16 893.431,735.621 888.705,730.771 884.379,725.638 \n",
       "  880.507,720.251 877.141,714.648 874.324,708.866 872.094,702.951 870.483,696.948 869.517,690.912 869.216,684.897 869.593,678.964 870.655,673.177 872.406,667.605 \n",
       "  874.84,662.32 877.945,657.398 881.684,652.881 886.008,648.805 890.866,645.205 896.207,642.108 901.976,639.537 908.118,637.504 914.572,636.02 921.279,635.085 \n",
       "  928.177,634.694 935.199,634.836 942.28,635.492 949.35,636.638 956.344,638.243 963.217,640.271 969.926,642.687 976.43,645.457 982.692,648.546 988.679,651.92 \n",
       "  994.363,655.546 999.719,659.391 1004.73,663.425 1009.37,667.614 1013.64,671.929 1017.53,676.34 1021.02,680.816 1024.14,685.328 1026.87,689.855 1029.21,694.387 \n",
       "  1031.17,698.911 1032.75,703.409 1033.95,707.866 1034.78,712.267 1035.24,716.598 1035.33,720.846 1035.07,724.999 1034.45,729.046 1033.49,732.975 1032.18,736.777 \n",
       "  1030.53,740.442 1028.57,743.961 1026.29,747.324 1023.7,750.517 1020.79,753.53 1017.56,756.351 1014.02,758.967 1010.17,761.366 1006.02,763.534 1001.58,765.459 \n",
       "  996.852,767.128 991.859,768.526 986.613,769.639 981.131,770.453 975.432,770.954 969.539,771.126 963.475,770.955 957.265,770.424 950.93,769.528 944.492,768.253 \n",
       "  937.986,766.58 931.449,764.496 924.923,761.991 918.449,759.059 912.074,755.702 905.849,751.923 899.825,747.733 894.057,743.145 888.605,738.18 883.53,732.861 \n",
       "  878.896,727.216 874.762,721.29 871.176,715.144 868.188,708.83 865.842,702.398 864.174,695.903 863.212,689.399 862.976,682.942 863.479,676.589 864.726,670.4 \n",
       "  866.713,664.434 869.43,658.753 872.858,653.42 876.972,648.499 881.737,644.056 887.112,640.159 893.042,636.862 899.44,634.161 906.23,632.063 913.336,630.573 \n",
       "  920.687,629.689 928.214,629.402 935.849,629.698 943.526,630.552 951.181,631.938 958.753,633.82 966.182,636.154 973.41,638.892 980.386,641.985 987.078,645.409 \n",
       "  993.458,649.123 999.501,653.091 1005.19,657.274 1010.49,661.639 1015.41,666.154 1019.92,670.786 1024.03,675.509 1027.71,680.295 1030.98,685.12 1033.84,689.963 \n",
       "  1036.28,694.801 1038.32,699.618 1039.96,704.398 1041.2,709.128 1042.06,713.796 1042.53,718.389 1042.62,722.893 1042.34,727.297 1041.69,731.59 1040.68,735.76 \n",
       "  1039.32,739.797 1037.6,743.69 1035.54,747.43 1033.14,751.007 1030.4,754.412 1027.36,757.636 1024,760.669 1020.35,763.497 1016.37,766.105 1012.09,768.48 \n",
       "  1007.49,770.605 1002.57,772.467 997.364,774.051 991.863,775.34 986.087,776.321 980.053,776.976 973.784,777.291 967.302,777.248 960.636,776.833 953.817,776.027 \n",
       "  946.877,774.816 939.856,773.181 932.793,771.106 925.715,768.588 918.66,765.624 911.684,762.2 904.846,758.309 898.205,753.955 891.82,749.146 885.753,743.898 \n",
       "  880.066,738.236 874.821,732.192 870.083,725.804 865.917,719.119 862.39,712.192 859.568,705.082 857.516,697.89 856.26,690.697 855.815,683.569 856.185,676.568 \n",
       "  857.369,669.758 859.359,663.199 862.14,656.951 865.689,651.073 869.979,645.622 874.972,640.654 880.627,636.223 886.893,632.383 893.713,629.187 901.024,626.684 \n",
       "  908.751,624.915 916.775,623.835 925,623.417 933.345,623.638 941.732,624.472 950.09,625.888 958.353,627.85 966.46,630.318 974.357,633.247 981.992,636.588 \n",
       "  989.322,640.287 996.307,644.284 1002.91,648.54 1009.13,653.026 1014.93,657.706 1020.3,662.543 1025.25,667.504 1029.76,672.559 1033.83,677.678 1037.46,682.838 \n",
       "  1040.65,688.013 1043.39,693.184 1045.71,698.333 1047.59,703.442 1049.07,708.499 1050.13,713.489 1050.79,718.4 1051.05,723.221 1050.93,727.94 1050.42,732.548 \n",
       "  1049.53,737.033 1048.28,741.386 1046.65,745.596 1044.67,749.653 1042.34,753.548 1039.65,757.27 1036.62,760.81 1033.25,764.159 1029.55,767.307 1025.54,770.241 \n",
       "  1021.2,772.947 1016.53,775.41 1011.53,777.615 1006.22,779.544 1000.59,781.183 994.663,782.514 988.447,783.519 981.959,784.182 975.22,784.482 968.252,784.403 \n",
       "  961.081,783.923 953.737,783.023 946.251,781.683 938.655,779.889 930.982,777.634 923.28,774.896 915.603,771.653 908.007,767.893 900.554,763.612 893.305,758.815 \n",
       "  886.327,753.512 879.688,747.722 873.462,741.472 867.722,734.797 862.548,727.74 858.022,720.351 854.225,712.69 851.219,704.854 849.049,696.925 847.753,688.979 \n",
       "  847.356,681.092 847.876,673.338 849.317,665.793 851.677,658.531 854.94,651.627 859.082,645.156 864.067,639.192 869.849,633.808 876.373,629.08 883.572,625.08 \n",
       "  891.368,621.877 899.643,619.45 908.289,617.783 917.208,616.865 926.309,616.68 935.504,617.201 944.709,618.396 953.849,620.224 962.85,622.637 971.644,625.58 \n",
       "  980.17,628.99 988.369,632.796 996.197,636.952 1003.63,641.42 1010.63,646.156 1017.2,651.113 1023.31,656.252 1028.96,661.533 1034.13,666.923 1038.83,672.389 \n",
       "  1043.04,677.903 1046.78,683.44 1050.05,688.976 1052.86,694.494 1055.22,699.975 1057.13,705.405 1058.61,710.77 1059.67,716.058 1060.31,721.257 1060.54,726.357 \n",
       "  1060.37,731.347 1059.8,736.216 1058.85,740.956 1057.52,745.556 1055.82,750.009 1053.75,754.306 1051.31,758.441 1048.53,762.403 1045.42,766.182 1041.96,769.768 \n",
       "  1038.15,773.149 1033.98,776.314 1029.46,779.25 1024.58,781.942 1019.34,784.377 1013.75,786.536 1007.83,788.405 1001.57,789.963 995.004,791.192 988.135,792.072 \n",
       "  980.986,792.581 973.579,792.696 965.939,792.396 958.092,791.654 950.066,790.45 941.882,788.773 933.582,786.591 925.209,783.878 916.817,780.613 908.463,776.781 \n",
       "  900.21,772.378 892.126,767.402 884.287,761.862 876.771,755.771 869.665,749.149 863.06,742.026 857.05,734.437 851.715,726.457 847.137,718.164 843.393,709.631 \n",
       "  840.548,700.936 838.655,692.158 837.755,683.38 837.875,674.687 839.031,666.166 841.227,657.91 844.456,650.011 848.697,642.565 853.916,635.672 860.07,629.434 \n",
       "  867.101,623.955 874.926,619.318 883.412,615.523 892.444,612.585 901.913,610.507 911.712,609.284 921.738,608.898 931.892,609.318 942.077,610.504 952.2,612.405 \n",
       "  962.172,614.957 971.906,618.085 981.325,621.715 990.383,625.804 999.039,630.294 1007.26,635.125 1015.02,640.245 1022.29,645.603 1029.06,651.151 1035.31,656.848 \n",
       "  1041.03,662.655 1046.24,668.536 1050.92,674.461 1055.09,680.402 1058.77,686.336 1061.96,692.244 1064.67,698.111 1066.91,703.922 1068.7,709.663 1070.04,715.323 \n",
       "  1070.95,720.89 1071.43,726.353 1071.5,731.703 1071.17,736.93 1070.43,742.026 1069.31,746.985 1067.8,751.8 1065.92,756.465 1063.68,760.968 1061.07,765.304 \n",
       "  1058.1,769.464 1054.76,773.44 1051.05,777.223 1046.96,780.8 1042.51,784.16 1037.68,787.29 1032.5,790.174 1026.94,792.798 1021.04,795.144 1014.78,797.193 \n",
       "  1008.18,798.928 1001.25,800.326 993.997,801.367 986.434,802.033 978.568,802.296 970.413,802.124 961.989,801.485 953.323,800.351 944.451,798.696 935.412,796.494 \n",
       "  926.256,793.723 917.039,790.363 907.824,786.396 898.68,781.805 889.685,776.578 880.901,770.717 872.404,764.243 864.32,757.166 856.765,749.507 849.848,741.301 \n",
       "  843.67,732.595 838.323,723.449 833.889,713.936 830.445,704.14 828.057,694.16 826.783,684.107 826.673,674.105 827.768,664.289 830.102,654.808 833.686,645.818 \n",
       "  838.455,637.432 844.334,629.743 851.242,622.831 859.09,616.762 867.782,611.59 877.216,607.353 887.279,604.078 897.852,601.777 908.81,600.449 920.019,600.078 \n",
       "  931.337,600.637 942.642,602.055 953.838,604.248 964.832,607.144 975.54,610.672 985.891,614.763 995.825,619.348 1005.29,624.36 1014.25,629.733 1022.68,635.4 \n",
       "  1030.55,641.299 1037.86,647.365 1044.62,653.547 1050.8,659.826 1056.42,666.168 1061.49,672.544 1066.02,678.927 1070.02,685.294 1073.49,691.623 1076.47,697.896 \n",
       "  1078.95,704.097 1080.95,710.214 1082.48,716.238 1083.57,722.159 1084.23,727.969 1084.46,733.66 1084.28,739.227 1083.69,744.662 1082.71,749.96 1081.34,755.114 \n",
       "  1079.59,760.118 1077.45,764.964 1074.94,769.647 1072.07,774.16 1068.82,778.495 1065.21,782.646 1061.24,786.602 1056.9,790.353 1052.18,793.887 1047.09,797.193 \n",
       "  1041.61,800.255 1035.75,803.058 1029.51,805.583 1022.89,807.812 1015.89,809.724 1008.52,811.294 1000.78,812.5 992.682,813.315 984.245,813.72 975.482,813.686 \n",
       "  966.405,813.169 957.035,812.13 947.401,810.532 937.544,808.341 927.51,805.528 917.358,802.066 907.154,797.931 896.974,793.103 886.904,787.566 877.039,781.306 \n",
       "  867.48,774.313 858.304,766.608 849.633,758.223 841.614,749.189 834.382,739.553 828.058,729.38 822.752,718.747 818.562,707.751 815.573,696.501 813.857,685.126 \n",
       "  813.475,673.767 814.475,662.582 816.892,651.747 820.744,641.448 825.977,631.835 832.501,623.022 840.219,615.106 849.027,608.167 858.809,602.27 869.443,597.461 \n",
       "  880.794,593.768 892.72,591.205 905.069,589.767 917.681,589.432 930.388,590.158 943.056,591.848 955.573,594.405 967.831,597.742 979.739,601.773 991.218,606.413 \n",
       "  1002.2,611.58 1012.64,617.194 1022.5,623.175 1031.75,629.446 1040.38,635.932 1048.39,642.568 1055.76,649.325 1062.51,656.162 1068.64,663.047 1074.18,669.945 \n",
       "  1079.14,676.83 1083.52,683.678 1087.35,690.467 1090.65,697.181 1093.43,703.807 1095.71,710.338 1097.52,716.762 1098.87,723.072 1099.78,729.262 1100.25,735.327 \n",
       "  1100.32,741.262 1099.97,747.062 1099.23,752.723 1098.11,758.24 1096.61,763.609 1094.73,768.827 1092.49,773.891 1089.89,778.795 1086.93,783.533 1083.61,788.101 \n",
       "  1079.91,792.492 1075.84,796.697 1071.39,800.709 1066.55,804.515 1061.33,808.103 1055.72,811.461 1049.71,814.572 1043.31,817.42 1036.5,819.988 1029.29,822.256 \n",
       "  1021.68,824.201 1013.65,825.796 1005.2,827.009 996.335,827.809 987.068,828.162 977.41,828.032 967.385,827.382 957.021,826.174 946.353,824.367 935.421,821.92 \n",
       "  924.273,818.788 912.96,814.957 901.555,810.392 890.152,805.029 878.853,798.823 867.765,791.746 857.005,783.792 846.696,774.97 836.967,765.31 827.957,754.861 \n",
       "  819.81,743.689 812.677,731.879 806.718,719.536 802.1,706.784 798.947,693.79 797.321,680.746 797.285,667.821 798.874,655.178 802.096,642.98 806.934,631.384 \n",
       "  813.343,620.543 821.252,610.609 830.562,601.728 841.15,594.044 852.865,587.695 865.522,582.773 878.907,579.217 892.822,576.997 907.083,576.071 921.52,576.381 \n",
       "  935.974,577.852 950.299,580.392 964.364,583.895 978.049,588.236 991.248,593.274 1003.87,598.878 1015.87,604.983 1027.21,611.501 1037.86,618.347 1047.82,625.445 \n",
       "  1057.06,632.728 1065.58,640.135 1073.4,647.616 1080.52,655.127 1086.97,662.635 1092.77,670.111 1097.95,677.53 1102.53,684.876 1106.53,692.133 1109.99,699.289 \n",
       "  1112.92,706.334 1115.36,713.258 1117.32,720.056 1118.82,726.721 1119.89,733.25 1120.53,739.642 1120.78,745.895 1120.64,752.008 1120.14,757.981 1119.26,763.811 \n",
       "  1118.03,769.498 1116.44,775.04 1114.5,780.435 1112.21,785.682 1109.57,790.777 1106.59,795.718 1103.26,800.5 1099.58,805.12 1095.55,809.574 1091.16,813.852 \n",
       "  1086.4,817.948 1081.25,821.852 1075.71,825.554 1069.76,829.039 1063.39,832.292 1056.6,835.297 1049.38,838.032 1041.7,840.477 1033.58,842.608 1025,844.402 \n",
       "  1015.97,845.829 1006.46,846.847 996.469,847.414 985.998,847.486 975.06,847.017 963.678,845.959 951.883,844.263 939.718,841.879 927.236,838.754 914.499,834.833 \n",
       "  901.58,830.062 888.559,824.382 875.517,817.777 862.584,810.204 849.92,801.606 837.685,791.957 826.048,781.259 815.175,769.543 805.242,756.87 796.425,743.331 \n",
       "  788.905,729.045 782.864,714.159 778.492,698.852 775.975,683.338 775.413,667.908 776.833,652.794 780.233,638.203 785.581,624.333 792.819,611.368 801.859,599.485 \n",
       "  812.586,588.849 824.853,579.615 838.488,571.925 853.288,565.915 869.022,561.695 885.398,559.168 902.159,558.216 919.081,558.742 935.963,560.634 952.626,563.771 \n",
       "  968.914,568.013 984.694,573.212 999.855,579.202 1014.31,585.808 1027.99,592.913 1040.86,600.429 1052.92,608.258 1064.14,616.312 1074.53,624.514 1084.1,632.798 \n",
       "  1092.86,641.109 1100.84,649.402 1108.07,657.643 1114.58,665.807 1120.42,673.87 1125.62,681.818 1130.21,689.639 1134.23,697.323 1137.71,704.864 1140.68,712.255 \n",
       "  1143.17,719.494 1145.22,726.579 1146.84,733.511 1148.07,740.292 1148.92,746.924 1149.43,753.408 1149.58,759.747 1149.41,765.942 1148.92,771.995 1148.11,777.908 \n",
       "  1147.01,783.684 1145.6,789.323 1143.91,794.828 1141.94,800.202 1139.68,805.445 1137.14,810.558 1134.31,815.54 1131.17,820.39 1127.73,825.107 1123.97,829.686 \n",
       "  1119.88,834.126 1115.45,838.421 1110.67,842.565 1105.52,846.553 1099.98,850.373 1094.05,854.017 1087.7,857.472 1080.9,860.725 1073.64,863.759 1065.9,866.553 \n",
       "  1057.66,869.082 1048.9,871.318 1039.6,873.23 1029.76,874.783 1019.35,875.938 1008.37,876.652 996.826,876.892 984.728,876.607 972.057,875.718 958.812,874.143 \n",
       "  945.012,871.806 930.699,868.629 915.934,864.539 900.797,859.462 885.391,853.328 869.84,846.068 854.286,837.613 838.892,827.898 823.843,816.861 809.291,804.511 \n",
       "  795.5,790.854 782.765,775.912 771.361,759.754 761.545,742.498 753.552,724.309 747.599,705.402 743.884,686.037 742.585,666.525 743.859,647.225 747.824,628.539 \n",
       "  754.424,610.837 763.545,594.425 775.036,579.565 788.709,566.475 804.335,555.333 821.648,546.277 840.342,539.4 860.071,534.756 880.457,532.34 901.18,531.963 \n",
       "  921.947,533.422 942.497,536.528 962.607,541.085 982.09,546.891 1000.8,553.739 1018.61,561.419 1035.47,569.711 1051.31,578.441 1066.11,587.509 1079.87,596.803 \n",
       "  1092.61,606.222 1104.34,615.685 1115.09,625.122 1124.91,634.48 1133.84,643.721 1141.93,652.818 1149.24,661.749 1155.82,670.499 1161.73,679.061 1167,687.425 \n",
       "  1171.69,695.591 1175.86,703.555 1179.53,711.322 1182.75,718.895 1185.57,726.278 1188.02,733.475 1190.12,740.492 1191.91,747.334 1193.41,754.006 1194.65,760.513 \n",
       "  1195.66,766.863 1196.45,773.061 1197.04,779.113 1197.44,785.023 1197.67,790.797 1197.74,796.439 1197.66,801.955 1197.43,807.349 1197.06,812.625 1196.57,817.789 \n",
       "  1195.94,822.843 1195.18,827.791 1194.3,832.637 1193.28,837.386 1192.14,842.039 1190.87,846.602 1189.47,851.076 1187.92,855.464 1186.23,859.77 1184.39,863.995 \n",
       "  1182.38,868.141 1180.21,872.211 1177.86,876.207 1175.31,880.13 1172.57,883.98 1169.61,887.76 1166.41,891.468 1162.97,895.106 1159.26,898.672 1155.27,902.164 \n",
       "  1150.97,905.58 1146.34,908.917 1141.36,912.171 1136.01,915.333 1130.25,918.4 1124.05,921.365 1117.38,924.217 1110.22,926.942 1102.52,929.521 1094.25,931.933 \n",
       "  1085.37,934.153 1075.86,936.153 1065.66,937.9 1054.73,939.358 1043.07,940.484 1030.63,941.225 1017.35,941.518 1003.2,941.288 988.151,940.452 972.196,938.913 \n",
       "  955.347,936.566 937.631,933.294 919.094,928.968 899.797,923.452 879.819,916.594 859.265,908.278 838.307,898.365 817.156,886.621 796.071,872.871 775.354,857 \n",
       "  755.353,838.957 736.459,818.755 719.112,796.465 703.793,772.225 691.032,746.231 681.327,718.825 675.058,690.554 672.563,661.946 674.072,633.54 679.702,605.887 \n",
       "  689.46,579.551 703.245,555.107 720.842,533.143 741.929,514.257 766.049,499.011 792.506,487.477 820.648,479.601 849.886,475.27 879.671,474.278 909.5,476.325 \n",
       "  938.914,481.019 967.494,487.876 994.892,496.376 1020.94,506.201 1045.51,517.003 1068.53,528.469 1089.96,540.332 1109.78,552.369 1128.02,564.404 1144.77,576.307 \n",
       "  1160.11,587.99 1174.12,599.362 1186.88,610.395 1198.5,621.077 1209.07,631.4 1218.69,641.356 1227.45,650.943 1235.43,660.16 1242.72,669.01 1249.39,677.498 \n",
       "  1255.51,685.634 1261.15,693.428 1266.38,700.902 1271.27,708.071 1275.87,714.944 1280.24,721.53 1284.42,727.839 1288.47,733.878 1292.42,739.655 1296.32,745.177 \n",
       "  1300.2,750.447 1304.1,755.468 1308.05,760.24 1312.08,764.762 1316.21,769.035 1320.48,773.056 1324.91,776.823 1329.53,780.332 1334.37,783.579 1339.45,786.554 \n",
       "  1344.8,789.248 1350.43,791.65 1356.37,793.745 1362.64,795.52 1369.27,796.958 1376.26,798.042 1383.66,798.753 1391.46,799.07 1399.7,798.969 1408.39,798.42 \n",
       "  1417.55,797.392 1427.18,795.855 1437.29,793.774 1447.88,791.119 1458.96,787.854 1470.49,783.945 1482.49,779.357 1494.91,774.058 1507.71,768.035 1520.84,761.24 \n",
       "  1534.26,753.632 1547.89,745.19 1561.63,735.911 1575.37,725.809 1588.98,714.917 1602.3,703.285 1615.17,690.982 1627.4,678.094 1638.78,664.726 1649.09,651.004 \n",
       "  1658.18,637.109 1665.8,623.249 1671.74,609.628 1675.83,596.454 1677.92,583.933 1677.92,572.272 1675.77,561.677 1671.43,552.357 1664.93,544.518 1656.31,538.344 \n",
       "  1645.75,533.859 1633.44,531.065 1619.59,529.942 1604.44,530.437 1588.21,532.464 1571.15,535.903 1553.52,540.603 1535.57,546.379 1517.59,553.011 1499.8,560.317 \n",
       "  1482.36,568.152 1465.41,576.364 1449.09,584.823 1433.5,593.414 1418.72,602.042 1404.79,610.629 1391.75,619.114 1379.59,627.457 1368.32,635.631 1357.92,643.62 \n",
       "  1348.38,651.419 1339.66,659.023 1331.72,666.432 1324.55,673.648 1318.09,680.677 1312.31,687.526 1307.18,694.205 1302.64,700.725 1298.67,707.091 1295.22,713.31 \n",
       "  1292.27,719.387 1289.77,725.328 1287.7,731.137 1286.04,736.817 1284.74,742.371 1283.81,747.8 1283.19,753.104 1282.9,758.282 1282.9,763.337 1283.2,768.268 \n",
       "  1283.77,773.073 1284.62,777.75 1285.73,782.297 1287.09,786.709 1288.71,790.982 1290.58,795.111 1292.71,799.091 1295.1,802.919 1297.75,806.589 1300.67,810.095 \n",
       "  1303.87,813.43 1307.37,816.585 1311.16,819.55 1315.27,822.315 1319.71,824.869 1324.48,827.199 1329.63,829.292 1335.15,831.133 1341.07,832.705 1347.42,833.989 \n",
       "  1354.22,834.961 1361.48,835.599 1369.23,835.875 1377.49,835.76 1386.3,835.225 1395.64,834.24 1405.56,832.77 1416.07,830.763 1427.22,828.172 1439.02,824.944 \n",
       "  1451.47,821.03 1464.58,816.38 1478.31,810.943 1492.65,804.669 1507.56,797.507 1522.99,789.407 1538.88,780.319 1555.16,770.198 1571.71,759.044 1588.4,746.821 \n",
       "  1605.05,733.522 1621.48,719.176 1637.46,703.852 1652.75,687.657 1667.1,670.738 1680.2,653.278 1691.77,635.5 1701.45,617.666 1708.93,600.103 1713.98,583.196 \n",
       "  1716.4,567.263 1716.04,552.589 1712.84,539.433 1706.75,528.027 1697.84,518.575 1686.2,511.254 1672.01,506.215 1655.48,503.578 1636.93,503.401 1616.81,505.406 \n",
       "  1595.52,509.348 1573.44,515.002 1550.93,522.129 1528.31,530.474 1505.87,539.765 1483.9,549.719 1462.64,560.034 1442.27,570.487 1422.88,580.992 1404.57,591.427 \n",
       "  1387.37,601.698 1371.32,611.73 1356.42,621.47 1342.67,630.891 1330.02,639.986 1318.43,648.77 1307.83,657.262 1298.19,665.463 1289.43,673.394 1281.5,681.075 \n",
       "  1274.33,688.525 1267.87,695.762 1262.06,702.803 1256.85,709.666 1252.18,716.364 1248,722.914 1244.26,729.325 1240.93,735.607 1237.95,741.767 1235.3,747.814 \n",
       "  1232.93,753.753 1230.82,759.589 1228.94,765.326 1227.25,770.965 1225.73,776.508 1224.37,781.958 1223.13,787.316 1222.01,792.586 1220.98,797.767 1220.05,802.862 \n",
       "  1219.18,807.871 1218.36,812.795 1217.6,817.633 1216.86,822.388 1216.16,827.06 1215.47,831.652 1214.79,836.162 1214.12,840.595 1213.44,844.949 1212.75,849.226 \n",
       "  1212.05,853.427 1211.32,857.555 1210.57,861.61 1209.78,865.594 1208.96,869.508 1208.08,873.355 1207.16,877.135 1206.18,880.851 1205.14,884.503 1204.02,888.094 \n",
       "  1202.83,891.625 1201.56,895.099 1200.19,898.517 1198.72,901.88 1197.15,905.191 1195.45,908.45 1193.63,911.66 1191.66,914.822 1189.55,917.937 1187.27,921.008 \n",
       "  1184.81,924.034 1182.16,927.018 1179.3,929.959 1176.22,932.859 1172.88,935.716 1169.29,938.53 1165.41,941.3 1161.21,944.026 1156.68,946.705 1151.79,949.333 \n",
       "  1146.51,951.907 1140.8,954.417 1134.63,956.857 1127.97,959.215 1120.78,961.479 1113.02,963.635 1104.65,965.659 1095.63,967.534 1085.89,969.236 1075.39,970.732 \n",
       "  1064.08,971.979 1051.92,972.927 1038.85,973.514 1024.84,973.671 1009.84,973.318 993.829,972.368 976.764,970.724 958.678,968.294 939.538,964.917 919.326,960.412 \n",
       "  898.074,954.593 875.871,947.277 852.857,938.275 829.224,927.4 805.219,914.46 781.141,899.264 757.34,881.619 734.166,861.415 712.123,838.625 691.884,813.205 \n",
       "  674.082,785.256 659.308,755.027 648.106,722.909 640.979,689.442 638.386,655.309 640.742,621.34 648.357,588.499 661.092,557.702 678.673,529.713 700.711,505.162 \n",
       "  726.697,484.549 755.998,468.242 787.857,456.478 821.399,449.352 855.818,446.547 890.428,447.546 924.622,451.856 957.902,458.96 989.877,468.314 1020.26,479.354 \n",
       "  1048.88,491.494 1075.62,504.335 1100.46,517.589 1123.4,530.982 1144.5,544.293 1163.82,557.355 1181.47,570.055 1197.56,582.32 1212.2,594.1 1225.51,605.381 \n",
       "  1237.62,616.157 1248.63,626.428 1258.66,636.201 1267.8,645.485 1276.17,654.301 1283.86,662.67 1290.96,670.614 1297.54,678.152 1303.69,685.301 1309.47,692.077 \n",
       "  1314.96,698.493 1320.21,704.564 1325.28,710.3 1330.23,715.712 1335.1,720.806 1339.93,725.586 1344.77,730.054 1349.64,734.212 1354.59,738.062 1359.65,741.601 \n",
       "  1364.85,744.829 1370.22,747.741 1375.78,750.332 1381.56,752.59 1387.57,754.508 1393.84,756.073 1400.37,757.274 1407.2,758.097 1414.32,758.53 1421.76,758.557 \n",
       "  1429.51,758.163 1437.59,757.326 1445.99,756.025 1454.71,754.242 1463.74,751.957 1473.06,749.154 1482.67,745.816 1492.52,741.93 1502.58,737.483 1512.83,732.469 \n",
       "  1523.2,726.886 1533.64,720.727 1544.07,713.993 1554.41,706.701 1564.58,698.876 1574.48,690.559 1584,681.802 1593.03,672.667 1601.45,663.231 1609.13,653.583 \n",
       "  1615.93,643.822 1621.76,634.065 1626.49,624.442 1630.01,615.084 1632.22,606.117 1633.06,597.662 1632.48,589.836 1630.45,582.748 1626.98,576.506 1622.09,571.212 \n",
       "  1615.83,566.961 1608.29,563.817 1599.58,561.759 1589.83,560.776 1579.18,560.843 1567.78,561.918 1555.77,563.944 1543.3,566.847 1530.52,570.538 1517.6,574.91 \n",
       "  1504.69,579.842 1491.93,585.238 1479.4,591.022 1467.21,597.109 1455.44,603.421 1444.15,609.89 1433.41,616.456 1423.26,623.065 1413.72,629.675 1404.82,636.249 \n",
       "  1396.55,642.761 1388.91,649.191 1381.91,655.525 1375.54,661.751 1369.78,667.863 1364.61,673.852 1360.02,679.712 1355.99,685.441 1352.51,691.034 1349.54,696.49 \n",
       "  1347.09,701.809 1345.11,706.99 1343.6,712.028 1342.54,716.923 1341.91,721.671 1341.69,726.269 1341.89,730.714 1342.48,735.001 1343.46,739.124 1344.82,743.077 \n",
       "  1346.55,746.853 1348.64,750.443 1351.1,753.84 1353.91,757.032 1357.09,760.013 1360.64,762.772 1364.56,765.299 1368.86,767.58 1373.53,769.601 1378.59,771.347 \n",
       "  1384.04,772.801 1389.88,773.944 1396.12,774.757 1402.76,775.218 1409.81,775.311 1417.27,775.011 1425.16,774.292 1433.47,773.129 1442.2,771.496 1451.35,769.368 \n",
       "  1460.9,766.719 1470.84,763.525 1481.14,759.762 1491.78,755.406 1502.71,750.432 1513.9,744.831 1525.3,738.599 1536.82,731.712 1548.4,724.164 1559.95,715.962 \n",
       "  1571.37,707.13 1582.53,697.707 1593.33,687.748 1603.63,677.323 1613.28,666.519 1622.13,655.437 1630.02,644.194 1636.76,632.925 1642.23,621.793 1646.31,610.973 \n",
       "  1648.89,600.619 1649.87,590.878 1649.2,581.886 1646.84,573.768 1642.8,566.643 1637.1,560.615 1629.81,555.783 1621,552.234 1610.81,550.043 1599.39,549.195 \n",
       "  1586.95,549.578 1573.68,551.125 1559.78,553.754 1545.42,557.374 1530.77,561.878 1516.02,567.15 1501.31,573.06 1486.82,579.467 1472.68,586.217 1459.02,593.203 \n",
       "  1445.89,600.38 1433.37,607.671 1421.5,615.012 1410.32,622.349 1399.85,629.636 1390.12,636.837 1381.13,643.927 1372.86,650.89 1365.31,657.719 1358.43,664.417 \n",
       "  1352.22,670.974 1346.66,677.384 1341.71,683.65 1337.35,689.77 1333.56,695.745 1330.3,701.577 1327.55,707.265 1325.3,712.811 1323.51,718.216 1322.17,723.48 \n",
       "  1321.26,728.605 1320.75,733.586 1320.63,738.421 1320.88,743.11 1321.51,747.649 1322.5,752.036 1323.85,756.265 1325.54,760.331 1327.57,764.227 1329.95,767.944 \n",
       "  1332.66,771.473 1335.7,774.805 1339.09,777.931 1342.83,780.842 1346.92,783.526 1351.39,785.972 1356.22,788.165 1361.45,790.091 1367.06,791.731 1373.09,793.067 \n",
       "  1379.53,794.079 1386.4,794.744 1393.7,795.041 1401.45,794.947 1409.66,794.432 1418.36,793.465 1427.53,792.015 1437.2,790.05 1447.36,787.538 1457.99,784.447 \n",
       "  1469.08,780.743 1480.62,776.395 1492.57,771.369 1504.9,765.63 1517.57,759.16 1530.51,751.95 1543.65,743.965 1556.9,735.183 1570.17,725.609 1583.31,715.264 \n",
       "  1596.21,704.192 1608.71,692.457 1620.64,680.144 1631.81,667.357 1642.03,654.224 1651.08,640.891 1658.74,627.528 1664.85,614.363 1669.26,601.612 1671.81,589.472 \n",
       "  1672.4,578.129 1670.96,567.754 1667.47,558.509 1661.92,550.54 1654.38,543.985 1644.92,538.964 1633.69,535.59 1620.84,533.933 1606.63,533.856 1591.34,535.249 \n",
       "  1575.2,538.006 1558.45,542.006 1541.31,547.112 1524,553.171 1506.74,560.012 1489.71,567.449 1473.11,575.282 1457.09,583.351 1441.73,591.603 1427.1,599.946 \n",
       "  1413.25,608.301 1400.23,616.602 1388.07,624.797 1376.77,632.848 1366.34,640.728 1356.75,648.426 1347.97,655.943 1339.97,663.289 1332.72,670.453 1326.18,677.439 \n",
       "  1320.33,684.252 1315.12,690.899 1310.51,697.386 1306.47,703.717 1302.97,709.898 1299.97,715.935 1297.45,721.833 1295.38,727.596 1293.72,733.228 1292.45,738.729 \n",
       "  1291.55,744.101 1291,749.346 1290.79,754.462 1290.9,759.45 1291.32,764.309 1292.04,769.034 1293.04,773.623 1294.33,778.072 1295.88,782.375 1297.72,786.529 \n",
       "  1299.83,790.532 1302.22,794.377 1304.9,798.059 1307.87,801.571 1311.13,804.903 1314.7,808.048 1318.59,810.994 1322.79,813.73 1327.34,816.243 1332.24,818.523 \n",
       "  1337.52,820.554 1343.18,822.321 1349.26,823.805 1355.77,824.987 1362.72,825.843 1370.14,826.348 1378.05,826.476 1386.47,826.197 1395.42,825.484 1404.89,824.309 \n",
       "  1414.93,822.625 1425.56,820.384 1436.8,817.539 1448.66,814.045 1461.13,809.853 1474.21,804.92 1487.85,799.2 1502.04,792.648 1516.71,785.22 1531.82,776.873 \n",
       "  1547.29,767.562 1563.04,757.27 1578.95,745.996 1594.86,733.723 1610.59,720.468 1625.94,706.282 1640.7,691.253 1654.64,675.504 1667.49,659.194 1679.01,642.517 \n",
       "  1688.88,625.704 1696.82,609.018 1702.53,592.79 1705.83,577.381 1706.58,563.06 1704.71,550.066 1700.19,538.613 1693.03,528.885 1683.3,521.039 1671.14,515.207 \n",
       "  1656.72,511.491 1640.26,509.967 1622.05,510.672 1602.5,513.361 1582.01,517.761 1560.93,523.653 1539.56,530.813 1518.21,539.012 1497.12,548.016 1476.54,557.584 \n",
       "  1456.65,567.471 1437.63,577.451 1419.56,587.449 1402.51,597.376 1386.52,607.153 1371.59,616.719 1357.75,626.03 1344.97,635.059 1333.24,643.799 1322.49,652.257 \n",
       "  1312.68,660.455 1303.76,668.396 1295.68,676.093 1288.38,683.564 1281.8,690.824 1275.9,697.889 1270.61,704.774 1265.9,711.491 1261.71,718.053 1258,724.472 \n",
       "  1254.72,730.757 1251.83,736.916 1249.3,742.956 1247.1,748.881 1245.19,754.699 1243.56,760.411 1242.16,766.021 1240.98,771.53 1240,776.94 1239.19,782.251 \n",
       "  1238.54,787.465 1238.04,792.584 1237.68,797.608 1237.45,802.537 1237.33,807.372 1237.32,812.113 1237.41,816.76 1237.59,821.312 1237.87,825.771 1238.23,830.136 \n",
       "  1238.69,834.407 1239.22,838.586 1239.85,842.67 1240.56,846.661 1241.35,850.557 1242.23,854.359 1243.21,858.066 1244.28,861.678 1245.45,865.195 1246.72,868.615 \n",
       "  1248.11,871.937 1249.61,875.161 1251.23,878.285 1252.99,881.306 1254.89,884.223 1256.94,887.034 1259.16,889.737 1261.55,892.326 1264.13,894.799 1266.91,897.151 \n",
       "  1269.91,899.376 1273.14,901.47 1276.63,903.423 1280.4,905.229 1284.46,906.881 1288.83,908.367 1293.55,909.676 1298.64,910.794 1304.13,911.703 1310.05,912.385 \n",
       "  1316.44,912.821 1323.32,912.986 1330.73,912.857 1338.72,912.407 1347.32,911.602 1356.56,910.404 1366.51,908.771 1377.22,906.654 1388.72,903.997 1401.07,900.738 \n",
       "  1414.29,896.811 1428.43,892.14 1443.51,886.645 1459.56,880.24 1476.6,872.832 1494.62,864.348 1513.57,854.698 1533.47,843.718 1554.28,831.275 1575.92,817.266 \n",
       "  1598.23,801.622 1621.01,784.306 1644,765.316 1666.88,744.679 1689.27,722.458 1710.76,698.746 1730.93,673.725 1749.25,647.781 1765.04,621.366 1777.73,594.968 \n",
       "  1786.8,569.115 1791.84,544.37 1792.52,521.335 1788.59,500.651 1779.88,482.995 1766.35,469.03 1748.36,459.002 1726.4,452.983 1701,450.929 1672.75,452.664 \n",
       "  1642.29,457.881 1610.33,466.136 1577.64,476.857 1544.93,489.405 1512.68,503.228 1481.33,517.817 1451.23,532.739 1422.63,547.636 1395.72,562.222 1370.56,576.287 \n",
       "  1347.16,589.695 1325.53,602.396 1305.62,614.378 1287.35,625.647 1270.66,636.227 1255.44,646.159 1241.58,655.499 1228.97,664.312 1217.5,672.65 1207.07,680.569 \n",
       "  1197.57,688.119 1188.91,695.346 1180.99,702.288 1173.72,708.979 1167.01,715.448 1160.8,721.719 1154.99,727.812 1149.53,733.742 1144.36,739.521 1139.43,745.16 \n",
       "  1134.67,750.666 1130.04,756.042 1125.48,761.291 1120.96,766.411 1116.43,771.402 1111.85,776.26 1107.2,780.983 1102.45,785.566 1097.56,790.002 1092.51,794.284 \n",
       "  1087.26,798.402 1081.79,802.348 1076.08,806.109 1070.1,809.673 1063.84,813.027 1057.28,816.154 1050.39,819.036 1043.17,821.653 1035.59,823.984 1027.66,826.004 \n",
       "  1019.34,827.688 1010.65,829.009 1001.58,829.933 992.127,830.424 982.297,830.444 972.105,829.955 961.574,828.915 950.732,827.284 939.616,825.019 928.27,822.076 \n",
       "  916.745,818.414 905.103,814.017 893.43,808.826 881.827,802.789 870.401,795.875 859.266,788.068 848.549,779.373 838.38,769.812 828.902,759.428 820.265,748.278 \n",
       "  812.625,736.442 806.151,724.015 800.997,711.118 797.263,697.912 795.065,684.569 794.492,671.26 795.603,658.162 798.42,645.452 802.935,633.308 809.107,621.913 \n",
       "  816.861,611.453 826.089,602.112 836.653,594.059 848.374,587.338 861.062,581.988 874.526,578.027 888.584,575.449 903.053,574.221 917.757,574.284 932.523,575.557 \n",
       "  947.183,577.93 961.573,581.269 975.571,585.464 989.093,590.408 1002.06,595.99 1014.41,602.104 1026.1,608.653 1037.08,615.549 1047.34,622.712 1056.86,630.069 \n",
       "  1065.65,637.557 1073.73,645.119 1081.11,652.713 1087.8,660.308 1093.84,667.875 1099.24,675.391 1104.03,682.834 1108.23,690.187 1111.88,697.434 1115,704.566 \n",
       "  1117.61,711.574 1119.73,718.455 1121.39,725.204 1122.62,731.817 1123.42,738.293 1123.83,744.63 1123.84,750.827 1123.47,756.881 1122.74,762.793 1121.65,768.561 \n",
       "  1120.21,774.186 1118.43,779.666 1116.32,785 1113.87,790.186 1111.08,795.222 1107.94,800.105 1104.46,804.831 1100.62,809.395 1096.42,813.79 1091.85,818.009 \n",
       "  1086.91,822.045 1081.59,825.887 1075.87,829.524 1069.74,832.943 1063.2,836.129 1056.22,839.063 1048.79,841.726 1040.9,844.093 1032.54,846.138 1023.71,847.83 \n",
       "  1014.4,849.138 1004.61,850.024 994.345,850.449 983.608,850.376 972.431,849.779 960.819,848.587 948.788,846.729 936.368,844.138 923.609,840.755 910.574,836.524 \n",
       "  897.347,831.397 884.026,825.33 870.727,818.285 857.582,810.229 844.74,801.135 832.368,790.982 820.623,779.774 809.664,767.572 799.728,754.434 791.032,740.445 \n",
       "  783.771,725.722 778.116,710.411 774.215,694.687 772.191,678.757 772.144,662.857 774.152,647.254 778.266,632.244 784.479,618.132 792.666,605.139 802.678,593.436 \n",
       "  814.35,583.164 827.5,574.433 841.931,567.325 857.429,561.89 873.764,558.146 890.691,556.085 907.947,555.666 925.27,556.791 942.469,559.268 959.366,562.936 \n",
       "  975.811,567.646 991.677,573.252 1006.86,579.612 1021.29,586.59 1034.9,594.054 1047.68,601.877 1059.61,609.943 1070.68,618.186 1080.91,626.545 1090.3,634.96 \n",
       "  1098.9,643.383 1106.72,651.77 1113.8,660.088 1120.16,668.309 1125.85,676.414 1130.9,684.391 1135.35,692.229 1139.25,699.922 1142.61,707.463 1145.48,714.851 \n",
       "  1147.88,722.083 1149.85,729.159 1151.4,736.079 1152.57,742.845 1153.38,749.461 1153.85,755.929 1153.99,762.25 1153.81,768.429 1153.33,774.467 1152.55,780.366 \n",
       "  1151.48,786.13 1150.13,791.759 1148.5,797.257 1146.59,802.625 1144.42,807.866 1141.96,812.98 1139.23,817.967 1136.21,822.827 1132.89,827.558 1129.26,832.158 \n",
       "  1125.31,836.626 1121.03,840.956 1116.42,845.143 1111.44,849.182 1106.09,853.066 1100.35,856.784 1094.19,860.325 1087.61,863.679 1080.56,866.829 1073.05,869.756 \n",
       "  1065.03,872.438 1056.5,874.849 1047.43,876.959 1037.82,878.735 1027.63,880.14 1016.86,881.136 1005.51,881.69 993.589,881.746 981.058,881.229 967.916,880.065 \n",
       "  954.175,878.179 939.87,875.495 925.052,871.937 909.792,867.426 894.182,861.885 878.331,855.235 862.37,847.396 846.445,838.289 830.717,827.844 815.349,816.061 \n",
       "  800.616,802.897 786.799,788.344 774.169,772.447 762.99,755.304 753.516,737.062 745.993,717.921 740.657,698.134 737.736,678.004 737.448,657.886 739.912,638.187 \n",
       "  745.107,619.285 752.978,601.51 763.415,585.159 776.26,570.492 791.301,557.737 808.276,547.086 826.869,538.696 846.715,532.691 867.426,529.051 888.656,527.575 \n",
       "  910.079,528.103 931.406,530.456 952.387,534.436 972.808,539.828 992.496,546.399 1011.31,553.897 1029.15,562.082 1045.96,570.821 1061.7,579.968 1076.37,589.39 \n",
       "  1089.96,598.972 1102.5,608.62 1114.01,618.257 1124.54,627.823 1134.14,637.279 1142.86,646.587 1150.76,655.726 1157.88,664.679 1164.3,673.434 1170.05,681.982 \n",
       "  1175.19,690.32 1179.78,698.447 1183.85,706.366 1187.46,714.082 1190.65,721.598 1193.45,728.918 1195.9,736.049 1198.03,742.995 1199.87,749.763 1201.45,756.358 \n",
       "  1202.8,762.788 1203.94,769.059 1204.89,775.177 1205.67,781.147 1206.29,786.974 1206.76,792.662 1207.1,798.218 1207.32,803.646 1207.43,808.951 1207.43,814.138 \n",
       "  1207.33,819.21 1207.14,824.172 1206.86,829.027 1206.49,833.78 1206.03,838.433 1205.49,842.991 1204.87,847.456 1204.17,851.833 1203.38,856.124 1202.5,860.332 \n",
       "  1201.53,864.459 1200.47,868.509 1199.31,872.485 1198.05,876.388 1196.68,880.222 1195.19,883.989 1193.58,887.69 1191.84,891.329 1189.96,894.907 1187.92,898.426 \n",
       "  1185.73,901.887 1183.36,905.293 1180.8,908.644 1178.05,911.94 1175.07,915.184 1171.87,918.375 1168.41,921.515 1164.68,924.601 1160.66,927.633 1156.32,930.607 \n",
       "  1151.64,933.52 1146.59,936.368 1141.15,939.146 1135.27,941.846 1128.95,944.457 1122.13,946.972 1114.77,949.38 1106.84,951.664 1098.3,953.802 1089.1,955.769 \n",
       "  1079.21,957.531 1068.57,959.05 1057.15,960.285 1044.9,961.187 1031.77,961.702 1017.76,961.771 1002.83,961.313 986.903,960.227 969.947,958.402 951.953,955.715 \n",
       "  932.942,952.029 912.966,947.198 892.106,941.061 870.473,933.449 848.207,924.177 825.479,913.052 802.48,899.936 779.515,884.684 756.994,867.056 735.359,846.92 \n",
       "  715.075,824.25 696.637,799.136 680.567,771.773 667.413,742.469 657.751,711.639 652.178,679.814 651.069,647.715 654.621,616.124 662.93,585.77 675.941,557.344 \n",
       "  693.446,531.498 715.089,508.849 740.359,489.974 768.596,475.392 799.032,465.129 830.916,458.986 863.568,456.723 896.377,458.007 928.805,462.41 960.385,469.409 \n",
       "  990.719,478.39 1019.54,488.85 1046.7,500.421 1072.13,512.731 1095.77,525.459 1117.62,538.346 1137.72,551.185 1156.15,563.83 1173.01,576.169 1188.38,588.13 \n",
       "  1202.39,599.678 1215.14,610.787 1226.73,621.443 1237.28,631.637 1246.88,641.371 1255.64,650.656 1263.64,659.512 1270.99,667.957 1277.76,676.006 1284.04,683.677 \n",
       "  1289.89,690.983 1295.38,697.94 1300.58,704.559 1305.55,710.855 1310.35,716.837 1315.02,722.513 1319.61,727.89 1324.16,732.971 1328.71,737.76 1333.29,742.258 \n",
       "  1337.94,746.468 1342.71,750.388 1347.61,754.018 1352.68,757.353 1357.94,760.387 1363.41,763.11 1369.13,765.515 1375.1,767.59 1381.36,769.323 1387.92,770.703 \n",
       "  1394.8,771.714 1402.02,772.342 1409.59,772.566 1417.52,772.365 1425.82,771.714 1434.5,770.594 1443.55,768.979 1452.98,766.848 1462.78,764.178 1472.93,760.943 \n",
       "  1483.41,757.126 1494.2,752.71 1505.26,747.664 1516.54,741.966 1528,735.605 1539.57,728.58 1551.16,720.9 1562.68,712.585 1574.03,703.668 1585.09,694.188 \n",
       "  1595.72,684.198 1605.79,673.762 1615.19,662.974 1623.73,651.95 1631.25,640.815 1637.59,629.7 1642.63,618.745 1646.24,608.097 1648.34,597.909 1648.83,588.341 \n",
       "  1647.66,579.562 1644.8,571.749 1640.23,565.041 1634.03,559.505 1626.3,555.203 1617.14,552.169 1606.68,550.413 1595.07,549.919 1582.48,550.646 1569.08,552.525 \n",
       "  1555.08,555.464 1540.69,559.345 1526.1,564.039 1511.47,569.421 1496.96,575.372 1482.7,581.78 1468.82,588.542 1455.4,595.562 1442.54,602.754 1430.3,610.04 \n",
       "  1418.72,617.348 1407.83,624.622 1397.66,631.837 1388.2,638.969 1379.46,645.998 1371.43,652.905 1364.1,659.679 1357.45,666.31 1351.46,672.795 1346.1,679.134 \n",
       "  1341.36,685.331 1337.2,691.384 1333.59,697.293 1330.51,703.06 1327.94,708.685 1325.85,714.17 1324.23,719.515 1323.04,724.718 1322.27,729.778 1321.91,734.696 \n",
       "  1321.93,739.466 1322.32,744.082 1323.07,748.543 1324.18,752.847 1325.64,756.992 1327.45,760.972 1329.62,764.782 1332.13,768.415 1334.99,771.86 1338.2,775.109 \n",
       "  1341.75,778.149 1345.66,780.966 1349.92,783.545 1354.54,785.872 1359.53,787.936 1364.92,789.724 1370.7,791.218 1376.89,792.399 1383.51,793.246 1390.57,793.738 \n",
       "  1398.07,793.849 1406.02,793.554 1414.44,792.826 1423.32,791.644 1432.65,789.982 1442.46,787.793 1452.75,785.036 1463.54,781.674 1474.79,777.673 1486.49,773.004 \n",
       "  1498.59,767.639 1511.06,761.556 1523.82,754.736 1536.82,747.165 1549.95,738.831 1563.14,729.727 1576.27,719.853 1589.25,709.255 1601.89,697.98 1614.02,686.093 \n",
       "  1625.46,673.681 1636.01,660.854 1645.52,647.743 1653.78,634.503 1660.64,621.311 1665.9,608.364 1669.39,595.884 1670.95,584.119 1670.47,573.317 1667.95,563.639 \n",
       "  1663.43,555.211 1656.96,548.138 1648.61,542.5 1638.51,538.353 1626.78,535.73 1613.58,534.642 1599.11,535.074 1583.59,536.989 1567.25,540.313 1550.41,544.813 \n",
       "  1533.3,550.297 1516.15,556.607 1499.15,563.588 1482.47,571.096 1466.25,578.99 1450.62,587.141 1435.67,595.422 1421.47,603.725 1408.08,612.001 1395.53,620.206 \n",
       "  1383.82,628.3 1372.94,636.253 1362.91,644.042 1353.7,651.651 1345.28,659.074 1337.65,666.311 1330.74,673.373 1324.54,680.264 1319,686.985 1314.08,693.544 \n",
       "  1309.76,699.945 1305.99,706.195 1302.74,712.299 1299.98,718.261 1297.68,724.086 1295.82,729.776 1294.36,735.335 1293.28,740.761 1292.56,746.056 1292.18,751.221 \n",
       "  1292.14,756.258 1292.41,761.166 1293,765.944 1293.89,770.589 1295.07,775.098 1296.53,779.465 1298.28,783.685 1300.3,787.75 1302.59,791.654 1305.17,795.393 \n",
       "  1308.03,798.962 1311.19,802.354 1314.65,805.56 1318.43,808.572 1322.54,811.377 1326.98,813.964 1331.78,816.32 1336.94,818.43 1342.48,820.278 1348.43,821.848 \n",
       "  1354.79,823.12 1361.61,824.074 1368.88,824.685 1376.65,824.926 1384.91,824.769 1393.7,824.182 1403.03,823.131 1412.91,821.58 1423.37,819.488 1434.39,816.829 \n",
       "  1445.98,813.562 1458.17,809.621 1470.96,804.944 1484.35,799.477 1498.31,793.175 1512.8,785.995 1527.74,777.905 1543.07,768.878 1558.68,758.892 1574.45,747.935 \n",
       "  1590.24,736.001 1605.91,723.089 1621.3,709.255 1636.17,694.588 1650.25,679.198 1663.27,663.226 1674.97,646.846 1685.09,630.263 1693.4,613.714 1699.65,597.469 \n",
       "  1703.63,581.828 1705.11,567.125 1703.9,553.715 1699.98,541.871 1693.4,531.8 1684.23,523.66 1672.62,517.561 1658.74,513.56 1642.83,511.667 1625.18,511.839 \n",
       "  1606.12,513.987 1586.02,517.961 1565.25,523.481 1544.14,530.286 1522.99,538.137 1502.06,546.809 1481.58,556.088 1461.74,565.772 1442.7,575.67 1424.57,585.606 \n",
       "  1407.44,595.463 1391.34,605.189 1376.31,614.728 1362.33,624.035 1349.4,633.08 1337.51,641.848 1326.6,650.336 1316.65,658.556 1307.6,666.524 1299.38,674.248 \n",
       "  1291.96,681.744 1285.28,689.029 1279.28,696.116 1273.91,703.02 1269.12,709.756 1264.86,716.335 1261.09,722.769 1257.77,729.067 1254.85,735.237 1252.3,741.285 \n",
       "  1250.09,747.219 1248.19,753.043 1246.56,758.76 1245.19,764.373 1244.04,769.884 1243.1,775.292 1242.35,780.601 1241.77,785.811 1241.35,790.925 1241.08,795.941 \n",
       "  1240.94,800.861 1240.93,805.684 1241.05,810.41 1241.27,815.039 1241.61,819.572 1242.05,824.008 1242.6,828.347 1243.25,832.589 1244,836.733 1244.85,840.779 \n",
       "  1245.81,844.725 1246.87,848.572 1248.04,852.319 1249.32,855.964 1250.73,859.508 1252.26,862.947 1253.92,866.282 1255.72,869.508 1257.67,872.626 1259.78,875.63 \n",
       "  1262.06,878.52 1264.51,881.291 1267.16,883.939 1270.02,886.46 1273.11,888.848 1276.43,891.097 1280.01,893.199 1283.87,895.146 1288.03,896.928 1292.51,898.536 \n",
       "  1297.34,899.958 1302.54,901.182 1308.15,902.189 1314.18,902.962 1320.68,903.479 1327.68,903.716 1335.22,903.645 1343.32,903.236 1352.04,902.459 1361.4,901.277 \n",
       "  1371.45,899.652 1382.22,897.533 1393.78,894.863 1406.17,891.579 1419.43,887.614 1433.6,882.894 1448.69,877.341 1464.72,870.87 1481.69,863.394 1499.59,854.818 \n",
       "  1518.41,845.04 1538.1,833.989 1558.55,821.585 1579.71,807.679 1601.42,792.173 1623.51,775.017 1645.72,756.217 1667.73,735.829 1689.19,713.964 1709.67,690.784 \n",
       "  1728.67,666.505 1745.68,641.398 1760.24,615.913 1771.77,590.614 1779.76,566.056 1783.78,542.779 1783.55,521.31 1778.9,502.163 1769.75,485.838 1756.18,472.823 \n",
       "  1738.34,463.589 1716.65,458.332 1691.78,456.801 1664.35,458.784 1634.96,463.987 1604.24,472.031 1572.78,482.456 1541.16,494.717 1509.99,508.187 1479.77,522.243 \n",
       "  1450.77,536.599 1423.19,550.95 1397.18,565.039 1372.87,578.671 1350.28,591.709 1329.42,604.082 1310.21,615.777 1292.55,626.827 1276.41,637.235 1261.68,647.048 \n",
       "  1248.25,656.32 1236.02,665.099 1224.9,673.436 1214.78,681.375 1205.57,688.963 1197.18,696.24 1189.51,703.247 1182.48,710.016 1176,716.573 1170.01,722.941 \n",
       "  1164.43,729.14 1159.2,735.184 1154.26,741.085 1149.54,746.853 1145,752.493 1140.58,758.007 1136.24,763.401 1131.95,768.675 1127.66,773.828 1123.34,778.86 \n",
       "  1118.96,783.767 1114.48,788.546 1109.86,793.19 1105.09,797.693 1100.12,802.049 1094.95,806.25 1089.54,810.286 1083.88,814.147 1077.93,817.82 1071.69,821.291 \n",
       "  1065.11,824.545 1058.2,827.565 1050.92,830.331 1043.26,832.822 1035.21,835.013 1026.75,836.877 1017.88,838.384 1008.6,839.501 998.889,840.191 988.766,840.417 \n",
       "  978.234,840.138 967.307,839.312 956.016,837.908 944.386,835.86 932.453,833.103 920.267,829.582 907.895,825.246 895.416,820.052 882.926,813.967 870.535,806.962 \n",
       "  858.367,799.017 846.562,790.119 835.275,780.261 824.642,769.469 814.832,757.8 806.051,745.32 798.484,732.119 792.296,718.312 787.629,704.044 784.607,689.481 \n",
       "  783.33,674.819 783.881,660.279 786.32,646.106 790.676,632.566 796.889,619.879 804.854,608.226 814.452,597.765 825.539,588.623 837.954,580.9 851.515,574.668 \n",
       "  866.02,569.971 881.246,566.824 896.949,565.214 912.894,565.075 928.9,566.267 944.786,568.665 960.396,572.147 975.594,576.586 990.266,581.859 1004.32,587.838 \n",
       "  1017.69,594.395 1030.33,601.402 1042.2,608.736 1053.29,616.331 1063.58,624.12 1073.1,632.038 1081.85,640.029 1089.85,648.044 1097.11,656.042 1103.67,663.991 \n",
       "  1109.55,671.865 1114.79,679.648 1119.42,687.322 1123.47,694.876 1126.97,702.302 1129.96,709.594 1132.45,716.746 1134.48,723.754 1136.07,730.617 1137.24,737.334 \n",
       "  1138.02,743.905 1138.43,750.332 1138.48,756.615 1138.18,762.755 1137.54,768.754 1136.57,774.612 1135.27,780.33 1133.65,785.908 1131.71,791.346 1129.45,796.644 \n",
       "  1126.88,801.803 1123.99,806.82 1120.8,811.697 1117.28,816.429 1113.43,821.013 1109.24,825.443 1104.69,829.715 1099.77,833.821 1094.47,837.751 1088.78,841.497 \n",
       "  1082.67,845.044 1076.14,848.38 1069.18,851.489 1061.77,854.351 1053.88,856.945 1045.5,859.246 1036.6,861.225 1027.18,862.848 1017.23,864.078 1006.74,864.872 \n",
       "  995.71,865.186 984.158,864.968 972.091,864.166 959.527,862.72 946.487,860.569 933.02,857.679 919.179,853.967 905.024,849.331 890.636,843.686 876.118,836.96 \n",
       "  861.595,829.1 847.213,820.071 833.139,809.85 819.563,798.436 806.696,785.841 794.769,772.094 784.028,757.248 774.658,741.442 766.91,724.852 761.02,707.667 \n",
       "  757.177,690.097 755.526,672.373 756.168,654.75 759.159,637.5 764.511,620.921 772.193,605.33 782.128,591.064 794.175,578.447 808.07,567.616 823.537,558.674 \n",
       "  840.307,551.687 858.107,546.673 876.667,543.608 895.717,542.425 914.985,543.011 934.201,545.21 953.096,548.821 971.488,553.66 989.251,559.543 1006.27,566.29 \n",
       "  1022.45,573.734 1037.73,581.725 1052.05,590.126 1065.4,598.819 1077.77,607.697 1089.2,616.672 1099.73,625.67 1109.37,634.644 1118.16,643.558 1126.14,652.377 \n",
       "  1133.34,661.076 1139.83,669.632 1145.63,678.029 1150.8,686.258 1155.37,694.314 1159.4,702.193 1162.91,709.896 1165.96,717.422 1168.57,724.773 1170.77,731.952 \n",
       "  1172.59,738.961 1174.07,745.807 1175.23,752.492 1176.09,759.022 1176.67,765.401 1176.98,771.633 1177.03,777.722 1176.85,783.673 1176.44,789.49 1175.81,795.179 \n",
       "  1174.97,800.744 1173.92,806.187 1172.67,811.512 1171.2,816.723 1169.53,821.822 1167.65,826.811 1165.56,831.694 1163.25,836.472 1160.71,841.147 1157.94,845.72 \n",
       "  1154.92,850.192 1151.65,854.563 1148.11,858.831 1144.28,862.995 1140.15,867.053 1135.71,871.001 1130.92,874.837 1125.79,878.553 1120.27,882.141 1114.35,885.596 \n",
       "  1108,888.907 1101.2,892.06 1093.92,895.04 1086.12,897.827 1077.79,900.399 1068.9,902.728 1059.41,904.787 1049.3,906.544 1038.57,907.964 1027.18,909 \n",
       "  1015.08,909.595 1002.24,909.684 988.654,909.197 974.311,908.057 959.232,906.18 943.452,903.473 927.017,899.84 909.993,895.175 892.46,889.366 874.515,882.297 \n",
       "  856.271,873.856 837.885,863.977 819.584,852.509 801.618,839.339 784.263,824.412 767.816,807.73 752.599,789.347 738.955,769.378 727.253,747.989 717.884,725.404 \n",
       "  711.219,701.931 707.505,678.008 706.966,654.071 709.744,630.55 715.894,607.877 725.38,586.483 738.079,566.798 753.781,549.253 772.185,534.279 792.896,522.227 \n",
       "  815.414,513.094 839.262,506.849 863.991,503.409 889.185,502.623 914.453,504.272 939.437,508.072 963.806,513.67 987.287,520.709 1009.73,528.946 1031.02,538.107 \n",
       "  1051.07,547.949 1069.82,558.258 1087.25,568.854 1103.37,579.584 1118.23,590.33 1131.88,601.001 1144.37,611.527 1155.78,621.864 1166.16,631.978 1175.6,641.842 \n",
       "  1184.16,651.438 1191.91,660.753 1198.93,669.787 1205.29,678.541 1211.04,687.021 1216.26,695.234 1220.99,703.184 1225.3,710.881 1229.23,718.332 1232.84,725.545 \n",
       "  1236.16,732.528 1239.24,739.29 1242.12,745.839 1244.83,752.183 1247.41,758.326 1249.88,764.274 1252.27,770.032 1254.6,775.606 1256.9,780.999 1259.2,786.217 \n",
       "  1261.51,791.263 1263.86,796.139 1266.27,800.846 1268.75,805.386 1271.32,809.758 1274,813.963 1276.8,818 1279.75,821.868 1282.87,825.565 1286.17,829.088 \n",
       "  1289.67,832.431 1293.39,835.59 1297.34,838.557 1301.56,841.326 1306.05,843.887 1310.85,846.231 1315.98,848.347 1321.46,850.222 1327.32,851.84 1333.57,853.183 \n",
       "  1340.26,854.232 1347.41,854.963 1355.04,855.351 1363.2,855.368 1371.89,854.984 1381.17,854.163 1391.04,852.872 1401.54,851.072 1412.7,848.709 1424.56,845.728 \n",
       "  1437.13,842.072 1450.43,837.684 1464.46,832.503 1479.2,826.469 1494.64,819.518 1510.75,811.586 1527.47,802.607 1544.76,792.525 1562.5,781.312 1580.59,768.895 \n",
       "  1598.87,755.236 1617.15,740.335 1635.22,724.235 1652.82,707.022 1669.65,688.822 1685.4,669.802 1699.7,650.172 1712.16,630.185 1722.47,610.194 1730.26,590.604 \n",
       "  1735.2,571.802 1737.06,554.154 1735.65,538.011 1730.9,523.705 1722.81,511.551 1711.44,501.846 1696.95,494.87 1679.62,490.797 1659.88,489.447 1638.18,490.662 \n",
       "  1614.96,494.247 1590.65,499.963 1565.66,507.518 1540.4,516.577 1515.29,526.751 1490.72,537.621 1466.93,548.936 1444.09,560.492 1422.35,572.089 1401.83,583.564 \n",
       "  1382.61,594.79 1364.7,605.679 1348.12,616.178 1332.81,626.27 1318.71,635.974 1305.78,645.287 1293.97,654.223 1283.2,662.809 1273.4,671.069 1264.51,679.029 \n",
       "  1256.45,686.716 1249.16,694.154 1242.56,701.371 1236.58,708.389 1231.17,715.228 1226.26,721.905 1221.81,728.432 1217.75,734.825 1214.04,741.093 1210.63,747.245 \n",
       "  1207.48,753.287 1204.55,759.226 1201.8,765.063 1199.21,770.805 1196.73,776.454 1194.35,782.014 1192.03,787.485 1189.77,792.87 1187.52,798.17 1185.26,803.385 \n",
       "  1182.98,808.514 1180.66,813.559 1178.28,818.52 1175.81,823.399 1173.25,828.194 1170.58,832.907 1167.77,837.536 1164.81,842.08 1161.68,846.54 1158.37,850.913 \n",
       "  1154.85,855.198 1151.1,859.395 1147.12,863.5 1142.87,867.51 1138.33,871.421 1133.49,875.227 1128.32,878.923 1122.78,882.499 1116.87,885.949 1110.55,889.261 \n",
       "  1103.79,892.425 1096.56,895.424 1088.84,898.239 1080.6,900.848 1071.8,903.226 1062.42,905.343 1052.42,907.169 1041.79,908.666 1030.51,909.79 1018.52,910.488 \n",
       "  1005.8,910.699 992.347,910.354 978.148,909.379 963.219,907.69 947.585,905.196 931.285,901.8 914.37,897.397 896.904,891.874 878.973,885.141 860.709,877.095 \n",
       "  842.276,867.566 823.869,856.424 805.716,843.581 788.079,828.995 771.253,812.665 755.563,794.633 741.369,774.988 729.066,753.858 719.045,731.443 711.61,708.11 \n",
       "  707.078,684.239 705.689,660.221 707.599,636.466 712.883,613.399 721.53,591.461 733.45,571.112 748.466,552.824 766.319,537.089 786.609,524.233 808.823,514.28 \n",
       "  832.493,507.243 857.174,503.065 882.443,501.616 907.896,502.69 933.156,506.01 957.863,511.225 981.715,517.969 1004.56,525.992 1026.26,535.01 1046.73,544.768 \n",
       "  1065.9,555.041 1083.73,565.638 1100.24,576.399 1115.45,587.195 1129.44,597.929 1142.26,608.526 1153.97,618.934 1164.64,629.123 1174.34,639.067 1183.15,648.748 \n",
       "  1191.13,658.152 1198.37,667.273 1204.91,676.107 1210.84,684.659 1216.21,692.939 1221.09,700.955 1225.54,708.713 1229.59,716.221 1233.31,723.488 1236.73,730.521 \n",
       "  1239.9,737.328 1242.86,743.918 1245.65,750.299 1248.3,756.478 1250.84,762.46 1253.3,768.25 1255.7,773.852 1258.07,779.271 1260.42,784.51 1262.8,789.573 \n",
       "  1265.21,794.464 1267.67,799.184 1270.21,803.735 1272.85,808.116 1275.6,812.327 1278.47,816.366 1281.49,820.233 1284.68,823.924 1288.05,827.437 1291.63,830.767 \n",
       "  1295.43,833.91 1299.48,836.858 1303.79,839.604 1308.39,842.138 1313.29,844.449 1318.53,846.524 1324.12,848.351 1330.09,849.913 1336.48,851.195 1343.3,852.174 \n",
       "  1350.58,852.829 1358.36,853.133 1366.66,853.057 1375.51,852.568 1384.95,851.63 1394.99,850.204 1405.67,848.247 1417.01,845.713 1429.03,842.558 1441.72,838.74 \n",
       "  1455.11,834.183 1469.23,828.81 1484.08,822.552 1499.65,815.343 1515.87,807.127 1532.7,797.852 1550.04,787.472 1567.78,775.948 1585.79,763.247 1603.92,749.341 \n",
       "  1622,734.238 1639.8,718.001 1657.01,700.704 1673.31,682.471 1688.39,663.477 1701.92,643.947 1713.56,624.157 1722.98,604.433 1729.83,585.151 1733.77,566.739 \n",
       "  1734.52,549.697 1732.02,534.398 1726.26,521.112 1717.31,510.059 1705.29,501.409 1690.39,495.283 1672.85,491.748 1652.99,490.825 1631.18,492.482 1607.85,496.61 \n",
       "  1583.55,502.778 1558.74,510.603 1533.82,519.76 1509.14,529.938 1485,540.84 1461.65,552.184 1439.27,563.702 1418.03,575.163 1398,586.467 1379.24,597.525 \n",
       "  1361.75,608.266 1345.54,618.638 1330.58,628.615 1316.85,638.188 1304.27,647.373 1292.78,656.201 1282.32,664.687 1272.82,672.857 1264.19,680.739 1256.37,688.359 \n",
       "  1249.3,695.741 1242.9,702.907 1237.12,709.88 1231.88,716.678 1227.13,723.318 1222.82,729.812 1218.89,736.174 1215.3,742.413 1212.01,748.538 1208.97,754.555 \n",
       "  1206.16,760.471 1203.52,766.29 1201.04,772.013 1198.66,777.643 1196.38,783.183 1194.16,788.634 1191.99,794 1189.84,799.28 1187.69,804.477 1185.52,809.59 \n",
       "  1183.31,814.62 1181.04,819.566 1178.69,824.43 1176.26,829.212 1173.72,833.913 1171.05,838.533 1168.24,843.07 1165.28,847.525 1162.13,851.897 1158.79,856.183 \n",
       "  1155.24,860.384 1151.45,864.496 1147.42,868.52 1143.11,872.449 1138.5,876.281 1133.59,880.01 1128.32,883.63 1122.7,887.132 1116.68,890.507 1110.24,893.744 \n",
       "  1103.35,896.831 1095.98,899.754 1088.1,902.493 1079.68,905.024 1070.7,907.32 1061.11,909.351 1050.89,911.081 1040.02,912.471 1028.46,913.48 1016.22,914.056 \n",
       "  1003.24,914.132 989.496,913.633 974.984,912.479 959.711,910.582 943.707,907.848 927.017,904.174 909.707,899.454 891.858,893.573 873.571,886.407 854.964,877.841 \n",
       "  836.193,867.805 817.487,856.144 799.108,842.734 781.34,827.51 764.49,810.468 748.893,791.662 734.902,771.207 722.9,749.278 713.288,726.106 706.477,702.012 \n",
       "  702.741,677.49 702.272,652.993 705.189,628.957 711.529,605.813 721.252,583.984 734.235,563.889 750.279,545.939 769.104,530.539 790.35,518.088 813.53,508.799 \n",
       "  838.073,502.513 863.491,499.117 889.343,498.439 915.228,500.253 940.789,504.276 965.711,510.169 989.722,517.539 1012.62,526.053 1034.31,535.486 1054.71,545.588 \n",
       "  1073.78,556.141 1091.5,566.959 1107.87,577.89 1122.95,588.811 1136.78,599.634 1149.43,610.291 1160.98,620.731 1171.49,630.925 1181.04,640.854 1189.72,650.503 \n",
       "  1197.58,659.862 1204.71,668.926 1211.17,677.696 1217.03,686.176 1222.35,694.378 1227.2,702.31 1231.64,709.98 1235.7,717.395 1239.45,724.565 1242.92,731.498 \n",
       "  1246.16,738.201 1249.21,744.683 1252.11,750.952 1254.89,757.014 1257.58,762.875 1260.21,768.539 1262.81,774.011 1265.39,779.292 1267.99,784.388 1270.63,789.3 \n",
       "  1273.33,794.032 1276.11,798.585 1278.99,802.957 1281.99,807.149 1285.14,811.158 1288.44,814.981 1291.92,818.616 1295.6,822.058 1299.5,825.304 1303.64,828.346 \n",
       "  1308.05,831.177 1312.74,833.788 1317.74,836.167 1323.06,838.302 1328.74,840.179 1334.8,841.781 1341.26,843.091 1348.16,844.089 1355.51,844.754 1363.35,845.06 \n",
       "  1371.7,844.977 1380.6,844.472 1390.07,843.511 1400.14,842.052 1410.82,840.055 1422.15,837.473 1434.13,834.259 1446.78,830.359 1460.1,825.722 1474.06,820.315 \n",
       "  1488.69,814.052 1503.95,806.852 1519.84,798.649 1536.29,789.389 1553.2,779.036 1570.46,767.567 1587.94,754.972 1605.44,741.259 1622.79,726.447 1639.73,710.573 \n",
       "  1656.07,693.713 1671.5,676.032 1685.65,657.723 1698.19,639.015 1708.78,620.169 1717.13,601.483 1722.98,583.288 1726.07,565.95 1726.19,549.87 1723.14,535.481 \n",
       "  1716.9,523.14 1707.6,513.045 1695.41,505.326 1680.56,500.055 1663.32,497.247 1643.98,496.857 1622.9,498.783 1600.47,502.864 1577.13,508.881 1553.34,516.512 \n",
       "  1529.47,525.372 1505.86,535.158 1482.78,545.597 1460.46,556.444 1439.08,567.488 1418.77,578.544 1399.61,589.457 1381.65,600.13 1364.91,610.515 1349.39,620.576 \n",
       "  1335.06,630.29 1321.87,639.644 1309.8,648.642 1298.78,657.297 1288.76,665.637 1279.65,673.688 1271.39,681.469 1263.92,689.003 1257.18,696.313 1251.09,703.42 \n",
       "  1245.6,710.342 1240.66,717.095 1236.2,723.695 1232.18,730.154 1228.53,736.482 1225.23,742.689 1222.24,748.782 1219.52,754.769 1217.03,760.655 1214.74,766.445 \n",
       "  1212.63,772.141 1210.66,777.746 1208.8,783.261 1207.02,788.685 1205.32,794.021 1203.67,799.273 1202.05,804.442 1200.45,809.528 1198.86,814.533 1197.25,819.457 \n",
       "  1195.62,824.301 1193.94,829.066 1192.21,833.753 1190.41,838.363 1188.54,842.898 1186.57,847.359 1184.49,851.745 1182.3,856.058 1179.97,860.298 1177.49,864.466 \n",
       "  1174.86,868.562 1172.04,872.587 1169.04,876.541 1165.83,880.424 1162.39,884.234 1158.71,887.97 1154.76,891.63 1150.53,895.211 1145.99,898.711 1141.11,902.124 \n",
       "  1135.88,905.448 1130.27,908.674 1124.24,911.793 1117.77,914.794 1110.83,917.664 1103.38,920.387 1095.4,922.945 1086.84,925.317 1077.68,927.475 1067.87,929.393 \n",
       "  1057.37,931.036 1046.14,932.359 1034.15,933.312 1021.37,933.835 1007.78,933.86 993.367,933.31 978.114,932.103 962.015,930.144 945.096,927.355 927.396,923.621 \n",
       "  908.93,918.77 889.758,912.643 869.982,905.091 849.75,895.976 829.256,885.175 808.736,872.574 788.473,858.073 768.793,841.583 750.062,823.03 732.603,802.468 \n",
       "  716.917,780.004 703.522,755.8 692.869,730.109 685.349,703.268 681.286,675.708 680.941,647.946 684.514,620.587 692.137,594.326 703.806,569.92 719.204,547.924 \n",
       "  737.948,528.707 759.621,512.55 783.77,499.647 809.907,490.105 837.507,483.942 866.009,481.091 894.817,481.398 923.407,484.477 951.411,489.844 978.509,497.099 \n",
       "  1004.45,505.868 1029.05,515.803 1052.19,526.58 1073.82,537.898 1093.94,549.495 1112.55,561.213 1129.7,572.92 1145.43,584.505 1159.84,595.88 1172.98,606.978 \n",
       "  1184.95,617.756 1195.83,628.194 1205.72,638.279 1214.72,648.007 1222.89,657.382 1230.33,666.409 1237.12,675.094 1243.32,683.447 1249.02,691.478 1254.27,699.197 \n",
       "  1259.14,706.619 1263.7,713.756 1267.99,720.615 1272.05,727.206 1275.94,733.535 1279.68,739.609 1283.33,745.434 1286.92,751.018 1290.5,756.365 1294.09,761.48 \n",
       "  1297.74,766.365 1301.45,771.019 1305.27,775.442 1309.21,779.631 1313.3,783.584 1317.57,787.298 1322.04,790.768 1326.74,793.989 1331.69,796.952 1336.91,799.648 \n",
       "  1342.43,802.065 1348.27,804.189 1354.45,806.005 1360.99,807.497 1367.92,808.647 1375.26,809.434 1383.04,809.838 1391.26,809.834 1399.96,809.392 1409.15,808.48 \n",
       "  1418.85,807.063 1429.06,805.108 1439.8,802.576 1451.06,799.432 1462.85,795.634 1475.14,791.144 1487.93,785.922 1501.16,779.953 1514.82,773.177 1528.84,765.541 \n",
       "  1543.16,757.014 1557.7,747.579 1572.34,737.24 1586.95,726.019 1601.38,713.957 1615.44,701.113 1628.94,687.565 1641.65,673.408 1653.35,658.76 1663.85,643.807 \n",
       "  1672.87,628.765 1680.17,613.857 1685.53,599.311 1688.78,585.361 1689.79,572.246 1688.47,560.212 1684.76,549.509 1678.63,540.391 1670.15,533.064 1659.48,527.572 \n",
       "  1646.83,523.946 1632.42,522.18 1616.48,522.226 1599.29,523.995 1581.1,527.359 1562.21,532.149 1542.94,538.157 1523.59,545.139 1504.4,552.896 1485.57,561.241 \n",
       "  1467.26,570.001 1449.63,579.023 1432.79,588.178 1416.82,597.355 1401.78,606.467 1387.7,615.447 1374.56,624.248 1362.39,632.847 1351.17,641.231 1340.85,649.393 \n",
       "  1331.42,657.329 1322.83,665.041 1315.05,672.534 1308.03,679.82 1301.73,686.912 1296.1,693.824 1291.09,700.564 1286.65,707.143 1282.76,713.569 1279.36,719.85 \n",
       "  1276.42,725.996 1273.91,732.01 1271.79,737.898 1270.04,743.665 1268.62,749.312 1267.52,754.844 1266.71,760.262 1266.17,765.567 1265.9,770.76 1265.87,775.84 \n",
       "  1266.07,780.807 1266.49,785.658 1267.12,790.393 1267.96,795.01 1269,799.509 1270.25,803.886 1271.7,808.141 1273.35,812.269 1275.2,816.267 1277.26,820.131 \n",
       "  1279.53,823.856 1282.03,827.439 1284.75,830.875 1287.72,834.159 1290.94,837.283 1294.42,840.24 1298.18,843.023 1302.24,845.62 1306.61,848.022 1311.3,850.217 \n",
       "  1316.36,852.192 1321.78,853.934 1327.6,855.425 1333.85,856.646 1340.54,857.577 1347.72,858.193 1355.39,858.467 1363.6,858.371 1372.37,857.873 1381.71,856.944 \n",
       "  1391.65,855.552 1402.24,853.641 1413.51,851.156 1425.51,848.04 1438.26,844.235 1451.76,839.681 1466.01,834.317 1481,828.083 1496.69,820.916 1513.05,812.751 \n",
       "  1530.03,803.524 1547.56,793.17 1565.56,781.628 1583.92,768.889 1602.45,754.908 1620.96,739.669 1639.21,723.208 1656.95,705.609 1673.87,687.004 1689.66,667.574 \n",
       "  1703.95,647.549 1716.35,627.208 1726.45,606.889 1733.91,587.064 1738.45,568.151 1739.85,550.519 1737.96,534.503 1732.72,520.408 1724.14,508.505 1712.3,499.033 \n",
       "  1697.37,492.201 1679.58,488.184 1659.26,487.117 1636.91,488.772 1613.08,492.796 1588.24,498.908 1562.82,506.806 1537.22,516.168 1511.81,526.653 1486.93,537.898 \n",
       "  1462.88,549.521 1439.88,561.257 1418.03,572.987 1397.43,584.566 1378.12,595.879 1360.15,606.84 1343.51,617.396 1328.18,627.522 1314.1,637.223 1301.19,646.532 \n",
       "  1289.4,655.46 1278.67,664.028 1268.91,672.266 1260.04,680.205 1252,687.873 1244.71,695.295 1238.11,702.496 1232.12,709.496 1226.7,716.315 1221.77,722.971 \n",
       "  1217.28,729.48 1213.18,735.854 1209.41,742.103 1205.93,748.236 1202.71,754.26 1199.69,760.181 1196.85,766.005 1194.15,771.733 1191.55,777.367 1189.02,782.91 \n",
       "  1186.55,788.364 1184.1,793.731 1181.66,799.011 1179.19,804.205 1176.69,809.314 1174.13,814.337 1171.48,819.274 1168.73,824.125 1165.86,828.889 1162.86,833.567 \n",
       "  1159.69,838.157 1156.35,842.658 1152.82,847.068 1149.08,851.385 1145.1,855.606 1140.86,859.727 1136.34,863.744 1131.53,867.653 1126.39,871.448 1120.91,875.121 \n",
       "  1115.05,878.664 1108.81,882.064 1102.13,885.308 1095.01,888.382 1087.4,891.269 1079.3,893.946 1070.65,896.392 1061.44,898.58 1051.62,900.476 1041.18,902.041 \n",
       "  1030.1,903.23 1018.35,903.994 1005.92,904.275 992.797,904.011 978.976,903.132 964.476,901.583 949.325,899.284 933.523,896.109 917.105,891.935 900.132,886.651 \n",
       "  882.702,880.152 864.943,872.341 847.014,863.127 829.109,852.429 811.452,840.173 794.298,826.294 777.923,810.742 762.58,793.577 748.668,774.865 736.572,754.725 \n",
       "  726.639,733.339 719.173,710.958 714.438,687.897 712.658,664.539 714.013,641.332 718.647,618.789 726.606,597.481 737.709,577.861 751.711,560.248 768.332,544.903 \n",
       "  787.258,532.028 808.141,521.768 830.599,514.209 854.213,509.379 878.534,507.247 903.092,507.681 927.52,510.31 951.511,514.826 974.805,520.943 997.193,528.386 \n",
       "  1018.52,536.888 1038.67,546.193 1057.6,556.056 1075.28,566.265 1091.69,576.695 1106.86,587.227 1120.84,597.761 1133.66,608.211 1145.37,618.513 1156.05,628.619 \n",
       "  1165.75,638.499 1174.56,648.136 1182.54,657.516 1189.76,666.633 1196.28,675.487 1202.18,684.078 1207.5,692.408 1212.32,700.482 1216.68,708.307 1220.63,715.892 \n",
       "  1224.24,723.246 1227.53,730.376 1230.55,737.288 1233.33,743.99 1235.91,750.489 1238.32,756.791 1240.59,762.903 1242.75,768.832 1244.83,774.585 1246.85,780.166 \n",
       "  1248.84,785.578 1250.8,790.824 1252.76,795.91 1254.73,800.837 1256.75,805.608 1258.81,810.226 1260.95,814.692 1263.16,819.006 1265.48,823.169 1267.91,827.18 \n",
       "  1270.47,831.038 1273.17,834.742 1276.04,838.289 1279.08,841.678 1282.33,844.903 1285.78,847.961 1289.47,850.844 1293.41,853.547 1297.62,856.06 1302.12,858.375 \n",
       "  1306.95,860.48 1312.11,862.365 1317.64,864.014 1323.56,865.412 1329.9,866.54 1336.69,867.378 1343.96,867.902 1351.75,868.083 1360.07,867.893 1368.97,867.298 \n",
       "  1378.48,866.262 1388.63,864.746 1399.44,862.711 1410.95,860.103 1423.19,856.859 1436.2,852.918 1450,848.214 1464.59,842.682 1479.95,836.253 1496.08,828.858 \n",
       "  1512.93,820.424 1530.46,810.879 1548.61,800.15 1567.28,788.207 1586.34,774.979 1605.62,760.413 1624.93,744.5 1644.02,727.284 1662.62,708.853 1680.39,689.347 \n",
       "  1696.99,668.951 1712.02,647.901 1725.03,626.482 1735.67,605.089 1743.55,584.181 1748.31,564.189 1749.69,545.524 1747.5,528.574 1741.68,513.702 1732.24,501.252 \n",
       "  1719.27,491.542 1702.98,484.87 1683.7,481.378 1661.94,480.827 1638.21,483.02 1612.99,487.717 1586.76,494.626 1559.97,503.4 1533.07,513.642 1506.51,524.904 \n",
       "  1480.68,536.739 1455.8,548.927 1432.03,561.236 1409.53,573.464 1388.38,585.45 1368.65,597.076 1350.35,608.265 1333.45,618.983 1317.88,629.239 1303.57,639.053 \n",
       "  1290.49,648.425 1278.56,657.388 1267.68,665.972 1257.8,674.21 1248.82,682.132 1240.67,689.769 1233.28,697.151 1226.57,704.307 1220.47,711.262 1214.91,718.036 \n",
       "  1209.83,724.646 1205.17,731.107 1200.88,737.434 1196.9,743.637 1193.19,749.724 1189.7,755.701 1186.39,761.572 1183.21,767.343 1180.14,773.016 1177.15,778.595 \n",
       "  1174.21,784.081 1171.28,789.475 1168.33,794.777 1165.35,799.988 1162.31,805.106 1159.17,810.13 1155.93,815.06 1152.55,819.895 1149.02,824.632 1145.32,829.27 \n",
       "  1141.42,833.805 1137.31,838.233 1132.95,842.551 1128.34,846.752 1123.43,850.832 1118.22,854.783 1112.68,858.598 1106.79,862.266 1100.51,865.776 1093.84,869.113 \n",
       "  1086.73,872.262 1079.17,875.204 1071.13,877.918 1062.58,880.381 1053.51,882.564 1043.87,884.435 1033.66,885.957 1022.85,887.087 1011.43,887.775 999.396,887.968 \n",
       "  986.742,887.608 973.471,886.629 959.595,884.969 945.161,882.579 930.187,879.342 914.712,875.145 898.802,869.887 882.554,863.474 866.091,855.828 849.564,846.881 \n",
       "  833.154,836.575 817.068,824.864 801.543,811.715 786.844,797.104 773.204,781.071 760.919,763.727 750.336,745.198 741.759,725.661 735.449,705.343 731.625,684.521 \n",
       "  730.459,663.522 732.084,642.72 736.588,622.544 744.008,603.465 754.224,585.895 767.007,570.12 782.109,556.367 799.251,544.808 818.132,535.563 838.424,528.695 \n",
       "  859.771,524.214 881.794,522.077 904.088,522.183 926.315,524.295 948.216,528.131 969.557,533.448 990.146,540.01 1009.83,547.595 1028.5,555.987 1046.09,564.983 \n",
       "  1062.57,574.388 1077.92,584.049 1092.15,593.871 1105.28,603.762 1117.35,613.642 1128.4,623.448 1138.49,633.126 1147.65,642.64 1155.95,651.965 1163.46,661.088 \n",
       "  1170.22,669.995 1176.31,678.682 1181.77,687.146 1186.67,695.387 1191.04,703.406 1194.94,711.208 1198.41,718.798 1201.5,726.182 1204.25,733.367 1206.69,740.359 \n",
       "  1208.85,747.164 1210.76,753.788 1212.45,760.237 1213.94,766.517 1215.25,772.634 1216.41,778.596 1217.44,784.408 1218.36,790.077 1219.18,795.606 1219.9,801 \n",
       "  1220.55,806.262 1221.13,811.398 1221.65,816.412 1222.12,821.307 1222.55,826.088 1222.94,830.758 1223.31,835.32 1223.65,839.776 1223.98,844.131 1224.28,848.387 \n",
       "  1224.58,852.546 1224.88,856.611 1225.17,860.584 1225.46,864.468 1225.75,868.265 1226.05,871.976 1226.36,875.603 1226.68,879.149 1227.01,882.614 1227.36,886 \n",
       "  1227.73,889.309 1228.12,892.542 1228.54,895.701 1228.98,898.785 1229.45,901.797 1229.96,904.737 1230.51,907.607 1231.09,910.406 1231.72,913.136 1232.39,915.796 \n",
       "  1233.12,918.388 1233.9,920.911 1234.75,923.366 1235.66,925.753 1236.64,928.071 1237.71,930.319 1238.86,932.499 1240.1,934.607 1241.44,936.644 1242.89,938.608 \n",
       "  1244.46,940.498 1246.17,942.311 1248.01,944.045 1250,945.697 1252.16,947.265 1254.5,948.744 1257.04,950.131 1259.78,951.42 1262.76,952.606 1265.99,953.681 \n",
       "  1269.49,954.637 1273.29,955.465 1277.4,956.157 1281.87,956.7 1286.71,957.08 1291.96,957.284 1297.65,957.295 1303.82,957.093 1310.52,956.653 1317.78,955.947 \n",
       "  1325.65,954.945 1334.17,953.61 1343.41,951.906 1353.4,949.789 1364.2,947.212 1375.85,944.116 1388.44,940.434 1402.04,936.088 1416.7,930.992 1432.49,925.05 \n",
       "  1449.43,918.16 1467.55,910.208 1486.87,901.073 1507.4,890.624 1529.12,878.722 1552,865.26 1575.91,850.106 1600.79,833.049 1626.47,813.947 1652.69,792.727 \n",
       "  1679.11,769.387 1705.3,743.995 1730.74,716.688 1754.85,687.676 1776.92,657.238 1796.37,625.845 1812.35,594.239 1824.07,563.192 1830.9,533.467 1832.35,505.825 \n",
       "  1828.11,481.023 1818.04,459.812 1802.14,442.939 1780.6,431.141 1754.05,424.608 1723.4,423.07 1689.48,426.217 1653.16,433.603 1615.28,444.643 1576.68,458.616 \n",
       "  1538.2,474.667 1500.68,491.818 1464.61,509.431 1430.28,527.055 1397.95,544.273 1367.77,560.771 1339.8,576.34 1314.04,590.871 1290.37,604.358 1268.71,616.82 \n",
       "  1248.95,628.297 1230.96,638.876 1214.61,648.64 1199.74,657.671 1186.25,666.048 1173.99,673.846 1162.85,681.141 1152.7,688.002 1143.42,694.487 1134.91,700.642 \n",
       "  1127.06,706.51 1119.8,712.124 1113.04,717.514 1106.69,722.699 1100.67,727.696 1094.93,732.515 1089.4,737.165 1084.03,741.649 1078.78,745.971 1073.59,750.13 \n",
       "  1068.44,754.124 1063.27,757.948 1058.06,761.596 1052.76,765.058 1047.36,768.325 1041.82,771.387 1036.14,774.232 1030.3,776.845 1024.27,779.214 1018.06,781.322 \n",
       "  1011.64,783.153 1005.01,784.69 998.177,785.914 991.131,786.807 983.881,787.346 976.437,787.509 968.811,787.272 961.023,786.617 953.097,785.521 945.061,783.967 \n",
       "  936.948,781.934 928.796,779.406 920.646,776.371 912.547,772.823 904.565,768.744 896.766,764.127 889.221,758.973 882,753.292 875.177,747.105 868.824,740.44 \n",
       "  863.019,733.338 857.839,725.847 853.362,718.025 849.671,709.94 846.824,701.67 844.871,693.304 843.864,684.934 843.836,676.649 844.81,668.54 846.788,660.698 \n",
       "  849.761,653.213 853.702,646.173 858.571,639.669 864.309,633.789 870.847,628.619 878.101,624.201 885.977,620.554 894.376,617.698 903.2,615.641 912.354,614.379 \n",
       "  921.741,613.899 931.269,614.173 940.845,615.165 950.378,616.826 959.777,619.095 968.964,621.915 977.888,625.239 986.497,629.01 994.747,633.172 1002.6,637.675 \n",
       "  1010.02,642.467 1016.99,647.503 1023.48,652.738 1029.49,658.131 1035.01,663.642 1040.04,669.235 1044.58,674.881 1048.63,680.557 1052.2,686.241 1055.3,691.913 \n",
       "  1057.94,697.554 1060.12,703.147 1061.85,708.677 1063.15,714.131 1064.02,719.495 1064.47,724.76 1064.51,729.918 1064.15,734.958 1063.41,739.872 1062.28,744.652 \n",
       "  1060.77,749.29 1058.88,753.778 1056.62,758.106 1053.99,762.266 1051,766.247 1047.64,770.04 1043.93,773.633 1039.87,777.017 1035.45,780.178 1030.69,783.106 \n",
       "  1025.59,785.787 1020.15,788.204 1014.36,790.34 1008.24,792.175 1001.78,793.69 994.995,794.865 987.903,795.678 980.516,796.107 972.856,796.13 964.945,795.723 \n",
       "  956.809,794.86 948.478,793.516 939.985,791.682 931.374,789.336 922.694,786.439 914.001,782.967 905.358,778.9 896.831,774.23 888.491,768.954 880.416,763.082 \n",
       "  872.688,756.631 865.396,749.626 858.633,742.102 852.497,734.102 847.092,725.679 842.508,716.903 838.807,707.874 836.067,698.683 834.35,689.423 833.702,680.189 \n",
       "  834.155,671.078 835.723,662.19 838.405,653.627 842.184,645.491 847.029,637.889 852.89,630.928 859.702,624.718 867.386,619.365 875.827,614.89 884.905,611.305 \n",
       "  894.503,608.623 904.508,606.842 914.81,605.95 925.302,605.921 935.878,606.718 946.44,608.29 956.888,610.574 967.128,613.495 977.073,616.972 986.667,620.955 \n",
       "  995.866,625.383 1004.63,630.191 1012.92,635.323 1020.72,640.723 1028.01,646.341 1034.76,652.13 1040.97,658.049 1046.64,664.058 1051.78,670.124 1056.39,676.217 \n",
       "  1060.49,682.312 1064.08,688.388 1067.17,694.431 1069.78,700.422 1071.92,706.348 1073.6,712.195 1074.84,717.952 1075.64,723.606 1076.01,729.15 1075.97,734.573 \n",
       "  1075.52,739.871 1074.68,745.036 1073.45,750.061 1071.85,754.939 1069.86,759.663 1067.51,764.227 1064.77,768.623 1061.67,772.842 1058.19,776.875 1054.34,780.712 \n",
       "  1050.12,784.341 1045.53,787.75 1040.58,790.926 1035.27,793.856 1029.59,796.524 1023.56,798.916 1017.18,801.014 1010.44,802.796 1003.34,804.238 995.894,805.315 \n",
       "  988.107,806.001 979.994,806.272 971.577,806.098 962.881,805.454 953.934,804.31 944.774,802.639 935.44,800.409 925.977,797.594 916.427,794.193 906.859,790.175 \n",
       "  897.356,785.502 888.001,780.151 878.883,774.112 870.093,767.386 861.725,759.993 853.877,751.961 846.649,743.335 840.146,734.173 834.475,724.547 829.746,714.542 \n",
       "  826.073,704.257 823.567,693.808 822.272,683.345 822.219,672.997 823.427,662.884 825.897,653.123 829.616,643.824 834.55,635.096 840.651,627.041 847.852,619.757 \n",
       "  856.069,613.337 865.202,607.873 875.132,603.447 885.723,600.127 896.819,597.861 908.273,596.61 919.95,596.34 931.724,597.007 943.481,598.556 955.114,600.925 \n",
       "  966.527,604.041 977.634,607.823 988.36,612.179 998.637,617.009 1008.41,622.229 1017.65,627.799 1026.33,633.657 1034.45,639.747 1041.99,646.016 1048.94,652.418 \n",
       "  1055.3,658.909 1061.08,665.454 1066.28,672.02 1070.92,678.581 1075.02,685.116 1078.58,691.605 1081.63,698.032 1084.18,704.383 1086.25,710.647 1087.85,716.815 \n",
       "  1089,722.876 1089.71,728.822 1090,734.645 1089.87,740.339 1089.34,745.899 1088.41,751.319 1087.1,756.596 1085.42,761.723 1083.37,766.694 1080.95,771.505 \n",
       "  1078.16,776.151 1075,780.624 1071.45,784.919 1067.52,789.025 1063.22,792.932 1058.53,796.629 1053.45,800.103 1048,803.34 1042.16,806.325 1035.94,809.041 \n",
       "  1029.34,811.47 1022.37,813.594 1015.01,815.393 1007.27,816.838 999.14,817.901 990.633,818.552 981.759,818.758 972.537,818.488 962.99,817.709 953.151,816.385 \n",
       "  943.055,814.482 932.747,811.964 922.277,808.793 911.69,804.963 901.058,800.453 890.478,795.206 880.051,789.186 869.881,782.372 860.076,774.763 850.747,766.373 \n",
       "  842.009,757.235 833.981,747.4 826.786,736.936 820.549,725.929 815.4,714.481 811.472,702.715 808.903,690.768 807.785,678.81 808.129,667.02 809.947,655.549 \n",
       "  813.232,644.537 817.96,634.121 824.08,624.426 831.525,615.571 840.206,607.668 850.013,600.818 860.815,595.118 872.462,590.655 884.78,587.487 897.585,585.535 \n",
       "  910.706,584.744 923.985,585.057 937.28,586.409 950.461,588.726 963.411,591.923 976.028,595.906 988.222,600.572 999.919,605.806 1011.06,611.488 1021.58,617.542 \n",
       "  1031.48,623.917 1040.74,630.547 1049.34,637.371 1057.29,644.334 1064.59,651.388 1071.25,658.492 1077.26,665.609 1082.67,672.71 1087.47,679.772 1091.7,686.778 \n",
       "  1095.38,693.708 1098.52,700.55 1101.16,707.294 1103.31,713.931 1104.98,720.452 1106.21,726.851 1107,733.122 1107.36,739.261 1107.32,745.263 1106.89,751.126 \n",
       "  1106.07,756.849 1104.89,762.427 1103.34,767.857 1101.43,773.137 1099.16,778.266 1096.52,783.238 1093.51,788.049 1090.13,792.694 1086.37,797.165 1082.24,801.454 \n",
       "  1077.74,805.552 1072.85,809.451 1067.59,813.138 1061.93,816.602 1055.9,819.83 1049.46,822.805 1042.6,825.508 1035.33,827.918 1027.62,830.01 1019.47,831.758 \n",
       "  1010.89,833.134 1001.88,834.105 992.449,834.637 982.602,834.693 972.355,834.234 961.734,833.227 950.783,831.666 939.53,829.474 928.01,826.574 916.274,822.905 \n",
       "  904.388,818.416 892.43,813.067 880.496,806.831 868.693,799.691 857.144,791.644 845.987,782.697 835.374,772.869 825.47,762.193 816.457,750.71 808.52,738.479 \n",
       "  801.769,725.627 796.357,712.302 792.433,698.652 790.114,684.835 789.488,671.022 790.609,657.39 793.503,644.13 798.163,631.442 804.552,619.535 812.602,608.631 \n",
       "  822.21,598.951 833.206,590.598 845.391,583.633 858.571,578.099 872.555,574.017 887.154,571.378 902.182,570.148 917.453,570.268 932.788,571.651 948.005,574.183 \n",
       "  962.929,577.726 977.415,582.142 991.386,587.326 1004.77,593.158 1017.5,599.526 1029.52,606.327 1040.81,613.469 1051.35,620.869 1061.11,628.452 1070.12,636.154 \n",
       "  1078.38,643.92 1085.92,651.705 1092.77,659.473 1098.94,667.2 1104.47,674.865 1109.37,682.448 1113.69,689.933 1117.45,697.307 1120.67,704.559 1123.38,711.681 \n",
       "  1125.6,718.668 1127.37,725.515 1128.7,732.224 1129.61,738.792 1130.13,745.218 1130.26,751.502 1130.03,757.644 1129.43,763.644 1128.49,769.501 1127.2,775.215 \n",
       "  1125.58,780.787 1123.62,786.215 1121.34,791.5 1118.74,796.64 1115.81,801.634 1112.55,806.477 1108.94,811.167 1104.98,815.7 1100.67,820.069 1095.99,824.267 \n",
       "  1090.93,828.285 1085.49,832.115 1079.64,835.743 1073.39,839.157 1066.71,842.343 1059.59,845.281 1052.02,847.952 1043.97,850.331 1035.44,852.392 1026.41,854.103 \n",
       "  1016.88,855.429 1006.84,856.333 996.305,856.772 985.274,856.7 973.758,856.069 961.772,854.826 949.36,852.952 936.555,850.37 923.393,846.984 909.931,842.716 \n",
       "  896.243,837.494 882.426,831.264 868.593,823.982 854.881,815.619 841.443,806.156 828.455,795.589 816.109,783.926 804.62,771.187 794.208,757.415 785.033,742.737 \n",
       "  777.33,727.302 771.316,711.274 767.171,694.838 765.034,678.202 765.007,661.592 767.152,645.258 771.492,629.471 778.013,614.52 786.659,600.721 797.319,588.37 \n",
       "  809.766,577.613 823.762,568.558 839.066,561.281 855.438,555.815 872.634,552.159 890.408,550.273 908.511,550.076 926.694,551.451 944.704,554.244 962.321,558.274 \n",
       "  979.422,563.376 995.889,569.379 1011.62,576.127 1026.54,583.476 1040.6,591.295 1053.75,599.467 1065.99,607.885 1077.32,616.458 1087.78,625.107 1097.39,633.773 \n",
       "  1106.16,642.418 1114.14,651.006 1121.36,659.51 1127.86,667.904 1133.68,676.169 1138.86,684.289 1143.44,692.254 1147.45,700.057 1150.93,707.698 1153.93,715.175 \n",
       "  1156.46,722.488 1158.58,729.638 1160.29,736.628 1161.62,743.459 1162.61,750.134 1163.26,756.657 1163.6,763.031 1163.65,769.261 1163.42,775.351 1162.92,781.303 \n",
       "  1162.15,787.12 1161.13,792.807 1159.84,798.364 1158.31,803.796 1156.53,809.105 1154.5,814.292 1152.21,819.361 1149.68,824.312 1146.88,829.146 1143.81,833.862 \n",
       "  1140.46,838.461 1136.81,842.939 1132.86,847.296 1128.59,851.528 1123.99,855.629 1119.03,859.596 1113.7,863.421 1107.99,867.094 1101.87,870.608 1095.31,873.949 \n",
       "  1088.29,877.104 1080.79,880.054 1072.78,882.777 1064.24,885.248 1055.16,887.437 1045.49,889.314 1035.24,890.841 1024.37,891.984 1012.91,892.707 1000.81,892.944 \n",
       "  988.048,892.623 974.61,891.671 960.506,890.01 945.763,887.56 930.428,884.238 914.568,879.957 898.269,874.628 881.635,868.158 864.789,860.453 847.876,851.413 \n",
       "  831.046,840.962 814.486,829.078 798.482,815.68 783.324,800.739 769.3,784.283 756.699,766.399 745.808,747.229 736.912,726.977 730.298,705.902 726.248,684.322 \n",
       "  725.034,662.616 726.764,641.231 731.464,620.575 739.109,601.023 749.607,582.916 762.801,566.567 778.468,552.257 796.319,540.237 816,530.728 837.095,523.888 \n",
       "  859.186,519.588 881.876,517.674 904.805,517.98 927.653,520.312 950.14,524.444 972.026,530.12 993.111,537.051 1013.23,544.935 1032.29,553.584 1050.24,562.818 \n",
       "  1067.03,572.466 1082.66,582.378 1097.12,592.43 1110.45,602.518 1122.68,612.563 1133.87,622.508 1144.07,632.305 1153.35,641.923 1161.76,651.34 1169.37,660.539 \n",
       "  1176.24,669.509 1182.43,678.243 1187.99,686.739 1192.98,695.002 1197.47,703.035 1201.49,710.843 1205.08,718.432 1208.31,725.807 1211.19,732.975 1213.78,739.942 \n",
       "  1216.1,746.716 1218.19,753.305 1220.08,759.715 1221.8,765.952 1223.36,772.023 1224.79,777.932 1226.11,783.685 1227.33,789.286 1228.48,794.742 1229.56,800.057 \n",
       "  1230.6,805.235 1231.6,810.281 1232.57,815.197 1233.53,819.988 1234.49,824.655 1235.45,829.202 1236.42,833.632 1237.42,837.948 1238.45,842.151 1239.52,846.242 \n",
       "  1240.64,850.224 1241.81,854.098 1243.04,857.864 1244.35,861.523 1245.74,865.077 1247.21,868.525 1248.79,871.867 1250.47,875.102 1252.26,878.229 1254.19,881.248 \n",
       "  1256.25,884.155 1258.47,886.95 1260.85,889.629 1263.41,892.189 1266.16,894.627 1269.12,896.938 1272.31,899.116 1275.74,901.154 1279.43,903.046 1283.42,904.782 \n",
       "  1287.71,906.352 1292.33,907.747 1297.31,908.952 1302.68,909.953 1308.47,910.735 1314.71,911.278 1321.43,911.56 1328.68,911.556 1336.48,911.237 1344.89,910.569 \n",
       "  1353.93,909.516 1363.66,908.038 1374.11,906.091 1385.33,903.63 1397.34,900.597 1410.21,896.921 1424.01,892.526 1438.76,887.329 1454.49,881.247 1471.21,874.189 \n",
       "  1488.92,866.061 1507.59,856.765 1527.2,846.198 1547.69,834.251 1568.99,820.838 1590.96,805.896 1613.43,789.299 1636.18,770.979 1658.95,750.938 1681.38,729.246 \n",
       "  1703.09,706.044 1723.6,681.538 1742.41,656.005 1758.92,629.79 1772.59,603.372 1782.91,577.396 1789.34,552.477 1791.5,529.197 1789.13,508.1 1782.11,489.698 \n",
       "  1770.43,474.466 1754.24,462.845 1733.79,455.24 1709.56,451.856 1682.31,452.316 1652.74,456.293 1621.52,463.405 1589.3,473.2 1556.68,485.152 1524.26,498.665 \n",
       "  1492.6,513.073 1462.16,527.818 1433.12,542.655 1405.67,557.295 1379.93,571.508 1355.98,585.129 1333.84,598.052 1313.46,610.233 1294.75,621.69 1277.58,632.483 \n",
       "  1261.92,642.62 1247.64,652.156 1234.65,661.152 1222.82,669.664 1212.06,677.743 1202.26,685.437 1193.34,692.793 1185.18,699.848 1177.72,706.642 1170.84,713.205 \n",
       "  1164.49,719.563 1158.57,725.737 1153.03,731.745 1147.81,737.601 1142.83,743.315 1138.05,748.894 1133.4,754.342 1128.85,759.662 1124.35,764.855 1119.86,769.921 \n",
       "  1115.34,774.857 1110.77,779.662 1106.11,784.331 1101.32,788.858 1096.37,793.235 1091.24,797.454 1085.89,801.507 1080.32,805.382 1074.49,809.07 1068.38,812.556 \n",
       "  1061.98,815.824 1055.26,818.859 1048.21,821.641 1040.81,824.15 1033.05,826.364 1024.91,828.258 1016.39,829.804 1007.48,830.969 998.182,831.72 988.499,832.021 \n",
       "  978.442,831.835 968.03,831.121 957.282,829.839 946.229,827.943 934.906,825.399 923.367,822.178 911.673,818.21 899.897,813.437 888.124,807.816 876.453,801.318 \n",
       "  864.991,793.929 853.86,785.648 843.195,776.488 833.139,766.477 823.851,755.658 815.501,744.086 808.245,731.843 802.206,719.057 797.545,705.87 794.393,692.43 \n",
       "  792.853,678.898 792.994,665.448 794.858,652.261 798.454,639.534 803.76,627.47 810.725,616.288 819.263,606.202 829.232,597.327 840.458,589.75 852.767,583.538 \n",
       "  865.98,578.73 879.913,575.336 894.383,573.338 909.2,572.689 924.171,573.314 939.103,575.111 953.823,577.962 968.223,581.756 982.193,586.37 995.64,591.689 \n",
       "  1008.49,597.603 1020.68,604.012 1032.16,610.819 1042.92,617.937 1052.93,625.283 1062.21,632.783 1070.76,640.373 1078.6,648.015 1085.74,655.676 1092.2,663.323 \n",
       "  1098,670.927 1103.18,678.466 1107.76,685.919 1111.76,693.271 1115.21,700.509 1118.13,707.627 1120.56,714.619 1122.52,721.479 1124.02,728.204 1125.1,734.792 \n",
       "  1125.76,741.241 1126.03,747.548 1125.91,753.714 1125.43,759.737 1124.59,765.616 1123.4,771.354 1121.87,776.948 1120.01,782.399 1117.81,787.703 1115.27,792.861 \n",
       "  1112.39,797.87 1109.17,802.725 1105.61,807.424 1101.69,811.961 1097.41,816.329 1092.76,820.523 1087.75,824.535 1082.34,828.354 1076.54,831.968 1070.33,835.364 \n",
       "  1063.69,838.527 1056.61,841.437 1049.08,844.074 1041.09,846.413 1032.62,848.428 1023.68,850.087 1014.25,851.358 1004.33,852.209 993.955,852.613 983.102,852.514 \n",
       "  971.773,851.85 959.978,850.56 947.745,848.589 935.117,845.878 922.149,842.373 908.915,838.022 895.5,832.772 882.007,826.574 868.551,819.379 855.265,811.142 \n",
       "  842.283,801.829 829.739,791.46 817.853,780.031 806.84,767.566 796.906,754.124 788.244,739.798 781.033,724.715 775.444,709.036 771.632,692.958 769.745,676.71 \n",
       "  769.914,660.558 772.245,644.809 776.716,629.764 783.248,615.638 791.735,602.624 802.05,590.889 814.042,580.578 827.534,571.814 842.326,564.695 858.197,559.299 \n",
       "  874.897,555.677 892.157,553.858 909.701,553.709 927.294,555.046 944.731,557.726 961.834,561.605 978.452,566.534 994.462,572.363 1009.76,578.938 1024.29,586.104 \n",
       "  1037.99,593.705 1050.83,601.643 1062.8,609.837 1073.91,618.205 1084.16,626.677 1093.58,635.191 1102.18,643.697 1109.99,652.153 1117.06,660.527 1123.41,668.799 \n",
       "  1129.08,676.95 1134.13,684.967 1138.58,692.84 1142.47,700.563 1145.83,708.131 1148.71,715.541 1151.12,722.792 1153.1,729.883 1154.68,736.817 1155.89,743.597 \n",
       "  1156.74,750.225 1157.26,756.704 1157.45,763.037 1157.33,769.225 1156.91,775.273 1156.19,781.182 1155.2,786.955 1153.93,792.595 1152.39,798.106 1150.59,803.489 \n",
       "  1148.53,808.748 1146.21,813.884 1143.61,818.895 1140.74,823.782 1137.58,828.544 1134.12,833.181 1130.35,837.69 1126.27,842.068 1121.85,846.311 1117.09,850.414 \n",
       "  1111.97,854.37 1106.47,858.171 1100.57,861.81 1094.24,865.274 1087.48,868.549 1080.24,871.618 1072.52,874.46 1064.3,877.051 1055.54,879.366 1046.24,881.374 \n",
       "  1036.36,883.043 1025.92,884.344 1014.9,885.23 1003.26,885.644 990.983,885.524 978.066,884.804 964.523,883.414 950.38,881.282 935.681,878.33 920.485,874.478 \n",
       "  904.867,869.643 888.916,863.735 872.739,856.663 856.453,848.343 840.193,838.747 824.179,827.776 808.654,815.359 793.864,801.47 780.065,786.138 767.517,769.437 \n",
       "  756.49,751.493 747.259,732.481 740.107,712.627 735.322,692.205 733.161,671.552 733.721,651.072 737.07,631.13 743.213,612.072 752.096,594.223 763.6,577.885 \n",
       "  777.547,563.345 793.691,550.868 811.727,540.697 831.289,533.027 851.98,527.775 873.422,524.827 895.268,524.06 917.203,525.315 938.946,528.4 960.251,533.087 \n",
       "  980.903,539.116 1000.72,546.195 1019.58,554.116 1037.41,562.715 1054.17,571.816 1069.83,581.268 1084.38,590.938 1097.82,600.718 1110.19,610.517 1121.53,620.269 \n",
       "  1131.9,629.922 1141.33,639.435 1149.89,648.782 1157.64,657.943 1164.64,666.901 1170.93,675.646 1176.57,684.173 1181.63,692.479 1186.14,700.568 1190.16,708.444 \n",
       "  1193.74,716.111 1196.9,723.573 1199.7,730.836 1202.17,737.906 1204.34,744.789 1206.25,751.491 1207.91,758.02 1209.37,764.382 1210.64,770.583 1211.74,776.629 \n",
       "  1212.68,782.524 1213.49,788.273 1214.17,793.883 1214.75,799.359 1215.23,804.705 1215.62,809.927 1215.94,815.027 1216.19,820.011 1216.37,824.881 1216.5,829.643 \n",
       "  1216.57,834.298 1216.59,838.851 1216.57,843.306 1216.51,847.665 1216.4,851.931 1216.26,856.107 1216.08,860.196 1215.86,864.2 1215.61,868.122 1215.32,871.965 \n",
       "  1214.99,875.731 1214.63,879.422 1214.23,883.04 1213.78,886.588 1213.3,890.068 1212.77,893.482 1212.19,896.833 1211.57,900.121 1210.89,903.35 1210.15,906.521 \n",
       "  1209.35,909.636 1208.49,912.698 1207.56,915.707 1206.55,918.667 1205.46,921.578 1204.28,924.444 1203.01,927.266 1201.63,930.045 1200.15,932.783 1198.54,935.483 \n",
       "  1196.8,938.146 1194.92,940.774 1192.88,943.368 1190.68,945.929 1188.29,948.459 1185.71,950.959 1182.92,953.43 1179.9,955.873 1176.63,958.289 1173.09,960.677 \n",
       "  1169.25,963.036 1165.1,965.364 1160.6,967.659 1155.72,969.917 1150.44,972.135 1144.72,974.305 1138.53,976.419 1131.82,978.471 1124.56,980.451 1116.7,982.344 \n",
       "  1108.19,984.128 1098.98,985.779 1089.03,987.265 1078.27,988.549 1066.67,989.591 1054.15,990.343 1040.69,990.751 1026.25,990.744 1010.74,990.24 994.094,989.138 \n",
       "  976.263,987.321 957.232,984.653 937.01,980.979 915.637,976.129 893.178,969.913 869.725,962.125 845.401,952.539 820.358,940.953 794.844,927.207 769.206,910.941 \n",
       "  743.858,891.884 719.273,869.879 695.989,844.886 674.607,816.98 655.792,786.352 640.268,753.31 628.825,718.277 622.083,681.931 620.487,645.167 624.385,608.861 \n",
       "  633.919,573.889 649.031,541.132 669.459,511.471 694.741,485.791 724.208,464.948 756.943,449.217 792.009,438.533 828.545,432.73 865.757,431.488 902.918,434.325 \n",
       "  939.367,440.605 974.511,449.54 1007.98,460.491 1039.58,472.933 1069.16,486.355 1096.65,500.323 1122.03,514.486 1145.35,528.568 1166.71,542.373 1186.23,555.756 \n",
       "  1204.01,568.627 1220.19,580.955 1234.9,592.713 1248.26,603.89 1260.41,614.481 1271.46,624.493 1281.53,633.944 1290.73,642.86 1299.16,651.272 1306.93,659.207 \n",
       "  1314.12,666.686 1320.81,673.733 1327.09,680.366 1333.03,686.605 1338.69,692.466 1344.15,697.962 1349.44,703.107 1354.63,707.906 1359.75,712.366 1364.85,716.491 \n",
       "  1369.96,720.283 1375.11,723.746 1380.36,726.881 1385.72,729.687 1391.23,732.162 1396.9,734.298 1402.75,736.088 1408.8,737.523 1415.06,738.596 1421.55,739.297 \n",
       "  1428.27,739.616 1435.24,739.543 1442.45,739.069 1449.91,738.18 1457.62,736.862 1465.55,735.1 1473.71,732.883 1482.06,730.202 1490.59,727.051 1499.27,723.425 \n",
       "  1508.05,719.323 1516.91,714.745 1525.79,709.699 1534.65,704.198 1543.4,698.256 1551.98,691.893 1560.31,685.141 1568.3,678.04 1575.87,670.639 1582.94,662.996 \n",
       "  1589.42,655.18 1595.21,647.268 1600.23,639.345 1604.37,631.507 1607.57,623.851 1609.76,616.478 1610.88,609.483 1610.9,602.957 1609.78,596.98 1607.53,591.628 \n",
       "  1604.15,586.964 1599.67,583.048 1594.14,579.93 1587.64,577.65 1580.24,576.24 1572.05,575.669 1563.17,575.903 1553.73,576.909 1543.83,578.645 1533.59,581.062 \n",
       "  1523.11,584.101 1512.51,587.697 1501.9,591.776 1491.37,596.259 1481.03,601.056 1470.95,606.118 1461.19,611.397 1451.81,616.837 1442.85,622.393 1434.34,628.022 \n",
       "  1426.33,633.685 1418.84,639.352 1411.87,644.996 1405.44,650.594 1399.55,656.131 1394.19,661.595 1389.36,666.973 1385.05,672.253 1381.25,677.428 1377.96,682.49 \n",
       "  1375.15,687.432 1372.82,692.247 1370.95,696.93 1369.54,701.476 1368.57,705.88 1368.03,710.138 1367.9,714.245 1368.19,718.191 1368.87,721.972 1369.95,725.581 \n",
       "  1371.41,729.011 1373.25,732.255 1375.48,735.303 1378.07,738.146 1381.04,740.773 1384.38,743.172 1388.08,745.331 1392.14,747.237 1396.57,748.876 1401.35,750.236 \n",
       "  1406.51,751.301 1412.03,752.055 1417.92,752.482 1424.18,752.565 1430.81,752.287 1437.79,751.629 1445.12,750.573 1452.79,749.101 1460.79,747.194 1469.09,744.831 \n",
       "  1477.69,742.002 1486.54,738.697 1495.62,734.892 1504.91,730.571 1514.35,725.725 1523.9,720.355 1533.5,714.467 1543.07,708.075 1552.55,701.202 1561.84,693.877 \n",
       "  1570.85,686.138 1579.48,678.029 1587.63,669.602 1595.19,660.932 1602.08,652.112 1608.15,643.239 1613.3,634.409 1617.42,625.72 1620.44,617.272 1622.28,609.168 \n",
       "  1622.9,601.511 1622.25,594.406 1620.33,587.959 1617.11,582.28 1612.62,577.479 1606.89,573.635 1600.02,570.74 1592.11,568.804 1583.26,567.824 1573.61,567.783 \n",
       "  1563.26,568.651 1552.34,570.381 1540.98,572.914 1529.31,576.173 1517.48,580.072 1505.62,584.504 1493.88,589.379 1482.33,594.635 1471.05,600.195 1460.14,605.991 \n",
       "  1449.65,611.96 1439.64,618.045 1430.15,624.198 1421.22,630.376 1412.86,636.544 1405.1,642.672 1397.92,648.738 1391.32,654.726 1385.31,660.625 1379.88,666.423 \n",
       "  1375.01,672.114 1370.69,677.689 1366.9,683.142 1363.64,688.468 1360.88,693.661 1358.61,698.719 1356.82,703.638 1355.48,708.419 1354.59,713.055 1354.13,717.54 \n",
       "  1354.09,721.872 1354.45,726.045 1355.21,730.055 1356.37,733.895 1357.91,737.559 1359.83,741.037 1362.13,744.323 1364.79,747.404 1367.83,750.271 1371.23,752.913 \n",
       "  1374.99,755.316 1379.12,757.47 1383.63,759.361 1388.52,760.975 1393.79,762.298 1399.45,763.312 1405.5,764 1411.94,764.344 1418.77,764.322 1425.99,763.913 \n",
       "  1433.59,763.096 1441.58,761.847 1449.93,760.151 1458.65,757.987 1467.72,755.322 1477.14,752.132 1486.87,748.395 1496.88,744.094 1507.14,739.22 1517.59,733.765 \n",
       "  1528.17,727.728 1538.82,721.113 1549.45,713.928 1559.98,706.186 1570.31,697.908 1580.37,689.144 1590.02,679.956 1599.11,670.413 1607.51,660.596 1615.09,650.594 \n",
       "  1621.71,640.508 1627.28,630.451 1631.69,620.544 1634.83,610.92 1636.62,601.721 1636.98,593.101 1635.83,585.224 1633.14,578.23 1628.96,572.194 1623.36,567.183 \n",
       "  1616.41,563.243 1608.19,560.405 1598.83,558.677 1588.42,558.051 1577.12,558.502 1565.07,559.983 1552.43,562.433 1539.38,565.767 1526.11,569.878 1512.75,574.642 \n",
       "  1499.47,579.952 1486.37,585.713 1473.57,591.834 1461.16,598.231 1449.23,604.826 1437.83,611.55 1427.02,618.337 1416.82,625.132 1407.27,631.89 1398.38,638.595 \n",
       "  1390.14,645.225 1382.56,651.764 1375.62,658.195 1369.32,664.507 1363.64,670.691 1358.57,676.742 1354.08,682.657 1350.16,688.436 1346.78,694.083 1343.92,699.592 \n",
       "  1341.56,704.962 1339.67,710.192 1338.25,715.28 1337.27,720.224 1336.72,725.022 1336.58,729.671 1336.84,734.165 1337.49,738.502 1338.52,742.675 1339.92,746.678 \n",
       "  1341.68,750.501 1343.79,754.14 1346.27,757.589 1349.11,760.841 1352.31,763.887 1355.89,766.717 1359.83,769.319 1364.15,771.679 1368.85,773.781 1373.93,775.61 \n",
       "  1379.4,777.148 1385.26,778.373 1391.52,779.266 1398.18,779.812 1405.27,779.99 1412.78,779.774 1420.73,779.141 1429.12,778.064 1437.94,776.517 1447.19,774.474 \n",
       "  1456.86,771.907 1466.93,768.787 1477.4,765.086 1488.23,760.79 1499.38,755.885 1510.81,750.329 1522.49,744.09 1534.35,737.151 1546.32,729.51 1558.31,721.177 \n",
       "  1570.22,712.177 1581.94,702.55 1593.33,692.348 1604.25,681.638 1614.53,670.502 1624.02,659.034 1632.51,647.345 1639.89,635.583 1646,623.925 1650.68,612.533 \n",
       "  1653.81,601.57 1655.27,591.189 1655,581.542 1652.96,572.773 1649.14,565.024 1643.56,558.431 1636.28,553.124 1627.37,549.226 1616.98,546.733 1605.31,545.587 \n",
       "  1592.55,545.748 1578.89,547.156 1564.52,549.734 1549.62,553.385 1534.38,557.993 1519,563.422 1503.66,569.519 1488.54,576.11 1473.81,583.051 1459.54,590.282 \n",
       "  1445.83,597.711 1432.75,605.256 1420.35,612.845 1408.67,620.419 1397.76,627.931 1387.61,635.345 1378.22,642.636 1369.59,649.793 1361.68,656.813 1354.48,663.688 \n",
       "  1347.97,670.409 1342.13,676.979 1336.91,683.397 1332.31,689.664 1328.27,695.783 1324.79,701.754 1321.82,707.58 1319.36,713.263 1317.37,718.807 1315.82,724.214 \n",
       "  1314.7,729.481 1313.98,734.609 1313.66,739.596 1313.71,744.442 1314.12,749.145 1314.89,753.701 1316,758.107 1317.45,762.355 1319.22,766.442 1321.33,770.358 \n",
       "  1323.75,774.097 1326.5,777.652 1329.59,781.017 1333.01,784.182 1336.78,787.137 1340.9,789.872 1345.38,792.372 1350.23,794.624 1355.46,796.611 1361.08,798.317 \n",
       "  1367.11,799.721 1373.55,800.807 1380.43,801.552 1387.75,801.933 1395.55,801.923 1403.82,801.494 1412.59,800.619 1421.85,799.264 1431.61,797.397 1441.87,794.984 \n",
       "  1452.64,791.987 1463.9,788.369 1475.63,784.116 1487.8,779.184 1500.4,773.514 1513.41,767.061 1526.77,759.792 1540.41,751.691 1554.24,742.752 1568.15,732.986 \n",
       "  1582.01,722.415 1595.68,711.076 1608.99,699.019 1621.76,686.309 1633.77,673.024 1644.89,659.296 1654.87,645.306 1663.47,631.239 1670.47,617.288 1675.69,603.651 \n",
       "  1678.98,590.535 1680.21,578.152 1679.3,566.723 1676.19,556.472 1670.85,547.633 1663.31,540.427 1653.69,534.909 1642.2,531.099 1629.04,528.997 1614.43,528.567 \n",
       "  1598.6,529.744 1581.78,532.428 1564.22,536.487 1546.18,541.754 1527.94,548.031 1509.77,555.094 1491.86,562.77 1474.39,570.908 1457.49,579.361 1441.27,588.003 \n",
       "  1425.84,596.726 1411.25,605.442 1397.55,614.08 1384.76,622.589 1372.86,630.937 1361.86,639.099 1351.74,647.067 1342.46,654.837 1334.01,662.406 1326.33,669.778 \n",
       "  1319.4,676.955 1313.18,683.945 1307.62,690.756 1302.69,697.399 1298.35,703.886 1294.56,710.221 1291.27,716.411 1288.46,722.462 1286.09,728.38 1284.14,734.168 \n",
       "  1282.58,739.829 1281.37,745.366 1280.51,750.78 1279.96,756.07 1279.71,761.238 1279.75,766.284 1280.07,771.207 1280.66,776.007 1281.51,780.682 1282.61,785.228 \n",
       "  1283.97,789.642 1285.56,793.92 1287.4,798.056 1289.48,802.046 1291.81,805.888 1294.4,809.576 1297.25,813.103 1300.38,816.464 1303.79,819.649 1307.49,822.651 \n",
       "  1311.49,825.458 1315.82,828.06 1320.48,830.445 1325.49,832.6 1330.88,834.512 1336.67,836.164 1342.87,837.536 1349.51,838.608 1356.61,839.356 1364.19,839.754 \n",
       "  1372.29,839.775 1380.92,839.387 1390.09,838.565 1399.83,837.272 1410.17,835.458 1421.16,833.076 1432.8,830.074 1445.11,826.402 1458.08,822.008 1471.72,816.841 \n",
       "  1485.98,810.848 1500.86,803.975 1516.29,796.168 1532.24,787.372 1548.63,777.537 1565.37,766.656 1582.32,754.684 1599.33,741.597 1616.22,727.411 1632.76,712.179 \n",
       "  1648.74,695.995 1663.87,678.991 1677.88,661.339 1690.45,643.249 1701.23,624.971 1709.89,606.814 1716.16,589.173 1719.82,572.389 1720.67,556.77 1718.61,542.598 \n",
       "  1713.59,530.128 1705.63,519.59 1694.8,511.185 1681.25,505.092 1665.2,501.46 1646.94,500.394 1626.89,501.661 1605.5,505.005 1583.17,510.203 1560.26,517.014 \n",
       "  1537.12,525.177 1514.07,534.41 1491.41,544.413 1469.41,554.868 1448.28,565.501 1428.14,576.22 1409.07,586.893 1391.14,597.414 1374.38,607.697 1358.81,617.684 \n",
       "  1344.42,627.337 1331.18,636.647 1319.03,645.626 1307.9,654.297 1297.77,662.662 1288.56,670.739 1280.2,678.552 1272.64,686.121 1265.82,693.466 1259.67,700.605 \n",
       "  1254.14,707.557 1249.17,714.337 1244.71,720.961 1240.7,727.443 1237.11,733.792 1233.88,740.017 1230.99,746.125 1228.38,752.125 1226.04,758.021 1223.92,763.818 \n",
       "  1221.99,769.518 1220.24,775.123 1218.62,780.634 1217.12,786.056 1215.73,791.389 1214.43,796.636 1213.2,801.797 1212.02,806.875 1210.88,811.869 1209.77,816.781 \n",
       "  1208.67,821.61 1207.57,826.359 1206.46,831.028 1205.34,835.62 1204.19,840.135 1203,844.575 1201.77,848.941 1200.48,853.233 1199.13,857.453 1197.7,861.604 \n",
       "  1196.19,865.686 1194.59,869.701 1192.88,873.65 1191.07,877.535 1189.13,881.357 1187.05,885.117 1184.83,888.816 1182.45,892.456 1179.89,896.037 1177.15,899.56 \n",
       "  1174.2,903.026 1171.03,906.434 1167.62,909.784 1163.95,913.075 1160.01,916.305 1155.76,919.472 1151.19,922.574 1146.27,925.607 1140.97,928.567 1135.26,931.446 \n",
       "  1129.11,934.235 1122.5,936.923 1115.37,939.496 1107.71,941.938 1099.46,944.233 1090.61,946.353 1081.09,948.275 1070.87,949.97 1059.89,951.399 1048.12,952.515 \n",
       "  1035.5,953.263 1022.02,953.574 1007.64,953.375 992.338,952.579 976.096,951.091 958.899,948.809 940.782,945.643 921.772,941.449 901.881,936.033 881.174,929.211 \n",
       "  859.766,920.81 837.828,910.669 815.582,898.638 793.305,884.578 771.325,868.361 750.022,849.87 729.799,829.028 711.066,805.92 694.452,780.655 680.539,753.438 \n",
       "  669.835,724.584 662.775,694.518 659.718,663.776 660.953,633.001 666.691,602.949 677.065,574.482 691.9,548.392 710.791,525.247 733.29,505.49 758.886,489.437 \n",
       "  787.002,477.273 816.999,469.062 848.172,464.736 879.783,464.079 911.29,466.606 942.226,471.83 972.197,479.29 1000.9,488.541 1028.1,499.157 1053.68,510.725 \n",
       "  1077.59,522.852 1099.79,535.268 1120.31,547.797 1139.19,560.269 1156.49,572.551 1172.31,584.541 1186.74,596.173 1199.87,607.411 1211.82,618.229 1222.68,628.621 \n",
       "  1232.57,638.589 1241.57,648.139 1249.78,657.278 1257.29,666.016 1264.18,674.368 1270.53,682.348 1276.43,689.975 1281.94,697.262 1287.11,704.22 1292.01,710.862 \n",
       "  1296.69,717.196 1301.21,723.232 1305.61,728.978 1309.93,734.441 1314.24,739.628 1318.55,744.541 1322.9,749.18 1327.33,753.546 1331.87,757.637 1336.54,761.45 \n",
       "  1341.37,764.983 1346.4,768.231 1351.65,771.189 1357.15,773.847 1362.9,776.193 1368.95,778.216 1375.31,779.901 1381.99,781.233 1389.02,782.196 1396.41,782.771 \n",
       "  1404.19,782.94 1412.36,782.681 1420.93,781.97 1429.92,780.777 1439.33,779.074 1449.17,776.834 1459.41,774.028 1470.06,770.63 1481.09,766.613 1492.47,761.951 \n",
       "  1504.18,756.619 1516.17,750.612 1528.37,743.904 1540.73,736.47 1553.16,728.306 1565.56,719.423 1577.82,709.847 1589.81,699.623 1601.4,688.813 1612.44,677.494 \n",
       "  1622.75,665.761 1632.16,653.725 1640.48,641.515 1647.58,629.293 1653.27,617.244 1657.39,605.545 1659.83,594.37 1660.47,583.889 1659.26,574.265 1656.18,565.658 \n",
       "  1651.23,558.221 1644.46,552.105 1635.93,547.438 1625.81,544.217 1614.26,542.429 1601.48,542.044 1587.65,543.008 1572.99,545.243 1557.69,548.645 1541.96,553.086 \n",
       "  1526.02,558.412 1510.1,564.447 1494.36,571.046 1478.96,578.099 1463.99,585.488 1449.58,593.106 1435.8,600.861 1422.73,608.672 1410.41,616.476 1398.87,624.22 \n",
       "  1388.11,631.866 1378.13,639.39 1368.93,646.774 1360.49,654.008 1352.79,661.086 1345.8,668.005 1339.5,674.762 1333.86,681.359 1328.86,687.798 1324.45,694.081 \n",
       "  1320.61,700.216 1317.31,706.206 1314.52,712.054 1312.2,717.761 1310.35,723.33 1308.92,728.763 1307.91,734.059 1307.29,739.22 1307.04,744.243 1307.15,749.127 \n",
       "  1307.61,753.868 1308.4,758.463 1309.51,762.909 1310.95,767.203 1312.7,771.341 1314.77,775.318 1317.17,779.126 1319.88,782.76 1322.91,786.209 1326.26,789.464 \n",
       "  1329.95,792.513 1333.97,795.346 1338.34,797.952 1343.07,800.317 1348.18,802.429 1353.68,804.272 1359.57,805.827 1365.89,807.074 1372.64,807.992 1379.84,808.558 \n",
       "  1387.5,808.747 1395.64,808.535 1404.26,807.893 1413.39,806.785 1423.04,805.174 1433.24,803.021 1443.98,800.289 1455.25,796.94 1467.05,792.936 1479.35,788.24 \n",
       "  1492.13,782.813 1505.35,776.617 1518.97,769.614 1532.93,761.774 1547.15,753.095 1561.54,743.544 1575.97,733.106 1590.32,721.797 1604.42,709.655 1618.1,696.745 \n",
       "  1631.18,683.16 1643.45,669.017 1654.68,654.46 1664.63,639.66 1673.03,624.814 1679.69,610.181 1684.43,596.025 1687.06,582.58 1687.48,570.066 1685.59,558.682 \n",
       "  1681.38,548.615 1674.86,540.033 1666.09,533.089 1655.19,527.918 1642.31,524.64 1627.66,523.324 1611.56,523.793 1594.31,525.902 1576.21,529.511 1557.52,534.464 \n",
       "  1538.51,540.587 1519.43,547.687 1500.5,555.556 1481.96,563.967 1463.99,572.689 1446.73,581.622 1430.26,590.668 1414.65,599.731 1399.94,608.729 1386.19,617.597 \n",
       "  1373.39,626.289 1361.55,634.772 1350.64,643.033 1340.64,651.075 1331.49,658.909 1323.18,666.527 1315.65,673.936 1308.86,681.148 1302.77,688.171 1297.33,695.016 \n",
       "  1292.5,701.691 1288.24,708.206 1284.51,714.57 1281.27,720.792 1278.49,726.879 1276.13,732.837 1274.16,738.668 1272.55,744.379 1271.28,749.97 1270.32,755.445 \n",
       "  1269.66,760.804 1269.28,766.048 1269.15,771.176 1269.27,776.188 1269.62,781.082 1270.21,785.86 1271.01,790.519 1272.04,795.058 1273.28,799.474 1274.73,803.764 \n",
       "  1276.4,807.925 1278.27,811.953 1280.37,815.842 1282.68,819.59 1285.23,823.193 1288.01,826.644 1291.05,829.939 1294.35,833.07 1297.92,836.029 1301.77,838.806 \n",
       "  1305.93,841.393 1310.41,843.778 1315.23,845.948 1320.4,847.892 1325.96,849.595 1331.93,851.037 1338.32,852.2 1345.17,853.062 1352.5,853.596 1360.34,853.778 \n",
       "  1368.72,853.576 1377.66,852.961 1387.16,851.907 1397.27,850.365 1408.05,848.283 1419.51,845.608 1431.69,842.284 1444.6,838.255 1458.23,833.465 1472.59,827.855 \n",
       "  1487.64,821.364 1503.37,813.931 1519.71,805.495 1536.63,795.991 1554.05,785.356 1571.87,773.577 1589.95,760.606 1608.11,746.411 1626.14,731.005 1643.81,714.446 \n",
       "  1660.86,696.838 1676.98,678.332 1691.85,659.122 1705.09,639.45 1716.34,619.602 1725.19,599.956 1731.37,580.964 1734.63,562.999 1734.77,546.401 1731.7,531.48 \n",
       "  1725.37,518.516 1715.82,507.76 1703.17,499.431 1687.59,493.719 1669.35,490.785 1648.79,490.685 1626.46,493.067 1602.85,497.653 1578.39,504.17 1553.5,512.326 \n",
       "  1528.53,521.81 1503.85,532.29 1479.76,543.414 1456.55,554.815 1434.39,566.3 1413.38,577.75 1393.59,589.034 1375.07,600.049 1357.85,610.721 1341.92,621.003 \n",
       "  1327.25,630.876 1313.79,640.349 1301.46,649.456 1290.21,658.204 1279.97,666.613 1270.66,674.714 1262.22,682.534 1254.57,690.099 1247.64,697.432 1241.36,704.556 \n",
       "  1235.69,711.489 1230.56,718.251 1225.9,724.857 1221.68,731.32 1217.83,737.653 1214.3,743.865 1211.06,749.963 1208.07,755.956 1205.29,761.847 1202.69,767.643 \n",
       "  1200.22,773.344 1197.87,778.954 1195.59,784.473 1193.38,789.904 1191.2,795.249 1189.04,800.509 1186.87,805.686 1184.68,810.779 1182.45,815.79 1180.15,820.717 \n",
       "  1177.78,825.562 1175.3,830.325 1172.71,835.005 1169.99,839.604 1167.13,844.121 1164.1,848.555 1160.89,852.906 1157.48,857.171 1153.85,861.349 1149.98,865.438 \n",
       "  1145.85,869.435 1141.44,873.338 1136.73,877.141 1131.7,880.84 1126.32,884.426 1120.56,887.892 1114.4,891.227 1107.82,894.42 1100.77,897.455 1093.24,900.318 \n",
       "  1085.19,902.989 1076.59,905.447 1067.41,907.662 1057.61,909.602 1047.18,911.228 1036.07,912.496 1024.28,913.356 1011.77,913.756 998.53,913.64 984.585,912.951 \n",
       "  969.898,911.589 954.454,909.449 938.269,906.426 921.386,902.412 903.877,897.299 885.842,890.978 867.407,883.338 848.73,874.266 829.994,863.651 811.412,851.378 \n",
       "  793.191,837.395 775.641,821.669 759.149,804.159 744.088,784.901 730.821,764.011 719.698,741.678 711.054,718.171 705.215,693.837 702.491,669.097 703.172,644.456 \n",
       "  707.357,620.474 715.01,597.658 726.036,576.453 740.257,557.255 757.421,540.41 777.196,526.209 799.169,514.896 822.854,506.662 847.722,501.517 873.296,499.199 \n",
       "  899.132,499.48 924.841,502.108 950.089,506.798 974.596,513.236 998.137,521.081 1020.54,529.963 1041.7,539.631 1061.54,549.881 1080.06,560.513 1097.24,571.356 \n",
       "  1113.11,582.27 1127.69,593.143 1141.06,603.893 1153.27,614.462 1164.4,624.803 1174.53,634.89 1183.72,644.707 1192.07,654.239 1199.63,663.479 1206.48,672.426 \n",
       "  1212.69,681.082 1218.33,689.457 1223.45,697.558 1228.13,705.392 1232.4,712.969 1236.32,720.295 1239.94,727.38 1243.3,734.231 1246.44,740.857 1249.41,747.267 \n",
       "  1252.24,753.467 1254.95,759.463 1257.59,765.261 1260.17,770.863 1262.73,776.276 1265.28,781.501 1267.85,786.544 1270.47,791.406 1273.15,796.089 1275.92,800.594 \n",
       "  1278.8,804.92 1281.79,809.067 1284.93,813.031 1288.24,816.812 1291.72,820.406 1295.41,823.809 1299.33,827.016 1303.49,830.02 1307.91,832.813 1312.62,835.385 \n",
       "  1317.64,837.725 1322.99,839.821 1328.7,841.658 1334.79,843.221 1341.3,844.492 1348.23,845.451 1355.63,846.075 1363.52,846.336 1371.94,846.205 1380.9,845.65 \n",
       "  1390.43,844.634 1400.57,843.118 1411.32,841.06 1422.73,838.414 1434.79,835.137 1447.5,831.187 1460.89,826.489 1474.98,820.969 1489.76,814.564 1505.19,807.213 \n",
       "  1521.24,798.866 1537.82,789.477 1554.84,779.008 1572.19,767.426 1589.73,754.706 1607.3,740.831 1624.74,725.835 1641.79,709.782 1658.15,692.763 1673.52,674.915 \n",
       "  1687.59,656.421 1700.04,637.513 1710.58,618.466 1718.87,599.606 1724.59,581.303 1727.43,563.98 1727.21,548.083 1723.88,533.919 1717.44,521.736 1707.96,511.732 \n",
       "  1695.59,504.056 1680.51,498.813 1662.98,496.054 1643.31,495.785 1621.88,497.964 1599.13,502.405 1575.57,508.679 1551.61,516.47 1527.61,525.481 1503.88,535.424 \n",
       "  1480.71,546.024 1458.31,557.014 1436.88,568.138 1416.55,579.213 1397.38,590.149 1379.43,600.859 1362.7,611.275 1347.19,621.351 1332.89,631.059 1319.76,640.396 \n",
       "  1307.74,649.379 1296.76,658.031 1286.77,666.365 1277.7,674.404 1269.47,682.175 1262.03,689.699 1255.31,696.998 1249.24,704.094 1243.76,711.004 1238.83,717.748 \n",
       "  1234.37,724.34 1230.34,730.791 1226.7,737.112 1223.4,743.314 1220.4,749.403 1217.66,755.387 1215.14,761.27 1212.82,767.056 1210.66,772.746 1208.62,778.344 \n",
       "  1206.7,783.852 1204.87,789.272 1203.1,794.607 1201.38,799.857 1199.68,805.025 1198,810.11 1196.31,815.112 1194.6,820.034 1192.85,824.876 1191.05,829.639 \n",
       "  1189.19,834.325 1187.25,838.934 1185.22,843.467 1183.08,847.924 1180.83,852.306 1178.44,856.614 1175.9,860.848 1173.2,865.009 1170.33,869.096 1167.26,873.111 \n",
       "  1163.99,877.051 1160.48,880.916 1156.73,884.703 1152.71,888.412 1148.4,892.039 1143.78,895.581 1138.82,899.034 1133.51,902.391 1127.81,905.645 1121.69,908.786 \n",
       "  1115.13,911.803 1108.09,914.682 1100.55,917.408 1092.47,919.96 1083.81,922.319 1074.54,924.46 1064.61,926.349 1054,927.948 1042.67,929.21 1030.59,930.084 \n",
       "  1017.74,930.511 1004.09,930.424 989.62,929.753 974.347,928.433 958.266,926.359 941.358,923.4 923.644,919.424 905.176,914.3 886.046,907.898 866.38,900.088 \n",
       "  846.341,890.743 826.129,879.735 805.977,866.935 786.157,852.219 766.923,835.554 748.684,816.913 731.909,796.293 717.039,773.788 704.491,749.586 694.657,723.968 \n",
       "  687.902,697.31 684.567,670.082 684.967,642.849 689.341,616.265 697.644,590.971 709.742,567.512 725.421,546.356 744.377,527.9 766.225,512.463 790.491,500.294 \n",
       "  816.615,491.566 843.974,486.328 872.02,484.275 900.253,485.095 928.234,488.467 955.595,494.048 982.035,501.468 1007.32,510.336 1031.29,520.239 1053.83,530.875 \n",
       "  1074.91,542.03 1094.49,553.488 1112.61,565.07 1129.29,576.63 1144.59,588.057 1158.58,599.274 1171.35,610.226 1182.98,620.873 1193.55,631.199 1203.17,641.19 \n",
       "  1211.9,650.838 1219.84,660.143 1227.06,669.106 1233.65,677.736 1239.66,686.046 1245.18,694.047 1250.27,701.748 1254.98,709.16 1259.36,716.293 1263.48,723.156 \n",
       "  1267.37,729.757 1271.1,736.107 1274.69,742.213 1278.2,748.081 1281.64,753.716 1285.06,759.122 1288.48,764.301 1291.94,769.255 1295.47,773.988 1299.08,778.498 \n",
       "  1302.82,782.787 1306.7,786.852 1310.75,790.689 1314.99,794.293 1319.45,797.658 1324.14,800.777 1329.09,803.643 1334.32,806.245 1339.87,808.573 1345.74,810.614 \n",
       "  1351.98,812.352 1358.59,813.768 1365.6,814.843 1373.04,815.556 1380.92,815.88 1389.27,815.791 1398.11,815.261 1407.45,814.258 1417.31,812.754 1427.71,810.705 \n",
       "  1438.66,808.068 1450.18,804.799 1462.25,800.857 1474.86,796.198 1487.99,790.784 1501.61,784.572 1515.67,777.525 1530.12,769.603 1544.89,760.785 1559.89,751.057 \n",
       "  1575,740.391 1590.08,728.787 1604.97,716.276 1619.48,702.915 1633.44,688.792 1646.6,674.024 1658.74,658.757 1669.6,643.165 1678.89,627.454 1686.41,611.876 \n",
       "  1691.93,596.716 1695.23,582.242 1696.17,568.706 1694.65,556.342 1690.61,545.369 1684.07,535.99 1675.09,528.391 1663.8,522.74 1650.37,519.18 1635.07,517.638 \n",
       "  1618.22,517.991 1600.13,520.124 1581.1,523.888 1561.41,529.111 1541.37,535.588 1521.25,543.09 1501.33,551.356 1481.86,560.129 1463,569.278 1444.87,578.657 \n",
       "  1427.59,588.134 1411.22,597.597 1395.85,606.959 1381.48,616.154 1368.14,625.137 1355.8,633.886 1344.42,642.399 1333.97,650.673 1324.43,658.704 1315.75,666.501 \n",
       "  1307.88,674.073 1300.78,681.43 1294.4,688.586 1288.69,695.554 1283.6,702.349 1279.08,708.98 1275.1,715.459 1271.61,721.794 1268.56,727.994 1265.94,734.065 \n",
       "  1263.69,740.013 1261.79,745.842 1260.21,751.556 1258.93,757.159 1257.93,762.651 1257.18,768.036 1256.66,773.314 1256.37,778.485 1256.28,783.548 1256.39,788.505 \n",
       "  1256.68,793.354 1257.15,798.095 1257.8,802.728 1258.62,807.25 1259.6,811.661 1260.75,815.958 1262.06,820.139 1263.55,824.203 1265.2,828.148 1267.03,831.971 \n",
       "  1269.04,835.668 1271.24,839.237 1273.64,842.673 1276.24,845.972 1279.06,849.128 1282.11,852.137 1285.41,854.992 1288.96,857.687 1292.79,860.212 1296.92,862.559 \n",
       "  1301.36,864.716 1306.13,866.672 1311.27,868.413 1316.78,869.925 1322.7,871.19 1329.05,872.191 1335.88,872.906 1343.19,873.308 1351.04,873.371 1359.44,873.061 \n",
       "  1368.44,872.345 1378.06,871.185 1388.34,869.538 1399.31,867.364 1410.97,864.619 1423.38,861.237 1436.58,857.146 1450.6,852.273 1465.44,846.547 1481.11,839.897 \n",
       "  1497.57,832.251 1514.79,823.539 1532.71,813.689 1551.24,802.63 1570.31,790.293 1589.79,776.628 1609.52,761.63 1629.26,745.264 1648.74,727.552 1667.68,708.574 \n",
       "  1685.75,688.471 1702.58,667.444 1717.78,645.753 1730.93,623.718 1741.55,601.718 1749.22,580.242 1753.64,559.83 1754.56,540.914 1751.83,523.88 1745.41,509.069 \n",
       "  1735.32,496.779 1721.67,487.258 1704.69,480.712 1684.68,477.302 1662.03,477.132 1637.33,479.902 1611.2,485.19 1584.14,492.65 1556.65,501.919 1529.16,512.62 \n",
       "  1502.06,524.356 1475.71,536.72 1450.39,549.297 1426.3,561.882 1403.54,574.326 1382.17,586.487 1362.24,598.256 1343.77,609.562 1326.73,620.366 1311.08,630.666 \n",
       "  1296.72,640.492 1283.6,649.869 1271.64,658.816 1260.75,667.374 1250.85,675.58 1241.85,683.469 1233.67,691.071 1226.24,698.417 1219.49,705.534 1213.34,712.446 \n",
       "  1207.72,719.176 1202.57,725.742 1197.82,732.16 1193.43,738.441 1189.33,744.598 1185.49,750.638 1181.85,756.568 1178.38,762.393 1175.03,768.117 1171.76,773.74 \n",
       "  1168.54,779.266 1165.35,784.696 1162.15,790.03 1158.91,795.269 1155.62,800.411 1152.24,805.456 1148.74,810.402 1145.1,815.245 1141.31,819.983 1137.33,824.614 \n",
       "  1133.15,829.134 1128.74,833.539 1124.09,837.823 1119.16,841.978 1113.93,845.998 1108.39,849.874 1102.5,853.595 1096.24,857.15 1089.59,860.525 1082.53,863.705 \n",
       "  1075.03,866.672 1067.06,869.402 1058.61,871.87 1049.65,874.049 1040.16,875.907 1030.13,877.412 1019.54,878.524 1008.38,879.194 996.619,879.367 984.264,878.984 \n",
       "  971.323,877.983 957.818,876.296 943.781,873.851 929.258,870.574 914.307,866.384 898.998,861.197 883.413,854.946 867.669,847.571 851.92,838.956 836.34,829.015 \n",
       "  821.121,817.699 806.471,804.994 792.621,790.922 779.818,775.543 768.326,758.951 758.43,741.275 750.431,722.685 744.565,703.439 741.027,683.853 739.986,664.23 \n",
       "  741.552,644.877 745.775,626.102 752.646,608.218 762.095,591.542 773.996,576.393 788.16,563.093 804.338,551.962 822.188,543.106 841.339,536.507 861.445,532.144 \n",
       "  882.182,529.948 903.242,529.805 924.337,531.555 945.199,534.992 965.577,539.862 985.256,545.902 1004.12,552.942 1022.06,560.784 1039.02,569.248 1054.95,578.171 \n",
       "  1069.8,587.413 1083.58,596.852 1096.3,606.39 1108.01,615.944 1118.75,625.454 1128.54,634.87 1137.45,644.16 1145.53,653.3 1152.83,662.268 1159.41,671.047 \n",
       "  1165.31,679.628 1170.58,688.003 1175.27,696.172 1179.44,704.137 1183.13,711.901 1186.38,719.467 1189.22,726.84 1191.7,734.025 1193.85,741.027 1195.69,747.851 \n",
       "  1197.26,754.504 1198.58,760.993 1199.68,767.323 1200.56,773.499 1201.26,779.527 1201.79,785.412 1202.15,791.159 1202.36,796.774 1202.44,802.261 1202.39,807.626 \n",
       "  1202.21,812.873 1201.92,818.005 1201.52,823.028 1201,827.944 1200.38,832.758 1199.65,837.473 1198.82,842.094 1197.87,846.623 1196.82,851.064 1195.66,855.419 \n",
       "  1194.38,859.691 1192.97,863.883 1191.44,867.998 1189.78,872.038 1187.97,876.006 1186.01,879.904 1183.9,883.733 1181.61,887.496 1179.14,891.194 1176.48,894.827 \n",
       "  1173.61,898.398 1170.51,901.905 1167.17,905.35 1163.57,908.732 1159.7,912.048 1155.52,915.297 1151.02,918.478 1146.18,921.589 1140.96,924.623 1135.34,927.576 \n",
       "  1129.29,930.436 1122.77,933.193 1115.76,935.834 1108.21,938.343 1100.1,940.703 1091.37,942.893 1082.01,944.884 1071.97,946.647 1061.19,948.149 1049.63,949.345 \n",
       "  1037.23,950.184 1023.98,950.601 1009.84,950.522 994.794,949.864 978.824,948.532 961.926,946.421 944.102,943.417 925.376,939.409 905.827,934.294 885.497,927.854 \n",
       "  864.472,919.878 842.896,910.185 820.968,898.615 798.943,885.037 777.136,869.343 755.914,851.451 735.704,831.306 716.988,808.877 700.191,784.264 685.853,757.74 \n",
       "  674.563,729.628 666.807,700.329 662.966,670.322 663.318,640.166 668.037,610.5 677.192,582.039 690.75,555.58 708.533,531.958 730.007,511.689 754.589,495.047 \n",
       "  781.7,482.198 810.753,473.188 841.155,467.948 872.307,466.292 903.602,467.918 934.425,472.406 964.336,479.249 993.078,487.96 1020.42,498.1 1046.2,509.278 \n",
       "  1070.32,521.153 1092.72,533.432 1113.44,545.872 1132.55,558.276 1150.09,570.512 1166.13,582.497 1180.79,594.167 1194.14,605.474 1206.3,616.382 1217.35,626.871 \n",
       "  1227.4,636.934 1236.54,646.581 1244.88,655.822 1252.5,664.669 1259.48,673.136 1265.9,681.237 1271.84,688.983 1277.37,696.39 1282.55,703.469 1287.44,710.233 \n",
       "  1292.11,716.696 1296.6,722.865 1300.96,728.747 1305.24,734.348 1309.46,739.673 1313.67,744.724 1317.92,749.507 1322.22,754.022 1326.63,758.271 1331.17,762.251 \n",
       "  1335.86,765.959 1340.73,769.389 1345.8,772.534 1351.11,775.386 1356.67,777.937 1362.51,780.175 1368.65,782.091 1375.12,783.669 1381.93,784.894 1389.1,785.746 \n",
       "  1396.65,786.204 1404.6,786.245 1412.95,785.847 1421.72,784.984 1430.91,783.631 1440.54,781.76 1450.6,779.344 1461.07,776.36 1471.96,772.769 1483.26,768.532 \n",
       "  1494.92,763.621 1506.92,758.011 1519.21,751.685 1531.72,744.631 1544.37,736.846 1557.08,728.331 1569.74,719.095 1582.25,709.157 1594.48,698.566 1606.27,687.386 \n",
       "  1617.43,675.695 1627.78,663.591 1637.16,651.194 1645.4,638.64 1652.34,626.087 1657.81,613.711 1661.67,601.707 1663.75,590.293 1663.94,579.69 1662.22,570.078 \n",
       "  1658.57,561.605 1653.02,554.393 1645.64,548.537 1636.51,544.104 1625.77,541.133 1613.56,539.636 1600.09,539.598 1585.58,540.977 1570.27,543.672 1554.4,547.504 \n",
       "  1538.2,552.327 1521.86,558 1505.59,564.382 1489.54,571.336 1473.86,578.729 1458.68,586.426 1444.11,594.298 1430.22,602.239 1417.08,610.206 1404.7,618.144 \n",
       "  1393.12,626.01 1382.34,633.764 1372.36,641.381 1363.18,648.841 1354.79,656.134 1347.14,663.262 1340.22,670.227 1333.99,677.025 1328.43,683.661 1323.49,690.139 \n",
       "  1319.14,696.461 1315.35,702.634 1312.1,708.659 1309.34,714.542 1307.06,720.284 1305.23,725.891 1303.82,731.361 1302.81,736.696 1302.17,741.897 1301.91,746.965 \n",
       "  1301.99,751.897 1302.41,756.692 1303.16,761.348 1304.23,765.861 1305.61,770.225 1307.29,774.436 1309.27,778.486 1311.56,782.372 1314.15,786.086 1317.05,789.624 \n",
       "  1320.26,792.976 1323.8,796.134 1327.67,799.087 1331.88,801.823 1336.44,804.328 1341.36,806.59 1346.66,808.592 1352.35,810.32 1358.45,811.754 1364.98,812.875 \n",
       "  1371.95,813.66 1379.39,814.085 1387.31,814.124 1395.73,813.746 1404.65,812.921 1414.1,811.614 1424.08,809.792 1434.59,807.432 1445.64,804.483 1457.24,800.892 \n",
       "  1469.41,796.606 1482.12,791.582 1495.36,785.78 1509.06,779.164 1523.19,771.706 1537.65,763.381 1552.37,754.169 1567.23,744.056 1582.12,733.035 1596.91,721.114 \n",
       "  1611.45,708.355 1625.51,694.822 1638.85,680.608 1651.26,665.835 1662.49,650.656 1672.33,635.253 1680.55,619.836 1686.94,604.648 1691.27,589.958 1693.32,576.067 \n",
       "  1692.93,563.307 1690.08,551.918 1684.81,542.064 1677.19,533.877 1667.33,527.455 1655.38,522.865 1641.49,520.138 1625.9,519.276 1608.85,520.245 1590.61,522.979 \n",
       "  1571.51,527.349 1551.92,533.045 1532.13,539.83 1512.4,547.497 1492.95,555.849 1473.99,564.702 1455.67,573.886 1438.12,583.24 1421.44,592.619 1405.69,601.926 \n",
       "  1390.92,611.118 1377.12,620.147 1364.31,628.975 1352.47,637.579 1341.58,645.942 1331.62,654.059 1322.54,661.938 1314.29,669.594 1306.83,677.038 1300.12,684.278 \n",
       "  1294.09,691.326 1288.71,698.194 1283.93,704.893 1279.71,711.435 1276,717.828 1272.76,724.08 1269.96,730.2 1267.56,736.192 1265.53,742.062 1263.83,747.815 \n",
       "  1262.46,753.453 1261.38,758.98 1260.58,764.398 1260.03,769.707 1259.72,774.908 1259.62,779.999 1259.73,784.979 1260.04,789.848 1260.54,794.607 1261.23,799.254 \n",
       "  1262.11,803.788 1263.16,808.209 1264.39,812.513 1265.8,816.697 1267.39,820.76 1269.16,824.698 1271.12,828.509 1273.27,832.19 1275.63,835.737 1278.2,839.146 \n",
       "  1280.99,842.41 1284.02,845.525 1287.29,848.484 1290.82,851.278 1294.63,853.9 1298.73,856.342 1303.15,858.593 1307.9,860.642 1313,862.475 1318.48,864.076 \n",
       "  1324.37,865.428 1330.68,866.513 1337.46,867.308 1344.72,867.792 1352.47,867.941 1360.77,867.724 1369.66,867.106 1379.17,866.046 1389.34,864.501 1400.2,862.423 \n",
       "  1411.78,859.762 1424.1,856.464 1437.16,852.468 1450.99,847.713 1465.59,842.132 1480.95,835.655 1497.08,828.208 1513.94,819.739 1531.46,810.177 1549.6,799.414 \n",
       "  1568.27,787.375 1587.34,774.013 1606.65,759.319 1625.97,743.311 1645.07,726.043 1663.64,707.599 1681.34,688.098 1697.82,667.69 1712.75,646.628 1725.69,625.282 \n",
       "  1736.18,604.035 1743.83,583.273 1748.35,563.391 1749.5,544.784 1747.11,527.856 1741.1,513.014 1731.46,500.671 1718.24,491.242 1701.73,484.888 1682.37,481.519 \n",
       "  1660.61,481.046 1636.89,483.31 1611.67,488.086 1585.42,495.082 1558.6,503.939 1531.7,514.228 1505.2,525.464 1479.42,537.315 1454.58,549.523 1430.86,561.839 \n",
       "  1408.42,574.059 1387.35,586.025 1367.69,597.625 1349.45,608.791 1332.59,619.502 1317.05,629.753 1302.8,639.545 1289.76,648.902 1277.87,657.851 1267.03,666.42 \n",
       "  1257.19,674.639 1248.25,682.542 1240.14,690.162 1232.79,697.533 1226.1,704.68 1220.02,711.624 1214.49,718.388 1209.43,724.99 1204.79,731.445 1200.51,737.766 \n",
       "  1196.54,743.962 1192.84,750.042 1189.35,756.011 1186.03,761.875 1182.85,767.639 1179.78,773.307 1176.79,778.88 1173.84,784.361 1170.91,789.75 1167.96,795.048 \n",
       "  1164.97,800.252 1161.9,805.363 1158.75,810.381 1155.49,815.304 1152.1,820.132 1148.56,824.863 1144.83,829.493 1140.91,834.02 1136.77,838.439 1132.39,842.747 \n",
       "  1127.74,846.938 1122.8,851.008 1117.56,854.948 1111.99,858.751 1106.05,862.405 1099.74,865.899 1093.03,869.218 1085.87,872.347 1078.27,875.267 1070.18,877.958 \n",
       "  1061.58,880.394 1052.44,882.548 1042.75,884.386 1032.48,885.868 1021.62,886.953 1010.15,887.59 998.066,887.728 985.357,887.308 972.05,886.287 958.159,884.589 \n",
       "  943.683,882.109 928.651,878.749 913.113,874.414 897.151,869.016 880.867,862.473 864.394,854.71 847.887,845.655 831.529,835.244 815.529,823.418 800.118,810.126 \n",
       "  785.5,795.397 771.99,779.274 759.92,761.83 749.594,743.195 741.284,723.553 735.237,703.144 731.667,682.262 730.762,661.259 732.68,640.539 737.531,620.568 \n",
       "  745.25,601.782 755.679,584.495 768.624,568.97 783.857,555.429 801.115,544.046 820.1,534.952 840.476,528.236 861.877,523.939 883.899,522.059 906.157,522.395 \n",
       "  928.341,524.661 950.176,528.625 971.432,534.055 991.92,540.722 1011.5,548.398 1030.06,556.854 1047.55,565.866 1063.92,575.267 1079.16,584.94 1093.28,594.772 \n",
       "  1106.32,604.666 1118.29,614.54 1129.25,624.33 1139.23,633.988 1148.31,643.48 1156.53,652.786 1163.96,661.887 1170.67,670.774 1176.69,679.441 1182.1,687.885 \n",
       "  1186.94,696.106 1191.26,704.105 1195.12,711.887 1198.56,719.458 1201.62,726.825 1204.33,733.993 1206.74,740.968 1208.87,747.756 1210.75,754.364 1212.41,760.798 \n",
       "  1213.87,767.064 1215.17,773.17 1216.32,779.121 1217.34,784.924 1218.24,790.581 1219.04,796.099 1219.75,801.482 1220.38,806.735 1220.94,811.861 1221.45,816.867 \n",
       "  1221.9,821.755 1222.32,826.528 1222.7,831.19 1223.05,835.745 1223.37,840.195 1223.68,844.544 1223.97,848.795 1224.25,852.949 1224.52,857.01 1224.79,860.98 \n",
       "  1225.06,864.86 1225.33,868.653 1225.6,872.362 1225.88,875.988 1226.17,879.532 1226.47,882.996 1226.79,886.383 1227.12,889.692 1227.47,892.927 1227.85,896.087 \n",
       "  1228.24,899.175 1228.67,902.19 1229.12,905.135 1229.61,908.01 1230.13,910.816 1230.69,913.554 1231.3,916.224 1231.95,918.826 1232.65,921.362 1233.4,923.831 \n",
       "  1234.22,926.233 1235.1,928.568 1236.05,930.837 1237.08,933.038 1238.19,935.171 1239.39,937.236 1240.69,939.231 1242.09,941.156 1243.61,943.008 1245.26,944.786 \n",
       "  1247.04,946.487 1248.97,948.109 1251.07,949.649 1253.34,951.103 1255.79,952.467 1258.46,953.736 1261.35,954.904 1264.48,955.967 1267.88,956.916 1271.56,957.743 \n",
       "  1275.56,958.438 1279.89,958.989 1284.59,959.383 1289.7,959.606 1295.24,959.64 1301.24,959.468 1307.75,959.067 1314.81,958.412 1322.47,957.476 1330.77,956.228 \n",
       "  1339.77,954.626 1349.52,952.627 1360.07,950.178 1371.48,947.223 1383.81,943.697 1397.11,939.531 1411.44,934.65 1426.83,928.98 1443.34,922.404 1461.07,914.796 \n",
       "  1480.05,906.026 1500.3,895.964 1521.79,884.477 1544.47,871.434 1568.26,856.7 1593.03,840.14 1618.63,821.617 1644.87,801.052 1671.42,778.408 1697.86,753.624 \n",
       "  1723.71,726.762 1748.41,698.014 1771.34,667.699 1791.84,636.265 1809.15,604.289 1822.48,572.476 1831.01,541.664 1834.25,512.817 1831.78,486.824 1823.38,464.439 \n",
       "  1809.06,446.287 1789.05,432.86 1763.78,424.519 1733.93,421.496 1700.41,423.587 1664.25,430.075 1626.4,440.318 1587.72,453.619 1549.01,469.227 1510.96,486.337 \n",
       "  1474.21,504.091 1439.22,521.839 1406.17,539.266 1375.24,556.052 1346.51,571.962 1319.99,586.852 1295.64,600.664 1273.35,613.428 1253,625.192 1234.47,636.012 \n",
       "  1217.62,645.981 1202.31,655.191 1188.41,663.723 1175.78,671.656 1164.3,679.063 1153.85,686.012 1144.32,692.564 1135.57,698.773 1127.53,704.681 1120.09,710.325 \n",
       "  1113.18,715.734 1106.7,720.933 1100.58,725.939 1094.76,730.764 1089.16,735.416 1083.74,739.902 1078.45,744.224 1073.24,748.381 1068.07,752.373 1062.91,756.195 \n",
       "  1057.71,759.842 1052.44,763.305 1047.07,766.574 1041.58,769.641 1035.95,772.492 1030.16,775.114 1024.2,777.495 1018.06,779.618 1011.72,781.468 1005.18,783.027 \n",
       "  998.44,784.278 991.494,785.203 984.349,785.781 977.015,785.989 969.504,785.806 961.835,785.21 954.029,784.182 946.116,782.703 938.126,780.755 930.098,778.322 \n",
       "  922.073,775.389 914.094,771.952 906.223,767.999 898.527,763.521 891.075,758.516 883.937,752.996 877.183,746.977 870.886,740.488 865.119,733.566 859.956,726.259 \n",
       "  855.475,718.621 851.751,710.72 848.851,702.627 846.82,694.43 845.708,686.218 845.551,678.079 846.371,670.102 848.174,662.376 850.953,654.988 854.684,648.024 \n",
       "  859.327,641.571 864.831,635.715 871.127,630.539 878.137,626.094 885.77,622.398 893.931,619.473 902.525,617.327 911.457,615.96 920.635,615.36 929.968,615.504 \n",
       "  939.364,616.357 948.734,617.875 957.991,620 967.054,622.675 975.87,625.855 984.387,629.484 992.56,633.51 1000.35,637.88 1007.73,642.546 1014.66,647.462 \n",
       "  1021.13,652.584 1027.13,657.87 1032.65,663.283 1037.68,668.784 1042.23,674.344 1046.3,679.939 1049.89,685.549 1053.02,691.151 1055.69,696.727 1057.9,702.26 \n",
       "  1059.67,707.733 1061.01,713.133 1061.91,718.448 1062.41,723.666 1062.49,728.779 1062.17,733.778 1061.47,738.652 1060.38,743.393 1058.92,747.995 1057.08,752.447 \n",
       "  1054.86,756.74 1052.29,760.867 1049.34,764.815 1046.04,768.576 1042.38,772.139 1038.37,775.492 1034.02,778.624 1029.32,781.523 1024.28,784.176 1018.91,786.566 \n",
       "  1013.19,788.676 1007.14,790.487 1000.77,791.979 994.076,793.133 987.077,793.929 979.791,794.343 972.237,794.355 964.438,793.94 956.422,793.076 948.218,791.737 \n",
       "  939.86,789.911 931.387,787.581 922.853,784.714 914.311,781.282 905.824,777.267 897.457,772.661 889.281,767.463 881.37,761.682 873.805,755.335 866.672,748.448 \n",
       "  860.06,741.056 854.064,733.202 848.784,724.94 844.313,716.335 840.71,707.486 838.046,698.483 836.381,689.418 835.761,680.383 836.215,671.473 837.757,662.784 \n",
       "  840.385,654.413 844.084,646.46 848.821,639.025 854.549,632.212 861.207,626.123 868.715,620.864 876.969,616.469 885.849,612.942 895.241,610.295 905.034,608.527 \n",
       "  915.12,607.626 925.395,607.568 935.758,608.319 946.111,609.829 956.36,612.041 966.414,614.884 976.186,618.275 985.616,622.162 994.661,626.49 1003.28,631.197 \n",
       "  1011.45,636.226 1019.13,641.523 1026.31,647.04 1032.97,652.731 1039.1,658.553 1044.7,664.469 1049.77,670.446 1054.32,676.453 1058.37,682.465 1061.91,688.462 \n",
       "  1064.96,694.427 1067.54,700.343 1069.64,706.197 1071.29,711.974 1072.5,717.663 1073.27,723.252 1073.62,728.731 1073.56,734.092 1073.09,739.327 1072.23,744.429 \n",
       "  1070.98,749.393 1069.36,754.21 1067.36,758.872 1064.99,763.372 1062.24,767.704 1059.13,771.859 1055.64,775.826 1051.78,779.595 1047.55,783.155 1042.96,786.493 \n",
       "  1038,789.596 1032.69,792.45 1027.01,795.039 1020.99,797.348 1014.61,799.359 1007.89,801.055 1000.83,802.408 993.422,803.395 985.686,803.988 977.634,804.162 \n",
       "  969.288,803.891 960.675,803.148 951.826,801.905 942.777,800.136 933.573,797.814 924.259,794.91 914.884,791.408 905.5,787.308 896.194,782.576 887.056,777.186 \n",
       "  878.177,771.129 869.65,764.408 861.567,757.04 854.024,749.058 847.118,740.505 840.945,731.442 835.605,721.94 831.198,712.087 827.826,701.983 825.59,691.742 \n",
       "  824.569,681.502 824.775,671.408 826.217,661.578 828.888,652.125 832.767,643.157 837.817,634.772 843.985,627.067 851.204,620.129 859.391,614.039 868.447,608.875 \n",
       "  878.258,604.705 888.694,601.593 899.611,599.543 910.86,598.48 922.31,598.365 933.838,599.15 945.332,600.783 956.69,603.202 967.82,606.339 978.642,610.118 \n",
       "  989.085,614.458 999.089,619.269 1008.6,624.455 1017.59,629.964 1026.03,635.75 1033.9,641.759 1041.21,647.941 1047.95,654.252 1054.11,660.65 1059.71,667.1 \n",
       "  1064.73,673.571 1069.21,680.037 1073.14,686.476 1076.56,692.87 1079.46,699.201 1081.88,705.458 1083.82,711.628 1085.29,717.702 1086.32,723.67 1086.92,729.524 \n",
       "  1087.09,735.256 1086.85,740.859 1086.21,746.327 1085.18,751.655 1083.76,756.837 1081.96,761.87 1079.81,766.743 1077.29,771.452 1074.4,775.992 1071.13,780.357 \n",
       "  1067.49,784.539 1063.47,788.529 1059.06,792.315 1054.27,795.887 1049.09,799.23 1043.53,802.329 1037.58,805.169 1031.26,807.73 1024.55,809.996 1017.47,811.943 \n",
       "  1010.02,813.551 1002.21,814.798 994.036,815.657 985.498,816.093 976.611,816.073 967.393,815.563 957.871,814.531 948.079,812.942 938.059,810.765 927.859,807.967 \n",
       "  917.536,804.516 907.155,800.38 896.777,795.539 886.463,790.001 876.335,783.734 866.515,776.716 857.125,768.946 848.284,760.439 840.107,751.229 832.707,741.369 \n",
       "  826.197,730.928 820.684,719.994 816.275,708.674 813.072,697.093 811.177,685.393 810.688,673.735 811.689,662.298 814.161,651.261 818.062,640.767 823.344,630.943 \n",
       "  829.939,621.904 837.766,613.752 846.73,606.574 856.716,600.446 867.597,595.431 879.23,591.579 891.454,588.925 904.096,587.491 916.988,587.194 929.98,587.944 \n",
       "  942.933,589.663 955.726,592.273 968.249,595.691 980.409,599.831 992.125,604.604 1003.33,609.916 1013.99,615.672 1024.04,621.772 1033.48,628.128 1042.28,634.709 \n",
       "  1050.43,641.461 1057.95,648.337 1064.84,655.292 1071.1,662.288 1076.75,669.292 1081.8,676.275 1086.27,683.214 1090.18,690.091 1093.55,696.892 1096.4,703.603 \n",
       "  1098.75,710.215 1100.63,716.718 1102.04,723.106 1103.01,729.373 1103.55,735.512 1103.67,741.519 1103.39,747.389 1102.72,753.119 1101.66,758.706 1100.23,764.148 \n",
       "  1098.44,769.439 1096.29,774.577 1093.78,779.557 1090.89,784.377 1087.64,789.029 1084.02,793.508 1080.03,797.807 1075.65,801.915 1070.9,805.822 1065.75,809.518 \n",
       "  1060.22,812.99 1054.3,816.223 1047.98,819.204 1041.26,821.914 1034.14,824.334 1026.59,826.438 1018.61,828.202 1010.21,829.596 1001.38,830.589 992.142,831.15 \n",
       "  982.496,831.241 972.465,830.825 962.071,829.862 951.342,828.309 940.312,826.137 929.034,823.332 917.563,819.816 905.964,815.522 894.316,810.397 882.706,804.403 \n",
       "  871.238,797.519 860.024,789.738 849.188,781.068 838.868,771.534 829.213,761.176 820.382,750.048 812.549,738.219 805.896,725.777 800.563,712.849 796.645,699.611 \n",
       "  794.259,686.226 793.491,672.859 794.398,659.678 797.008,646.857 801.315,634.568 807.288,622.991 814.86,612.305 823.939,602.694 834.399,594.345 846.076,587.385 \n",
       "  858.757,581.809 872.244,577.632 886.345,574.848 900.874,573.428 915.657,573.32 930.525,574.45 945.318,576.721 959.884,580.013 974.079,584.185 987.776,589.088 \n",
       "  1000.91,594.641 1013.42,600.743 1025.26,607.291 1036.41,614.197 1046.83,621.376 1056.52,628.757 1065.46,636.276 1073.68,643.876 1081.17,651.514 1087.98,659.151 \n",
       "  1094.13,666.757 1099.64,674.308 1104.52,681.786 1108.82,689.176 1112.56,696.464 1115.77,703.639 1118.46,710.692 1120.67,717.615 1122.42,724.404 1123.72,731.055 \n",
       "  1124.6,737.567 1125.07,743.94 1125.16,750.173 1124.88,756.264 1124.23,762.213 1123.22,768.02 1121.86,773.684 1120.16,779.203 1118.11,784.576 1115.72,789.802 \n",
       "  1113,794.878 1109.94,799.803 1106.54,804.573 1102.8,809.184 1098.71,813.629 1094.24,817.904 1089.41,821.999 1084.19,825.905 1078.57,829.612 1072.55,833.104 \n",
       "  1066.1,836.368 1059.23,839.386 1051.92,842.139 1044.16,844.608 1035.94,846.769 1027.25,848.589 1018.07,850.037 1008.4,851.074 998.221,851.66 987.557,851.753 \n",
       "  976.419,851.307 964.828,850.271 952.813,848.593 940.414,846.219 927.673,843.09 914.644,839.147 901.391,834.372 888.013,828.687 874.62,822.008 861.34,814.276 \n",
       "  848.311,805.455 835.684,795.535 823.624,784.531 812.309,772.481 801.93,759.45 792.69,745.525 784.806,730.82 778.506,715.473 773.959,699.705 771.285,683.757 \n",
       "  770.584,667.849 771.921,652.201 775.322,637.031 780.777,622.556 788.238,608.99 797.619,596.548 808.798,585.443 821.614,575.888 835.87,568.091 851.292,562.094 \n",
       "  867.593,557.841 884.515,555.293 901.819,554.386 919.284,555.032 936.704,557.112 953.892,560.487 970.678,564.987 986.909,570.419 1002.46,576.597 1017.26,583.424 \n",
       "  1031.26,590.776 1044.44,598.533 1056.75,606.592 1068.21,614.86 1078.79,623.259 1088.52,631.722 1097.42,640.195 1105.54,648.639 1112.89,657.018 1119.52,665.306 \n",
       "  1125.47,673.484 1130.76,681.539 1135.45,689.459 1139.56,697.233 1143.14,704.854 1146.2,712.318 1148.8,719.624 1150.94,726.77 1152.67,733.76 1154.01,740.596 \n",
       "  1154.99,747.28 1155.61,753.813 1155.9,760.198 1155.87,766.439 1155.53,772.537 1154.9,778.496 1153.99,784.318 1152.8,790.007 1151.34,795.566 1149.61,800.996 \n",
       "  1147.61,806.299 1145.34,811.476 1142.79,816.527 1139.96,821.452 1136.84,826.251 1133.43,830.922 1129.7,835.464 1125.67,839.875 1121.3,844.149 1116.58,848.283 \n",
       "  1111.51,852.269 1106.05,856.101 1100.2,859.768 1093.93,863.26 1087.21,866.56 1080.04,869.652 1072.39,872.517 1064.24,875.133 1055.56,877.476 1046.36,879.519 \n",
       "  1036.6,881.229 1026.26,882.565 1015.31,883.48 1003.74,883.922 991.536,883.837 978.713,883.161 965.288,881.829 951.29,879.769 936.759,876.904 921.745,873.152 \n",
       "  906.308,868.428 890.521,862.645 874.483,855.768 858.339,847.67 842.256,838.241 826.42,827.406 811.038,815.128 796.338,801.41 782.565,786.292 769.987,769.852 \n",
       "  758.889,752.208 749.578,733.512 742.376,713.967 737.518,693.912 735.17,673.686 735.455,653.604 738.441,633.981 744.142,615.128 752.515,597.355 763.465,580.968 \n",
       "  776.841,566.273 792.439,553.572 809.999,543.168 829.165,535.233 849.5,529.656 870.632,526.369 892.224,525.264 913.964,526.197 935.569,528.984 956.788,533.403 \n",
       "  977.396,539.191 997.198,546.05 1016.06,553.777 1033.92,562.211 1050.73,571.176 1066.45,580.517 1081.06,590.099 1094.59,599.809 1107.04,609.555 1118.45,619.266 \n",
       "  1128.89,628.89 1138.41,638.384 1147.04,647.718 1154.86,656.872 1161.92,665.834 1168.27,674.59 1173.97,683.135 1179.07,691.463 1183.62,699.574 1187.67,707.472 \n",
       "  1191.27,715.162 1194.45,722.65 1197.26,729.941 1199.73,737.039 1201.89,743.952 1203.78,750.685 1205.41,757.244 1206.83,763.636 1208.05,769.867 1209.09,775.944 \n",
       "  1209.97,781.873 1210.71,787.657 1211.31,793.302 1211.8,798.813 1212.18,804.195 1212.46,809.452 1212.66,814.59 1212.77,819.612 1212.81,824.522 1212.78,829.324 \n",
       "  1212.68,834.022 1212.52,838.619 1212.3,843.118 1212.02,847.524 1211.68,851.838 1211.29,856.064 1210.84,860.205 1210.33,864.264 1209.77,868.243 1209.14,872.144 \n",
       "  1208.45,875.972 1207.69,879.727 1206.87,883.413 1205.98,887.032 1205,890.586 1203.95,894.077 1202.81,897.508 1201.57,900.881 1200.23,904.198 1198.79,907.46 \n",
       "  1197.23,910.671 1195.55,913.832 1193.73,916.944 1191.76,920.01 1189.64,923.031 1187.35,926.009 1184.88,928.944 1182.21,931.838 1179.32,934.692 1176.2,937.505 \n",
       "  1172.83,940.279 1169.19,943.01 1165.26,945.7 1161,948.348 1156.41,950.953 1151.44,953.508 1146.07,956.01 1140.27,958.451 1134,960.82 1127.22,963.108 \n",
       "  1119.9,965.301 1111.99,967.386 1103.47,969.339 1094.27,971.137 1084.35,972.758 1073.64,974.168 1062.11,975.325 1049.69,976.175 1036.34,976.655 1022.03,976.69 \n",
       "  1006.72,976.196 990.36,975.079 972.935,973.233 954.439,970.557 934.914,966.93 914.328,962.144 892.702,955.988 870.116,948.26 846.715,938.762 822.703,927.303 \n",
       "  798.346,913.699 773.972,897.771 749.969,879.345 726.787,858.258 704.826,834.496 684.743,808.129 667.27,779.288 653.055,748.247 642.666,715.417 636.587,681.352 \n",
       "  635.219,646.745 638.882,612.43 647.812,579.38 662.05,548.644 681.166,521.023 704.662,497.13 731.961,477.418 762.399,462.178 795.227,451.537 829.61,445.46 \n",
       "  864.658,443.729 899.69,445.791 934.138,451.053 967.521,458.953 999.468,468.946 1029.71,480.505 1058.11,493.119 1084.59,506.303 1109.13,519.76 1131.77,533.271 \n",
       "  1152.55,546.637 1171.57,559.706 1188.93,572.367 1204.73,584.559 1219.1,596.243 1232.17,607.401 1244.05,618.037 1254.86,628.16 1264.71,637.779 1273.7,646.909 \n",
       "  1281.93,655.568 1289.51,663.776 1296.51,671.557 1303.03,678.931 1309.13,685.915 1314.89,692.524 1320.36,698.773 1325.61,704.674 1330.7,710.237 1335.68,715.473 \n",
       "  1340.59,720.39 1345.48,724.99 1350.39,729.276 1355.35,733.248 1360.4,736.905 1365.55,740.247 1370.86,743.27 1376.34,745.971 1382.02,748.343 1387.92,750.379 \n",
       "  1394.06,752.066 1400.46,753.393 1407.12,754.347 1414.07,754.915 1421.31,755.083 1428.86,754.836 1436.71,754.158 1444.88,753.035 1453.34,751.446 1462.11,749.37 \n",
       "  1471.17,746.788 1480.49,743.685 1490.06,740.047 1499.83,735.866 1509.78,731.134 1519.85,725.846 1529.99,720.002 1540.15,713.616 1550.24,706.698 1560.18,699.269 \n",
       "  1569.85,691.359 1579.17,683.012 1588.03,674.284 1596.32,665.245 1603.92,655.975 1610.74,646.569 1616.64,637.133 1621.5,627.785 1625.22,618.656 1627.71,609.873 \n",
       "  1628.9,601.564 1628.75,593.845 1627.22,586.824 1624.3,580.592 1620,575.233 1614.38,570.815 1607.51,567.395 1599.46,565.017 1590.35,563.714 1580.33,563.444 \n",
       "  1569.54,564.148 1558.12,565.771 1546.23,568.248 1534,571.509 1521.58,575.471 1509.09,580.045 1496.66,585.133 1484.42,590.626 1472.48,596.417 1460.92,602.451 \n",
       "  1449.81,608.668 1439.18,615.009 1429.1,621.421 1419.59,627.858 1410.68,634.283 1402.4,640.663 1394.73,646.976 1387.69,653.206 1381.26,659.341 1375.43,665.371 \n",
       "  1370.19,671.285 1365.53,677.079 1361.42,682.747 1357.85,688.285 1354.8,693.689 1352.25,698.956 1350.19,704.084 1348.61,709.071 1347.47,713.915 1346.77,718.613 \n",
       "  1346.49,723.16 1346.62,727.551 1347.15,731.784 1348.07,735.853 1349.38,739.751 1351.07,743.473 1353.13,747.01 1355.56,750.353 1358.36,753.492 1361.52,756.417 \n",
       "  1365.04,759.115 1368.93,761.576 1373.19,763.787 1377.84,765.736 1382.86,767.407 1388.28,768.785 1394.09,769.852 1400.29,770.59 1406.9,770.977 1413.91,770.994 \n",
       "  1421.32,770.616 1429.14,769.822 1437.35,768.595 1445.97,766.905 1454.98,764.72 1464.38,762.016 1474.16,758.767 1484.29,754.953 1494.72,750.556 1505.44,745.561 \n",
       "  1516.37,739.955 1527.47,733.731 1538.66,726.881 1549.88,719.405 1561.05,711.327 1572.06,702.675 1582.78,693.485 1593.07,683.806 1602.81,673.706 1611.86,663.267 \n",
       "  1620.09,652.585 1627.37,641.775 1633.55,630.963 1638.52,620.293 1642.13,609.926 1644.25,600.034 1644.79,590.798 1643.73,582.355 1641.08,574.815 1636.84,568.274 \n",
       "  1631.07,562.806 1623.82,558.472 1615.19,555.314 1605.27,553.354 1594.21,552.602 1582.16,553.045 1569.29,554.657 1555.81,557.337 1541.92,560.931 1527.8,565.328 \n",
       "  1513.61,570.419 1499.49,576.098 1485.59,582.258 1472.02,588.797 1458.87,595.614 1446.24,602.608 1434.2,609.683 1422.8,616.794 1412.06,623.907 1402,630.985 \n",
       "  1392.64,637.995 1383.98,644.912 1376.01,651.715 1368.72,658.389 1362.11,664.928 1356.15,671.329 1350.82,677.594 1346.1,683.721 1341.95,689.706 1338.36,695.55 \n",
       "  1335.29,701.253 1332.73,706.815 1330.66,712.237 1329.04,717.516 1327.87,722.653 1327.13,727.646 1326.8,732.494 1326.86,737.193 1327.29,741.737 1328.09,746.122 \n",
       "  1329.26,750.348 1330.79,754.41 1332.67,758.303 1334.91,762.021 1337.51,765.555 1340.45,768.896 1343.75,772.033 1347.41,774.955 1351.42,777.646 1355.79,780.093 \n",
       "  1360.53,782.281 1365.65,784.198 1371.16,785.831 1377.08,787.159 1383.41,788.165 1390.16,788.827 1397.35,789.122 1404.98,789.026 1413.06,788.513 1421.59,787.556 \n",
       "  1430.58,786.129 1440.01,784.215 1449.89,781.77 1460.23,778.751 1471.03,775.12 1482.26,770.845 1493.9,765.899 1505.91,760.259 1518.23,753.909 1530.79,746.837 \n",
       "  1543.51,739.036 1556.31,730.505 1569.07,721.246 1581.69,711.269 1594.05,700.618 1606.01,689.365 1617.37,677.588 1627.93,665.387 1637.53,652.877 1645.99,640.194 \n",
       "  1653.14,627.492 1658.83,614.943 1662.91,602.736 1665.23,591.08 1665.67,580.204 1664.11,570.341 1660.58,561.655 1655.13,554.249 1647.85,548.207 1638.84,543.584 \n",
       "  1628.22,540.413 1616.16,538.702 1602.8,538.433 1588.35,539.564 1573.01,542.031 1557.02,545.741 1540.62,550.54 1524.08,556.215 1507.57,562.612 1491.28,569.586 \n",
       "  1475.37,577.004 1459.95,584.743 1445.14,592.693 1431.01,600.751 1417.62,608.827 1405.02,616.851 1393.23,624.795 1382.25,632.628 1372.08,640.326 1362.72,647.87 \n",
       "  1354.13,655.247 1346.31,662.45 1339.23,669.477 1332.85,676.333 1327.14,683.026 1322.07,689.562 1317.6,695.94 1313.7,702.167 1310.33,708.248 1307.47,714.185 \n",
       "  1305.09,719.983 1303.15,725.644 1301.64,731.171 1300.53,736.563 1299.8,741.823 1299.42,746.944 1299.39,751.929 1299.69,756.778 1300.31,761.49 1301.25,766.065 \n",
       "  1302.51,770.499 1304.08,774.788 1305.95,778.926 1308.12,782.906 1310.59,786.72 1313.35,790.36 1316.41,793.813 1319.78,797.074 1323.47,800.136 1327.5,802.99 \n",
       "  1331.86,805.623 1336.59,808.024 1341.68,810.177 1347.15,812.067 1353.03,813.674 1359.33,814.981 1366.05,815.968 1373.22,816.612 1380.86,816.886 1389,816.761 \n",
       "  1397.65,816.207 1406.84,815.191 1416.56,813.677 1426.84,811.629 1437.68,809.008 1449.07,805.772 1461.02,801.879 1473.51,797.282 1486.54,791.94 1500.04,785.837 \n",
       "  1514.01,778.906 1528.38,771.088 1543.1,762.345 1558.08,752.656 1573.21,742.021 1588.34,730.459 1603.31,718.006 1617.95,704.722 1632.04,690.683 1645.34,675.984 \n",
       "  1657.63,660.746 1668.69,645.161 1678.24,629.469 1686.02,613.906 1691.78,598.712 1695.35,584.13 1696.57,570.401 1695.35,557.774 1691.63,546.494 1685.4,536.811 \n",
       "  1676.69,528.978 1665.6,523.177 1652.4,519.368 1637.34,517.525 1620.7,517.589 1602.77,519.465 1583.82,523.02 1564.16,528.082 1544.07,534.442 1523.87,541.852 \n",
       "  1503.86,550.03 1484.27,558.765 1465.26,567.909 1446.97,577.3 1429.52,586.8 1412.99,596.296 1397.45,605.697 1382.93,614.934 1369.42,623.965 1356.91,632.767 \n",
       "  1345.36,641.332 1334.77,649.65 1325.09,657.725 1316.28,665.563 1308.29,673.172 1301.07,680.564 1294.58,687.751 1288.77,694.75 1283.59,701.573 1278.99,708.23 \n",
       "  1274.92,714.734 1271.35,721.093 1268.24,727.316 1265.54,733.41 1263.23,739.379 1261.27,745.23 1259.63,750.965 1258.29,756.589 1257.23,762.104 1256.43,767.51 \n",
       "  1255.86,772.81 1255.51,778.004 1255.36,783.091 1255.41,788.072 1255.65,792.945 1256.06,797.712 1256.65,802.371 1257.4,806.922 1258.32,811.362 1259.4,815.689 \n",
       "  1260.64,819.903 1262.04,824.001 1263.61,827.981 1265.35,831.841 1267.26,835.579 1269.36,839.191 1271.66,842.673 1274.14,846.021 1276.84,849.23 1279.76,852.295 \n",
       "  1282.92,855.211 1286.33,857.971 1290,860.568 1293.96,862.993 1298.22,865.235 1302.8,867.283 1307.72,869.126 1313.02,870.748 1318.7,872.135 1324.81,873.269 \n",
       "  1331.37,874.131 1338.4,874.695 1345.95,874.937 1354.04,874.826 1362.71,874.328 1371.98,873.408 1381.9,872.027 1392.5,870.141 1403.78,867.713 1415.78,864.685 \n",
       "  1428.57,860.986 1442.16,856.544 1456.58,851.287 1471.84,845.144 1487.92,838.043 1504.78,829.911 1522.39,820.676 1540.67,810.266 1559.54,798.607 1578.92,785.629 \n",
       "  1598.65,771.322 1618.53,755.645 1638.32,738.585 1657.74,720.19 1676.49,700.569 1694.21,679.889 1710.52,658.379 1725.01,636.326 1737.23,614.08 1746.7,592.058 \n",
       "  1753.06,570.819 1756.01,550.845 1755.36,532.553 1751.01,516.314 1742.91,502.455 1731.16,491.256 1715.9,482.954 1697.4,477.738 1675.99,475.754 1652.16,476.985 \n",
       "  1626.55,480.963 1599.74,487.33 1572.23,495.727 1544.48,505.781 1516.92,517.101 1489.92,529.277 1463.82,541.886 1438.88,554.569 1415.23,567.194 1392.95,579.6 \n",
       "  1372.11,591.66 1352.73,603.282 1334.81,614.409 1318.32,625.02 1303.18,635.128 1289.32,644.773 1276.67,653.966 1265.15,662.744 1254.67,671.145 1245.14,679.206 \n",
       "  1236.48,686.963 1228.61,694.445 1221.45,701.683 1214.94,708.701 1208.99,715.523 1203.56,722.171 1198.55,728.661 1193.93,735.008 1189.63,741.223 1185.61,747.316 \n",
       "  1181.82,753.296 1178.21,759.168 1174.75,764.936 1171.38,770.603 1168.08,776.17 1164.81,781.638 1161.54,787.01 1158.25,792.286 1154.92,797.464 1151.5,802.545 \n",
       "  1147.98,807.525 1144.33,812.402 1140.52,817.173 1136.54,821.836 1132.35,826.386 1127.95,830.821 1123.3,835.133 1118.39,839.317 1113.18,843.364 1107.66,847.265 \n",
       "  1101.8,851.012 1095.58,854.59 1088.98,857.988 1081.96,861.189 1074.51,864.177 1066.6,866.929 1058.22,869.42 1049.33,871.621 1039.92,873.502 1029.98,875.028 \n",
       "  1019.48,876.161 1008.43,876.862 996.807,877.074 984.598,876.736 971.809,875.784 958.456,874.151 944.574,871.766 930.21,868.557 915.423,864.448 900.292,859.361 \n",
       "  884.906,853.214 869.369,845.929 853.8,837.472 838.384,827.749 823.326,816.689 808.84,804.261 795.153,790.477 782.5,775.388 771.13,759.09 761.299,741.717 \n",
       "  753.277,723.446 747.343,704.496 743.73,685.17 742.567,665.818 743.953,646.751 747.929,628.273 754.485,610.681 763.556,594.26 775.022,579.288 788.712,566.036 \n",
       "  804.396,554.764 821.794,545.726 840.554,539.003 860.298,534.483 880.689,532.089 901.417,531.708 922.198,533.194 942.778,536.367 962.928,541.009 982.448,546.873 \n",
       "  1001.17,553.701 1019,561.34 1035.86,569.619 1051.72,578.378 1066.53,587.476 1080.3,596.794 1093.03,606.228 1104.74,615.697 1115.47,625.137 1125.28,634.498 \n",
       "  1134.2,643.742 1142.29,652.842 1149.6,661.778 1156.18,670.535 1162.09,679.101 1167.36,687.468 1172.06,695.633 1176.22,703.597 1179.89,711.364 1183.12,718.937 \n",
       "  1185.94,726.319 1188.39,733.515 1190.49,740.531 1192.28,747.37 1193.79,754.04 1195.04,760.547 1196.06,766.896 1196.86,773.093 1197.46,779.143 1197.88,785.051 \n",
       "  1198.12,790.822 1198.2,796.462 1198.13,801.975 1197.92,807.366 1197.58,812.64 1197.1,817.801 1196.49,822.852 1195.76,827.798 1194.9,832.641 1193.92,837.387 \n",
       "  1192.8,842.038 1191.57,846.598 1190.2,851.069 1188.69,855.455 1187.04,859.758 1185.24,863.981 1183.28,868.125 1181.16,872.193 1178.86,876.187 1176.37,880.108 \n",
       "  1173.69,883.958 1170.8,887.737 1167.67,891.446 1164.31,895.085 1160.68,898.654 1156.78,902.15 1152.57,905.572 1148.05,908.917 1143.17,912.181 1137.93,915.357 \n",
       "  1132.29,918.437 1126.23,921.417 1119.71,924.288 1112.7,927.039 1105.16,929.654 1097.06,932.114 1088.35,934.392 1079.02,936.461 1069.01,938.286 1058.29,939.829 \n",
       "  1046.83,941.048 1034.58,941.896 1021.52,942.322 1007.64,942.258 992.882,941.617 977.207,940.302 960.608,938.207 943.1,935.217 924.726,931.207 905.552,926.043 \n",
       "  885.67,919.583 865.197,911.674 844.277,902.153 823.071,890.883 801.802,877.778 780.813,862.628 760.471,845.29 741.172,825.714 723.327,803.942 707.375,780.103 \n",
       "  693.773,754.419 683.003,727.203 675.566,698.855 671.943,669.888 672.346,640.97 676.923,612.743 685.708,585.812 698.615,560.749 715.431,538.094 735.822,518.356 \n",
       "  759.328,502.012 785.368,489.474 813.28,480.705 842.425,475.533 872.224,473.751 902.154,475.076 931.754,479.151 960.622,485.546 988.414,493.753 1014.87,503.307 \n",
       "  1039.88,513.918 1063.34,525.263 1085.21,537.067 1105.48,549.098 1124.17,561.168 1141.34,573.136 1157.07,584.902 1171.44,596.385 1184.54,607.545 1196.47,618.353 \n",
       "  1207.33,628.791 1217.19,638.846 1226.17,648.513 1234.34,657.796 1241.79,666.704 1248.61,675.253 1254.86,683.456 1260.63,691.323 1265.98,698.868 1270.96,706.101 \n",
       "  1275.65,713.034 1280.09,719.678 1284.33,726.041 1288.44,732.135 1292.44,737.963 1296.38,743.532 1300.29,748.845 1304.21,753.905 1308.17,758.714 1312.2,763.273 \n",
       "  1316.34,767.583 1320.61,771.643 1325.05,775.449 1329.66,778.996 1334.49,782.277 1339.55,785.284 1344.87,788.008 1350.48,790.44 1356.38,792.567 1362.62,794.378 \n",
       "  1369.21,795.855 1376.17,796.98 1383.52,797.731 1391.29,798.087 1399.48,798.023 1408.11,797.513 1417.2,796.529 1426.76,795.041 1436.79,793.02 1447.3,790.439 \n",
       "  1458.28,787.255 1469.73,783.426 1481.65,778.913 1494,773.682 1506.74,767.706 1519.82,760.96 1533.17,753.427 1546.72,745.094 1560.38,735.951 1574.03,726 \n",
       "  1587.58,715.273 1600.85,703.807 1613.65,691.66 1625.81,678.915 1637.13,665.678 1647.43,652.084 1656.5,638.29 1664.16,624.48 1670.2,610.861 1674.42,597.667 \n",
       "  1676.66,585.153 1676.82,573.551 1674.86,563.053 1670.76,553.825 1664.54,546.006 1656.27,539.705 1646.05,535.005 1634.04,531.961 1620.43,530.598 1605.45,530.916 \n",
       "  1589.37,532.822 1572.48,536.109 1555.04,540.619 1537.3,546.192 1519.47,552.666 1501.78,559.875 1484.4,567.649 1467.49,575.818 1451.2,584.209 1435.63,592.719 \n",
       "  1420.84,601.28 1406.88,609.818 1393.79,618.275 1381.57,626.603 1370.25,634.767 1359.8,642.746 1350.21,650.533 1341.44,658.13 1333.47,665.536 1326.25,672.752 \n",
       "  1319.75,679.784 1313.94,686.64 1308.76,693.326 1304.18,699.85 1300.17,706.217 1296.69,712.435 1293.71,718.512 1291.19,724.453 1289.1,730.26 1287.41,735.938 \n",
       "  1286.1,741.488 1285.16,746.914 1284.55,752.216 1284.26,757.394 1284.28,762.447 1284.59,767.373 1285.17,772.169 1286.03,776.835 1287.15,781.368 1288.53,785.766 \n",
       "  1290.17,790.024 1292.08,794.14 1294.25,798.108 1296.68,801.921 1299.37,805.574 1302.34,809.058 1305.6,812.367 1309.14,815.493 1313,818.427 1317.17,821.16 \n",
       "  1321.68,823.679 1326.53,825.971 1331.75,828.021 1337.36,829.814 1343.37,831.331 1349.81,832.554 1356.69,833.46 1364.04,834.027 1371.89,834.226 1380.26,834.028 \n",
       "  1389.18,833.4 1398.65,832.307 1408.71,830.71 1419.37,828.567 1430.64,825.835 1442.53,822.466 1455.05,818.424 1468.16,813.67 1481.89,808.121 1496.23,801.705 \n",
       "  1511.16,794.364 1526.63,786.05 1542.56,776.73 1558.84,766.38 1575.36,754.99 1591.96,742.564 1608.48,729.116 1624.69,714.673 1640.41,699.28 1655.42,683.064 \n",
       "  1669.4,666.194 1682.01,648.863 1692.96,631.295 1701.96,613.74 1708.77,596.476 1713.16,579.812 1714.91,564.084 1713.87,549.655 1709.87,536.913 1702.93,526.144 \n",
       "  1693.22,517.491 1680.92,511.042 1666.26,506.838 1649.51,504.872 1630.93,505.085 1610.85,507.372 1589.61,511.576 1567.6,517.495 1545.21,524.861 1522.8,533.329 \n",
       "  1500.67,542.621 1479.07,552.495 1458.18,562.739 1438.18,573.166 1419.19,583.621 1401.26,593.974 1384.45,604.126 1368.78,614.026 1354.24,623.646 1340.81,632.969 \n",
       "  1328.46,641.983 1317.14,650.686 1306.81,659.087 1297.42,667.201 1288.9,675.053 1281.19,682.664 1274.24,690.05 1267.97,697.229 1262.35,704.219 1257.31,711.036 \n",
       "  1252.79,717.693 1248.76,724.203 1245.17,730.576 1241.96,736.823 1239.1,742.949 1236.56,748.962 1234.3,754.867 1232.29,760.67 1230.51,766.374 1228.93,771.982 \n",
       "  1227.52,777.495 1226.25,782.915 1225.12,788.242 1224.11,793.478 1223.19,798.626 1222.36,803.687 1221.61,808.66 1220.91,813.548 1220.27,818.35 1219.67,823.068 \n",
       "  1219.11,827.702 1218.57,832.254 1218.05,836.724 1217.55,841.115 1217.06,845.426 1216.56,849.659 1216.07,853.816 1215.57,857.896 1215.05,861.903 1214.52,865.837 \n",
       "  1213.97,869.699 1213.39,873.492 1212.78,877.216 1212.14,880.874 1211.46,884.467 1210.74,887.996 1209.97,891.463 1209.15,894.87 1208.27,898.219 1207.33,901.512 \n",
       "  1206.32,904.749 1205.23,907.933 1204.06,911.066 1202.8,914.149 1201.45,917.184 1199.99,920.174 1198.42,923.119 1196.73,926.021 1194.9,928.882 1192.92,931.704 \n",
       "  1190.79,934.487 1188.49,937.234 1186,939.945 1183.31,942.623 1180.4,945.266 1177.26,947.876 1173.86,950.452 1170.19,952.994 1166.21,955.501 1161.91,957.969 \n",
       "  1157.25,960.398 1152.22,962.784 1146.77,965.123 1140.87,967.408 1134.49,969.631 1127.59,971.777 1120.13,973.834 1112.06,975.784 1103.34,977.607 1093.92,979.28 \n",
       "  1083.77,980.767 1072.82,982.038 1061,983.055 1048.26,983.765 1034.55,984.1 1019.82,983.983 1004.04,983.322 987.173,982.012 969.201,979.937 950.106,976.965 \n",
       "  929.888,972.96 908.617,967.794 886.315,961.225 863.049,953.003 838.958,942.896 814.251,930.693 789.213,916.2 764.196,899.242 739.626,879.662 716.001,857.321 \n",
       "  693.843,832.139 673.7,804.253 656.375,773.864 642.59,741.301 632.954,707.029 627.963,671.65 628.002,635.905 633.342,600.674 644.142,566.974 660.411,535.93 \n",
       "  681.678,508.412 707.32,485.004 736.671,466.116 769.002,451.977 803.524,442.636 839.387,437.961 875.679,437.639 911.67,441.101 946.838,447.674 980.728,456.744 \n",
       "  1012.99,467.736 1043.4,480.116 1071.81,493.391 1098.22,507.111 1122.64,520.947 1145.09,534.709 1165.66,548.223 1184.46,561.355 1201.58,574.01 1217.16,586.132 \n",
       "  1231.31,597.701 1244.18,608.705 1255.87,619.154 1266.52,629.065 1276.22,638.453 1285.09,647.339 1293.23,655.742 1300.73,663.684 1307.69,671.189 1314.19,678.28 \n",
       "  1320.29,684.975 1326.07,691.288 1331.58,697.235 1336.89,702.826 1342.06,708.072 1347.13,712.983 1352.15,717.567 1357.17,721.827 1362.21,725.765 1367.33,729.38 \n",
       "  1372.53,732.671 1377.86,735.636 1383.34,738.27 1388.99,740.57 1394.84,742.529 1400.92,744.141 1407.23,745.393 1413.78,746.274 1420.59,746.77 1427.67,746.869 \n",
       "  1435.02,746.557 1442.65,745.822 1450.55,744.649 1458.72,743.025 1467.15,740.939 1475.82,738.373 1484.71,735.311 1493.81,731.742 1503.07,727.658 1512.45,723.059 \n",
       "  1521.91,717.945 1531.39,712.326 1540.82,706.212 1550.14,699.622 1559.28,692.584 1568.15,685.137 1576.63,677.328 1584.64,669.213 1592.05,660.857 1598.77,652.334 \n",
       "  1604.71,643.728 1609.77,635.131 1613.86,626.645 1616.9,618.381 1618.8,610.459 1619.5,603.007 1618.96,596.127 1617.17,589.909 1614.14,584.437 1609.9,579.776 \n",
       "  1604.47,575.981 1597.93,573.086 1590.34,571.114 1581.83,570.071 1572.49,569.948 1562.47,570.721 1551.9,572.324 1540.91,574.684 1529.64,577.734 1518.21,581.402 \n",
       "  1506.74,585.616 1495.33,590.303 1484.08,595.386 1473.08,600.787 1462.42,606.428 1452.16,612.226 1442.36,618.131 1433.06,624.113 1424.28,630.135 1416.05,636.161 \n",
       "  1408.38,642.162 1401.28,648.113 1394.75,653.995 1388.8,659.791 1383.43,665.491 1378.6,671.09 1374.32,676.579 1370.58,681.95 1367.34,687.198 1364.61,692.318 \n",
       "  1362.36,697.306 1360.59,702.157 1359.27,706.867 1358.39,711.432 1357.94,715.846 1357.91,720.106 1358.29,724.208 1359.07,728.142 1360.23,731.903 1361.78,735.484 \n",
       "  1363.7,738.879 1366.01,742.079 1368.69,745.077 1371.74,747.86 1375.17,750.419 1378.96,752.74 1383.13,754.81 1387.67,756.613 1392.58,758.135 1397.86,759.359 \n",
       "  1403.51,760.273 1409.55,760.856 1415.98,761.091 1422.79,760.957 1429.99,760.436 1437.57,759.507 1445.52,758.149 1453.83,756.342 1462.5,754.063 1471.49,751.29 \n",
       "  1480.8,748.009 1490.38,744.212 1500.21,739.871 1510.25,734.965 1520.46,729.482 1530.77,723.422 1541.12,716.79 1551.43,709.606 1561.62,701.895 1571.58,693.694 \n",
       "  1581.2,685.048 1590.38,676.013 1598.98,666.654 1606.87,657.049 1613.97,647.311 1620.12,637.558 1625.21,627.906 1629.11,618.473 1631.74,609.375 1633.03,600.73 \n",
       "  1632.92,592.655 1631.39,585.265 1628.42,578.678 1624.03,573.01 1618.25,568.379 1611.13,564.85 1602.81,562.399 1593.42,561.023 1583.08,560.706 1571.94,561.413 \n",
       "  1560.14,563.096 1547.82,565.688 1535.14,569.109 1522.24,573.259 1509.29,578.025 1496.44,583.279 1483.8,588.939 1471.47,594.933 1459.53,601.178 1448.05,607.604 \n",
       "  1437.1,614.146 1426.72,620.749 1416.95,627.367 1407.82,633.959 1399.32,640.497 1391.47,646.958 1384.25,653.328 1377.65,659.594 1371.68,665.747 1366.31,671.78 \n",
       "  1361.52,677.688 1357.3,683.465 1353.62,689.109 1350.47,694.616 1347.83,699.984 1345.69,705.213 1344.02,710.301 1342.8,715.248 1342.02,720.048 1341.66,724.698 \n",
       "  1341.7,729.197 1342.15,733.539 1342.99,737.72 1344.22,741.735 1345.82,745.576 1347.79,749.236 1350.12,752.707 1352.82,755.978 1355.88,759.04 1359.3,761.881 \n",
       "  1363.08,764.491 1367.23,766.858 1371.77,768.971 1376.68,770.814 1381.99,772.371 1387.69,773.626 1393.79,774.559 1400.3,775.151 1407.21,775.379 1414.54,775.221 \n",
       "  1422.27,774.654 1430.42,773.661 1438.99,772.209 1447.98,770.268 1457.38,767.81 1467.19,764.809 1477.37,761.242 1487.91,757.088 1498.76,752.327 1509.88,746.942 \n",
       "  1521.22,740.918 1532.71,734.243 1544.3,726.911 1555.91,718.943 1567.42,710.352 1578.72,701.164 1589.67,691.42 1600.14,681.181 1609.99,670.521 1619.09,659.535 \n",
       "  1627.3,648.333 1634.47,637.041 1640.44,625.804 1645.07,614.784 1648.21,604.158 1649.73,594.124 1649.6,584.843 1647.8,576.438 1644.34,569.02 1639.23,562.68 \n",
       "  1632.54,557.492 1624.34,553.512 1614.73,550.782 1603.83,549.323 1591.8,549.142 1578.82,550.227 1565.09,552.505 1550.83,555.798 1536.24,559.989 1521.5,564.96 \n",
       "  1506.77,570.599 1492.2,576.79 1477.93,583.421 1464.06,590.38 1450.7,597.556 1437.92,604.84 1425.79,612.167 1414.35,619.507 1403.61,626.817 1393.59,634.062 \n",
       "  1384.3,641.212 1375.73,648.245 1367.87,655.144 1360.72,661.9 1354.24,668.511 1348.43,674.98 1343.24,681.306 1338.65,687.487 1334.64,693.522 1331.18,699.414 \n",
       "  1328.24,705.164 1325.8,710.772 1323.83,716.239 1322.31,721.565 1321.23,726.75 1320.57,731.793 1320.3,736.692 1320.4,741.442 1320.88,746.041 1321.71,750.488 \n",
       "  1322.9,754.779 1324.44,758.91 1326.33,762.877 1328.57,766.672 1331.15,770.288 1334.07,773.714 1337.33,776.94 1340.94,779.954 1344.89,782.742 1349.2,785.292 \n",
       "  1353.87,787.594 1358.92,789.634 1364.37,791.397 1370.22,792.864 1376.48,794.017 1383.17,794.833 1390.29,795.292 1397.87,795.367 1405.9,795.032 1414.39,794.266 \n",
       "  1423.34,793.043 1432.77,791.322 1442.69,789.064 1453.11,786.231 1464.02,782.789 1475.4,778.706 1487.22,773.952 1499.44,768.5 1512.02,762.325 1524.9,755.404 \n",
       "  1538.01,747.719 1551.26,739.25 1564.58,729.994 1577.86,719.98 1590.95,709.232 1603.68,697.794 1615.88,685.731 1627.37,673.135 1637.99,660.119 1647.53,646.821 \n",
       "  1655.83,633.402 1662.68,620.048 1667.9,606.966 1671.28,594.389 1672.67,582.589 1672.03,571.77 1669.34,562.083 1664.64,553.655 1657.96,546.594 1649.38,540.983 \n",
       "  1639.02,536.886 1627.01,534.342 1613.52,533.369 1598.75,533.964 1582.92,536.1 1566.32,539.617 1549.25,544.278 1531.93,549.921 1514.59,556.387 1497.43,563.523 \n",
       "  1480.6,571.179 1464.26,579.211 1448.52,587.478 1433.49,595.845 1419.24,604.219 1405.81,612.563 1393.22,620.827 1381.48,628.972 1370.6,636.966 1360.56,644.788 \n",
       "  1351.35,652.423 1342.96,659.867 1335.33,667.125 1328.44,674.209 1322.25,681.117 1316.72,687.854 1311.82,694.427 1307.51,700.843 1303.74,707.108 1300.5,713.226 \n",
       "  1297.74,719.203 1295.44,725.044 1293.58,730.751 1292.11,736.327 1291.01,741.771 1290.27,747.087 1289.87,752.274 1289.8,757.335 1290.05,762.269 1290.6,767.073 \n",
       "  1291.44,771.747 1292.57,776.285 1293.98,780.684 1295.66,784.937 1297.6,789.037 1299.82,792.982 1302.31,796.766 1305.09,800.384 1308.15,803.829 1311.52,807.094 \n",
       "  1315.19,810.168 1319.18,813.042 1323.51,815.703 1328.17,818.14 1333.19,820.337 1338.59,822.281 1344.39,823.956 1350.6,825.342 1357.25,826.42 1364.35,827.166 \n",
       "  1371.94,827.554 1380.02,827.557 1388.62,827.142 1397.76,826.278 1407.45,824.928 1417.71,823.062 1428.54,820.648 1439.95,817.626 1451.99,813.938 1464.65,809.529 \n",
       "  1477.93,804.348 1491.8,798.35 1506.22,791.491 1521.14,783.733 1536.48,775.042 1552.15,765.387 1568.05,754.742 1584.05,743.084 1600.04,730.424 1615.83,716.81 \n",
       "  1631.18,702.298 1645.84,686.977 1659.56,670.974 1672.08,654.452 1683.14,637.61 1692.49,620.684 1699.87,603.946 1704.99,587.706 1707.61,572.307 1707.55,558.097 \n",
       "  1704.78,545.357 1699.28,534.319 1691.1,525.166 1680.34,518.038 1667.17,513.027 1651.8,510.18 1634.52,509.495 1615.66,510.927 1595.6,514.303 1574.72,519.326 \n",
       "  1553.37,525.758 1531.86,533.362 1510.47,541.907 1489.45,551.161 1469.01,560.896 1449.34,570.888 1430.57,580.936 1412.79,590.959 1396.05,600.874 1380.38,610.611 \n",
       "  1365.79,620.116 1352.29,629.352 1339.84,638.301 1328.43,646.961 1317.98,655.347 1308.47,663.466 1299.83,671.329 1292,678.954 1284.94,686.356 1278.59,693.551 \n",
       "  1272.89,700.555 1267.8,707.382 1263.26,714.048 1259.23,720.564 1255.65,726.94 1252.49,733.185 1249.71,739.307 1247.28,745.313 1245.16,751.207 1243.33,756.994 \n",
       "  1241.74,762.677 1240.39,768.258 1239.23,773.739 1238.27,779.121 1237.47,784.408 1236.83,789.599 1236.33,794.696 1235.96,799.699 1235.7,804.608 1235.55,809.424 \n",
       "  1235.5,814.146 1235.54,818.776 1235.68,823.313 1235.89,827.758 1236.19,832.112 1236.57,836.373 1237.02,840.543 1237.55,844.62 1238.15,848.606 1238.84,852.501 \n",
       "  1239.6,856.305 1240.44,860.017 1241.37,863.637 1242.38,867.164 1243.49,870.599 1244.69,873.94 1246,877.188 1247.41,880.34 1248.94,883.396 1250.6,886.355 \n",
       "  1252.39,889.214 1254.32,891.971 1256.41,894.623 1258.66,897.169 1261.09,899.603 1263.71,901.924 1266.54,904.125 1269.59,906.202 1272.89,908.147 1276.44,909.953 \n",
       "  1280.27,911.612 1284.41,913.116 1288.88,914.452 1293.69,915.608 1298.89,916.572 1304.5,917.328 1310.55,917.858 1317.08,918.139 1324.13,918.146 1331.72,917.852 \n",
       "  1339.91,917.224 1348.74,916.227 1358.24,914.823 1368.46,912.97 1379.44,910.624 1391.22,907.727 1403.86,904.209 1417.44,899.996 1431.98,895.008 1447.51,889.159 \n",
       "  1464.06,882.359 1481.63,874.51 1500.2,865.512 1519.76,855.257 1540.26,843.633 1561.65,830.547 1583.78,815.935 1606.53,799.645 1629.69,781.584 1653.01,761.728 \n",
       "  1676.17,740.126 1698.77,716.892 1720.35,692.215 1740.39,666.348 1758.31,639.619 1773.49,612.448 1785.42,585.482 1793.53,559.382 1797.35,534.767 1796.57,512.22 \n",
       "  1791.01,492.284 1780.63,475.467 1765.52,462.237 1745.9,453.026 1722.17,448.196 1695.05,447.508 1665.31,450.575 1633.68,457.017 1600.82,466.382 1567.39,478.147 \n",
       "  1534,491.717 1501.23,506.426 1469.62,521.566 1439.46,536.806 1410.9,551.883 1384.09,566.551 1359.11,580.62 1335.99,593.969 1314.7,606.533 1295.17,618.314 \n",
       "  1277.28,629.373 1260.91,639.75 1246,649.478 1232.43,658.623 1220.09,667.248 1208.86,675.408 1198.63,683.157 1189.32,690.543 1180.81,697.609 1173.02,704.395 \n",
       "  1165.86,710.936 1159.23,717.259 1153.06,723.388 1147.29,729.341 1141.86,735.134 1136.68,740.778 1131.71,746.281 1126.9,751.648 1122.18,756.88 1117.51,761.98 \n",
       "  1112.86,766.947 1108.2,771.778 1103.48,776.471 1098.67,781.021 1093.74,785.421 1088.65,789.663 1083.39,793.74 1077.91,797.639 1072.21,801.351 1066.25,804.863 \n",
       "  1060.03,808.161 1053.51,811.229 1046.69,814.048 1039.55,816.599 1032.07,818.862 1024.24,820.811 1016.06,822.426 1007.53,823.674 998.626,824.524 989.367,824.942 \n",
       "  979.759,824.892 969.819,824.339 959.569,823.244 949.039,821.568 938.265,819.273 927.29,816.316 916.162,812.682 904.954,808.326 893.75,803.193 882.644,797.246 \n",
       "  871.735,790.461 861.135,782.832 850.96,774.371 841.336,765.104 832.398,755.073 824.288,744.339 817.157,732.978 811.163,721.081 806.427,708.771 803.048,696.202 \n",
       "  801.134,683.529 800.762,670.912 801.981,658.511 804.807,646.491 809.231,635.018 815.209,624.263 822.673,614.399 831.519,605.601 841.619,598.015 852.803,591.677 \n",
       "  864.896,586.626 877.723,582.879 891.113,580.433 904.898,579.257 918.913,579.301 932.997,580.49 946.993,582.724 960.745,585.883 974.134,589.86 987.081,594.562 \n",
       "  999.513,599.882 1011.37,605.723 1022.59,611.994 1033.15,618.612 1043.02,625.5 1052.2,632.59 1060.67,639.821 1068.46,647.138 1075.57,654.496 1082.03,661.865 \n",
       "  1087.84,669.218 1093.04,676.53 1097.64,683.781 1101.67,690.951 1105.15,698.027 1108.11,704.996 1110.56,711.848 1112.53,718.579 1114.04,725.184 1115.12,731.658 \n",
       "  1115.77,737.998 1116.01,744.202 1115.86,750.267 1115.32,756.192 1114.41,761.974 1113.14,767.61 1111.5,773.101 1109.52,778.442 1107.18,783.634 1104.5,788.671 \n",
       "  1101.47,793.551 1098.08,798.27 1094.34,802.822 1090.23,807.2 1085.74,811.397 1080.88,815.404 1075.63,819.21 1069.99,822.802 1063.94,826.168 1057.48,829.292 \n",
       "  1050.61,832.158 1043.3,834.744 1035.55,837.028 1027.34,838.981 1018.68,840.576 1009.55,841.78 999.963,842.557 989.928,842.868 979.454,842.674 968.56,841.928 \n",
       "  957.267,840.584 945.606,838.607 933.628,835.963 921.378,832.569 908.916,828.353 896.318,823.255 883.676,817.23 871.097,810.245 858.704,802.284 846.634,793.341 \n",
       "  835.041,783.425 824.096,772.56 813.981,760.781 804.898,748.14 796.993,734.744 790.437,720.743 785.41,706.29 782.06,691.55 780.499,676.704 780.805,661.946 \n",
       "  783.024,647.483 787.166,633.535 793.207,620.337 801.091,608.138 810.724,597.194 821.937,587.658 834.516,579.606 848.249,573.102 862.928,568.179 878.343,564.838 \n",
       "  894.284,563.046 910.542,562.744 926.911,563.835 943.182,566.196 959.152,569.671 974.69,574.13 989.698,579.436 1004.08,585.455 1017.77,592.061 1030.71,599.141 \n",
       "  1042.86,606.59 1054.2,614.314 1064.71,622.232 1074.42,630.27 1083.35,638.366 1091.52,646.472 1098.95,654.557 1105.66,662.594 1111.69,670.558 1117.08,678.429 \n",
       "  1121.85,686.189 1126.03,693.825 1129.66,701.327 1132.77,708.688 1135.38,715.904 1137.53,722.976 1139.23,729.9 1140.52,736.678 1141.42,743.309 1141.93,749.794 \n",
       "  1142.09,756.133 1141.9,762.328 1141.37,768.38 1140.52,774.292 1139.35,780.065 1137.88,785.7 1136.11,791.198 1134.03,796.56 1131.65,801.785 1128.95,806.873 \n",
       "  1125.95,811.822 1122.62,816.631 1118.96,821.296 1114.98,825.813 1110.65,830.18 1105.97,834.39 1100.92,838.435 1095.49,842.306 1089.65,845.995 1083.4,849.488 \n",
       "  1076.72,852.77 1069.59,855.823 1061.98,858.627 1053.9,861.158 1045.31,863.39 1036.21,865.295 1026.6,866.847 1016.47,868.009 1005.78,868.729 994.535,868.956 \n",
       "  982.721,868.633 970.352,867.701 957.452,866.101 944.058,863.768 930.221,860.636 916.005,856.636 901.486,851.697 886.754,845.745 871.911,838.703 857.06,830.546 \n",
       "  842.371,821.211 828.047,810.631 814.295,798.773 801.33,785.65 789.37,771.31 778.638,755.843 769.362,739.379 761.777,722.086 756.122,704.175 752.638,685.896 \n",
       "  751.509,667.61 752.783,649.643 756.463,632.263 762.514,615.727 770.865,600.276 781.407,586.137 793.992,573.524 808.44,562.638 824.527,553.663 841.997,546.772 \n",
       "  860.546,542.089 879.793,539.451 899.423,538.71 919.158,539.728 938.755,542.351 958,546.406 976.71,551.703 994.736,558.035 1011.96,565.177 1028.28,572.936 \n",
       "  1043.66,581.204 1058.06,589.85 1071.49,598.759 1083.94,607.831 1095.42,616.982 1105.96,626.14 1115.6,635.253 1124.36,644.28 1132.31,653.193 1139.49,661.964 \n",
       "  1145.95,670.58 1151.73,679.028 1156.89,687.3 1161.46,695.389 1165.49,703.294 1169.02,711.012 1172.08,718.546 1174.73,725.901 1176.98,733.08 1178.88,740.087 \n",
       "  1180.44,746.926 1181.69,753.602 1182.65,760.12 1183.34,766.484 1183.79,772.7 1184.01,778.774 1184.01,784.71 1183.81,790.514 1183.4,796.188 1182.8,801.737 \n",
       "  1182.01,807.166 1181.04,812.478 1179.89,817.677 1178.55,822.766 1177.04,827.751 1175.34,832.632 1173.45,837.413 1171.37,842.096 1169.08,846.682 1166.59,851.174 \n",
       "  1163.87,855.573 1160.93,859.879 1157.74,864.094 1154.3,868.216 1150.59,872.244 1146.58,876.178 1142.28,880.015 1137.64,883.752 1132.66,887.382 1127.3,890.9 \n",
       "  1121.55,894.297 1115.38,897.564 1108.77,900.691 1101.68,903.66 1094.1,906.455 1085.98,909.062 1077.28,911.457 1067.98,913.615 1058.03,915.5 1047.41,917.073 \n",
       "  1036.09,918.285 1024.05,919.085 1011.28,919.411 997.755,919.197 983.463,918.371 968.395,916.853 952.579,914.577 936.047,911.439 918.812,907.29 900.921,901.99 \n",
       "  882.462,895.409 863.561,887.427 844.38,877.934 825.122,866.83 806.027,854.026 787.373,839.442 769.478,823.008 752.624,804.729 737.196,784.707 723.673,763.06 \n",
       "  712.476,739.982 703.972,715.735 698.471,690.657 696.226,665.156 697.433,639.713 702.233,614.882 710.709,591.289 722.799,569.588 738.167,550.214 756.446,533.456 \n",
       "  777.248,519.526 800.157,508.564 824.739,500.632 850.533,495.719 877.055,493.738 903.798,494.529 930.281,497.796 956.19,503.1 981.254,510.086 1005.25,518.427 \n",
       "  1028.03,527.82 1049.47,537.99 1069.52,548.685 1088.18,559.679 1105.48,570.797 1121.41,581.933 1136.05,592.992 1149.46,603.897 1161.71,614.586 1172.86,625.015 \n",
       "  1183,635.153 1192.21,644.99 1200.56,654.519 1208.14,663.737 1215.02,672.65 1221.28,681.263 1226.96,689.58 1232.15,697.611 1236.9,705.364 1241.27,712.847 \n",
       "  1245.32,720.073 1249.09,727.052 1252.62,733.79 1255.96,740.294 1259.14,746.571 1262.2,752.628 1265.17,758.468 1268.08,764.1 1270.96,769.527 1273.85,774.755 \n",
       "  1276.78,779.787 1279.76,784.623 1282.81,789.263 1285.96,793.708 1289.24,797.956 1292.65,802.007 1296.23,805.857 1299.99,809.505 1303.97,812.945 1308.17,816.17 \n",
       "  1312.62,819.174 1317.34,821.947 1322.36,824.479 1327.69,826.757 1333.37,828.769 1339.41,830.5 1345.84,831.933 1352.69,833.051 1359.98,833.829 1367.74,834.242 \n",
       "  1376,834.263 1384.77,833.86 1394.09,833.001 1403.98,831.648 1414.44,829.762 1425.52,827.301 1437.2,824.223 1449.49,820.497 1462.41,816.052 1475.96,810.821 \n",
       "  1490.14,804.742 1504.91,797.763 1520.24,789.84 1536.04,780.934 1552.23,771.016 1568.69,760.065 1585.29,748.067 1601.87,735.016 1618.28,720.927 1634.32,705.877 \n",
       "  1649.69,689.96 1664.11,673.305 1677.3,656.08 1688.98,638.491 1698.86,620.786 1706.67,603.249 1712.15,586.203 1715.02,570.011 1715.06,555.078 1712.21,541.73 \n",
       "  1706.5,530.187 1698,520.629 1686.83,513.187 1673.16,507.948 1657.21,504.956 1639.25,504.208 1619.6,505.658 1598.63,509.213 1576.78,514.601 1554.44,521.463 \n",
       "  1531.96,529.527 1509.65,538.534 1487.76,548.24 1466.52,558.413 1446.1,568.84 1426.64,579.317 1408.23,589.712 1390.93,599.958 1374.76,609.987 1359.72,619.75 \n",
       "  1345.81,629.212 1333.01,638.356 1321.27,647.182 1310.54,655.702 1300.76,663.941 1291.88,671.907 1283.84,679.62 1276.57,687.101 1270.02,694.366 1264.13,701.434 \n",
       "  1258.85,708.321 1254.12,715.043 1249.88,721.614 1246.1,728.043 1242.72,734.341 1239.71,740.517 1237.03,746.578 1234.65,752.531 1232.54,758.38 1230.66,764.128 \n",
       "  1228.99,769.779 1227.49,775.333 1226.14,780.792 1224.94,786.159 1223.85,791.436 1222.87,796.624 1221.99,801.725 1221.17,806.738 1220.43,811.666 1219.73,816.507 \n",
       "  1219.08,821.264 1218.47,825.938 1217.88,830.529 1217.31,835.039 1216.76,839.469 1216.21,843.82 1215.66,848.093 1215.11,852.288 1214.55,856.408 1213.97,860.454 \n",
       "  1213.37,864.427 1212.75,868.329 1212.1,872.162 1211.41,875.926 1210.69,879.623 1209.92,883.255 1209.1,886.824 1208.23,890.332 1207.3,893.78 1206.31,897.169 \n",
       "  1205.24,900.502 1204.1,903.781 1202.86,907.006 1201.54,910.18 1200.12,913.305 1198.58,916.383 1196.93,919.414 1195.15,922.401 1193.23,925.346 1191.16,928.249 \n",
       "  1188.93,931.112 1186.51,933.936 1183.9,936.723 1181.09,939.473 1178.05,942.188 1174.76,944.866 1171.2,947.508 1167.36,950.113 1163.21,952.678 1158.72,955.202 \n",
       "  1153.86,957.68 1148.61,960.108 1142.93,962.481 1136.78,964.794 1130.14,967.037 1122.96,969.196 1115.2,971.256 1106.81,973.195 1097.75,974.989 1087.98,976.611 \n",
       "  1077.43,978.031 1066.08,979.207 1053.89,980.091 1040.76,980.633 1026.64,980.764 1011.47,980.404 995.232,979.455 977.893,977.805 959.45,975.325 939.911,971.874 \n",
       "  919.298,967.293 897.65,961.409 875.038,954.063 851.605,945.084 827.5,934.157 802.943,921.016 778.226,905.452 753.722,887.31 729.874,866.493 707.202,842.96 \n",
       "  686.303,816.727 667.846,787.866 652.437,756.654 640.729,723.63 633.344,689.385 630.75,654.571 633.259,619.908 641.026,586.178 654.055,554.226 672.191,524.964 \n",
       "  695.125,499.366 722.237,478.198 752.63,461.672 785.505,449.875 820.092,442.736 855.648,440.026 891.46,441.356 926.843,446.18 961.146,453.8 993.975,463.609 \n",
       "  1025.12,475.077 1054.41,487.694 1081.72,501.024 1107,514.701 1130.29,528.435 1151.64,542.005 1171.22,555.264 1189.11,568.095 1205.4,580.442 1220.22,592.28 \n",
       "  1233.69,603.592 1245.95,614.369 1257.1,624.61 1267.25,634.321 1276.52,643.519 1284.99,652.227 1292.79,660.472 1299.99,668.277 1306.68,675.662 1312.93,682.645 \n",
       "  1318.82,689.243 1324.42,695.472 1329.78,701.344 1334.97,706.873 1340.05,712.068 1345.05,716.936 1350.02,721.479 1354.99,725.701 1360,729.603 1365.09,733.185 \n",
       "  1370.29,736.446 1375.64,739.386 1381.15,742.001 1386.85,744.284 1392.77,746.225 1398.91,747.814 1405.3,749.04 1411.94,749.892 1418.86,750.356 1426.05,750.421 \n",
       "  1433.54,750.071 1441.32,749.296 1449.38,748.077 1457.73,746.396 1466.36,744.234 1475.24,741.574 1484.37,738.406 1493.7,734.719 1503.22,730.506 1512.87,725.763 \n",
       "  1522.6,720.489 1532.38,714.688 1542.13,708.376 1551.78,701.569 1561.23,694.29 1570.38,686.573 1579.15,678.467 1587.42,670.028 1595.11,661.326 1602.1,652.441 \n",
       "  1608.3,643.466 1613.58,634.503 1617.85,625.668 1620.98,617.087 1622.94,608.876 1623.65,601.153 1623.07,594.024 1621.19,587.583 1618,581.913 1613.53,577.084 \n",
       "  1607.82,573.155 1600.95,570.172 1593,568.169 1584.08,567.168 1574.32,567.145 1563.86,568.028 1552.85,569.764 1541.41,572.29 1529.7,575.539 1517.82,579.435 \n",
       "  1505.9,583.899 1494.06,588.841 1482.41,594.169 1471.04,599.781 1460.06,605.604 1449.5,611.599 1439.42,617.711 1429.85,623.893 1420.84,630.101 1412.4,636.301 \n",
       "  1404.55,642.462 1397.3,648.561 1390.64,654.582 1384.58,660.512 1379.09,666.345 1374.18,672.067 1369.82,677.673 1365.99,683.158 1362.7,688.516 1359.9,693.743 \n",
       "  1357.6,698.834 1355.77,703.787 1354.41,708.598 1353.49,713.263 1353,717.78 1352.93,722.145 1353.26,726.349 1353.99,730.389 1355.11,734.26 1356.62,737.955 \n",
       "  1358.51,741.467 1360.77,744.788 1363.41,747.907 1366.41,750.815 1369.79,753.5 1373.53,755.949 1377.64,758.149 1382.12,760.087 1386.98,761.75 1392.22,763.122 \n",
       "  1397.84,764.186 1403.86,764.925 1410.27,765.321 1417.07,765.353 1424.27,765.002 1431.86,764.244 1439.83,763.058 1448.19,761.419 1456.91,759.311 1465.99,756.716 \n",
       "  1475.4,753.6 1485.14,749.937 1495.17,745.706 1505.46,740.893 1515.96,735.49 1526.61,729.494 1537.34,722.91 1548.08,715.749 1558.73,708.027 1569.19,699.766 \n",
       "  1579.37,690.997 1589.17,681.775 1598.47,672.178 1607.09,662.291 1614.91,652.207 1621.78,642.027 1627.6,631.864 1632.24,621.837 1635.61,612.075 1637.62,602.716 \n",
       "  1638.2,593.907 1637.28,585.803 1634.82,578.568 1630.83,572.306 1625.36,567.081 1618.52,562.942 1610.38,559.922 1601.06,558.032 1590.68,557.266 1579.37,557.597 \n",
       "  1567.29,558.978 1554.59,561.344 1541.45,564.61 1528.07,568.67 1514.59,573.406 1501.16,578.707 1487.91,584.472 1474.95,590.607 1462.38,597.026 1450.28,603.652 \n",
       "  1438.72,610.412 1427.75,617.244 1417.39,624.091 1407.68,630.905 1398.64,637.663 1390.26,644.345 1382.54,650.934 1375.47,657.417 1369.04,663.78 1363.24,670.015 \n",
       "  1358.05,676.116 1353.46,682.079 1349.43,687.906 1345.95,693.598 1343,699.154 1340.55,704.57 1338.58,709.846 1337.07,714.98 1336.01,719.971 1335.38,724.817 \n",
       "  1335.16,729.514 1335.34,734.059 1335.92,738.448 1336.87,742.675 1338.19,746.734 1339.87,750.615 1341.91,754.315 1344.31,757.827 1347.07,761.145 1350.19,764.26 \n",
       "  1353.68,767.161 1357.54,769.837 1361.77,772.276 1366.38,774.461 1371.36,776.378 1376.74,778.007 1382.5,779.33 1388.66,780.327 1395.23,780.984 1402.22,781.278 \n",
       "  1409.64,781.184 1417.5,780.68 1425.8,779.739 1434.53,778.335 1443.7,776.44 1453.3,774.027 1463.31,771.067 1473.73,767.529 1484.52,763.405 1495.65,758.67 \n",
       "  1507.08,753.28 1518.79,747.204 1530.7,740.422 1542.76,732.931 1554.88,724.737 1566.96,715.862 1578.88,706.342 1590.51,696.222 1601.72,685.565 1612.33,674.445 \n",
       "  1622.19,662.949 1631.1,651.182 1638.96,639.296 1645.58,627.46 1650.8,615.835 1654.47,604.583 1656.49,593.863 1656.77,583.83 1655.27,574.639 1651.96,566.442 \n",
       "  1646.86,559.39 1640,553.63 1631.46,549.291 1621.39,546.35 1609.97,544.782 1597.38,544.556 1583.83,545.621 1569.49,547.902 1554.55,551.304 1539.22,555.71 \n",
       "  1523.68,560.983 1508.14,566.963 1492.79,573.47 1477.79,580.383 1463.23,587.619 1449.21,595.078 1435.81,602.671 1423.09,610.323 1411.09,617.971 1399.86,625.564 \n",
       "  1389.41,633.064 1379.72,640.446 1370.79,647.697 1362.59,654.809 1355.13,661.769 1348.36,668.576 1342.27,675.229 1336.82,681.727 1331.99,688.072 1327.75,694.266 \n",
       "  1324.06,700.31 1320.91,706.209 1318.27,711.965 1316.11,717.584 1314.39,723.063 1313.11,728.403 1312.23,733.606 1311.76,738.671 1311.66,743.596 1311.92,748.379 \n",
       "  1312.54,753.018 1313.5,757.508 1314.79,761.844 1316.41,766.021 1318.35,770.031 1320.61,773.871 1323.2,777.533 1326.11,781.012 1329.36,784.298 1332.95,787.382 \n",
       "  1336.88,790.253 1341.17,792.897 1345.82,795.3 1350.84,797.448 1356.24,799.324 1362.04,800.913 1368.25,802.195 1374.89,803.15 1381.97,803.756 1389.52,803.987 \n",
       "  1397.54,803.818 1406.04,803.219 1415.04,802.16 1424.53,800.607 1434.54,798.526 1445.05,795.893 1456.04,792.678 1467.54,788.823 1479.54,784.276 1492.01,778.994 \n",
       "  1504.94,772.942 1518.26,766.094 1531.92,758.431 1545.81,749.941 1559.86,740.623 1573.93,730.481 1587.89,719.531 1601.59,707.793 1614.89,695.314 1627.63,682.199 \n",
       "  1639.54,668.566 1650.4,654.552 1659.99,640.316 1668.1,626.033 1674.56,611.901 1679.17,598.136 1681.8,584.975 1682.3,572.674 1680.54,561.509 1676.46,551.734 \n",
       "  1670.15,543.488 1661.72,536.864 1651.3,531.922 1639.08,528.691 1625.23,527.164 1609.96,527.304 1593.5,529.041 1576.12,532.27 1558.08,536.856 1539.68,542.619 \n",
       "  1521.19,549.316 1502.85,556.75 1484.84,564.747 1467.34,573.151 1450.47,581.822 1434.35,590.636 1419.05,599.487 1404.62,608.285 1391.09,616.964 1378.49,625.495 \n",
       "  1366.8,633.854 1356,642.021 1346.08,649.985 1337.02,657.74 1328.76,665.283 1321.3,672.622 1314.57,679.767 1308.54,686.732 1303.16,693.523 1298.39,700.147 \n",
       "  1294.2,706.614 1290.53,712.931 1287.37,719.106 1284.66,725.143 1282.39,731.049 1280.51,736.827 1279.01,742.479 1277.85,748.007 1277.02,753.415 1276.49,758.703 \n",
       "  1276.26,763.873 1276.32,768.924 1276.64,773.856 1277.22,778.667 1278.04,783.355 1279.1,787.914 1280.4,792.342 1281.92,796.636 1283.69,800.793 1285.68,804.812 \n",
       "  1287.93,808.686 1290.41,812.411 1293.15,815.981 1296.15,819.388 1299.42,822.627 1302.97,825.687 1306.82,828.561 1310.97,831.239 1315.45,833.711 1320.28,835.964 \n",
       "  1325.46,837.984 1331.03,839.755 1337.01,841.259 1343.41,842.477 1350.25,843.386 1357.58,843.963 1365.39,844.184 1373.73,844.019 1382.62,843.432 1392.1,842.388 \n",
       "  1402.19,840.845 1412.91,838.76 1424.28,836.088 1436.3,832.779 1448.99,828.781 1462.35,824.038 1476.37,818.493 1491.04,812.096 1506.31,804.813 1522.16,796.549 \n",
       "  1538.53,787.228 1555.37,776.796 1572.54,765.225 1589.92,752.509 1607.33,738.668 1624.56,723.747 1641.37,707.811 1657.48,690.954 1672.61,673.291 1686.47,654.997 \n",
       "  1698.75,636.356 1709.07,617.669 1717.08,599.246 1722.52,581.403 1725.16,564.467 1724.85,548.768 1721.48,534.648 1715,522.455 1705.42,512.545 1692.86,505.148 \n",
       "  1677.64,500.25 1660.11,497.83 1640.6,497.814 1619.47,500.073 1597.09,504.424 1573.86,510.627 1550.16,518.388 1526.4,527.359 1502.97,537.174 1480.1,547.597 \n",
       "  1458.01,558.395 1436.87,569.363 1416.8,580.33 1397.89,591.164 1380.19,601.763 1363.72,612.063 1348.44,622.034 1334.34,631.654 1321.38,640.924 1309.51,649.852 \n",
       "  1298.67,658.454 1288.8,666.744 1279.84,674.744 1271.73,682.475 1264.4,689.964 1257.78,697.236 1251.81,704.308 1246.43,711.199 1241.58,717.925 1237.22,724.5 \n",
       "  1233.29,730.936 1229.75,737.245 1226.54,743.434 1223.64,749.51 1220.99,755.478 1218.57,761.344 1216.35,767.112 1214.3,772.786 1212.39,778.37 1210.61,783.865 \n",
       "  1208.93,789.273 1207.31,794.594 1205.75,799.829 1204.23,804.98 1202.73,810.047 1201.24,815.033 1199.74,819.939 1198.22,824.766 1196.67,829.513 1195.07,834.184 \n",
       "  1193.41,838.777 1191.68,843.295 1189.86,847.738 1187.95,852.108 1185.94,856.406 1183.8,860.633 1181.53,864.79 1179.12,868.876 1176.54,872.892 1173.79,876.839 \n",
       "  1170.85,880.718 1167.7,884.528 1164.32,888.268 1160.7,891.938 1156.82,895.536 1152.66,899.059 1148.19,902.504 1143.39,905.866 1138.23,909.141 1132.7,912.324 \n",
       "  1126.75,915.406 1120.36,918.378 1113.51,921.227 1106.14,923.936 1098.24,926.488 1089.76,928.86 1080.67,931.029 1070.94,932.965 1060.54,934.633 1049.41,935.995 \n",
       "  1037.5,937.003 1024.79,937.598 1011.25,937.714 996.851,937.275 981.595,936.192 965.479,934.369 948.513,931.7 930.715,928.069 912.127,923.369 892.838,917.488 \n",
       "  872.925,910.218 852.512,901.372 831.769,890.793 810.922,878.355 790.241,863.958 770.052,847.535 750.727,829.049 732.69,808.49 716.394,785.892 702.232,761.47 \n",
       "  690.737,735.52 682.385,708.395 677.557,680.511 676.533,652.349 679.501,624.455 686.548,597.44 697.668,571.979 712.755,548.813 731.484,528.564 753.319,511.538 \n",
       "  777.737,497.938 804.209,487.861 832.197,481.298 861.158,478.13 890.542,478.131 919.789,480.971 948.392,486.222 976.077,493.457 1002.6,502.262 1027.78,512.267 \n",
       "  1051.47,523.139 1073.59,534.59 1094.14,546.368 1113.14,558.265 1130.66,570.117 1146.74,581.824 1161.46,593.314 1174.89,604.526 1187.13,615.415 1198.27,625.952 \n",
       "  1208.39,636.119 1217.59,645.912 1225.95,655.338 1233.57,664.402 1240.53,673.115 1246.89,681.488 1252.74,689.53 1258.13,697.253 1263.13,704.669 1267.81,711.788 \n",
       "  1272.22,718.623 1276.42,725.184 1280.44,731.479 1284.33,737.513 1288.13,743.292 1291.87,748.821 1295.6,754.104 1299.34,759.146 1303.14,763.948 1307.02,768.513 \n",
       "  1311.01,772.84 1315.13,776.925 1319.42,780.765 1323.89,784.355 1328.57,787.689 1333.49,790.76 1338.66,793.561 1344.12,796.081 1349.89,798.31 1355.99,800.232 \n",
       "  1362.44,801.832 1369.26,803.089 1376.48,803.986 1384.11,804.499 1392.18,804.604 1400.7,804.277 1409.69,803.489 1419.17,802.215 1429.14,800.418 1439.61,798.058 \n",
       "  1450.6,795.095 1462.09,791.491 1474.08,787.21 1486.54,782.216 1499.43,776.475 1512.73,769.955 1526.36,762.623 1540.28,754.459 1554.4,745.461 1568.6,735.607 \n",
       "  1582.76,724.898 1596.73,713.359 1610.34,701.042 1623.44,688.027 1635.81,674.416 1647.26,660.341 1657.56,645.957 1666.47,631.447 1673.75,617.021 1679.23,602.93 \n",
       "  1682.73,589.423 1684.11,576.732 1683.25,565.067 1680.12,554.623 1674.7,545.575 1667.04,538.081 1657.25,532.28 1645.46,528.292 1631.87,526.193 1616.75,525.86 \n",
       "  1600.38,527.176 1583.06,530.021 1565.02,534.253 1546.55,539.711 1527.89,546.212 1509.27,553.553 1490.92,561.511 1473.07,569.866 1455.83,578.515 1439.31,587.342 \n",
       "  1423.58,596.24 1408.73,605.119 1394.78,613.907 1381.77,622.55 1369.69,631.01 1358.54,639.27 1348.28,647.327 1338.88,655.179 1330.32,662.82 1322.55,670.257 \n",
       "  1315.53,677.498 1309.23,684.549 1303.59,691.419 1298.57,698.118 1294.15,704.653 1290.27,711.036 1286.91,717.275 1284.01,723.376 1281.56,729.343 1279.51,735.182 \n",
       "  1277.85,740.896 1276.54,746.489 1275.56,751.961 1274.9,757.315 1274.52,762.549 1274.42,767.663 1274.59,772.658 1275.01,777.533 1275.67,782.287 1276.58,786.919 \n",
       "  1277.72,791.425 1279.1,795.803 1280.7,800.049 1282.52,804.157 1284.58,808.124 1286.88,811.948 1289.42,815.621 1292.2,819.141 1295.25,822.498 1298.57,825.688 \n",
       "  1302.17,828.7 1306.06,831.526 1310.26,834.155 1314.79,836.576 1319.66,838.777 1324.9,840.745 1330.52,842.464 1336.55,843.916 1343.01,845.08 1349.93,845.935 \n",
       "  1357.32,846.454 1365.22,846.612 1373.66,846.379 1382.63,845.73 1392.18,844.624 1402.35,843.017 1413.16,840.859 1424.65,838.102 1436.82,834.695 1449.68,830.584 \n",
       "  1463.22,825.715 1477.44,820.031 1492.32,813.475 1507.81,805.986 1523.89,797.503 1540.5,787.973 1557.53,777.377 1574.89,765.647 1592.43,752.744 1609.98,738.67 \n",
       "  1627.33,723.463 1644.26,707.2 1660.49,689.996 1675.72,672.005 1689.64,653.419 1701.87,634.469 1712.09,615.461 1719.99,596.786 1725.28,578.799 1727.71,561.839 \n",
       "  1727.13,546.221 1723.44,532.242 1716.62,520.18 1706.72,510.291 1693.85,502.812 1678.22,497.961 1660.13,495.825 1640.03,496.151 1618.36,498.754 1595.53,503.424 \n",
       "  1571.93,509.917 1547.93,517.957 1523.9,527.231 1500.17,537.394 1477.08,548.067 1454.85,559.018 1433.61,570.108 1413.45,581.178 1394.48,592.099 1376.74,602.769 \n",
       "  1360.24,613.118 1344.99,623.105 1330.95,632.718 1318.04,641.977 1306.21,650.9 1295.42,659.487 1285.61,667.762 1276.69,675.75 1268.61,683.475 1261.29,690.958 \n",
       "  1254.68,698.22 1248.72,705.282 1243.34,712.162 1238.5,718.876 1234.13,725.442 1230.18,731.869 1226.61,738.168 1223.37,744.348 1220.43,750.417 1217.74,756.381 \n",
       "  1215.27,762.246 1213,768.013 1210.87,773.686 1208.88,779.266 1206.99,784.757 1205.19,790.161 1203.45,795.479 1201.76,800.713 1200.1,805.865 1198.45,810.934 \n",
       "  1196.79,815.922 1195.1,820.829 1193.38,825.656 1191.61,830.404 1189.77,835.075 1187.86,839.669 1185.86,844.188 1183.75,848.632 1181.53,853.001 1179.18,857.295 \n",
       "  1176.67,861.517 1174.01,865.665 1171.18,869.741 1168.15,873.745 1164.92,877.676 1161.46,881.532 1157.76,885.312 1153.79,889.015 1149.53,892.637 1144.97,896.175 \n",
       "  1140.08,899.625 1134.83,902.982 1129.2,906.239 1123.15,909.387 1116.67,912.413 1109.72,915.306 1102.26,918.048 1094.26,920.623 1085.7,923.007 1076.54,925.175 \n",
       "  1066.73,927.099 1056.23,928.743 1045.01,930.065 1033.03,931.012 1020.28,931.524 1006.72,931.534 992.351,930.967 977.153,929.738 961.121,927.757 944.283,924.945 \n",
       "  926.68,921.188 908.329,916.315 889.289,910.17 869.666,902.604 849.608,893.485 829.307,882.693 808.999,870.118 788.966,855.664 769.532,839.25 751.062,820.805 \n",
       "  733.873,800.383 718.451,778.1 705.307,754.124 694.888,728.706 687.574,702.182 683.681,674.972 683.459,647.582 687.095,620.602 694.709,594.706 706.309,570.635 \n",
       "  721.589,548.956 740.162,530.029 761.613,514.126 785.494,501.432 811.324,492.046 838.592,485.982 866.755,483.164 895.237,483.432 923.504,486.454 951.197,491.739 \n",
       "  978.004,498.892 1003.68,507.544 1028.04,517.353 1050.96,528.005 1072.39,539.209 1092.33,550.707 1110.78,562.326 1127.78,573.943 1143.39,585.449 1157.68,596.758 \n",
       "  1170.72,607.804 1182.6,618.54 1193.4,628.944 1203.22,639.005 1212.15,648.717 1220.26,658.081 1227.63,667.105 1234.36,675.794 1240.5,684.156 1246.13,692.201 \n",
       "  1251.32,699.94 1256.13,707.386 1260.62,714.55 1264.84,721.442 1268.83,728.07 1272.64,734.44 1276.3,740.56 1279.86,746.435 1283.36,752.072 1286.84,757.476 \n",
       "  1290.32,762.653 1293.85,767.605 1297.45,772.333 1301.13,776.834 1304.94,781.108 1308.88,785.153 1313,788.966 1317.31,792.542 1321.84,795.876 1326.61,798.963 \n",
       "  1331.64,801.792 1336.96,804.353 1342.59,806.632 1348.55,808.617 1354.87,810.29 1361.57,811.635 1368.67,812.633 1376.2,813.263 1384.17,813.501 1392.61,813.322 \n",
       "  1401.54,812.692 1410.98,811.579 1420.94,809.947 1431.44,807.76 1442.47,804.98 1454.04,801.567 1466.15,797.48 1478.78,792.675 1491.9,787.13 1505.48,780.801 \n",
       "  1519.48,773.624 1533.86,765.554 1548.53,756.563 1563.41,746.641 1578.35,735.797 1593.23,724.059 1607.87,711.471 1622.09,698.099 1635.67,684.022 1648.36,669.343 \n",
       "  1659.99,654.207 1670.29,638.825 1678.99,623.418 1685.84,608.218 1690.63,593.46 1693.21,579.393 1693.45,566.269 1691.26,554.351 1686.6,543.91 1679.44,535.212 \n",
       "  1669.92,528.373 1658.23,523.444 1644.57,520.444 1629.19,519.349 1612.34,520.095 1594.3,522.572 1575.35,526.631 1555.8,532.077 1536.01,538.674 1516.24,546.186 \n",
       "  1496.73,554.409 1477.66,563.152 1459.21,572.244 1441.51,581.537 1424.66,590.904 1408.75,600.242 1393.79,609.469 1379.82,618.527 1366.83,627.381 1354.83,636.014 \n",
       "  1343.77,644.417 1333.64,652.583 1324.39,660.513 1315.98,668.211 1308.38,675.687 1301.53,682.957 1295.38,690.036 1289.88,696.933 1285,703.659 1280.68,710.226 \n",
       "  1276.87,716.643 1273.56,722.919 1270.68,729.06 1268.21,735.074 1266.12,740.965 1264.38,746.737 1262.95,752.394 1261.82,757.939 1260.97,763.373 1260.38,768.698 \n",
       "  1260.03,773.913 1259.9,779.02 1259.98,784.016 1260.26,788.901 1260.74,793.677 1261.4,798.341 1262.26,802.893 1263.29,807.33 1264.5,811.65 1265.89,815.851 \n",
       "  1267.46,819.93 1269.22,823.886 1271.16,827.714 1273.3,831.412 1275.64,834.977 1278.2,838.402 1280.97,841.684 1283.98,844.816 1287.23,847.791 1290.75,850.603 \n",
       "  1294.53,853.245 1298.61,855.706 1303.01,857.977 1307.73,860.046 1312.81,861.9 1318.26,863.522 1324.12,864.897 1330.41,866.005 1337.14,866.827 1344.35,867.339 \n",
       "  1352.08,867.515 1360.37,867.324 1369.24,866.732 1378.72,865.701 1388.85,864.188 1399.66,862.148 1411.16,859.53 1423.39,856.28 1436.36,852.34 1450.1,847.649 \n",
       "  1464.61,842.152 1479.87,835.789 1495.89,828.456 1512.67,820.062 1530.17,810.529 1548.3,799.797 1566.97,787.82 1586.03,774.567 1605.3,760.025 1624.58,744.194 \n",
       "  1643.62,727.09 1662.18,708.759 1679.98,689.351 1696.57,669.066 1711.52,648.149 1724.44,626.889 1734.97,605.617 1742.76,584.713 1747.51,564.597 1748.93,545.738 \n",
       "  1746.78,528.646 1740.88,513.831 1731.34,501.599 1718.36,492.163 1702.17,485.652 1683.08,482.103 1661.48,481.466 1637.81,483.604 1612.59,488.288 1586.4,495.196 \n",
       "  1559.73,503.892 1533.01,513.972 1506.63,525.073 1480.91,536.864 1456.12,549.046 1432.44,561.354 1410.02,573.557 1388.94,585.48 1369.26,597.056 1350.96,608.229 \n",
       "  1334.03,618.959 1318.44,629.227 1304.15,639.034 1291.08,648.398 1279.15,657.356 1268.3,665.934 1258.43,674.166 1249.47,682.086 1241.34,689.724 1233.96,697.11 \n",
       "  1227.27,704.269 1221.18,711.226 1215.63,718.001 1210.56,724.614 1205.91,731.078 1201.63,737.406 1197.66,743.609 1193.96,749.697 1190.49,755.676 1187.2,761.552 \n",
       "  1184.06,767.329 1181.02,773.007 1178.05,778.589 1175.13,784.079 1172.22,789.476 1169.31,794.782 1166.36,799.997 1163.35,805.121 1160.25,810.152 1157.05,815.088 \n",
       "  1153.71,819.93 1150.23,824.675 1146.58,829.322 1142.73,833.868 1138.67,838.309 1134.38,842.64 1129.83,846.858 1124.99,850.956 1119.86,854.927 1114.39,858.763 \n",
       "  1108.57,862.457 1102.38,865.996 1095.79,869.367 1088.78,872.554 1081.31,875.54 1073.37,878.303 1064.92,880.821 1055.95,883.067 1046.43,885.009 1036.34,886.612 \n",
       "  1025.64,887.833 1014.33,888.625 1002.39,888.936 989.837,888.705 976.659,887.869 962.869,886.358 948.484,884.096 933.552,881.032 918.12,877.062 902.244,872.063 \n",
       "  886.007,865.926 869.522,858.557 852.932,849.88 836.409,839.835 820.152,828.376 804.391,815.475 789.386,801.12 775.423,785.314 762.743,768.141 751.666,749.748 \n",
       "  742.532,730.309 735.63,710.043 731.196,689.214 729.418,668.132 730.429,647.151 734.315,626.672 741.108,607.14 750.779,589.03 763.125,572.692 777.877,558.372 \n",
       "  794.746,546.26 813.424,536.486 833.582,529.119 854.87,524.167 876.917,521.58 899.331,521.245 921.72,522.982 943.822,526.517 965.403,531.591 986.262,537.96 \n",
       "  1006.24,545.395 1025.21,553.679 1043.1,562.61 1059.87,572.001 1075.51,581.675 1090.02,591.51 1103.41,601.425 1115.74,611.341 1127.03,621.192 1137.34,630.925 \n",
       "  1146.72,640.498 1155.22,649.883 1162.91,659.064 1169.85,668.029 1176.1,676.772 1181.71,685.29 1186.73,693.583 1191.23,701.654 1195.25,709.504 1198.83,717.139 \n",
       "  1202.02,724.565 1204.86,731.79 1207.39,738.82 1209.64,745.661 1211.63,752.318 1213.4,758.798 1214.97,765.108 1216.36,771.252 1217.59,777.238 1218.7,783.073 \n",
       "  1219.69,788.762 1220.58,794.309 1221.38,799.72 1222.11,804.997 1222.77,810.146 1223.38,815.17 1223.94,820.074 1224.47,824.862 1224.97,829.537 1225.44,834.102 \n",
       "  1225.9,838.559 1226.34,842.913 1226.78,847.165 1227.22,851.318 1227.66,855.374 1228.11,859.336 1228.57,863.206 1229.05,866.986 1229.54,870.677 1230.06,874.28 \n",
       "  1230.61,877.798 1231.18,881.232 1231.79,884.583 1232.44,887.852 1233.14,891.04 1233.88,894.148 1234.67,897.176 1235.52,900.125 1236.43,902.995 1237.41,905.786 \n",
       "  1238.47,908.499 1239.61,911.133 1240.83,913.688 1242.15,916.163 1243.57,918.556 1245.11,920.867 1246.76,923.095 1248.55,925.237 1250.48,927.291 1252.57,929.254 \n",
       "  1254.83,931.123 1257.27,932.895 1259.91,934.566 1262.76,936.129 1265.85,937.578 1269.19,938.908 1272.81,940.109 1276.73,941.173 1280.96,942.091 1285.55,942.849 \n",
       "  1290.51,943.436 1295.89,943.835 1301.71,944.03 1308.01,943.999 1314.83,943.717 1322.21,943.158 1330.2,942.289 1338.83,941.076 1348.17,939.484 1358.24,937.469 \n",
       "  1369.1,934.98 1380.82,931.958 1393.47,928.336 1407.09,924.037 1421.75,918.98 1437.48,913.071 1454.31,906.211 1472.26,898.292 1491.35,889.197 1511.58,878.804 \n",
       "  1532.93,867.006 1555.31,853.692 1578.68,838.667 1602.91,821.784 1627.83,802.952 1653.15,782.135 1678.53,759.354 1703.55,734.685 1727.71,708.259 1750.42,680.265 \n",
       "  1771.16,651.002 1789.21,621.041 1803.78,591.036 1814.2,561.658 1819.92,533.598 1820.53,507.567 1815.77,484.292 1805.48,464.524 1789.66,449.03 1768.58,438.376 \n",
       "  1742.97,432.498 1713.55,431.256 1681.1,434.376 1646.37,441.452 1610.15,451.939 1573.26,465.159 1536.5,480.299 1500.65,496.52 1466.08,513.294 1433.13,530.135 \n",
       "  1402.05,546.649 1373,562.54 1346.04,577.611 1321.15,591.763 1298.23,604.975 1277.25,617.241 1258.08,628.616 1240.61,639.165 1224.72,648.952 1210.27,658.049 \n",
       "  1197.15,666.529 1185.23,674.469 1174.38,681.942 1164.49,689.006 1155.45,695.712 1147.16,702.106 1139.52,708.228 1132.45,714.11 1125.85,719.778 1119.66,725.25 \n",
       "  1113.79,730.541 1108.18,735.664 1102.78,740.625 1097.54,745.43 1092.4,750.083 1087.33,754.582 1082.27,758.925 1077.19,763.109 1072.04,767.125 1066.8,770.967 \n",
       "  1061.44,774.626 1055.93,778.091 1050.26,781.352 1044.4,784.395 1038.33,787.206 1032.04,789.769 1025.52,792.068 1018.74,794.085 1011.72,795.8 1004.43,797.191 \n",
       "  996.893,798.235 989.099,798.907 981.059,799.183 972.788,799.038 964.303,798.446 955.625,797.382 946.781,795.817 937.803,793.737 928.736,791.112 919.632,787.912 \n",
       "  910.547,784.112 901.547,779.696 892.7,774.657 884.084,768.996 875.781,762.723 867.879,755.856 860.474,748.421 853.667,740.454 847.551,732.002 842.208,723.137 \n",
       "  837.744,713.937 834.25,704.486 831.799,694.877 830.451,685.208 830.245,675.586 831.208,666.126 833.348,656.948 836.657,648.183 841.112,639.965 846.668,632.424 \n",
       "  853.245,625.628 860.751,619.649 869.085,614.545 878.145,610.355 887.819,607.105 897.994,604.803 908.549,603.44 919.359,602.992 930.291,603.418 941.224,604.665 \n",
       "  952.07,606.67 962.738,609.365 973.148,612.684 983.23,616.559 992.922,620.925 1002.17,625.718 1010.95,630.876 1019.21,636.336 1026.94,642.038 1034.13,647.923 \n",
       "  1040.78,653.934 1046.87,660.043 1052.42,666.224 1057.43,672.447 1061.91,678.685 1065.86,684.914 1069.31,691.113 1072.25,697.262 1074.71,703.346 1076.69,709.353 \n",
       "  1078.21,715.272 1079.29,721.091 1079.94,726.802 1080.16,732.399 1079.98,737.873 1079.38,743.217 1078.39,748.425 1077.02,753.489 1075.26,758.402 1073.12,763.157 \n",
       "  1070.61,767.748 1067.73,772.168 1064.48,776.411 1060.87,780.464 1056.9,784.321 1052.55,787.969 1047.83,791.398 1042.74,794.593 1037.27,797.54 1031.43,800.223 \n",
       "  1025.21,802.624 1018.62,804.723 1011.67,806.5 1004.36,807.933 996.703,808.997 988.705,809.676 980.378,809.936 971.735,809.74 962.795,809.056 953.584,807.85 \n",
       "  944.14,806.092 934.504,803.755 924.729,800.81 914.873,797.234 905.003,793.004 895.195,788.098 885.532,782.499 876.081,776.21 866.942,769.242 858.245,761.6 \n",
       "  850.114,753.302 842.666,744.386 836.012,734.903 830.254,724.922 825.489,714.529 821.807,703.824 819.289,692.925 818.011,681.966 818.042,671.096 819.442,660.481 \n",
       "  822.207,650.283 826.295,640.633 831.651,631.646 838.208,623.426 845.886,616.062 854.591,609.629 864.215,604.19 874.637,599.795 885.722,596.478 897.321,594.264 \n",
       "  909.274,593.159 921.431,593.102 933.659,594.007 945.836,595.801 957.848,598.412 969.598,601.766 981.001,605.783 991.985,610.384 1002.49,615.485 1012.47,621.002 \n",
       "  1021.89,626.846 1030.73,632.939 1038.96,639.246 1046.59,645.718 1053.62,652.312 1060.04,658.985 1065.88,665.703 1071.13,672.432 1075.81,679.147 1079.93,685.823 \n",
       "  1083.51,692.444 1086.56,698.996 1089.12,705.464 1091.19,711.838 1092.8,718.108 1093.95,724.268 1094.66,730.309 1094.95,736.226 1094.83,742.011 1094.3,747.661 \n",
       "  1093.38,753.17 1092.07,758.534 1090.39,763.749 1088.34,768.811 1085.93,773.713 1083.15,778.45 1080,783.018 1076.48,787.41 1072.57,791.616 1068.29,795.628 \n",
       "  1063.63,799.434 1058.59,803.024 1053.15,806.382 1047.33,809.495 1041.12,812.346 1034.52,814.919 1027.53,817.193 1020.15,819.149 1012.36,820.759 1004.18,821.994 \n",
       "  995.593,822.824 986.621,823.217 977.277,823.14 967.583,822.557 957.567,821.432 947.262,819.728 936.709,817.405 925.953,814.424 915.041,810.782 904.049,806.436 \n",
       "  893.066,801.326 882.186,795.411 871.512,788.666 861.153,781.084 851.223,772.678 841.844,763.473 833.143,753.518 825.256,742.875 818.321,731.625 812.487,719.866 \n",
       "  807.907,707.715 804.724,695.313 802.99,682.845 802.76,670.475 804.071,658.36 806.931,646.653 811.328,635.502 817.222,625.048 824.55,615.432 833.223,606.788 \n",
       "  843.129,599.245 854.13,592.928 866.062,587.949 878.732,584.284 891.949,581.888 905.537,580.726 919.332,580.749 933.182,581.891 946.948,584.074 960.502,587.204 \n",
       "  973.73,591.173 986.529,595.857 998.808,601.122 1010.5,606.877 1021.57,613.058 1032,619.585 1041.76,626.383 1050.84,633.385 1059.24,640.534 1066.95,647.777 \n",
       "  1074,655.069 1080.38,662.375 1086.12,669.665 1091.26,676.915 1095.79,684.102 1099.76,691.212 1103.19,698.232 1106.09,705.15 1108.5,711.957 1110.43,718.645 \n",
       "  1111.89,725.207 1112.92,731.638 1113.52,737.934 1113.71,744.094 1113.51,750.117 1112.94,755.998 1111.99,761.737 1110.67,767.332 1108.99,772.78 1106.95,778.08 \n",
       "  1104.55,783.228 1101.8,788.219 1098.68,793.05 1095.21,797.715 1091.37,802.209 1087.17,806.526 1082.61,810.659 1077.68,814.598 1072.36,818.331 1066.64,821.847 \n",
       "  1060.51,825.13 1053.97,828.166 1047,830.933 1039.59,833.412 1031.75,835.577 1023.46,837.402 1014.72,838.858 1005.54,839.917 995.932,840.558 985.895,840.733 \n",
       "  975.424,840.386 964.53,839.464 953.237,837.917 941.58,835.695 929.609,832.753 917.386,829.044 904.986,824.528 892.499,819.162 880.025,812.908 867.679,805.729 \n",
       "  855.588,797.591 843.862,788.491 832.65,778.454 822.152,767.492 812.558,755.647 804.043,742.988 796.769,729.612 790.887,715.645 786.533,701.239 783.831,686.576 \n",
       "  782.892,671.864 783.814,657.342 786.673,643.278 791.441,629.932 798.027,617.486 806.321,606.095 816.198,595.893 827.517,586.994 840.117,579.49 853.823,573.454 \n",
       "  868.442,568.935 883.764,565.964 899.563,564.549 915.6,564.645 931.665,566.066 947.582,568.68 963.195,572.357 978.371,576.971 993.001,582.396 1007,588.506 \n",
       "  1020.29,595.175 1032.84,602.279 1044.62,609.697 1055.61,617.358 1065.8,625.198 1075.21,633.157 1083.85,641.18 1091.75,649.219 1098.91,657.235 1105.38,665.195 \n",
       "  1111.17,673.075 1116.32,680.856 1120.87,688.528 1124.84,696.076 1128.26,703.494 1131.18,710.775 1133.6,717.914 1135.57,724.909 1137.11,731.758 1138.23,738.461 \n",
       "  \n",
       "  \"/>\n",
       "</svg>\n"
      ]
     },
     "execution_count": 48,
     "metadata": {},
     "output_type": "execute_result"
    }
   ],
   "source": [
    "println(\"número de pontos: \", length(sol))\n",
    "plot(sol, vars=(1,2,3), leg=false)"
   ]
  },
  {
   "cell_type": "markdown",
   "metadata": {},
   "source": [
    "A estrutura de solução `sol` possui alguns campos que podem ser de nosso interesse."
   ]
  },
  {
   "cell_type": "code",
   "execution_count": 49,
   "metadata": {},
   "outputs": [
    {
     "data": {
      "text/plain": [
       "(:u, :u_analytic, :errors, :t, :k, :prob, :alg, :interp, :alg_choice, :dense, :tslocation, :destats, :retcode)"
      ]
     },
     "execution_count": 49,
     "metadata": {},
     "output_type": "execute_result"
    }
   ],
   "source": [
    "fieldnames(typeof(sol))"
   ]
  },
  {
   "cell_type": "code",
   "execution_count": 50,
   "metadata": {},
   "outputs": [
    {
     "data": {
      "text/plain": [
       "DiffEqBase.DEStats\n",
       "Number of function 1 evaluations:                  7821\n",
       "Number of function 2 evaluations:                  0\n",
       "Number of W matrix evaluations:                    0\n",
       "Number of linear solves:                           0\n",
       "Number of Jacobians created:                       0\n",
       "Number of nonlinear solver iterations:             0\n",
       "Number of nonlinear solver convergence failures:   0\n",
       "Number of rootfind condition calls:                0\n",
       "Number of accepted steps:                          1277\n",
       "Number of rejected steps:                          26\n",
       "Maximum eigenvalue recorded:                       26"
      ]
     },
     "execution_count": 50,
     "metadata": {},
     "output_type": "execute_result"
    }
   ],
   "source": [
    "sol.destats"
   ]
  },
  {
   "cell_type": "markdown",
   "metadata": {},
   "source": [
    "## Sistemas não-lineares\n",
    "\n",
    "Pode-se utilizar o [NLsolve](https://github.com/JuliaNLSolvers/NLsolve.jl) para resolver um sistema de equações não lineares. Este pacote também serve para resolver problemas mistos de complementaridade. Como exemplo, vamos encontrar o ponto $(x,y)$ que zera o sistema seguinte:\n",
    "\n",
    "$$\n",
    "\\begin{aligned}\n",
    "f_1(x,y) &= (x+3)(y^3-7) + 18 =0 \\\\\n",
    "f_2(x,y) &= \\sin(ye^x-1) =0\n",
    "\\end{aligned}\n",
    "$$\n",
    "\n",
    "Usamos a função `nlsolve`, passando a ela a função que modifica no lugar o argumento `F`, um ponto inicial `x0`. Opcionalmente, pode-se providenciar a função que calcula o Jacobiano (recomendado, senão o Jacobiano é calculado automaticamente usando `ForwardDiff` atrás das cortinas)."
   ]
  },
  {
   "cell_type": "code",
   "execution_count": 51,
   "metadata": {},
   "outputs": [
    {
     "data": {
      "text/plain": [
       "j! (generic function with 1 method)"
      ]
     },
     "execution_count": 51,
     "metadata": {},
     "output_type": "execute_result"
    }
   ],
   "source": [
    "using NLsolve\n",
    "\n",
    "function f!(F, x)\n",
    "    F[1] = (x[1]+3)*(x[2]^3-7)+18\n",
    "    F[2] = sin(x[2]*exp(x[1])-1)\n",
    "end\n",
    "\n",
    "function j!(J, x)\n",
    "    J[1, 1] = x[2]^3-7\n",
    "    J[1, 2] = 3*x[2]^2*(x[1]+3)\n",
    "    u = exp(x[1])*cos(x[2]*exp(x[1])-1)\n",
    "    J[2, 1] = x[2]*u\n",
    "    J[2, 2] = u\n",
    "end"
   ]
  },
  {
   "cell_type": "code",
   "execution_count": 52,
   "metadata": {},
   "outputs": [
    {
     "name": "stdout",
     "output_type": "stream",
     "text": [
      "  7.945 μs (66 allocations: 4.86 KiB)\n"
     ]
    },
    {
     "data": {
      "text/plain": [
       "Results of Nonlinear Solver Algorithm\n",
       " * Algorithm: Trust-region with dogleg and autoscaling\n",
       " * Starting Point: [0.1, 1.2]\n",
       " * Zero: [-7.775548712324193e-17, 0.9999999999999999]\n",
       " * Inf-norm of residuals: 0.000000\n",
       " * Iterations: 4\n",
       " * Convergence: true\n",
       "   * |x - x'| < 0.0e+00: false\n",
       "   * |f(x)| < 1.0e-08: true\n",
       " * Function Calls (f): 5\n",
       " * Jacobian Calls (df/dx): 5"
      ]
     },
     "execution_count": 52,
     "metadata": {},
     "output_type": "execute_result"
    }
   ],
   "source": [
    "@btime nlsolve(f!, [0.1; 1.2])"
   ]
  },
  {
   "cell_type": "code",
   "execution_count": 53,
   "metadata": {},
   "outputs": [
    {
     "name": "stdout",
     "output_type": "stream",
     "text": [
      "  5.620 μs (60 allocations: 4.09 KiB)\n"
     ]
    },
    {
     "data": {
      "text/plain": [
       "Results of Nonlinear Solver Algorithm\n",
       " * Algorithm: Trust-region with dogleg and autoscaling\n",
       " * Starting Point: [0.1, 1.2]\n",
       " * Zero: [-3.7818049096324184e-16, 1.0000000000000002]\n",
       " * Inf-norm of residuals: 0.000000\n",
       " * Iterations: 4\n",
       " * Convergence: true\n",
       "   * |x - x'| < 0.0e+00: false\n",
       "   * |f(x)| < 1.0e-08: true\n",
       " * Function Calls (f): 5\n",
       " * Jacobian Calls (df/dx): 5"
      ]
     },
     "execution_count": 53,
     "metadata": {},
     "output_type": "execute_result"
    }
   ],
   "source": [
    "@btime nlsolve(f!, j!, [0.1; 1.2])"
   ]
  },
  {
   "cell_type": "markdown",
   "metadata": {
    "slideshow": {
     "slide_type": "slide"
    },
    "toc-hr-collapsed": true
   },
   "source": [
    "## Otimização\n",
    "\n",
    "Sistemas de equações lineares podem surgir em problemas de otimização. O pacote [Optim](https://github.com/JuliaNLSolvers/Optim.jl) também pode ser usado para resolver este tipo de problemas. Usaremos a função a função de Rosenbrock para este exemplo:\n",
    "\n",
    "$$ f(x,y) = (a-x)^2 + b(y-x^2)^2 $$\n",
    "\n",
    "Usar `Optim` é similar ao `NLsolve`: providenciar uma função `f(x)`, pontos iniciais `x0` e, opcionalmente, uma função pra computar o Jacobiano e/ou Hessiano, um algoritmo a usar (Broyden-Fletcher-Goldfarb-Shanno no exemplo abaixo), etc."
   ]
  },
  {
   "cell_type": "code",
   "execution_count": 54,
   "metadata": {},
   "outputs": [
    {
     "data": {
      "text/plain": [
       " * Status: success\n",
       "\n",
       " * Candidate solution\n",
       "    Minimizer: [1.00e+00, 1.00e+00]\n",
       "    Minimum:   5.471433e-17\n",
       "\n",
       " * Found with\n",
       "    Algorithm:     BFGS\n",
       "    Initial Point: [0.00e+00, 0.00e+00]\n",
       "\n",
       " * Convergence measures\n",
       "    |x - x'|               = 3.47e-07 ≰ 0.0e+00\n",
       "    |x - x'|/|x'|          = 3.47e-07 ≰ 0.0e+00\n",
       "    |f(x) - f(x')|         = 6.59e-14 ≰ 0.0e+00\n",
       "    |f(x) - f(x')|/|f(x')| = 1.20e+03 ≰ 0.0e+00\n",
       "    |g(x)|                 = 2.33e-09 ≤ 1.0e-08\n",
       "\n",
       " * Work counters\n",
       "    Seconds run:   0  (vs limit Inf)\n",
       "    Iterations:    16\n",
       "    f(x) calls:    53\n",
       "    ∇f(x) calls:   53\n"
      ]
     },
     "execution_count": 54,
     "metadata": {},
     "output_type": "execute_result"
    }
   ],
   "source": [
    "using Optim\n",
    "rosenbrock(x) =  (1.0 - x[1])^2 + 100.0 * (x[2] - x[1]^2)^2\n",
    "result = optimize(rosenbrock, zeros(2), BFGS())"
   ]
  },
  {
   "cell_type": "markdown",
   "metadata": {},
   "source": [
    "Informação adicional sobre o algoritmo usado:"
   ]
  },
  {
   "cell_type": "code",
   "execution_count": 55,
   "metadata": {},
   "outputs": [
    {
     "name": "stdout",
     "output_type": "stream",
     "text": [
      "search: \u001b[0m\u001b[1mB\u001b[22m\u001b[0m\u001b[1mF\u001b[22m\u001b[0m\u001b[1mG\u001b[22m\u001b[0m\u001b[1mS\u001b[22m L\u001b[0m\u001b[1mB\u001b[22m\u001b[0m\u001b[1mF\u001b[22m\u001b[0m\u001b[1mG\u001b[22m\u001b[0m\u001b[1mS\u001b[22m\n",
      "\n"
     ]
    },
    {
     "data": {
      "text/latex": [
       "\\section{BFGS}\n",
       "\\subsection{Constructor}\n",
       "\\begin{verbatim}\n",
       "BFGS(; alphaguess = LineSearches.InitialStatic(),\n",
       "       linesearch = LineSearches.HagerZhang(),\n",
       "       initial_invH = x -> Matrix{eltype(x)}(I, length(x), length(x)),\n",
       "       manifold = Flat())\n",
       "\\end{verbatim}\n",
       "\\subsection{Description}\n",
       "The \\texttt{BFGS} method implements the Broyden-Fletcher-Goldfarb-Shanno algorithm as described in Nocedal and Wright (sec. 8.1, 1999) and the four individual papers Broyden (1970), Fletcher (1970), Goldfarb (1970), and Shanno (1970). It is a quasi-Newton method that updates an approximation to the Hessian using past approximations as well as the gradient. See also the limited memory variant \\texttt{LBFGS} for an algorithm that is more suitable for high dimensional problems.\n",
       "\n",
       "\\subsection{References}\n",
       "\\begin{itemize}\n",
       "\\item Wright, S. J. and J. Nocedal (1999), Numerical optimization. Springer Science 35.67-68: 7.\n",
       "\n",
       "\n",
       "\\item Broyden, C. G. (1970), The convergence of a class of double-rank minimization algorithms, Journal of the Institute of Mathematics and Its Applications, 6: 76–90.\n",
       "\n",
       "\n",
       "\\item Fletcher, R. (1970), A New Approach to Variable Metric Algorithms, Computer Journal, 13 (3): 317–322,\n",
       "\n",
       "\n",
       "\\item Goldfarb, D. (1970), A Family of Variable Metric Updates Derived by Variational Means, Mathematics of Computation, 24 (109): 23–26,\n",
       "\n",
       "\n",
       "\\item Shanno, D. F. (1970), Conditioning of quasi-Newton methods for function minimization, Mathematics of Computation, 24 (111): 647–656.\n",
       "\n",
       "\\end{itemize}\n"
      ],
      "text/markdown": [
       "# BFGS\n",
       "\n",
       "## Constructor\n",
       "\n",
       "```julia\n",
       "BFGS(; alphaguess = LineSearches.InitialStatic(),\n",
       "       linesearch = LineSearches.HagerZhang(),\n",
       "       initial_invH = x -> Matrix{eltype(x)}(I, length(x), length(x)),\n",
       "       manifold = Flat())\n",
       "```\n",
       "\n",
       "## Description\n",
       "\n",
       "The `BFGS` method implements the Broyden-Fletcher-Goldfarb-Shanno algorithm as described in Nocedal and Wright (sec. 8.1, 1999) and the four individual papers Broyden (1970), Fletcher (1970), Goldfarb (1970), and Shanno (1970). It is a quasi-Newton method that updates an approximation to the Hessian using past approximations as well as the gradient. See also the limited memory variant `LBFGS` for an algorithm that is more suitable for high dimensional problems.\n",
       "\n",
       "## References\n",
       "\n",
       "  * Wright, S. J. and J. Nocedal (1999), Numerical optimization. Springer Science 35.67-68: 7.\n",
       "  * Broyden, C. G. (1970), The convergence of a class of double-rank minimization algorithms, Journal of the Institute of Mathematics and Its Applications, 6: 76–90.\n",
       "  * Fletcher, R. (1970), A New Approach to Variable Metric Algorithms, Computer Journal, 13 (3): 317–322,\n",
       "  * Goldfarb, D. (1970), A Family of Variable Metric Updates Derived by Variational Means, Mathematics of Computation, 24 (109): 23–26,\n",
       "  * Shanno, D. F. (1970), Conditioning of quasi-Newton methods for function minimization, Mathematics of Computation, 24 (111): 647–656.\n"
      ],
      "text/plain": [
       "\u001b[1m  BFGS\u001b[22m\n",
       "\u001b[1m  ≡≡≡≡≡≡\u001b[22m\n",
       "\n",
       "\u001b[1m  Constructor\u001b[22m\n",
       "\u001b[1m  =============\u001b[22m\n",
       "\n",
       "\u001b[36m  BFGS(; alphaguess = LineSearches.InitialStatic(),\u001b[39m\n",
       "\u001b[36m         linesearch = LineSearches.HagerZhang(),\u001b[39m\n",
       "\u001b[36m         initial_invH = x -> Matrix{eltype(x)}(I, length(x), length(x)),\u001b[39m\n",
       "\u001b[36m         manifold = Flat())\u001b[39m\n",
       "\n",
       "\u001b[1m  Description\u001b[22m\n",
       "\u001b[1m  =============\u001b[22m\n",
       "\n",
       "  The \u001b[36mBFGS\u001b[39m method implements the Broyden-Fletcher-Goldfarb-Shanno algorithm as\n",
       "  described in Nocedal and Wright (sec. 8.1, 1999) and the four individual\n",
       "  papers Broyden (1970), Fletcher (1970), Goldfarb (1970), and Shanno (1970).\n",
       "  It is a quasi-Newton method that updates an approximation to the Hessian\n",
       "  using past approximations as well as the gradient. See also the limited\n",
       "  memory variant \u001b[36mLBFGS\u001b[39m for an algorithm that is more suitable for high\n",
       "  dimensional problems.\n",
       "\n",
       "\u001b[1m  References\u001b[22m\n",
       "\u001b[1m  ============\u001b[22m\n",
       "\n",
       "    •    Wright, S. J. and J. Nocedal (1999), Numerical optimization.\n",
       "        Springer Science 35.67-68: 7.\n",
       "\n",
       "    •    Broyden, C. G. (1970), The convergence of a class of double-rank\n",
       "        minimization algorithms, Journal of the Institute of Mathematics\n",
       "        and Its Applications, 6: 76–90.\n",
       "\n",
       "    •    Fletcher, R. (1970), A New Approach to Variable Metric Algorithms,\n",
       "        Computer Journal, 13 (3): 317–322,\n",
       "\n",
       "    •    Goldfarb, D. (1970), A Family of Variable Metric Updates Derived\n",
       "        by Variational Means, Mathematics of Computation, 24 (109): 23–26,\n",
       "\n",
       "    •    Shanno, D. F. (1970), Conditioning of quasi-Newton methods for\n",
       "        function minimization, Mathematics of Computation, 24 (111):\n",
       "        647–656."
      ]
     },
     "execution_count": 55,
     "metadata": {},
     "output_type": "execute_result"
    }
   ],
   "source": [
    "?BFGS"
   ]
  }
 ],
 "metadata": {
  "@webio": {
   "lastCommId": "89bad735-b83f-4e82-8232-f2f818594e7a",
   "lastKernelId": "ecf49cc9-003a-42d9-af8b-a6fd2c73d34d"
  },
  "celltoolbar": "Slideshow",
  "kernelspec": {
   "display_name": "Julia 1.2.0",
   "language": "julia",
   "name": "julia-1.2"
  },
  "language_info": {
   "file_extension": ".jl",
   "mimetype": "application/julia",
   "name": "julia",
   "version": "1.2.0"
  },
  "toc-showcode": false,
  "toc-showmarkdowntxt": false,
  "toc-showtags": false
 },
 "nbformat": 4,
 "nbformat_minor": 4
}
