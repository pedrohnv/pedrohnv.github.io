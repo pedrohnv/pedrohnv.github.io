{
 "cells": [
  {
   "cell_type": "markdown",
   "metadata": {},
   "source": [
    "# Introdução à Linguagem de Programção Julia, Parte 1\n",
    "\n",
    "Date: 2019-10-09  \n",
    "Author: Pedro H. N. Vieira  \n",
    "Categories: julia, tutoriais  \n",
    "Tags: julia, tutorial  \n",
    "<!--eofm-->"
   ]
  },
  {
   "cell_type": "markdown",
   "metadata": {},
   "source": [
    "Este tutorial é a primeira parte (de duas, [confira a segunda](https://comp-eletromag.netlify.com/post/intro_julia_2/)) no qual faço proselitismo de Julia. A ideia é oferecer um material em português sucinto para ser usado como referência àqueles que desejam aprender Julia ou como uma apresentação num *Workshop* ou minicurso. Já existe algum esforço em criar um tutorial mais completo em português, disponível no GitHub: https://github.com/JuliaLangPt/tutorial_PT_BR.\n",
    "\n",
    "É comum que engenheiros aprendam a utilizar (muito mal) [MATLAB](https://www.mathworks.com/products/matlab.html) como linguagem de programação. A praxe é que utilizem uma versão pirateada do software. Alternativas similares ao MATLAB incluem o [Octave](https://www.gnu.org/software/octave/) (que tem um desempenho péssimo na minha experiência), ou o [Scilab](https://www.scilab.org/) (desempenho satisfatório na minha experiência). Outra alternativa é o [Python](https://www.python.org/) e o ecossistema associado ao [SciPy](https://www.scipy.org/).\n",
    "\n",
    "Python foi minha primeira linguagem de programação, quando aprendi a programar em 2012. Python permaneceu como minha favorita até 2018, quando conheci o [Julia](https://julialang.org/), que passou a ser minha favorita desde então por atender a todas as minhas necessidades como facilidade de uso e prototipagem, desempenho e facilidade para interagir com outras linguagens de programação."
   ]
  },
  {
   "cell_type": "markdown",
   "metadata": {
    "slideshow": {
     "slide_type": "slide"
    }
   },
   "source": [
    "+ Parte 1\n",
    "  - Julia é melhor que MATLAB\n",
    "  - Ecossistema\n",
    "  - Onde e como obter informação e ajuda\n",
    "  - Operações básicas\n",
    "  - Controle de fluxo\n",
    "  - Escopo de variáveis\n",
    "  - Funções\n",
    "  - Compreensão de listas\n",
    "  - Álgebra Linear\n",
    "  - Estruturas, dicionários e conjuntos\n",
    "  - Gráficos\n",
    "  - Manipular arquivos"
   ]
  },
  {
   "cell_type": "markdown",
   "metadata": {
    "slideshow": {
     "slide_type": "slide"
    },
    "toc-hr-collapsed": true
   },
   "source": [
    "+ [Parte 2](https://comp-eletromag.netlify.com/post/intro_julia_2/)\n",
    "  - Gráficos animados e iterativos\n",
    "  - Estatística online\n",
    "  - Desempenho e *benchmarking*\n",
    "  - Estabilidade de tipos\n",
    "  - Operações *in-place*: BLAS e LAPACK\n",
    "  - Integração numérica\n",
    "  - Diferenciação numérica\n",
    "  - Equações diferenciais\n",
    "  - Sistemas não-lineares\n",
    "  - Otimização"
   ]
  },
  {
   "cell_type": "markdown",
   "metadata": {
    "slideshow": {
     "slide_type": "slide"
    }
   },
   "source": [
    "## O quê é Julia\n",
    "\n",
    "+ Voltada para computação científica e numérica\n",
    "  - traduzir para o computador modelos matemáticos\n",
    "+ Início em Agosto de 2009 como um projeto acadêmico\n",
    "+ Tornou-se open source Fevereiro de 2012 (licença livre, MIT: faça o quê quiser)\n",
    "+ Entrou para o ranking das 50 linguagens de programação mais populares do *TIOBE Index* em Setembro de 2016"
   ]
  },
  {
   "cell_type": "markdown",
   "metadata": {
    "slideshow": {
     "slide_type": "slide"
    }
   },
   "source": [
    "+ Velocidade de `C`, dinamismo de `Ruby`\n",
    "+ Macros de `Lisp` na notação de `MATLAB`\n",
    "+ Propósito geral como `Python`\n",
    "+ Fácil para estatística como `R`\n",
    "+ Natural para processar *strings* como `Perl`\n",
    "+ Poderoso para álgebra linear como `MATLAB`\n",
    "+ Adaptável como programas juntos em `Shell`\n",
    "+ Simples de aprender, mas que ainda satisfaça os hackers mais sérios\n",
    "+ Iterativo e compilado (*JIT - Just in Time*, algo que o `MATLAB` também faz)\n",
    "+ Tão rápido quanto `C` (denovo, porquê isso é importante)"
   ]
  },
  {
   "cell_type": "markdown",
   "metadata": {
    "slideshow": {
     "slide_type": "slide"
    }
   },
   "source": [
    "![Influências Julia](influencia-julia.png)"
   ]
  },
  {
   "cell_type": "markdown",
   "metadata": {
    "slideshow": {
     "slide_type": "slide"
    }
   },
   "source": [
    "## Benchmark de Julia\n",
    "\n",
    "+ Processador CPU Intel (R) Core (TM) i7-3960X 3.30GHz (apenas um único núcleo (execução serial));\n",
    "- 64GB de RAM DDR3 de 1600MHz;\n",
    "- Sistema operacional openSUSE LEAP 42.2.\n",
    "\n",
    "<table border=\"1\"><colgroup><col> <col span=\"12\"></colgroup>\n",
    "\n",
    "<thead>\n",
    "\n",
    "<tr>\n",
    "\n",
    "<th>  </th>\n",
    "\n",
    "<th>C</th>\n",
    "\n",
    "<th>Julia</th>\n",
    "\n",
    "<th>LuaJIT</th>\n",
    "\n",
    "<th>Fortran</th>\n",
    "\n",
    "<th>Go</th>\n",
    "\n",
    "<th>Java</th>\n",
    "\n",
    "<th>JavaScript</th>\n",
    "\n",
    "<th>Matlab</th>\n",
    "\n",
    "<th>Mathematica</th>\n",
    "\n",
    "<th>Python</th>\n",
    "\n",
    "<th>R</th>\n",
    "\n",
    "<th>Octave</th>\n",
    "\n",
    "</tr>\n",
    "\n",
    "<tr>\n",
    "\n",
    "<th>Versão</th>\n",
    "\n",
    "<td>gcc 4.8.5</td>\n",
    "\n",
    "<td>0.6.0</td>\n",
    "\n",
    "<td>scilua v1.0.0-b12</td>\n",
    "\n",
    "<td>gcc 4.8.5</td>\n",
    "\n",
    "<td>go1.7.5</td>\n",
    "\n",
    "<td>1.8.0_14</td>\n",
    "\n",
    "<td>V8 4.5.103.47</td>\n",
    "\n",
    "<td>R '2017a'</td>\n",
    "\n",
    "<td>11.1.1</td>\n",
    "\n",
    "<td>3.5.4</td>\n",
    "\n",
    "<td>3.3.1</td>\n",
    "\n",
    "<td>4.0.3</td>\n",
    "\n",
    "</tr>\n",
    "\n",
    "</thead>\n",
    "\n",
    "<tbody>\n",
    "\n",
    "<tr>\n",
    "\n",
    "<th>iteration_pi_sum</th>\n",
    "\n",
    "<td>1.00</td>\n",
    "\n",
    "<td>1.00</td>\n",
    "\n",
    "<td>1.00</td>\n",
    "\n",
    "<td>1.00</td>\n",
    "\n",
    "<td>1.02</td>\n",
    "\n",
    "<td>1.01</td>\n",
    "\n",
    "<td>1.00</td>\n",
    "\n",
    "<td>1.00</td>\n",
    "\n",
    "<td>1.54</td>\n",
    "\n",
    "<td>20.25</td>\n",
    "\n",
    "<td>8.88</td>\n",
    "\n",
    "<td>448.22</td>\n",
    "\n",
    "</tr>\n",
    "\n",
    "<tr>\n",
    "\n",
    "<th>recursion_fibonacci</th>\n",
    "\n",
    "<td>1.00</td>\n",
    "\n",
    "<td>1.88</td>\n",
    "\n",
    "<td>1.40</td>\n",
    "\n",
    "<td>0.58</td>\n",
    "\n",
    "<td>1.88</td>\n",
    "\n",
    "<td>1.71</td>\n",
    "\n",
    "<td>3.82</td>\n",
    "\n",
    "<td>20.29</td>\n",
    "\n",
    "<td>142.28</td>\n",
    "\n",
    "<td>98.69</td>\n",
    "\n",
    "<td>652.86</td>\n",
    "\n",
    "<td>17878.75</td>\n",
    "\n",
    "</tr>\n",
    "\n",
    "<tr>\n",
    "\n",
    "<th>recursion_quicksort</th>\n",
    "\n",
    "<td>1.00</td>\n",
    "\n",
    "<td>0.94</td>\n",
    "\n",
    "<td>1.53</td>\n",
    "\n",
    "<td>1.30</td>\n",
    "\n",
    "<td>1.24</td>\n",
    "\n",
    "<td>2.55</td>\n",
    "\n",
    "<td>2.90</td>\n",
    "\n",
    "<td>3.08</td>\n",
    "\n",
    "<td>45.53</td>\n",
    "\n",
    "<td>37.51</td>\n",
    "\n",
    "<td>263.32</td>\n",
    "\n",
    "<td>3261.04</td>\n",
    "\n",
    "</tr>\n",
    "\n",
    "<tr>\n",
    "\n",
    "<th>parse_integers</th>\n",
    "\n",
    "<td>1.00</td>\n",
    "\n",
    "<td>1.35</td>\n",
    "\n",
    "<td>1.00</td>\n",
    "\n",
    "<td>5.39</td>\n",
    "\n",
    "<td>1.00</td>\n",
    "\n",
    "<td>2.49</td>\n",
    "\n",
    "<td>6.41</td>\n",
    "\n",
    "<td>238.10</td>\n",
    "\n",
    "<td>14.72</td>\n",
    "\n",
    "<td>18.77</td>\n",
    "\n",
    "<td>50.90</td>\n",
    "\n",
    "<td>3797.82</td>\n",
    "\n",
    "</tr>\n",
    "\n",
    "<tr>\n",
    "\n",
    "<th>print_to_file</th>\n",
    "\n",
    "<td>1.00</td>\n",
    "\n",
    "<td>0.66</td>\n",
    "\n",
    "<td>0.57</td>\n",
    "\n",
    "<td>3.44</td>\n",
    "\n",
    "<td>1.98</td>\n",
    "\n",
    "<td>6.01</td>\n",
    "\n",
    "<td>--</td>\n",
    "\n",
    "<td>116.70</td>\n",
    "\n",
    "<td>61.93</td>\n",
    "\n",
    "<td>1.38</td>\n",
    "\n",
    "<td>136.95</td>\n",
    "\n",
    "<td>197.32</td>\n",
    "\n",
    "</tr>\n",
    "\n",
    "<tr>\n",
    "\n",
    "<th>matrix_statistics</th>\n",
    "\n",
    "<td>1.00</td>\n",
    "\n",
    "<td>1.74</td>\n",
    "\n",
    "<td>1.63</td>\n",
    "\n",
    "<td>1.87</td>\n",
    "\n",
    "<td>5.77</td>\n",
    "\n",
    "<td>4.91</td>\n",
    "\n",
    "<td>3.06</td>\n",
    "\n",
    "<td>17.86</td>\n",
    "\n",
    "<td>7.55</td>\n",
    "\n",
    "<td>17.78</td>\n",
    "\n",
    "<td>19.65</td>\n",
    "\n",
    "<td>56.20</td>\n",
    "\n",
    "</tr>\n",
    "\n",
    "<tr>\n",
    "\n",
    "<th>matrix_multiply</th>\n",
    "\n",
    "<td>1.00</td>\n",
    "\n",
    "<td>0.98</td>\n",
    "\n",
    "<td>1.11</td>\n",
    "\n",
    "<td>1.27</td>\n",
    "\n",
    "<td>1.24</td>\n",
    "\n",
    "<td>8.85</td>\n",
    "\n",
    "<td>24.89</td>\n",
    "\n",
    "<td>1.18</td>\n",
    "\n",
    "<td>1.19</td>\n",
    "\n",
    "<td>1.17</td>\n",
    "\n",
    "<td>8.84</td>\n",
    "\n",
    "<td>1.21</td>\n",
    "\n",
    "</tr>\n",
    "\n",
    "<tr>\n",
    "\n",
    "<th>userfunc_mandelbrot</th>\n",
    "\n",
    "<td>1.00</td>\n",
    "\n",
    "<td>0.76</td>\n",
    "\n",
    "<td>1.04</td>\n",
    "\n",
    "<td>0.75</td>\n",
    "\n",
    "<td>0.81</td>\n",
    "\n",
    "<td>1.13</td>\n",
    "\n",
    "<td>1.07</td>\n",
    "\n",
    "<td>19.48</td>\n",
    "\n",
    "<td>19.35</td>\n",
    "\n",
    "<td>142.95</td>\n",
    "\n",
    "<td>347.41</td>\n",
    "\n",
    "<td>8981.32</td>\n",
    "\n",
    "</tr>\n",
    "\n",
    "</tbody>\n",
    "\n",
    "</table>\n",
    "\n",
    "\n",
    "**Tabela:** benchmark tempo em segundos de processamento relativo ao tempo de C (quanto menor melhor, performance de = 1.0)."
   ]
  },
  {
   "cell_type": "markdown",
   "metadata": {
    "slideshow": {
     "slide_type": "slide"
    },
    "toc-hr-collapsed": true
   },
   "source": [
    "## Ecossistema\n",
    "\n",
    "### O quê devo instalar?\n",
    "\n",
    "+ [**JuliaPro**](https://juliacomputing.com/products/juliapro.html) (recomendado) desenvolvido para profissionais de ciência de dados, engenheiros de software e pesquisadores, `JuliaPro` utiliza o `Juno` que é uma extensão do popular editor `Atom` além de vir com mais de cem pacotes adicionais instalados. `JuliaPro` inclui uma série de recursos poderesos de edição de código. \n",
    "\n",
    "+ Instalar o [**Julia**](https://julialang.org/), depois o [**Atom**](https://atom.io/) e instalar o Plugin [**Juno**](https://atom.io/packages/uber-juno) (mais fácil instalar o **JuliaPro**, que é a mesma coisa, mas sem os pacotes de Julia já instalados).\n",
    "  \n",
    "+ Instalar o [**Julia**](https://julialang.org/), depois o [**Jupyter**](https://jupyter.org/install.html) (sua preferência se o *Lab*, o *Notebook* ou ambos), depois instalar o pacote [**IJulia**](https://github.com/JuliaLang/IJulia.jl)."
   ]
  },
  {
   "cell_type": "markdown",
   "metadata": {
    "slideshow": {
     "slide_type": "slide"
    }
   },
   "source": [
    "### Jupyter, Markdown e LaTeX\n",
    "\n",
    "- Jupyter Notebook: doumentos com código \"vivo\"\n",
    "  + Esta apresentação foi feita com ele\n",
    " \n",
    "- Uma célula pode ser do tipo Markdown ou código.\n",
    "  + A tipagem Markdown tem alguns comandos para formatar texto e idêntico aos do LaTeX para equações:\n",
    "\n",
    "    \\# Título nível 1  \n",
    "    \\## Título nível 2  \n",
    "    \\### Título nível 3  \n",
    "    \\**itálico*\\*  \n",
    "    \\*\\***negrito**\\*\\*  \n",
    "    `$` para delimitar equações, `$$` para que fique destacada  \n",
    "    entre outros...  "
   ]
  },
  {
   "cell_type": "markdown",
   "metadata": {
    "slideshow": {
     "slide_type": "slide"
    }
   },
   "source": [
    "### Usando Julia\n",
    "\n",
    "- `MATLAB`: 4 GB de porcaria que não vamos usar\n",
    "- `JuliaPro`: 320 MB, sendo composto pela IDE, executável do Julia e uns 250 pacotes básicos.\n",
    "  + Precisa de pacote que não tem: utilizar `Pkg`\n"
   ]
  },
  {
   "cell_type": "markdown",
   "metadata": {
    "slideshow": {
     "slide_type": "-"
    },
    "toc-hr-collapsed": true
   },
   "source": [
    "### Pacotes\n",
    "\n",
    "#### Pkg\n",
    "- Gerenciador de pacotes embutido do Julia\n",
    "- Faz download e instala diretamente de um repositório na internet\n",
    "- Similar ao `conda` ou `pip` do Python"
   ]
  },
  {
   "cell_type": "code",
   "execution_count": 1,
   "metadata": {
    "slideshow": {
     "slide_type": "slide"
    }
   },
   "outputs": [],
   "source": [
    "\"\"\"\n",
    "Isto é um bloco de cometários: vamos usar o Pkg\n",
    "\"\"\"\n",
    "# comentário: diz para importar o pacote\n",
    "using Pkg  # alternativa no REPL: ']'"
   ]
  },
  {
   "cell_type": "code",
   "execution_count": 2,
   "metadata": {
    "slideshow": {
     "slide_type": "-"
    }
   },
   "outputs": [
    {
     "name": "stdout",
     "output_type": "stream",
     "text": [
      "\u001b[32m\u001b[1m  Updating\u001b[22m\u001b[39m registry at `~/.julia/registries/General`\n",
      "\u001b[32m\u001b[1m  Updating\u001b[22m\u001b[39m git-repo `https://github.com/JuliaRegistries/General.git`\n",
      "\u001b[?25l\u001b[2K\u001b[?25h\u001b[32m\u001b[1m Resolving\u001b[22m\u001b[39m package versions...\n",
      "\u001b[32m\u001b[1m  Updating\u001b[22m\u001b[39m `~/.julia/environments/v1.2/Project.toml`\n",
      "\u001b[90m [no changes]\u001b[39m\n",
      "\u001b[32m\u001b[1m  Updating\u001b[22m\u001b[39m `~/.julia/environments/v1.2/Manifest.toml`\n",
      "\u001b[90m [no changes]\u001b[39m\n"
     ]
    }
   ],
   "source": [
    "#=\n",
    "Isso aqui é outro bloco de comentários: vamos instalar SpecialFunctions,\n",
    "que nos fornece funções de Bessel, Hankel, etc\n",
    "=#\n",
    "Pkg.add(\"SpecialFunctions\") "
   ]
  },
  {
   "cell_type": "markdown",
   "metadata": {
    "slideshow": {
     "slide_type": "slide"
    }
   },
   "source": [
    "#### Pacotes Úteis\n",
    "\n",
    "+ [**BenchmarkTools**](https://github.com/JuliaCI/BenchmarkTools.jl): *benchmarking*, mensurar desempenho de código\n",
    "+ [**CSV**](https://github.com/JuliaData/CSV.jl): trabalhar com arquivos CSV (valores separados por vírgula)\n",
    "+ [**DataFrames**](https://github.com/JuliaData/DataFrames.jl): ferramentas para lidar com dados tabulares\n",
    "+ [**DifferentialEquations**](https://docs.juliadiffeq.org/latest/): resolver sistema de equações diferenciais\n",
    "+ [**ForwardDiff**](https://github.com/JuliaDiff/ForwardDiff.jl): computar derivadas de funções (qualquer objeto \"chamável\")\n",
    "+ [**HCubature**](https://julianlsolvers.github.io/Optim.jl/stable/): integração numérica multidimensional \"h-adaptativa\"\n",
    "+ [**IJulia**](https://github.com/JuliaLang/IJulia.jl): necessário para usar Julia com Jupyter Notebooks\n",
    "+ [**LinearAlgebra**](https://docs.julialang.org/en/v1/stdlib/LinearAlgebra/): módulo nativo de álgebra linear\n",
    "+ [**NLsolve**](https://github.com/JuliaNLSolvers/NLsolve.jl): resolver sistema de equações não-lineares\n",
    "+ [**OnlineStats**](https://github.com/joshday/OnlineStats.jl): algoritmos de passagem única para estatística, útil quando os dados são grandes demais ou são processados em tempo real\n",
    "+ [**Optim**](https://julianlsolvers.github.io/Optim.jl/stable/): resolver problemas de otimização\n",
    "+ [**Plots**](https://docs.juliaplots.org/latest/): criar gráficos\n",
    "+ [**SpecialFunctions**](https://github.com/JuliaMath/SpecialFunctions.jl): funções de Bessel, Hankel, etc\n",
    "+ [**Statistics**](https://docs.julialang.org/en/v1/stdlib/Statistics/): módulo nativo de estatística básica\n"
   ]
  },
  {
   "cell_type": "markdown",
   "metadata": {
    "slideshow": {
     "slide_type": "slide"
    }
   },
   "source": [
    "## Onde e Como Obter Informação e Ajuda\n",
    "+ Sites de perguntas e respostas:\n",
    "  - [StackOverflow](https://stackoverflow.com/)\n",
    "  - [StackOverflowPT](https://pt.stackoverflow.com/)\n",
    "  - [Julia Discourse](https://discourse.julialang.org/)\n",
    "\n",
    "+ Ler a Documentação\n",
    "  - [Documentação oficial](https://docs.julialang.org/en/v1/)\n",
    "  \n",
    "+ Muita coisa em inglês, pouca em português\n",
    "+ Inglês é a lingua franca, infelizmente\n",
    "+ Ao pedir ajuda, providencie um [exemplo Mínimo, Completo e Verificável](https://pt.stackoverflow.com/help/minimal-reproducible-example)\n",
    "  - Só de fazer isto, acabamos resolvendo nossos problemas"
   ]
  },
  {
   "cell_type": "markdown",
   "metadata": {
    "slideshow": {
     "slide_type": "slide"
    },
    "toc-hr-collapsed": true
   },
   "source": [
    "## Operações Básicas\n",
    "\n",
    "### Aritmética\n",
    "\n",
    "| Expressao | Nome                                 |\n",
    "| --------- | ------------------------------------ |\n",
    "| =         | Operador de atribuição               |\n",
    "| +x        | Operador unário de adição            |\n",
    "| -x        | Operador unário de subtração         |\n",
    "| x + y     | Operador binário de adição           |\n",
    "| x - y     | Operador binário de subtração        |\n",
    "| x * y     | Operador binário de multiplicação    |\n",
    "| x / y     | Operador binário de divisão          |\n",
    "| x ÷ y     | Operador binário de divisão inteira  |\n",
    "| x \\\\ y    | Operador binário de divisão esquerda |\n",
    "| x ^ y     | Operador binário de potência         |\n",
    "| x % y     | Operador binário de resto            |\n",
    "\n",
    "O operador de atribuição pode ser \"curto-circuitado\": `x += 1` ao invés de `x = x + 1`. São válidos: `+=`, `-=`, `*=`, etc."
   ]
  },
  {
   "cell_type": "code",
   "execution_count": 3,
   "metadata": {
    "slideshow": {
     "slide_type": "slide"
    }
   },
   "outputs": [
    {
     "data": {
      "text/plain": [
       "6"
      ]
     },
     "execution_count": 3,
     "metadata": {},
     "output_type": "execute_result"
    }
   ],
   "source": [
    "4 + 2"
   ]
  },
  {
   "cell_type": "code",
   "execution_count": 4,
   "metadata": {
    "slideshow": {
     "slide_type": "-"
    }
   },
   "outputs": [],
   "source": [
    "4 + 2;  # ponto e vírgula suprime a saída da expressão\n",
    "# no caso do Jupyter Notebook, a saída será sempre a última expressão da célula"
   ]
  },
  {
   "cell_type": "code",
   "execution_count": 5,
   "metadata": {
    "slideshow": {
     "slide_type": "slide"
    }
   },
   "outputs": [
    {
     "name": "stdout",
     "output_type": "stream",
     "text": [
      "4 + 2 = 6\n",
      "4 - 1 = 3\n",
      "9 / 2 = 4.5\n",
      "9 ÷ 2 = 4\n",
      "8 \\ 2 = 0.25\n",
      "4 ^ 2 = 16\n",
      "3 % 2 = 1\n",
      "x = 77\n"
     ]
    }
   ],
   "source": [
    "x = 77\n",
    "println(\"4 + 2 = \", 4 + 2)\n",
    "println(\"4 - 1 = \", 4 - 1)\n",
    "println(\"9 / 2 = \", 9 / 2)\n",
    "println(\"9 ÷ 2 = \", 9 ÷ 2)  # \\div + <tab>\n",
    "println(\"8 \\\\ 2 = \", 8 \\ 2)\n",
    "println(\"4 ^ 2 = \", 4 ^ 2)\n",
    "println(\"3 % 2 = \", 3 % 2)\n",
    "println(\"x = \", x)  # nota: x é diferente de X"
   ]
  },
  {
   "cell_type": "code",
   "execution_count": 6,
   "metadata": {
    "slideshow": {
     "slide_type": "slide"
    }
   },
   "outputs": [
    {
     "name": "stdout",
     "output_type": "stream",
     "text": [
      "1e-3 = 0.001\n",
      "e^3 = 20.085536923187668\n",
      "e^5 - 1 = 147.4131591025766\n",
      "ln(4) = 1.3862943611198906\n",
      "ln(0.01 + 1) = 0.009950330853168083\n",
      "log10(4) = 0.6020599913279624\n",
      "5! = 120\n",
      "√5 = 2.23606797749979\n",
      "número aleatório entre 0 e 1: 0.1219283006500782\n",
      "número aleatório inteiro entre 2 e 10: 5\n",
      "máximo divisor comum de 7 e 14: 7\n",
      "mínimo múltiplo comum entre 60 e 50: 300\n"
     ]
    }
   ],
   "source": [
    "println(\"1e-3 = \", 1e-3)\n",
    "println(\"e^3 = \", exp(3))\n",
    "println(\"e^5 - 1 = \", expm1(5))\n",
    "println(\"ln(4) = \", log(4))\n",
    "println(\"ln(0.01 + 1) = \", log1p(0.01))\n",
    "println(\"log10(4) = \", log10(4))\n",
    "println(\"5! = \", factorial(5))\n",
    "println(\"√5 = \", sqrt(5))  # \\sqrt + <tab>\n",
    "println(\"número aleatório entre 0 e 1: \", rand())\n",
    "println(\"número aleatório inteiro entre 2 e 10: \", rand(2:10))\n",
    "println(\"máximo divisor comum de 7 e 14: \", gcd(7, 14))\n",
    "println(\"mínimo múltiplo comum entre 60 e 50: \", lcm(60, 50))"
   ]
  },
  {
   "cell_type": "code",
   "execution_count": 7,
   "metadata": {
    "slideshow": {
     "slide_type": "slide"
    }
   },
   "outputs": [
    {
     "name": "stdout",
     "output_type": "stream",
     "text": [
      "trunc(3.99) = 3.0\n",
      "floor(3.7) = 3.0\n",
      "ceil(3.7) = 4.0\n",
      "round(pi, sigdigits=8) = 3.1415927\n",
      "sin(π/4) = 0.7071067811865475\n",
      "cos(pi/4) = 0.7071067811865476\n",
      "sin(60°) = 0.8660254037844386\n",
      "cos(60°) = 0.5\n",
      "π/5 rad = 36.0°\n"
     ]
    }
   ],
   "source": [
    "# o macro @show mostra a expressão e o resultado\n",
    "@show trunc(3.99)  # truncar\n",
    "@show floor(3.7)  # arredondar pra baixo\n",
    "@show ceil(3.7)  # arredondar pra cima\n",
    "@show round(pi, sigdigits=8)  # arredonda para n dígitos\n",
    "# '\\pi + tab' para fazer o caracter π; serve para qualquer símbolo\n",
    "println(\"sin(π/4) = \", sin(π/4))\n",
    "println(\"cos(pi/4) = \", cos(pi/4))\n",
    "println(\"sin(60°) = \", sind(60))\n",
    "println(\"cos(60°) = \", cosd(60))\n",
    "println(\"π/5 rad = \", rad2deg(π/5), \"°\")"
   ]
  },
  {
   "cell_type": "markdown",
   "metadata": {
    "slideshow": {
     "slide_type": "slide"
    }
   },
   "source": [
    "### Obter informações sobre uma determinada função ou variável"
   ]
  },
  {
   "cell_type": "code",
   "execution_count": 8,
   "metadata": {
    "slideshow": {
     "slide_type": "-"
    }
   },
   "outputs": [
    {
     "name": "stdout",
     "output_type": "stream",
     "text": [
      "\"\u001b[36mπ\u001b[39m\" can be typed by \u001b[36m\\pi<tab>\u001b[39m\n",
      "\n",
      "search: \u001b[0m\u001b[1mπ\u001b[22m\n",
      "\n"
     ]
    },
    {
     "data": {
      "text/latex": [
       "\\begin{verbatim}\n",
       "π\n",
       "pi\n",
       "\\end{verbatim}\n",
       "The constant pi.\n",
       "\n",
       "\\section{Examples}\n",
       "\\begin{verbatim}\n",
       "julia> pi\n",
       "π = 3.1415926535897...\n",
       "\\end{verbatim}\n"
      ],
      "text/markdown": [
       "```\n",
       "π\n",
       "pi\n",
       "```\n",
       "\n",
       "The constant pi.\n",
       "\n",
       "# Examples\n",
       "\n",
       "```jldoctest\n",
       "julia> pi\n",
       "π = 3.1415926535897...\n",
       "```\n"
      ],
      "text/plain": [
       "\u001b[36m  π\u001b[39m\n",
       "\u001b[36m  pi\u001b[39m\n",
       "\n",
       "  The constant pi.\n",
       "\n",
       "\u001b[1m  Examples\u001b[22m\n",
       "\u001b[1m  ≡≡≡≡≡≡≡≡≡≡\u001b[22m\n",
       "\n",
       "\u001b[36m  julia> pi\u001b[39m\n",
       "\u001b[36m  π = 3.1415926535897...\u001b[39m"
      ]
     },
     "execution_count": 8,
     "metadata": {},
     "output_type": "execute_result"
    }
   ],
   "source": [
    "?π"
   ]
  },
  {
   "cell_type": "code",
   "execution_count": 9,
   "metadata": {
    "slideshow": {
     "slide_type": "slide"
    }
   },
   "outputs": [
    {
     "name": "stdout",
     "output_type": "stream",
     "text": [
      "search: \u001b[0m\u001b[1mt\u001b[22m\u001b[0m\u001b[1mr\u001b[22m\u001b[0m\u001b[1mu\u001b[22m\u001b[0m\u001b[1mn\u001b[22m\u001b[0m\u001b[1mc\u001b[22m \u001b[0m\u001b[1mt\u001b[22m\u001b[0m\u001b[1mr\u001b[22m\u001b[0m\u001b[1mu\u001b[22m\u001b[0m\u001b[1mn\u001b[22m\u001b[0m\u001b[1mc\u001b[22mate unsafe_\u001b[0m\u001b[1mt\u001b[22m\u001b[0m\u001b[1mr\u001b[22m\u001b[0m\u001b[1mu\u001b[22m\u001b[0m\u001b[1mn\u001b[22m\u001b[0m\u001b[1mc\u001b[22m se\u001b[0m\u001b[1mt\u001b[22m\u001b[0m\u001b[1mr\u001b[22mo\u001b[0m\u001b[1mu\u001b[22m\u001b[0m\u001b[1mn\u001b[22mding Abs\u001b[0m\u001b[1mt\u001b[22m\u001b[0m\u001b[1mr\u001b[22mact\u001b[0m\u001b[1mU\u001b[22m\u001b[0m\u001b[1mn\u001b[22mitRange\n",
      "\n"
     ]
    },
    {
     "data": {
      "text/latex": [
       "\\begin{verbatim}\n",
       "trunc([T,] x)\n",
       "trunc(x; digits::Integer= [, base = 10])\n",
       "trunc(x; sigdigits::Integer= [, base = 10])\n",
       "\\end{verbatim}\n",
       "\\texttt{trunc(x)} returns the nearest integral value of the same type as \\texttt{x} whose absolute value is less than or equal to \\texttt{x}.\n",
       "\n",
       "\\texttt{trunc(T, x)} converts the result to type \\texttt{T}, throwing an \\texttt{InexactError} if the value is not representable.\n",
       "\n",
       "\\texttt{digits}, \\texttt{sigdigits} and \\texttt{base} work as for \\href{@ref}{\\texttt{round}}.\n",
       "\n",
       "\\rule{\\textwidth}{1pt}\n",
       "\\begin{verbatim}\n",
       "trunc(dt::TimeType, ::Type{Period}) -> TimeType\n",
       "\\end{verbatim}\n",
       "Truncates the value of \\texttt{dt} according to the provided \\texttt{Period} type.\n",
       "\n",
       "\\section{Examples}\n",
       "\\begin{verbatim}\n",
       "julia> trunc(Dates.DateTime(\"1996-01-01T12:30:00\"), Dates.Day)\n",
       "1996-01-01T00:00:00\n",
       "\\end{verbatim}\n"
      ],
      "text/markdown": [
       "```\n",
       "trunc([T,] x)\n",
       "trunc(x; digits::Integer= [, base = 10])\n",
       "trunc(x; sigdigits::Integer= [, base = 10])\n",
       "```\n",
       "\n",
       "`trunc(x)` returns the nearest integral value of the same type as `x` whose absolute value is less than or equal to `x`.\n",
       "\n",
       "`trunc(T, x)` converts the result to type `T`, throwing an `InexactError` if the value is not representable.\n",
       "\n",
       "`digits`, `sigdigits` and `base` work as for [`round`](@ref).\n",
       "\n",
       "---\n",
       "\n",
       "```\n",
       "trunc(dt::TimeType, ::Type{Period}) -> TimeType\n",
       "```\n",
       "\n",
       "Truncates the value of `dt` according to the provided `Period` type.\n",
       "\n",
       "# Examples\n",
       "\n",
       "```jldoctest\n",
       "julia> trunc(Dates.DateTime(\"1996-01-01T12:30:00\"), Dates.Day)\n",
       "1996-01-01T00:00:00\n",
       "```\n"
      ],
      "text/plain": [
       "\u001b[36m  trunc([T,] x)\u001b[39m\n",
       "\u001b[36m  trunc(x; digits::Integer= [, base = 10])\u001b[39m\n",
       "\u001b[36m  trunc(x; sigdigits::Integer= [, base = 10])\u001b[39m\n",
       "\n",
       "  \u001b[36mtrunc(x)\u001b[39m returns the nearest integral value of the same type as \u001b[36mx\u001b[39m whose\n",
       "  absolute value is less than or equal to \u001b[36mx\u001b[39m.\n",
       "\n",
       "  \u001b[36mtrunc(T, x)\u001b[39m converts the result to type \u001b[36mT\u001b[39m, throwing an \u001b[36mInexactError\u001b[39m if the\n",
       "  value is not representable.\n",
       "\n",
       "  \u001b[36mdigits\u001b[39m, \u001b[36msigdigits\u001b[39m and \u001b[36mbase\u001b[39m work as for \u001b[36mround\u001b[39m.\n",
       "\n",
       "  ────────────────────────────────────────────────────────────────────────────\n",
       "\n",
       "\u001b[36m  trunc(dt::TimeType, ::Type{Period}) -> TimeType\u001b[39m\n",
       "\n",
       "  Truncates the value of \u001b[36mdt\u001b[39m according to the provided \u001b[36mPeriod\u001b[39m type.\n",
       "\n",
       "\u001b[1m  Examples\u001b[22m\n",
       "\u001b[1m  ≡≡≡≡≡≡≡≡≡≡\u001b[22m\n",
       "\n",
       "\u001b[36m  julia> trunc(Dates.DateTime(\"1996-01-01T12:30:00\"), Dates.Day)\u001b[39m\n",
       "\u001b[36m  1996-01-01T00:00:00\u001b[39m"
      ]
     },
     "execution_count": 9,
     "metadata": {},
     "output_type": "execute_result"
    }
   ],
   "source": [
    "?trunc"
   ]
  },
  {
   "cell_type": "markdown",
   "metadata": {
    "slideshow": {
     "slide_type": "slide"
    }
   },
   "source": [
    "### Operadores lógicos\n",
    "\n",
    "| Operador  | Alternativa | Nome             |\n",
    "| --------- | ----------- | ---------------- |\n",
    "| `x == y`  | `x ≡ y`     | Igual a          |\n",
    "| `x != y`  | `x ≢ y`     | Diferente de     |\n",
    "| `x > y`   |             | Maior que        |\n",
    "| `x < y`   |             | Menor que        |\n",
    "| `x >= y`  | `x ≥ y`     | Maior ou igual a |\n",
    "| `x <= y`  | `x ≤ y`     | Menor ou igual a |\n",
    "| `!x`      | `~x`        | Negação          |\n",
    "| `x & y`   | `x && y`    | E                |\n",
    "| `x \\| y`  | `x \\|\\| y`  | OU               |\n",
    "| `xor(x,y)`| `x ⊻ y`     | OU exclusivo     |\n",
    "\n",
    "* `isequal(x, y)`  , verdadeiro se x e y são idêntico\n",
    "* `isfinite(x)`\t   , verdadeiro se x é um número infinito \n",
    "* `isinf(x)`       , verdadeiro se x é infinito (inf)\n",
    "* `isnan(x)`       , x não é um número\n",
    "\n",
    "Os operadores `&` e `|` (com apenas 1) comparam os bits das variáveis, enquanto `&&` e `||` (com 2) curto-circuitam a expressão assim que ela fica matematicamente determinada. Exemplo: se, ao avaliar as expressões encadeadas por `&&`, alguma delas for falsa, então a condição `E` não poderá ser satisfeita, e a avaliação dela é terminada, retornando `false`. Processo similar acontece para `||`.\n",
    "\n",
    "A negação com `~` também é feita a nível dos bits, ou seja, todos bits do valor são modificados."
   ]
  },
  {
   "cell_type": "code",
   "execution_count": 10,
   "metadata": {
    "slideshow": {
     "slide_type": "slide"
    }
   },
   "outputs": [
    {
     "name": "stdout",
     "output_type": "stream",
     "text": [
      "~true = false\n",
      "!false = true\n",
      "xor(true, true) = false\n",
      "true || \"banana\" = true\n",
      "1 == 2: false\n",
      "2 != 2: false\n",
      "3 > 3: false\n",
      "4 < 3: false\n",
      "3 ≥ 3: true\n",
      "3 ≤ 3: true\n",
      "2 ≢ 3: true\n",
      "0 ≡ 0: true\n"
     ]
    }
   ],
   "source": [
    "@show ~true\n",
    "@show !false\n",
    "@show xor(true, true)\n",
    "@show true || \"banana\"  # && e || são operadores que curto-circuitam a expressão\n",
    "println(\"1 == 2: \", 1 == 2)\n",
    "println(\"2 != 2: \", 2 != 2)\n",
    "println(\"3 > 3: \", 3 > 3)\n",
    "println(\"4 < 3: \", 4 < 3)\n",
    "println(\"3 ≥ 3: \", 3 >= 3)\n",
    "println(\"3 ≤ 3: \", 3 ≤ 3)\n",
    "println(\"2 ≢ 3: \", 2 ≢ 3)\n",
    "println(\"0 ≡ 0: \", 0 ≡ 0)"
   ]
  },
  {
   "cell_type": "markdown",
   "metadata": {
    "slideshow": {
     "slide_type": "slide"
    }
   },
   "source": [
    "### Cuidado com operações com números de ponto flutuante\n",
    "\n",
    "Use `isapprox` para comprar igualdade de números de ponto flutuante."
   ]
  },
  {
   "cell_type": "code",
   "execution_count": 11,
   "metadata": {},
   "outputs": [
    {
     "name": "stdout",
     "output_type": "stream",
     "text": [
      "0.1 == (0.3 - 0.2): false\n",
      "0.3 - 0.2 = 0.09999999999999998\n",
      "isapprox(0.1, 0.3 - 0.2) = true\n"
     ]
    }
   ],
   "source": [
    "println(\"0.1 == (0.3 - 0.2): \", 0.1 == (0.3 - 0.2))\n",
    "@show (0.3 - 0.2)\n",
    "@show isapprox(0.1, (0.3 - 0.2));"
   ]
  },
  {
   "cell_type": "markdown",
   "metadata": {
    "slideshow": {
     "slide_type": "slide"
    },
    "toc-hr-collapsed": true
   },
   "source": [
    "## Controle de Fluxo\n",
    "\n",
    "Algoritmos, frequentemente, tem ramificações. Qual ramo seguir depende de certas condições Booleanas. Para fazer esse controle de fluxo no código, utilizamos as expressões `se, senão (if, else)`."
   ]
  },
  {
   "cell_type": "code",
   "execution_count": 12,
   "metadata": {
    "slideshow": {
     "slide_type": "-"
    }
   },
   "outputs": [
    {
     "name": "stdout",
     "output_type": "stream",
     "text": [
      "cond é verdadeiro\n"
     ]
    }
   ],
   "source": [
    "cond1 = true\n",
    "if cond1\n",
    "    println(\"cond é verdadeiro\")\n",
    "end"
   ]
  },
  {
   "cell_type": "code",
   "execution_count": 13,
   "metadata": {
    "slideshow": {
     "slide_type": "slide"
    }
   },
   "outputs": [
    {
     "name": "stdout",
     "output_type": "stream",
     "text": [
      "cond é falso\n"
     ]
    }
   ],
   "source": [
    "cond1 = false\n",
    "if cond1\n",
    "    println(\"cond é verdadeiro\")\n",
    "else\n",
    "    println(\"cond é falso\")\n",
    "end"
   ]
  },
  {
   "cell_type": "code",
   "execution_count": 14,
   "metadata": {
    "slideshow": {
     "slide_type": "slide"
    }
   },
   "outputs": [
    {
     "name": "stdout",
     "output_type": "stream",
     "text": [
      "somente uma condição é verdadeira\n"
     ]
    }
   ],
   "source": [
    "cond1 = true\n",
    "cond2 = false\n",
    "if cond1 && cond2\n",
    "    println(\"ambos são verdadeiros\")\n",
    "elseif cond1 ⊻ cond2\n",
    "    println(\"somente uma condição é verdadeira\")\n",
    "end"
   ]
  },
  {
   "cell_type": "code",
   "execution_count": 15,
   "metadata": {
    "slideshow": {
     "slide_type": "slide"
    }
   },
   "outputs": [
    {
     "name": "stdout",
     "output_type": "stream",
     "text": [
      "ambos são falsos\n"
     ]
    }
   ],
   "source": [
    "cond1 = false\n",
    "cond2 = false\n",
    "banana = false\n",
    "if cond1 && cond2\n",
    "    println(\"ambos são verdadeiros\")\n",
    "elseif cond1 ⊻ cond2\n",
    "    println(\"somente uma condição é verdadeira\")\n",
    "elseif banana\n",
    "    println(\"banana?\")\n",
    "else\n",
    "    println(\"ambos são falsos\")\n",
    "end"
   ]
  },
  {
   "cell_type": "markdown",
   "metadata": {
    "slideshow": {
     "slide_type": "slide"
    }
   },
   "source": [
    "### Uso do operador ternário '`?`'"
   ]
  },
  {
   "cell_type": "markdown",
   "metadata": {
    "slideshow": {
     "slide_type": "notes"
    }
   },
   "source": [
    "Mencionar o curto-circuito `2x` ao invés de `2*x` (literal vezes variável).  "
   ]
  },
  {
   "cell_type": "code",
   "execution_count": 16,
   "metadata": {
    "slideshow": {
     "slide_type": "-"
    }
   },
   "outputs": [
    {
     "name": "stdout",
     "output_type": "stream",
     "text": [
      "2.6\n"
     ]
    }
   ],
   "source": [
    "x = 1.3\n",
    "if x > 2\n",
    "    y = 3\n",
    "else\n",
    "    y = 2x\n",
    "end\n",
    "println(y)"
   ]
  },
  {
   "cell_type": "markdown",
   "metadata": {
    "slideshow": {
     "slide_type": "slide"
    }
   },
   "source": [
    "É equivalente a:  \n",
    "\n",
    "```julia\n",
    "expressão booleana ? valor se verdadeiro : valor se falso\n",
    "```"
   ]
  },
  {
   "cell_type": "code",
   "execution_count": 17,
   "metadata": {
    "slideshow": {
     "slide_type": "-"
    }
   },
   "outputs": [
    {
     "name": "stdout",
     "output_type": "stream",
     "text": [
      "3\n"
     ]
    }
   ],
   "source": [
    "x = 4.2\n",
    "y = x > 2 ? 3 : 2x\n",
    "println(y)"
   ]
  },
  {
   "cell_type": "markdown",
   "metadata": {
    "slideshow": {
     "slide_type": "slide"
    }
   },
   "source": [
    "### Bloco `begin`\n",
    "\n",
    "+ conveninente para expressão que precisa de subexpressões ordenadas\n",
    "+ somente a última expressão é retornada"
   ]
  },
  {
   "cell_type": "code",
   "execution_count": 18,
   "metadata": {
    "slideshow": {
     "slide_type": "-"
    }
   },
   "outputs": [
    {
     "name": "stdout",
     "output_type": "stream",
     "text": [
      "z = 3\n"
     ]
    }
   ],
   "source": [
    "z = begin\n",
    "   x = 1\n",
    "   y = 2\n",
    "   x + y\n",
    "end\n",
    "@show z;"
   ]
  },
  {
   "cell_type": "markdown",
   "metadata": {
    "slideshow": {
     "slide_type": "slide"
    },
    "toc-hr-collapsed": true
   },
   "source": [
    "### Estruturas de Repetição\n",
    "\n",
    "É comum repetirmos um código $N$ vezes, ou até que uma condição seja satisfeita. Pare estes casos utilizamos os laços `para (for)` e `equanto (while)`."
   ]
  },
  {
   "cell_type": "code",
   "execution_count": 19,
   "metadata": {
    "slideshow": {
     "slide_type": "-"
    }
   },
   "outputs": [
    {
     "name": "stdout",
     "output_type": "stream",
     "text": [
      "1\n",
      "2\n",
      "3\n",
      "4\n"
     ]
    }
   ],
   "source": [
    "i = 1\n",
    "while i < 5\n",
    "    println(i)\n",
    "    global i += 1\n",
    "end"
   ]
  },
  {
   "cell_type": "code",
   "execution_count": 20,
   "metadata": {
    "slideshow": {
     "slide_type": "slide"
    }
   },
   "outputs": [
    {
     "name": "stdout",
     "output_type": "stream",
     "text": [
      "1\n",
      "4\n",
      "0\n"
     ]
    }
   ],
   "source": [
    "for i in [1, 4, 0]\n",
    "    println(i)\n",
    "end"
   ]
  },
  {
   "cell_type": "code",
   "execution_count": 21,
   "metadata": {
    "slideshow": {
     "slide_type": "-"
    }
   },
   "outputs": [
    {
     "name": "stdout",
     "output_type": "stream",
     "text": [
      "1\n",
      "2\n",
      "3\n"
     ]
    }
   ],
   "source": [
    "for i = 1:3\n",
    "    println(i)\n",
    "end"
   ]
  },
  {
   "cell_type": "code",
   "execution_count": 22,
   "metadata": {},
   "outputs": [
    {
     "name": "stdout",
     "output_type": "stream",
     "text": [
      "1\n",
      "3\n",
      "5\n",
      "7\n"
     ]
    }
   ],
   "source": [
    "for i = 1:2:8\n",
    "    println(i)\n",
    "end"
   ]
  },
  {
   "cell_type": "code",
   "execution_count": 23,
   "metadata": {
    "slideshow": {
     "slide_type": "slide"
    }
   },
   "outputs": [
    {
     "name": "stdout",
     "output_type": "stream",
     "text": [
      "-1.0:0.55:10.0\n",
      "\n",
      "7.8\n",
      "8.35\n",
      "8.9\n",
      "9.45\n",
      "10.0\n"
     ]
    }
   ],
   "source": [
    "println(range(-1, 10, length=21), \"\\n\")\n",
    "for i = range(-1, 10, length=21)\n",
    "    i > 7.5 && println(i)\n",
    "end"
   ]
  },
  {
   "cell_type": "markdown",
   "metadata": {
    "slideshow": {
     "slide_type": "slide"
    }
   },
   "source": [
    "```julia\n",
    "i > 7.5 && println(i)\n",
    "```\n",
    "\n",
    "É equivalente a:\n",
    "```julia\n",
    "if i > 7.5 \n",
    "    println(i)\n",
    "end\n",
    "```\n",
    "\n",
    "Isto é possível por causa do comportamento \"curto-circuito\" do operador `&&`: se a primeira expressão é falsa, nem avalie a segunda."
   ]
  },
  {
   "cell_type": "markdown",
   "metadata": {
    "slideshow": {
     "slide_type": "slide"
    }
   },
   "source": [
    "#### sair do loop ou ir para a próxima iteração\n",
    "\n",
    "A palavra `break` sai do loop, enquanto `continue` termina a iteração atual e começa a próxima.\n",
    "\n",
    "> **Nota:** `break` e `loop` atuarão sobre o primeiro loop \"acima\" deles."
   ]
  },
  {
   "cell_type": "code",
   "execution_count": 24,
   "metadata": {
    "slideshow": {
     "slide_type": "slide"
    }
   },
   "outputs": [
    {
     "name": "stdout",
     "output_type": "stream",
     "text": [
      "banana\n",
      "1\n",
      "2\n",
      "3\n",
      "maçã\n",
      "uva\n",
      "1\n",
      "2\n",
      "3\n"
     ]
    }
   ],
   "source": [
    "for fruta in [\"banana\", \"maçã\", \"uva\"]\n",
    "    println(fruta)\n",
    "    if fruta == \"maçã\"\n",
    "        continue\n",
    "    end\n",
    "    for i = 1:10\n",
    "        println(i)\n",
    "        i > 2 && break\n",
    "    end\n",
    "end"
   ]
  },
  {
   "cell_type": "markdown",
   "metadata": {
    "slideshow": {
     "slide_type": "slide"
    }
   },
   "source": [
    "#### Enumerate\n",
    "\n",
    "Quando queremos iterar sobre cada item numa coleção e também os índices."
   ]
  },
  {
   "cell_type": "code",
   "execution_count": 25,
   "metadata": {
    "slideshow": {
     "slide_type": "-"
    }
   },
   "outputs": [
    {
     "name": "stdout",
     "output_type": "stream",
     "text": [
      "1\n",
      "banana\n",
      "2\n",
      "maçã\n",
      "3\n",
      "uva\n"
     ]
    }
   ],
   "source": [
    "for (i, fruta) = enumerate([\"banana\", \"maçã\", \"uva\"])\n",
    "    println(i)\n",
    "    println(fruta)\n",
    "end"
   ]
  },
  {
   "cell_type": "markdown",
   "metadata": {
    "slideshow": {
     "slide_type": "slide"
    },
    "toc-hr-collapsed": true
   },
   "source": [
    "## Preceitos sagrados\n",
    "\n",
    "É preferível programar baseado em funções.\n",
    "- desempenho\n",
    "- organização\n",
    "- reusabilidade"
   ]
  },
  {
   "cell_type": "markdown",
   "metadata": {
    "slideshow": {
     "slide_type": "slide"
    }
   },
   "source": [
    "- KISS: *Keep It Simple, Stupid* (Mantenha-o Simples, Estúpido)\n",
    "- DRY: *Don't Repeat Yourself* (Não Se Repita)\n",
    "  * Escreveu a mesma linha de código duas vezes? Coloque-a numa função.\n",
    "- Seja consistente:\n",
    "  * identar o código apropriadamente, sempre que um novo \"bloco\" for criado\n",
    "  * usar nomes significativos para variáveis: `comprimento` ao invés de `l`\n",
    "  * nomes *minúsculos* para funções e variáveis\n",
    "  * nomes *MAIÚSCULOS* para constantes\n",
    "  * nomes *Capitalizados* para estruturas e tipos de dados\n",
    "  * **Não** use variáveis globais, porque deixem a execução mais lenta vem morder seu pé à noite; a menos que sejam constantes tal como \n",
    "  ```julia\n",
    "      const μ0 = π*4e-7\n",
    "  ```"
   ]
  },
  {
   "cell_type": "markdown",
   "metadata": {
    "slideshow": {
     "slide_type": "slide"
    }
   },
   "source": [
    "### Funções\n",
    "\n",
    "Como exemplo de como definir uma função, vamos definir:\n",
    "\n",
    "$$\n",
    "f(x) = \n",
    "\\begin{cases}\n",
    "  \\sinh(x) \\qquad \\text{se } |x| \\le 1 \\\\\n",
    "  \\sinh(x^{-1}) \\quad \\text{de outra maneira}\n",
    "\\end{cases}\n",
    "$$\n",
    "\n",
    "Para que a função tenha um valor de saída, tal valor deve ser precedido pela palavra `return`."
   ]
  },
  {
   "cell_type": "code",
   "execution_count": 26,
   "metadata": {
    "slideshow": {
     "slide_type": "-"
    }
   },
   "outputs": [
    {
     "data": {
      "text/plain": [
       "f (generic function with 1 method)"
      ]
     },
     "execution_count": 26,
     "metadata": {},
     "output_type": "execute_result"
    }
   ],
   "source": [
    "function f(x)\n",
    "    if abs(x) <= 1\n",
    "        return sinh(x)\n",
    "    else\n",
    "        return sinh(1/x)\n",
    "    end\n",
    "end"
   ]
  },
  {
   "cell_type": "code",
   "execution_count": 27,
   "metadata": {
    "slideshow": {
     "slide_type": "slide"
    }
   },
   "outputs": [
    {
     "data": {
      "image/svg+xml": [
       "<?xml version=\"1.0\" encoding=\"utf-8\"?>\n",
       "<svg xmlns=\"http://www.w3.org/2000/svg\" xmlns:xlink=\"http://www.w3.org/1999/xlink\" width=\"600\" height=\"400\" viewBox=\"0 0 2400 1600\">\n",
       "<defs>\n",
       "  <clipPath id=\"clip6100\">\n",
       "    <rect x=\"0\" y=\"0\" width=\"2400\" height=\"1600\"/>\n",
       "  </clipPath>\n",
       "</defs>\n",
       "<path clip-path=\"url(#clip6100)\" d=\"\n",
       "M0 1600 L2400 1600 L2400 0 L0 0  Z\n",
       "  \" fill=\"#ffffff\" fill-rule=\"evenodd\" fill-opacity=\"1\"/>\n",
       "<defs>\n",
       "  <clipPath id=\"clip6101\">\n",
       "    <rect x=\"480\" y=\"0\" width=\"1681\" height=\"1600\"/>\n",
       "  </clipPath>\n",
       "</defs>\n",
       "<path clip-path=\"url(#clip6100)\" d=\"\n",
       "M182.008 1487.47 L2352.76 1487.47 L2352.76 47.2441 L182.008 47.2441  Z\n",
       "  \" fill=\"#ffffff\" fill-rule=\"evenodd\" fill-opacity=\"1\"/>\n",
       "<defs>\n",
       "  <clipPath id=\"clip6102\">\n",
       "    <rect x=\"182\" y=\"47\" width=\"2172\" height=\"1441\"/>\n",
       "  </clipPath>\n",
       "</defs>\n",
       "<polyline clip-path=\"url(#clip6102)\" style=\"stroke:#000000; stroke-width:2; stroke-opacity:0.1; fill:none\" points=\"\n",
       "  448.232,1487.47 448.232,47.2441 \n",
       "  \"/>\n",
       "<polyline clip-path=\"url(#clip6102)\" style=\"stroke:#000000; stroke-width:2; stroke-opacity:0.1; fill:none\" points=\"\n",
       "  857.807,1487.47 857.807,47.2441 \n",
       "  \"/>\n",
       "<polyline clip-path=\"url(#clip6102)\" style=\"stroke:#000000; stroke-width:2; stroke-opacity:0.1; fill:none\" points=\"\n",
       "  1267.38,1487.47 1267.38,47.2441 \n",
       "  \"/>\n",
       "<polyline clip-path=\"url(#clip6102)\" style=\"stroke:#000000; stroke-width:2; stroke-opacity:0.1; fill:none\" points=\"\n",
       "  1676.96,1487.47 1676.96,47.2441 \n",
       "  \"/>\n",
       "<polyline clip-path=\"url(#clip6102)\" style=\"stroke:#000000; stroke-width:2; stroke-opacity:0.1; fill:none\" points=\"\n",
       "  2086.53,1487.47 2086.53,47.2441 \n",
       "  \"/>\n",
       "<polyline clip-path=\"url(#clip6102)\" style=\"stroke:#000000; stroke-width:2; stroke-opacity:0.1; fill:none\" points=\"\n",
       "  182.008,1360.98 2352.76,1360.98 \n",
       "  \"/>\n",
       "<polyline clip-path=\"url(#clip6102)\" style=\"stroke:#000000; stroke-width:2; stroke-opacity:0.1; fill:none\" points=\"\n",
       "  182.008,1064.17 2352.76,1064.17 \n",
       "  \"/>\n",
       "<polyline clip-path=\"url(#clip6102)\" style=\"stroke:#000000; stroke-width:2; stroke-opacity:0.1; fill:none\" points=\"\n",
       "  182.008,767.359 2352.76,767.359 \n",
       "  \"/>\n",
       "<polyline clip-path=\"url(#clip6102)\" style=\"stroke:#000000; stroke-width:2; stroke-opacity:0.1; fill:none\" points=\"\n",
       "  182.008,470.548 2352.76,470.548 \n",
       "  \"/>\n",
       "<polyline clip-path=\"url(#clip6102)\" style=\"stroke:#000000; stroke-width:2; stroke-opacity:0.1; fill:none\" points=\"\n",
       "  182.008,173.736 2352.76,173.736 \n",
       "  \"/>\n",
       "<polyline clip-path=\"url(#clip6100)\" style=\"stroke:#000000; stroke-width:4; stroke-opacity:1; fill:none\" points=\"\n",
       "  182.008,1487.47 2352.76,1487.47 \n",
       "  \"/>\n",
       "<polyline clip-path=\"url(#clip6100)\" style=\"stroke:#000000; stroke-width:4; stroke-opacity:1; fill:none\" points=\"\n",
       "  182.008,1487.47 182.008,47.2441 \n",
       "  \"/>\n",
       "<polyline clip-path=\"url(#clip6100)\" style=\"stroke:#000000; stroke-width:4; stroke-opacity:1; fill:none\" points=\"\n",
       "  448.232,1487.47 448.232,1465.87 \n",
       "  \"/>\n",
       "<polyline clip-path=\"url(#clip6100)\" style=\"stroke:#000000; stroke-width:4; stroke-opacity:1; fill:none\" points=\"\n",
       "  857.807,1487.47 857.807,1465.87 \n",
       "  \"/>\n",
       "<polyline clip-path=\"url(#clip6100)\" style=\"stroke:#000000; stroke-width:4; stroke-opacity:1; fill:none\" points=\"\n",
       "  1267.38,1487.47 1267.38,1465.87 \n",
       "  \"/>\n",
       "<polyline clip-path=\"url(#clip6100)\" style=\"stroke:#000000; stroke-width:4; stroke-opacity:1; fill:none\" points=\"\n",
       "  1676.96,1487.47 1676.96,1465.87 \n",
       "  \"/>\n",
       "<polyline clip-path=\"url(#clip6100)\" style=\"stroke:#000000; stroke-width:4; stroke-opacity:1; fill:none\" points=\"\n",
       "  2086.53,1487.47 2086.53,1465.87 \n",
       "  \"/>\n",
       "<polyline clip-path=\"url(#clip6100)\" style=\"stroke:#000000; stroke-width:4; stroke-opacity:1; fill:none\" points=\"\n",
       "  182.008,1360.98 214.569,1360.98 \n",
       "  \"/>\n",
       "<polyline clip-path=\"url(#clip6100)\" style=\"stroke:#000000; stroke-width:4; stroke-opacity:1; fill:none\" points=\"\n",
       "  182.008,1064.17 214.569,1064.17 \n",
       "  \"/>\n",
       "<polyline clip-path=\"url(#clip6100)\" style=\"stroke:#000000; stroke-width:4; stroke-opacity:1; fill:none\" points=\"\n",
       "  182.008,767.359 214.569,767.359 \n",
       "  \"/>\n",
       "<polyline clip-path=\"url(#clip6100)\" style=\"stroke:#000000; stroke-width:4; stroke-opacity:1; fill:none\" points=\"\n",
       "  182.008,470.548 214.569,470.548 \n",
       "  \"/>\n",
       "<polyline clip-path=\"url(#clip6100)\" style=\"stroke:#000000; stroke-width:4; stroke-opacity:1; fill:none\" points=\"\n",
       "  182.008,173.736 214.569,173.736 \n",
       "  \"/>\n",
       "<g clip-path=\"url(#clip6100)\">\n",
       "<text style=\"fill:#000000; fill-opacity:1; font-family:Arial,Helvetica Neue,Helvetica,sans-serif; font-size:48px; text-anchor:middle;\" transform=\"rotate(0, 448.232, 1541.47)\" x=\"448.232\" y=\"1541.47\">-4</text>\n",
       "</g>\n",
       "<g clip-path=\"url(#clip6100)\">\n",
       "<text style=\"fill:#000000; fill-opacity:1; font-family:Arial,Helvetica Neue,Helvetica,sans-serif; font-size:48px; text-anchor:middle;\" transform=\"rotate(0, 857.807, 1541.47)\" x=\"857.807\" y=\"1541.47\">-2</text>\n",
       "</g>\n",
       "<g clip-path=\"url(#clip6100)\">\n",
       "<text style=\"fill:#000000; fill-opacity:1; font-family:Arial,Helvetica Neue,Helvetica,sans-serif; font-size:48px; text-anchor:middle;\" transform=\"rotate(0, 1267.38, 1541.47)\" x=\"1267.38\" y=\"1541.47\">0</text>\n",
       "</g>\n",
       "<g clip-path=\"url(#clip6100)\">\n",
       "<text style=\"fill:#000000; fill-opacity:1; font-family:Arial,Helvetica Neue,Helvetica,sans-serif; font-size:48px; text-anchor:middle;\" transform=\"rotate(0, 1676.96, 1541.47)\" x=\"1676.96\" y=\"1541.47\">2</text>\n",
       "</g>\n",
       "<g clip-path=\"url(#clip6100)\">\n",
       "<text style=\"fill:#000000; fill-opacity:1; font-family:Arial,Helvetica Neue,Helvetica,sans-serif; font-size:48px; text-anchor:middle;\" transform=\"rotate(0, 2086.53, 1541.47)\" x=\"2086.53\" y=\"1541.47\">4</text>\n",
       "</g>\n",
       "<g clip-path=\"url(#clip6100)\">\n",
       "<text style=\"fill:#000000; fill-opacity:1; font-family:Arial,Helvetica Neue,Helvetica,sans-serif; font-size:48px; text-anchor:end;\" transform=\"rotate(0, 158.008, 1378.48)\" x=\"158.008\" y=\"1378.48\">-1.0</text>\n",
       "</g>\n",
       "<g clip-path=\"url(#clip6100)\">\n",
       "<text style=\"fill:#000000; fill-opacity:1; font-family:Arial,Helvetica Neue,Helvetica,sans-serif; font-size:48px; text-anchor:end;\" transform=\"rotate(0, 158.008, 1081.67)\" x=\"158.008\" y=\"1081.67\">-0.5</text>\n",
       "</g>\n",
       "<g clip-path=\"url(#clip6100)\">\n",
       "<text style=\"fill:#000000; fill-opacity:1; font-family:Arial,Helvetica Neue,Helvetica,sans-serif; font-size:48px; text-anchor:end;\" transform=\"rotate(0, 158.008, 784.859)\" x=\"158.008\" y=\"784.859\">0.0</text>\n",
       "</g>\n",
       "<g clip-path=\"url(#clip6100)\">\n",
       "<text style=\"fill:#000000; fill-opacity:1; font-family:Arial,Helvetica Neue,Helvetica,sans-serif; font-size:48px; text-anchor:end;\" transform=\"rotate(0, 158.008, 488.048)\" x=\"158.008\" y=\"488.048\">0.5</text>\n",
       "</g>\n",
       "<g clip-path=\"url(#clip6100)\">\n",
       "<text style=\"fill:#000000; fill-opacity:1; font-family:Arial,Helvetica Neue,Helvetica,sans-serif; font-size:48px; text-anchor:end;\" transform=\"rotate(0, 158.008, 191.236)\" x=\"158.008\" y=\"191.236\">1.0</text>\n",
       "</g>\n",
       "<polyline clip-path=\"url(#clip6102)\" style=\"stroke:#009af9; stroke-width:4; stroke-opacity:1; fill:none\" points=\"\n",
       "  243.444,886.877 253.735,888.107 264.026,889.362 274.317,890.644 284.608,891.954 294.898,893.292 305.189,894.659 315.48,896.056 325.771,897.485 336.062,898.945 \n",
       "  346.353,900.44 356.643,901.968 366.934,903.533 377.225,905.135 387.516,906.775 397.807,908.455 408.098,910.177 418.388,911.941 428.679,913.75 438.97,915.605 \n",
       "  449.261,917.508 459.552,919.462 469.843,921.467 480.133,923.526 490.424,925.642 500.715,927.817 511.006,930.053 521.297,932.352 531.588,934.719 541.878,937.155 \n",
       "  552.169,939.664 562.46,942.249 572.751,944.915 583.042,947.663 593.333,950.499 603.623,953.428 613.914,956.453 624.205,959.579 634.496,962.812 644.787,966.157 \n",
       "  655.078,969.621 665.368,973.21 675.659,976.931 685.95,980.791 696.241,984.798 706.532,988.962 716.823,993.292 727.113,997.798 737.404,1002.49 747.695,1007.38 \n",
       "  757.986,1012.49 768.277,1017.82 778.568,1023.4 788.858,1029.23 799.149,1035.34 809.44,1041.76 819.731,1048.5 830.022,1055.58 840.313,1063.05 850.603,1070.92 \n",
       "  860.894,1079.24 871.185,1088.04 881.476,1097.37 891.767,1107.28 902.057,1117.83 912.348,1129.07 922.639,1141.1 932.93,1153.98 943.221,1167.83 953.512,1182.75 \n",
       "  963.802,1198.87 974.093,1216.37 984.384,1235.41 994.675,1256.23 1004.97,1279.09 1015.26,1304.32 1025.55,1332.31 1035.84,1363.56 1046.13,1398.69 1056.42,1438.47 \n",
       "  1066.71,1446.71 1077,1402.22 1087.29,1359.32 1097.58,1317.93 1107.87,1277.92 1118.16,1239.2 1128.46,1201.68 1138.75,1165.25 1149.04,1129.82 1159.33,1095.31 \n",
       "  1169.62,1061.63 1179.91,1028.7 1190.2,996.421 1200.49,964.723 1210.78,933.523 1221.07,902.743 1231.36,872.305 1241.65,842.131 1251.95,812.147 1262.24,782.276 \n",
       "  1272.53,752.443 1282.82,722.572 1293.11,692.587 1303.4,662.414 1313.69,631.976 1323.98,601.196 1334.27,569.996 1344.56,538.298 1354.85,506.021 1365.14,473.084 \n",
       "  1375.44,439.404 1385.73,404.896 1396.02,369.472 1406.31,333.043 1416.6,295.517 1426.89,256.799 1437.18,216.792 1447.47,175.395 1457.76,132.502 1468.05,88.0053 \n",
       "  1478.34,96.2478 1488.63,136.031 1498.93,171.155 1509.22,202.405 1519.51,230.398 1529.8,255.626 1540.09,278.488 1550.38,299.308 1560.67,318.353 1570.96,335.846 \n",
       "  1581.25,351.974 1591.54,366.893 1601.83,380.737 1612.12,393.622 1622.42,405.645 1632.71,416.893 1643,427.439 1653.29,437.349 1663.58,446.679 1673.87,455.481 \n",
       "  1684.16,463.799 1694.45,471.672 1704.74,479.136 1715.03,486.222 1725.32,492.96 1735.61,499.374 1745.91,505.488 1756.2,511.323 1766.49,516.898 1776.78,522.23 \n",
       "  1787.07,527.335 1797.36,532.228 1807.65,536.921 1817.94,541.427 1828.23,545.757 1838.52,549.921 1848.81,553.928 1859.1,557.788 1869.4,561.509 1879.69,565.098 \n",
       "  1889.98,568.562 1900.27,571.907 1910.56,575.14 1920.85,578.266 1931.14,581.291 1941.43,584.219 1951.72,587.056 1962.01,589.804 1972.3,592.469 1982.59,595.055 \n",
       "  1992.89,597.564 2003.18,600 2013.47,602.366 2023.76,604.666 2034.05,606.902 2044.34,609.077 2054.63,611.192 2064.92,613.252 2075.21,615.257 2085.5,617.21 \n",
       "  2095.79,619.114 2106.08,620.969 2116.38,622.778 2126.67,624.542 2136.96,626.264 2147.25,627.944 2157.54,629.584 2167.83,631.186 2178.12,632.75 2188.41,634.279 \n",
       "  2198.7,635.773 2208.99,637.234 2219.28,638.663 2229.57,640.06 2239.87,641.427 2250.16,642.765 2260.45,644.074 2270.74,645.356 2281.03,646.612 2291.32,647.842 \n",
       "  \n",
       "  \"/>\n",
       "<path clip-path=\"url(#clip6100)\" d=\"\n",
       "M1989.93 251.724 L2280.76 251.724 L2280.76 130.764 L1989.93 130.764  Z\n",
       "  \" fill=\"#ffffff\" fill-rule=\"evenodd\" fill-opacity=\"1\"/>\n",
       "<polyline clip-path=\"url(#clip6100)\" style=\"stroke:#000000; stroke-width:4; stroke-opacity:1; fill:none\" points=\"\n",
       "  1989.93,251.724 2280.76,251.724 2280.76,130.764 1989.93,130.764 1989.93,251.724 \n",
       "  \"/>\n",
       "<polyline clip-path=\"url(#clip6100)\" style=\"stroke:#009af9; stroke-width:4; stroke-opacity:1; fill:none\" points=\"\n",
       "  2013.93,191.244 2157.93,191.244 \n",
       "  \"/>\n",
       "<g clip-path=\"url(#clip6100)\">\n",
       "<text style=\"fill:#000000; fill-opacity:1; font-family:Arial,Helvetica Neue,Helvetica,sans-serif; font-size:48px; text-anchor:start;\" transform=\"rotate(0, 2181.93, 208.744)\" x=\"2181.93\" y=\"208.744\">y1</text>\n",
       "</g>\n",
       "</svg>\n"
      ]
     },
     "execution_count": 27,
     "metadata": {},
     "output_type": "execute_result"
    }
   ],
   "source": [
    "using Plots  # importar todos os nomes de Plots\n",
    "x = range(-5, 5, length=200)\n",
    "y = f.(x)  # operador '.' aplica a função sobre cada elemento de x\n",
    "plot(x, y)"
   ]
  },
  {
   "cell_type": "markdown",
   "metadata": {
    "slideshow": {
     "slide_type": "slide"
    },
    "toc-hr-collapsed": true
   },
   "source": [
    "## Escopo de variáveis\n",
    "\n",
    "+ Escopo determina a visibilidade das variáveis.\n",
    "+ O escopo mais ao topo é global\n",
    "  - é visível a todos os escopos locais\n",
    "  - escopos podem ser encadeados : global 1 $\\supset$ global 2 $\\cup$ (local 1 $\\supset$ local 2) ...\n",
    "+ Um escopo consegue enxergar as variáveis de todos os outros do qual ele é subconjunto\n",
    "+ Julia (assim como MATLAB) tem [regras de escopo lexical (ou estático)](https://docs.julialang.org/en/v1/manual/variables-and-scoping/index.html)\n",
    "  - o escopo das variáveis pode ser inferido a partir do código fonte\n",
    "  - um escopo global não herda as variáveis de outro\n",
    "  - ao procurar uma variável: procura-se no local, pra depois procurar nos escopos acima"
   ]
  },
  {
   "cell_type": "markdown",
   "metadata": {
    "slideshow": {
     "slide_type": "slide"
    }
   },
   "source": [
    "\n",
    "| Construct                                        | Scope type | Scope blocks it may be nested in |\n",
    "| ------------------------------------------------ | ---------- | -------------------------------- |\n",
    "| module, baremodule                               | global     | global                           |\n",
    "| interactive prompt (REPL)                        | global     | global                           |\n",
    "| (mutable) struct, macro                          | local      | global                           |\n",
    "| for, while, try-catch-finally, let               | local      | global or local                  |\n",
    "| functions (either syntax, anonymous & do-blocks) | local      | global or local                  |\n",
    "| comprehensions, broadcast-fusing                 | local      | global or local                  |"
   ]
  },
  {
   "cell_type": "markdown",
   "metadata": {
    "slideshow": {
     "slide_type": "slide"
    }
   },
   "source": [
    "### Escopo Lexical\n",
    "- Escopo local não pode alterar uma variável nos escopos acima\n",
    "- Mais especificamente: um escopo local não pode mudar o *layout* na memória de uma variável, mas pode alterar os bits desta memória"
   ]
  },
  {
   "cell_type": "markdown",
   "metadata": {
    "slideshow": {
     "slide_type": "notes"
    }
   },
   "source": [
    "Uma variável é uma *tag* e um endereço de memória.  \n",
    "Escopo local não pode mudar o endereço de memória da *tag*, mas pode alterar os bits nesta memória."
   ]
  },
  {
   "cell_type": "code",
   "execution_count": 28,
   "metadata": {
    "slideshow": {
     "slide_type": "-"
    }
   },
   "outputs": [
    {
     "name": "stdout",
     "output_type": "stream",
     "text": [
      "v = [4, 8, 12]\n"
     ]
    }
   ],
   "source": [
    "v = [1,2,3]\n",
    "for i = 1:length(v)\n",
    "    v[i] = 4i  # altera os bits na memória\n",
    "end\n",
    "@show v;"
   ]
  },
  {
   "cell_type": "code",
   "execution_count": 29,
   "metadata": {
    "slideshow": {
     "slide_type": "slide"
    }
   },
   "outputs": [
    {
     "name": "stdout",
     "output_type": "stream",
     "text": [
      "6\n",
      "10\n",
      "3\n"
     ]
    }
   ],
   "source": [
    "x = 3; # global\n",
    "function foo(x)\n",
    "    x = 2*x; # local 1, recebido por argumento da função\n",
    "    function baz()\n",
    "        println(x) # x local 1 é visível dentro do escopo local 2 (dentro de bar)\n",
    "        x = 10\n",
    "    end\n",
    "    baz()\n",
    "    println(x)\n",
    "end\n",
    "foo(x)\n",
    "println(x)"
   ]
  },
  {
   "cell_type": "markdown",
   "metadata": {
    "slideshow": {
     "slide_type": "slide"
    }
   },
   "source": [
    "Erro se executarmos o seguinte código:\n",
    "\n",
    "```julia\n",
    "x = 3; # global\n",
    "function foo()\n",
    "    println(x)  # x global é visível dentro do escopo local de foo\n",
    "    x = 2  # erro: tentou modificar variável global\n",
    "    function baz()\n",
    "        println(x)  # x local 1 é visível dentro do escopo local 2 (dentro de bar)\n",
    "    end\n",
    "    baz()\n",
    "end\n",
    "foo()\n",
    "```\n",
    "...\n",
    "```\n",
    "UndefVarError: x not defined\n",
    "\n",
    "Stacktrace:\n",
    " [1] foo() at ./In[67]:3\n",
    " [2] top-level scope at In[67]:10\n",
    "```"
   ]
  },
  {
   "cell_type": "markdown",
   "metadata": {
    "slideshow": {
     "slide_type": "slide"
    }
   },
   "source": [
    "```julia\n",
    "baz()\n",
    "```\n",
    "...\n",
    "```\n",
    "UndefVarError: baz not defined\n",
    "\n",
    "Stacktrace:\n",
    " [1] top-level scope at In[83]:1\n",
    "```"
   ]
  },
  {
   "cell_type": "code",
   "execution_count": 30,
   "metadata": {
    "slideshow": {
     "slide_type": "slide"
    }
   },
   "outputs": [
    {
     "name": "stdout",
     "output_type": "stream",
     "text": [
      "3\n",
      "90\n"
     ]
    }
   ],
   "source": [
    "x = 3; # global\n",
    "function foo()\n",
    "    println(x)  # x global é visível dentro do escopo local de foo\n",
    "    let x = 90  # bloco 'let' cria x local 2\n",
    "        function baz()\n",
    "            println(x)  # primeiro x encontrado\n",
    "        end\n",
    "        baz()\n",
    "    end\n",
    "end\n",
    "foo()"
   ]
  },
  {
   "cell_type": "markdown",
   "metadata": {
    "slideshow": {
     "slide_type": "slide"
    }
   },
   "source": [
    "**ATENÇÃO:** bloco `for` é um escopo local.\n",
    "\n",
    "O seguinte código executará normalmente dentro de um Jupyter Notebook, no entanto ele falhará no REPL.\n",
    "\n",
    "Isto porque o Jupyter Notebook (IJulia mais especificamente) usa o pacote [`SoftGlobalScope`](https://github.com/stevengj/SoftGlobalScope.jl) para ter um comportamento de escopo do `for` similar ao Julia v0.6.\n",
    "\n",
    "Este comportamento de escopo para o `for` (Julia v1.0+), onde o código dentro dele é de escopo local, foi introduzido na versão Julia v1.0."
   ]
  },
  {
   "cell_type": "code",
   "execution_count": 31,
   "metadata": {
    "slideshow": {
     "slide_type": "-"
    }
   },
   "outputs": [
    {
     "name": "stdout",
     "output_type": "stream",
     "text": [
      "8\n"
     ]
    }
   ],
   "source": [
    "x = 2;\n",
    "for i = 1:3\n",
    "    x += i;  # falha se executado no REPL\n",
    "end\n",
    "println(x)"
   ]
  },
  {
   "cell_type": "markdown",
   "metadata": {
    "slideshow": {
     "slide_type": "slide"
    }
   },
   "source": [
    "É possível modificar explicitamente variável global **(Não é recomendado fazê-lo)**.\n",
    " - trabalhar com variáveis [globais leva a uma queda de performance](https://docs.julialang.org/en/v1/manual/performance-tips/#man-performance-tips-1), exceto se for uma constante"
   ]
  },
  {
   "cell_type": "code",
   "execution_count": 32,
   "metadata": {
    "slideshow": {
     "slide_type": "-"
    }
   },
   "outputs": [
    {
     "name": "stdout",
     "output_type": "stream",
     "text": [
      "8\n"
     ]
    }
   ],
   "source": [
    "x = 2;\n",
    "for i = 1:3\n",
    "    global x += i;\n",
    "end\n",
    "println(x)"
   ]
  },
  {
   "cell_type": "code",
   "execution_count": 33,
   "metadata": {
    "slideshow": {
     "slide_type": "slide"
    }
   },
   "outputs": [
    {
     "data": {
      "text/plain": [
       "6.283185307179586"
      ]
     },
     "execution_count": 33,
     "metadata": {},
     "output_type": "execute_result"
    }
   ],
   "source": [
    "const dois_pi = 2pi"
   ]
  },
  {
   "cell_type": "markdown",
   "metadata": {
    "slideshow": {
     "slide_type": "-"
    }
   },
   "source": [
    "Erro se tentarmos mudar o valor de uma `const`:\n",
    "\n",
    "```julia\n",
    "dois_pi = 2\n",
    "```\n",
    "...\n",
    "```\n",
    "invalid redefinition of constant dois_pi\n",
    "\n",
    "Stacktrace:\n",
    " [1] top-level scope at In[94]:1\n",
    "```"
   ]
  },
  {
   "cell_type": "markdown",
   "metadata": {
    "slideshow": {
     "slide_type": "slide"
    },
    "toc-hr-collapsed": true
   },
   "source": [
    "## Funções\n",
    "\n",
    "- **Despacho múltiplo**\n",
    "  + uma função pode ser sobrecarregada, isto é, várias funções com mesmo nome no qual a correta a ser usada é identificada pelo número e tipo dos argumentos passados para ela\n",
    "- **Argumentos padrões**\n",
    "- Argumentos nomeados\n",
    "- Argumentos tipados\n",
    "- Funções anônimas\n"
   ]
  },
  {
   "cell_type": "code",
   "execution_count": 34,
   "metadata": {
    "slideshow": {
     "slide_type": "-"
    }
   },
   "outputs": [
    {
     "data": {
      "text/plain": [
       "empuxo_0 (generic function with 2 methods)"
      ]
     },
     "execution_count": 34,
     "metadata": {},
     "output_type": "execute_result"
    }
   ],
   "source": [
    "function empuxo_0(v, d, g=9.8)\n",
    "    println(\"Volume: $v m³\")\n",
    "    println(\"Densidade: $d kg/m³\")\n",
    "    println(\"A. gravidade: $g m/s²\")\n",
    "    return v*d*g\n",
    "end"
   ]
  },
  {
   "cell_type": "code",
   "execution_count": 35,
   "metadata": {
    "slideshow": {
     "slide_type": "slide"
    }
   },
   "outputs": [
    {
     "name": "stdout",
     "output_type": "stream",
     "text": [
      "Volume: 0.05 m³\n",
      "Densidade: 1 kg/m³\n",
      "A. gravidade: 10 m/s²\n"
     ]
    },
    {
     "data": {
      "text/plain": [
       "0.5"
      ]
     },
     "execution_count": 35,
     "metadata": {},
     "output_type": "execute_result"
    }
   ],
   "source": [
    "empuxo_0(0.05, 1, 10)"
   ]
  },
  {
   "cell_type": "code",
   "execution_count": 36,
   "metadata": {
    "slideshow": {
     "slide_type": "-"
    }
   },
   "outputs": [
    {
     "name": "stdout",
     "output_type": "stream",
     "text": [
      "Volume: 0.05 m³\n",
      "Densidade: 1 kg/m³\n",
      "A. gravidade: 9.8 m/s²\n"
     ]
    },
    {
     "data": {
      "text/plain": [
       "0.49000000000000005"
      ]
     },
     "execution_count": 36,
     "metadata": {},
     "output_type": "execute_result"
    }
   ],
   "source": [
    "empuxo_0(0.05, 1)"
   ]
  },
  {
   "cell_type": "markdown",
   "metadata": {
    "slideshow": {
     "slide_type": "slide"
    },
    "toc-hr-collapsed": false
   },
   "source": [
    "### Argumentos Nomeados"
   ]
  },
  {
   "cell_type": "code",
   "execution_count": 37,
   "metadata": {
    "slideshow": {
     "slide_type": "-"
    }
   },
   "outputs": [
    {
     "data": {
      "text/plain": [
       "empuxo_1 (generic function with 1 method)"
      ]
     },
     "execution_count": 37,
     "metadata": {},
     "output_type": "execute_result"
    }
   ],
   "source": [
    "# ';' para nomear os argumentos\n",
    "function empuxo_1(v; d = 1.0, g = 9.8)\n",
    "    println(\"Volume: $v m³\")\n",
    "    println(\"Densidade: $d kg/m³\")\n",
    "    println(\"A.gravidade: $g m/s²\")\n",
    "    return d*g*v\n",
    "end"
   ]
  },
  {
   "cell_type": "markdown",
   "metadata": {
    "slideshow": {
     "slide_type": "slide"
    }
   },
   "source": [
    "Erro se chamarmos a função sem nomear as variáveis:\n",
    "\n",
    "```julia\n",
    "empuxo_1(0.05, 1, 2)\n",
    "```\n",
    "...\n",
    "```\n",
    "MethodError: no method matching empuxo_1(::Float64, ::Int64, ::Int64)\n",
    "Closest candidates are:\n",
    "  empuxo_1(::Any; d, g) at In[113]:3\n",
    "\n",
    "Stacktrace:\n",
    " [1] top-level scope at In[123]:1\n",
    "```"
   ]
  },
  {
   "cell_type": "code",
   "execution_count": 38,
   "metadata": {
    "slideshow": {
     "slide_type": "slide"
    }
   },
   "outputs": [
    {
     "name": "stdout",
     "output_type": "stream",
     "text": [
      "Volume: 0.05 m³\n",
      "Densidade: 1.0 kg/m³\n",
      "A.gravidade: 3 m/s²\n"
     ]
    },
    {
     "data": {
      "text/plain": [
       "0.15000000000000002"
      ]
     },
     "execution_count": 38,
     "metadata": {},
     "output_type": "execute_result"
    }
   ],
   "source": [
    "empuxo_1(0.05, g=3)"
   ]
  },
  {
   "cell_type": "code",
   "execution_count": 39,
   "metadata": {
    "slideshow": {
     "slide_type": "-"
    }
   },
   "outputs": [
    {
     "name": "stdout",
     "output_type": "stream",
     "text": [
      "Volume: 0.05 m³\n",
      "Densidade: 0.1 kg/m³\n",
      "A.gravidade: 9.987 m/s²\n"
     ]
    },
    {
     "data": {
      "text/plain": [
       "0.04993500000000001"
      ]
     },
     "execution_count": 39,
     "metadata": {},
     "output_type": "execute_result"
    }
   ],
   "source": [
    "empuxo_1(0.05, g=9.987, d=0.1)"
   ]
  },
  {
   "cell_type": "markdown",
   "metadata": {
    "slideshow": {
     "slide_type": "slide"
    }
   },
   "source": [
    "### Argumentos Tipados"
   ]
  },
  {
   "cell_type": "code",
   "execution_count": 40,
   "metadata": {
    "slideshow": {
     "slide_type": "-"
    }
   },
   "outputs": [
    {
     "data": {
      "text/plain": [
       "foo (generic function with 3 methods)"
      ]
     },
     "execution_count": 40,
     "metadata": {},
     "output_type": "execute_result"
    }
   ],
   "source": [
    "function foo(a, b, n::Int)\n",
    "    return collect(range(a, b, length=n))\n",
    "end"
   ]
  },
  {
   "cell_type": "code",
   "execution_count": 41,
   "metadata": {
    "slideshow": {
     "slide_type": "-"
    }
   },
   "outputs": [
    {
     "data": {
      "text/plain": [
       "3-element Array{Float64,1}:\n",
       " 1.0\n",
       " 1.5\n",
       " 2.0"
      ]
     },
     "execution_count": 41,
     "metadata": {},
     "output_type": "execute_result"
    }
   ],
   "source": [
    "foo(1, 2, 3)"
   ]
  },
  {
   "cell_type": "markdown",
   "metadata": {
    "slideshow": {
     "slide_type": "slide"
    }
   },
   "source": [
    "Erro se o argumento não tiver o tipo especificado:\n",
    "\n",
    "```julia\n",
    "foo(1, 2, 3.0)\n",
    "```\n",
    "...\n",
    "```\n",
    "MethodError: no method matching foo(::Int64, ::Int64, ::Float64)\n",
    "Closest candidates are:\n",
    "  foo(::Any, ::Any, !Matched::Int64) at In[128]:2\n",
    "  foo(::Any) at In[100]:2\n",
    "\n",
    "Stacktrace:\n",
    " [1] top-level scope at In[130]:1\n",
    " ```"
   ]
  },
  {
   "cell_type": "markdown",
   "metadata": {
    "slideshow": {
     "slide_type": "slide"
    }
   },
   "source": [
    "### Retorno Múltiplo"
   ]
  },
  {
   "cell_type": "code",
   "execution_count": 42,
   "metadata": {
    "slideshow": {
     "slide_type": "-"
    }
   },
   "outputs": [
    {
     "data": {
      "text/plain": [
       "foo (generic function with 3 methods)"
      ]
     },
     "execution_count": 42,
     "metadata": {},
     "output_type": "execute_result"
    }
   ],
   "source": [
    "function foo(x)\n",
    "    return x, x^2, x^3\n",
    "end"
   ]
  },
  {
   "cell_type": "code",
   "execution_count": 43,
   "metadata": {
    "slideshow": {
     "slide_type": "-"
    }
   },
   "outputs": [
    {
     "data": {
      "text/plain": [
       "(6, 36, 216)"
      ]
     },
     "execution_count": 43,
     "metadata": {},
     "output_type": "execute_result"
    }
   ],
   "source": [
    "a, b, c = foo(6)"
   ]
  },
  {
   "cell_type": "code",
   "execution_count": 44,
   "metadata": {
    "slideshow": {
     "slide_type": "-"
    }
   },
   "outputs": [
    {
     "name": "stdout",
     "output_type": "stream",
     "text": [
      "r[1] = 6\n",
      "r[2] = 36\n",
      "r[3] = 216\n"
     ]
    }
   ],
   "source": [
    "r = foo(6)\n",
    "@show r[1]\n",
    "@show r[2]\n",
    "@show r[3];"
   ]
  },
  {
   "cell_type": "markdown",
   "metadata": {
    "slideshow": {
     "slide_type": "slide"
    }
   },
   "source": [
    "### Funções Anônimas\n",
    "\n",
    "```julia\n",
    "(arg1, arg2, ...) -> expressão\n",
    "```"
   ]
  },
  {
   "cell_type": "code",
   "execution_count": 45,
   "metadata": {
    "slideshow": {
     "slide_type": "-"
    }
   },
   "outputs": [
    {
     "data": {
      "text/plain": [
       "3-element Array{Int64,1}:\n",
       " 2\n",
       " 4\n",
       " 6"
      ]
     },
     "execution_count": 45,
     "metadata": {},
     "output_type": "execute_result"
    }
   ],
   "source": [
    "# função anônima: pegue o argumento x e retorne-o multiplicado por 2\n",
    "map(x -> x * 2, [1, 2, 3])"
   ]
  },
  {
   "cell_type": "markdown",
   "metadata": {
    "slideshow": {
     "slide_type": "slide"
    }
   },
   "source": [
    "## Compreensão de Listas\n",
    "\n",
    "```julia\n",
    "[ função for i in coleção ]\n",
    "```\n",
    "\n",
    "Criar uma lista com 6 valores aleatórios de 0 a 10:"
   ]
  },
  {
   "cell_type": "code",
   "execution_count": 46,
   "metadata": {
    "slideshow": {
     "slide_type": "-"
    }
   },
   "outputs": [
    {
     "data": {
      "text/plain": [
       "6-element Array{Int64,1}:\n",
       " 3\n",
       " 9\n",
       " 9\n",
       " 6\n",
       " 4\n",
       " 5"
      ]
     },
     "execution_count": 46,
     "metadata": {},
     "output_type": "execute_result"
    }
   ],
   "source": [
    "v = [rand(0:10) for i = 1:6]"
   ]
  },
  {
   "cell_type": "markdown",
   "metadata": {
    "slideshow": {
     "slide_type": "slide"
    }
   },
   "source": [
    "Ordenar a lista gerada:\n",
    "- sort : retorna uma nova lista\n",
    "- sort! : modifica a lista\n",
    "\n",
    "Convenção em Julia: toda função que modifica o argumento tem uma `!` anexada ao nome."
   ]
  },
  {
   "cell_type": "code",
   "execution_count": 47,
   "metadata": {
    "slideshow": {
     "slide_type": "-"
    }
   },
   "outputs": [
    {
     "name": "stdout",
     "output_type": "stream",
     "text": [
      "sort(v) = [3, 4, 5, 6, 9, 9]\n",
      "v = [3, 9, 9, 6, 4, 5]\n"
     ]
    }
   ],
   "source": [
    "@show sort(v)\n",
    "@show v;"
   ]
  },
  {
   "cell_type": "code",
   "execution_count": 48,
   "metadata": {
    "slideshow": {
     "slide_type": "-"
    }
   },
   "outputs": [
    {
     "name": "stdout",
     "output_type": "stream",
     "text": [
      "v = [3, 4, 5, 6, 9, 9]\n"
     ]
    }
   ],
   "source": [
    "sort!(v)\n",
    "@show v;"
   ]
  },
  {
   "cell_type": "markdown",
   "metadata": {
    "slideshow": {
     "slide_type": "slide"
    },
    "toc-hr-collapsed": true
   },
   "source": [
    "## Álgebra Linear\n",
    "\n",
    "$$\n",
    "A \\cdot X = B\n",
    "$$\n",
    "\n",
    "- Não inverta matrizes! (é mais lento e numericamente instável)\n",
    "- Use divisão esquerda `A\\B` para resolver o sistema linear\n",
    "  + usa o algoritmo apropriada baseado na estrutura de A\n",
    "    * e.g., quadrados mínimos se `A` for retangular"
   ]
  },
  {
   "cell_type": "code",
   "execution_count": 49,
   "metadata": {
    "slideshow": {
     "slide_type": "slide"
    }
   },
   "outputs": [],
   "source": [
    "using LinearAlgebra\n",
    "using BenchmarkTools"
   ]
  },
  {
   "cell_type": "code",
   "execution_count": 50,
   "metadata": {
    "slideshow": {
     "slide_type": "-"
    }
   },
   "outputs": [],
   "source": [
    "n = 500\n",
    "a = randn(n, n)\n",
    "b = randn(n, n ÷ 2);"
   ]
  },
  {
   "cell_type": "code",
   "execution_count": 51,
   "metadata": {},
   "outputs": [
    {
     "name": "stdout",
     "output_type": "stream",
     "text": [
      "  16.565 ms (8 allocations: 3.11 MiB)\n"
     ]
    }
   ],
   "source": [
    "@btime (s1 = inv(a)*b);"
   ]
  },
  {
   "cell_type": "code",
   "execution_count": 52,
   "metadata": {},
   "outputs": [
    {
     "name": "stdout",
     "output_type": "stream",
     "text": [
      "  10.714 ms (6 allocations: 2.87 MiB)\n"
     ]
    }
   ],
   "source": [
    "@btime (s2 = a\\b);"
   ]
  },
  {
   "cell_type": "markdown",
   "metadata": {
    "slideshow": {
     "slide_type": "slide"
    }
   },
   "source": [
    "#### Montar Matrizes"
   ]
  },
  {
   "cell_type": "code",
   "execution_count": 53,
   "metadata": {
    "slideshow": {
     "slide_type": "-"
    }
   },
   "outputs": [
    {
     "data": {
      "text/plain": [
       "3×3 Array{Int64,2}:\n",
       " 1  2  3\n",
       " 4  5  6\n",
       " 7  8  9"
      ]
     },
     "execution_count": 53,
     "metadata": {},
     "output_type": "execute_result"
    }
   ],
   "source": [
    "v = [1  2  3; 4  5  6; 7  8  9]"
   ]
  },
  {
   "cell_type": "code",
   "execution_count": 54,
   "metadata": {
    "slideshow": {
     "slide_type": "-"
    }
   },
   "outputs": [
    {
     "data": {
      "text/plain": [
       "3×3 Transpose{Int64,Array{Int64,2}}:\n",
       " 1  4  7\n",
       " 2  5  8\n",
       " 3  6  9"
      ]
     },
     "execution_count": 54,
     "metadata": {},
     "output_type": "execute_result"
    }
   ],
   "source": [
    "transpose(v)"
   ]
  },
  {
   "cell_type": "code",
   "execution_count": 55,
   "metadata": {
    "slideshow": {
     "slide_type": "slide"
    }
   },
   "outputs": [
    {
     "data": {
      "text/plain": [
       "3×3 Array{Float64,2}:\n",
       " 1.0  2.0  3.0\n",
       " 1.0  2.0  3.0\n",
       " 1.0  2.0  3.0"
      ]
     },
     "execution_count": 55,
     "metadata": {},
     "output_type": "execute_result"
    }
   ],
   "source": [
    "u = ones(3)\n",
    "v = [u  u.*2  u.*3]"
   ]
  },
  {
   "cell_type": "code",
   "execution_count": 56,
   "metadata": {
    "slideshow": {
     "slide_type": "-"
    }
   },
   "outputs": [
    {
     "data": {
      "text/plain": [
       "3×3 Array{Float64,2}:\n",
       " 1.0  1.0  1.0\n",
       " 2.0  2.0  2.0\n",
       " 3.0  3.0  3.0"
      ]
     },
     "execution_count": 56,
     "metadata": {},
     "output_type": "execute_result"
    }
   ],
   "source": [
    "u = ones(1, 3)\n",
    "v = [u; u.*2; u.*3]"
   ]
  },
  {
   "cell_type": "markdown",
   "metadata": {
    "slideshow": {
     "slide_type": "slide"
    },
    "toc-hr-collapsed": true
   },
   "source": [
    "### Cuidado ao copiar *Arrays*\n",
    "\n",
    "Atribuir um vetor ao outro fará com quê ambos *apontem* pro mesmo endereço de memória, ao invés de copiar.\n",
    "\n",
    "Por isso, se o objetivo é copiar uma matriz, seja explícito usando `copy`."
   ]
  },
  {
   "cell_type": "markdown",
   "metadata": {
    "slideshow": {
     "slide_type": "notes"
    }
   },
   "source": [
    "O MATLAB copia quando necessário: se `a` ou `v` mudar, mas não ambos, só então o MATLAB faz a cópia. Julia e outras linguagens encaram `a` e `v` como uma *tag* que leva a um endereço na memória. Modificá-las significa mudar os bits na memória. Se ambas as *tags* apontam ao mesmo lugar, então mudar um afeta o outro."
   ]
  },
  {
   "cell_type": "code",
   "execution_count": 57,
   "metadata": {
    "slideshow": {
     "slide_type": "-"
    }
   },
   "outputs": [
    {
     "data": {
      "text/plain": [
       "3×3 Array{Int64,2}:\n",
       " 10  2  3\n",
       "  4  5  6\n",
       "  7  8  9"
      ]
     },
     "execution_count": 57,
     "metadata": {},
     "output_type": "execute_result"
    }
   ],
   "source": [
    "v = [1  2  3; 4  5  6; 7  8  9]\n",
    "a = v\n",
    "a[1,1] = 10\n",
    "v"
   ]
  },
  {
   "cell_type": "code",
   "execution_count": 58,
   "metadata": {
    "slideshow": {
     "slide_type": "slide"
    }
   },
   "outputs": [
    {
     "data": {
      "text/plain": [
       "3×3 Array{Int64,2}:\n",
       " 1  2  3\n",
       " 4  5  6\n",
       " 7  8  9"
      ]
     },
     "execution_count": 58,
     "metadata": {},
     "output_type": "execute_result"
    }
   ],
   "source": [
    "v = [1  2  3; 4  5  6; 7  8  9]\n",
    "a = copy(v)\n",
    "a[1,1] = 10\n",
    "v"
   ]
  },
  {
   "cell_type": "code",
   "execution_count": 59,
   "metadata": {
    "slideshow": {
     "slide_type": "-"
    }
   },
   "outputs": [
    {
     "data": {
      "text/plain": [
       "3×3 Array{Int64,2}:\n",
       " 1  2  3\n",
       " 4  5  6\n",
       " 7  8  9"
      ]
     },
     "execution_count": 59,
     "metadata": {},
     "output_type": "execute_result"
    }
   ],
   "source": [
    "v = [1  2  3; 4  5  6; 7  8  9]\n",
    "a = v[:]\n",
    "a[1,1] = 10\n",
    "v"
   ]
  },
  {
   "cell_type": "markdown",
   "metadata": {
    "slideshow": {
     "slide_type": "slide"
    }
   },
   "source": [
    "#### Outros"
   ]
  },
  {
   "cell_type": "code",
   "execution_count": 60,
   "metadata": {
    "slideshow": {
     "slide_type": "-"
    }
   },
   "outputs": [
    {
     "data": {
      "text/plain": [
       "Eigen{Float64,Float64,Array{Float64,2},Array{Float64,1}}\n",
       "eigenvalues:\n",
       "3-element Array{Float64,1}:\n",
       " -1.1168439698070427    \n",
       " -1.3036777264747022e-15\n",
       " 16.116843969807043     \n",
       "eigenvectors:\n",
       "3×3 Array{Float64,2}:\n",
       " -0.78583     0.408248  -0.231971\n",
       " -0.0867513  -0.816497  -0.525322\n",
       "  0.612328    0.408248  -0.818673"
      ]
     },
     "execution_count": 60,
     "metadata": {},
     "output_type": "execute_result"
    }
   ],
   "source": [
    "v = [1  2  3; 4  5  6; 7  8  9]\n",
    "val, vec = eigen(v)  # Autovalores e Autovetores"
   ]
  },
  {
   "cell_type": "code",
   "execution_count": 61,
   "metadata": {
    "slideshow": {
     "slide_type": "slide"
    }
   },
   "outputs": [
    {
     "data": {
      "text/plain": [
       "3×3 Array{Int64,2}:\n",
       "   1    8   27\n",
       "  64  125  216\n",
       " 343  512  729"
      ]
     },
     "execution_count": 61,
     "metadata": {},
     "output_type": "execute_result"
    }
   ],
   "source": [
    "v.^3  # v[i]^3"
   ]
  },
  {
   "cell_type": "code",
   "execution_count": 62,
   "metadata": {
    "slideshow": {
     "slide_type": "-"
    }
   },
   "outputs": [
    {
     "data": {
      "text/plain": [
       "3×3 Array{Int64,2}:\n",
       "  468   576   684\n",
       " 1062  1305  1548\n",
       " 1656  2034  2412"
      ]
     },
     "execution_count": 62,
     "metadata": {},
     "output_type": "execute_result"
    }
   ],
   "source": [
    "v^3  # v*v*v"
   ]
  },
  {
   "cell_type": "markdown",
   "metadata": {
    "slideshow": {
     "slide_type": "slide"
    }
   },
   "source": [
    "#### Submatriz"
   ]
  },
  {
   "cell_type": "code",
   "execution_count": 63,
   "metadata": {
    "slideshow": {
     "slide_type": "-"
    }
   },
   "outputs": [
    {
     "data": {
      "text/plain": [
       "3×3 Array{Int64,2}:\n",
       " 1  2  3\n",
       " 4  5  6\n",
       " 7  8  9"
      ]
     },
     "execution_count": 63,
     "metadata": {},
     "output_type": "execute_result"
    }
   ],
   "source": [
    "v = [1  2  3; 4  5  6; 7  8  9]"
   ]
  },
  {
   "cell_type": "code",
   "execution_count": 64,
   "metadata": {
    "slideshow": {
     "slide_type": "-"
    }
   },
   "outputs": [
    {
     "data": {
      "text/plain": [
       "2"
      ]
     },
     "execution_count": 64,
     "metadata": {},
     "output_type": "execute_result"
    }
   ],
   "source": [
    "v[1,2]"
   ]
  },
  {
   "cell_type": "code",
   "execution_count": 65,
   "metadata": {
    "slideshow": {
     "slide_type": "-"
    }
   },
   "outputs": [
    {
     "data": {
      "text/plain": [
       "2×2 Array{Int64,2}:\n",
       " 2  3\n",
       " 5  6"
      ]
     },
     "execution_count": 65,
     "metadata": {},
     "output_type": "execute_result"
    }
   ],
   "source": [
    "v[1:2, 2:3]"
   ]
  },
  {
   "cell_type": "code",
   "execution_count": 66,
   "metadata": {
    "slideshow": {
     "slide_type": "slide"
    }
   },
   "outputs": [
    {
     "data": {
      "text/plain": [
       "3-element Array{Int64,1}:\n",
       " 2\n",
       " 5\n",
       " 8"
      ]
     },
     "execution_count": 66,
     "metadata": {},
     "output_type": "execute_result"
    }
   ],
   "source": [
    "v[:, 2]"
   ]
  },
  {
   "cell_type": "code",
   "execution_count": 67,
   "metadata": {
    "slideshow": {
     "slide_type": "-"
    }
   },
   "outputs": [
    {
     "data": {
      "text/plain": [
       "2×2 Array{Int64,2}:\n",
       " 4  5\n",
       " 7  8"
      ]
     },
     "execution_count": 67,
     "metadata": {},
     "output_type": "execute_result"
    }
   ],
   "source": [
    "v[2:end, 1:2]"
   ]
  },
  {
   "cell_type": "markdown",
   "metadata": {
    "slideshow": {
     "slide_type": "slide"
    }
   },
   "source": [
    "#### Julia é Column-Major\n",
    "\n",
    "Assim como MATLAB e FORTRAN, as matrizes em Julia são armazenadas por coluna."
   ]
  },
  {
   "cell_type": "code",
   "execution_count": 68,
   "metadata": {
    "slideshow": {
     "slide_type": "-"
    }
   },
   "outputs": [
    {
     "data": {
      "text/plain": [
       "9-element Array{Int64,1}:\n",
       " 1\n",
       " 4\n",
       " 7\n",
       " 2\n",
       " 5\n",
       " 8\n",
       " 3\n",
       " 6\n",
       " 9"
      ]
     },
     "execution_count": 68,
     "metadata": {},
     "output_type": "execute_result"
    }
   ],
   "source": [
    "v[:]"
   ]
  },
  {
   "cell_type": "markdown",
   "metadata": {
    "slideshow": {
     "slide_type": "slide"
    }
   },
   "source": [
    "#### Produto Escalar"
   ]
  },
  {
   "cell_type": "code",
   "execution_count": 69,
   "metadata": {
    "slideshow": {
     "slide_type": "-"
    }
   },
   "outputs": [
    {
     "data": {
      "text/plain": [
       "3-element Array{Int64,1}:\n",
       "  2\n",
       " 20\n",
       " 56"
      ]
     },
     "execution_count": 69,
     "metadata": {},
     "output_type": "execute_result"
    }
   ],
   "source": [
    "v[:, 2] .* v[:, 1]"
   ]
  },
  {
   "cell_type": "code",
   "execution_count": 70,
   "metadata": {
    "slideshow": {
     "slide_type": "-"
    }
   },
   "outputs": [
    {
     "data": {
      "text/plain": [
       "78"
      ]
     },
     "execution_count": 70,
     "metadata": {},
     "output_type": "execute_result"
    }
   ],
   "source": [
    "dot(v[:, 2], v[:, 1])"
   ]
  },
  {
   "cell_type": "code",
   "execution_count": 71,
   "metadata": {
    "slideshow": {
     "slide_type": "-"
    }
   },
   "outputs": [
    {
     "data": {
      "text/plain": [
       "78"
      ]
     },
     "execution_count": 71,
     "metadata": {},
     "output_type": "execute_result"
    }
   ],
   "source": [
    "v[:, 2] ⋅ v[:, 1]  # \\cdot <tab>"
   ]
  },
  {
   "cell_type": "markdown",
   "metadata": {
    "slideshow": {
     "slide_type": "slide"
    }
   },
   "source": [
    "#### Produto Vetorial"
   ]
  },
  {
   "cell_type": "code",
   "execution_count": 72,
   "metadata": {
    "slideshow": {
     "slide_type": "-"
    }
   },
   "outputs": [
    {
     "data": {
      "text/plain": [
       "3-element Array{Int64,1}:\n",
       "  3\n",
       " -6\n",
       "  3"
      ]
     },
     "execution_count": 72,
     "metadata": {},
     "output_type": "execute_result"
    }
   ],
   "source": [
    "cross(v[:, 2], v[:, 1])"
   ]
  },
  {
   "cell_type": "code",
   "execution_count": 73,
   "metadata": {
    "slideshow": {
     "slide_type": "-"
    }
   },
   "outputs": [
    {
     "data": {
      "text/plain": [
       "3-element Array{Int64,1}:\n",
       "  3\n",
       " -6\n",
       "  3"
      ]
     },
     "execution_count": 73,
     "metadata": {},
     "output_type": "execute_result"
    }
   ],
   "source": [
    "v[:, 2] × v[:, 1]  # \\times <tab>"
   ]
  },
  {
   "cell_type": "markdown",
   "metadata": {
    "slideshow": {
     "slide_type": "slide"
    }
   },
   "source": [
    "## Dicionários\n",
    "\n",
    "```julia\n",
    "Dict([(palavra, valor), ...]) ou Dict([palavra => valor, ...])\n",
    "```"
   ]
  },
  {
   "cell_type": "code",
   "execution_count": 74,
   "metadata": {
    "slideshow": {
     "slide_type": "-"
    }
   },
   "outputs": [
    {
     "data": {
      "text/plain": [
       "Dict{String,Int64} with 2 entries:\n",
       "  \"B\" => 2\n",
       "  \"A\" => 1"
      ]
     },
     "execution_count": 74,
     "metadata": {},
     "output_type": "execute_result"
    }
   ],
   "source": [
    "d = Dict([(\"A\", 1), (\"B\", 2)])"
   ]
  },
  {
   "cell_type": "code",
   "execution_count": 75,
   "metadata": {
    "slideshow": {
     "slide_type": "-"
    }
   },
   "outputs": [
    {
     "name": "stdout",
     "output_type": "stream",
     "text": [
      "d[\"A\"] = 1\n",
      "d[\"B\"] = 2\n"
     ]
    }
   ],
   "source": [
    "@show d[\"A\"]\n",
    "@show d[\"B\"];"
   ]
  },
  {
   "cell_type": "markdown",
   "metadata": {
    "slideshow": {
     "slide_type": "slide"
    },
    "toc-hr-collapsed": false
   },
   "source": [
    "## Conjuntos\n",
    "\n",
    "São listas que não tem elementos repetidos.\n",
    "\n",
    "```julia\n",
    "Set(coleção)\n",
    "```"
   ]
  },
  {
   "cell_type": "code",
   "execution_count": 76,
   "metadata": {
    "slideshow": {
     "slide_type": "-"
    }
   },
   "outputs": [
    {
     "data": {
      "text/plain": [
       "Set([4, 2, 3, 5, 1])"
      ]
     },
     "execution_count": 76,
     "metadata": {},
     "output_type": "execute_result"
    }
   ],
   "source": [
    "c1 = Set([1, 2, 3, 4, 4, 2, 5])"
   ]
  },
  {
   "cell_type": "markdown",
   "metadata": {
    "slideshow": {
     "slide_type": "slide"
    }
   },
   "source": [
    "As operações seguintes também funcionam com argumentos que são listas, vetores, etc."
   ]
  },
  {
   "cell_type": "code",
   "execution_count": 77,
   "metadata": {
    "slideshow": {
     "slide_type": "-"
    }
   },
   "outputs": [
    {
     "data": {
      "text/plain": [
       "Set([7, 4, 9, 2, 3, 5, 8, 1])"
      ]
     },
     "execution_count": 77,
     "metadata": {},
     "output_type": "execute_result"
    }
   ],
   "source": [
    "c2 = [2, 4, 7, 8, 9]\n",
    "union(c1, c2)"
   ]
  },
  {
   "cell_type": "code",
   "execution_count": 78,
   "metadata": {
    "slideshow": {
     "slide_type": "-"
    }
   },
   "outputs": [
    {
     "data": {
      "text/plain": [
       "Set([4, 2])"
      ]
     },
     "execution_count": 78,
     "metadata": {},
     "output_type": "execute_result"
    }
   ],
   "source": [
    "intersect(c1, c2)"
   ]
  },
  {
   "cell_type": "code",
   "execution_count": 79,
   "metadata": {
    "slideshow": {
     "slide_type": "slide"
    }
   },
   "outputs": [
    {
     "data": {
      "text/plain": [
       "Set([3, 5, 1])"
      ]
     },
     "execution_count": 79,
     "metadata": {},
     "output_type": "execute_result"
    }
   ],
   "source": [
    "setdiff(c1, c2)"
   ]
  },
  {
   "cell_type": "code",
   "execution_count": 80,
   "metadata": {
    "slideshow": {
     "slide_type": "-"
    }
   },
   "outputs": [
    {
     "data": {
      "text/plain": [
       "Set([7, 9, 3, 5, 8, 1])"
      ]
     },
     "execution_count": 80,
     "metadata": {},
     "output_type": "execute_result"
    }
   ],
   "source": [
    "symdiff(c1, c2)"
   ]
  },
  {
   "cell_type": "code",
   "execution_count": 81,
   "metadata": {
    "slideshow": {
     "slide_type": "-"
    }
   },
   "outputs": [
    {
     "name": "stdout",
     "output_type": "stream",
     "text": [
      "issubset([5, 30], c1) = false\n",
      "[1, 2] ⊆ c1 = true\n"
     ]
    }
   ],
   "source": [
    "@show issubset([5, 30], c1)\n",
    "@show [1, 2] ⊆ c1;  # \\subseteq <tab>"
   ]
  },
  {
   "cell_type": "markdown",
   "metadata": {
    "slideshow": {
     "slide_type": "slide"
    }
   },
   "source": [
    "## Estruturas\n",
    "\n",
    "```julia\n",
    "(mutable) struct Nome\n",
    "    campo1\n",
    "    campo2\n",
    "    ...\n",
    "end\n",
    "```"
   ]
  },
  {
   "cell_type": "code",
   "execution_count": 82,
   "metadata": {
    "slideshow": {
     "slide_type": "-"
    }
   },
   "outputs": [
    {
     "data": {
      "text/plain": [
       "Ponto(4, 2)"
      ]
     },
     "execution_count": 82,
     "metadata": {},
     "output_type": "execute_result"
    }
   ],
   "source": [
    "struct Ponto\n",
    "    x\n",
    "    y\n",
    "end\n",
    "\n",
    "p1 = Ponto(1, 2)\n",
    "p2 = Ponto(4, 2)"
   ]
  },
  {
   "cell_type": "markdown",
   "metadata": {
    "slideshow": {
     "slide_type": "slide"
    }
   },
   "source": [
    "Não podemos modificar os valores de uma `struct`\n",
    "```julia\n",
    "p1.x = -3\n",
    "```\n",
    "...\n",
    "```\n",
    "setfield! immutable struct of type Ponto cannot be changed\n",
    "\n",
    "Stacktrace:\n",
    " [1] setproperty!(::Ponto, ::Symbol, ::Int64) at ./Base.jl:21\n",
    " [2] top-level scope at In[215]:1\n",
    "```"
   ]
  },
  {
   "cell_type": "markdown",
   "metadata": {
    "slideshow": {
     "slide_type": "slide"
    }
   },
   "source": [
    "... A menos que a declaremos como mutável."
   ]
  },
  {
   "cell_type": "code",
   "execution_count": 83,
   "metadata": {
    "slideshow": {
     "slide_type": "-"
    }
   },
   "outputs": [
    {
     "data": {
      "text/plain": [
       "Pontom(-8, 2)"
      ]
     },
     "execution_count": 83,
     "metadata": {},
     "output_type": "execute_result"
    }
   ],
   "source": [
    "mutable struct Pontom\n",
    "    x\n",
    "    y\n",
    "end\n",
    "\n",
    "p1m = Pontom(1, 2)\n",
    "p1m.x = -8\n",
    "p1m"
   ]
  },
  {
   "cell_type": "markdown",
   "metadata": {
    "slideshow": {
     "slide_type": "slide"
    }
   },
   "source": [
    "Podemos impotar os operadores aritméticos básicos e extendê-los."
   ]
  },
  {
   "cell_type": "code",
   "execution_count": 84,
   "metadata": {
    "slideshow": {
     "slide_type": "-"
    }
   },
   "outputs": [],
   "source": [
    "import Base.-"
   ]
  },
  {
   "cell_type": "code",
   "execution_count": 85,
   "metadata": {
    "slideshow": {
     "slide_type": "-"
    }
   },
   "outputs": [
    {
     "data": {
      "text/plain": [
       "- (generic function with 196 methods)"
      ]
     },
     "execution_count": 85,
     "metadata": {},
     "output_type": "execute_result"
    }
   ],
   "source": [
    "-(p1::Ponto, p2::Ponto) = begin\n",
    "    dx = p1.x - p2.x\n",
    "    dy = p1.y - p2.y\n",
    "    Ponto(dx, dy)\n",
    "end"
   ]
  },
  {
   "cell_type": "code",
   "execution_count": 86,
   "metadata": {
    "slideshow": {
     "slide_type": "-"
    }
   },
   "outputs": [
    {
     "data": {
      "text/plain": [
       "Ponto(-3, 0)"
      ]
     },
     "execution_count": 86,
     "metadata": {},
     "output_type": "execute_result"
    }
   ],
   "source": [
    "p1 - p2"
   ]
  },
  {
   "cell_type": "code",
   "execution_count": 87,
   "metadata": {
    "slideshow": {
     "slide_type": "slide"
    }
   },
   "outputs": [
    {
     "data": {
      "text/plain": [
       "dist (generic function with 1 method)"
      ]
     },
     "execution_count": 87,
     "metadata": {},
     "output_type": "execute_result"
    }
   ],
   "source": [
    "function dist(p1::Ponto, p2::Ponto)\n",
    "    q = p1 - p2\n",
    "    return norm([q.x, q.y])\n",
    "end"
   ]
  },
  {
   "cell_type": "code",
   "execution_count": 88,
   "metadata": {
    "slideshow": {
     "slide_type": "-"
    }
   },
   "outputs": [
    {
     "data": {
      "text/plain": [
       "3.0"
      ]
     },
     "execution_count": 88,
     "metadata": {},
     "output_type": "execute_result"
    }
   ],
   "source": [
    "dist(p1, p2)"
   ]
  },
  {
   "cell_type": "markdown",
   "metadata": {
    "slideshow": {
     "slide_type": "slide"
    },
    "toc-hr-collapsed": true
   },
   "source": [
    "## Gráficos\n",
    "\n",
    "Consulte a [documentação](https://docs.juliaplots.org/latest/) e veja os [exemplos](https://docs.juliaplots.org/latest/examples/gr/) nela.\n",
    "\n",
    "sintaxe:\n",
    "```julia\n",
    "plot(x_vetor, y_vetor, label = \"nome\", outras_opções) \n",
    "\n",
    "ou\n",
    "\n",
    "plot(x_vetor, função_genérica, label = \"nome\", outras_opções) \n",
    "\n",
    "ou \n",
    "\n",
    "plot(função_genérica, x_vetor, label = \"nome\", outras_opções)\n",
    "```\n",
    "\n",
    "Para adicionar a um gráfico já existente, use `plot!`.\n",
    "\n",
    "Podemos selecionar um *Backend* que vai gerar o gráfico (depende de estar instalado no sistema): GR, PyPlot, PlotlyJS, etc..."
   ]
  },
  {
   "cell_type": "code",
   "execution_count": 89,
   "metadata": {
    "slideshow": {
     "slide_type": "-"
    }
   },
   "outputs": [
    {
     "data": {
      "text/plain": [
       "Plots.PyPlotBackend()"
      ]
     },
     "execution_count": 89,
     "metadata": {},
     "output_type": "execute_result"
    }
   ],
   "source": [
    "using Plots\n",
    "pyplot()"
   ]
  },
  {
   "cell_type": "code",
   "execution_count": 90,
   "metadata": {
    "slideshow": {
     "slide_type": "slide"
    }
   },
   "outputs": [
    {
     "data": {
      "image/png": "[encoded data removed]"
     },
     "execution_count": 90,
     "metadata": {},
     "output_type": "execute_result"
    }
   ],
   "source": [
    "x = 0:0.1:10\n",
    "plot(x, sin)\n",
    "# plot(sin, x) ou plot(x, sin.(x)) geram o mesmo gráfico"
   ]
  },
  {
   "cell_type": "code",
   "execution_count": 91,
   "metadata": {
    "slideshow": {
     "slide_type": "slide"
    }
   },
   "outputs": [
    {
     "data": {
      "image/png": "[encoded data removed]"
     },
     "execution_count": 91,
     "metadata": {},
     "output_type": "execute_result"
    }
   ],
   "source": [
    "plot!(x, cos, title=\"título Ω\", xlabel=\"X\")  # nem todos Backends suportam caracteres especiais"
   ]
  },
  {
   "cell_type": "code",
   "execution_count": 92,
   "metadata": {
    "slideshow": {
     "slide_type": "slide"
    }
   },
   "outputs": [
    {
     "data": {
      "image/png": "[encoded data removed]"
     },
     "execution_count": 92,
     "metadata": {},
     "output_type": "execute_result"
    }
   ],
   "source": [
    "x = exp10.(range(-3, 6, length=100))  # logspace\n",
    "# note o uso do macro '@.': todas as operações ficam vetorizadas\n",
    "y = @. log( abs(sin(x)) )\n",
    "plot(x, y , xaxis=:log, label=\"grafico da'ora\", color=:red)  # note o ':'"
   ]
  },
  {
   "cell_type": "code",
   "execution_count": 93,
   "metadata": {
    "slideshow": {
     "slide_type": "slide"
    }
   },
   "outputs": [
    {
     "data": {
      "image/png": "[encoded data removed]"
     },
     "execution_count": 93,
     "metadata": {},
     "output_type": "execute_result"
    }
   ],
   "source": [
    "bar([y, y./2])"
   ]
  },
  {
   "cell_type": "code",
   "execution_count": 94,
   "metadata": {
    "slideshow": {
     "slide_type": "slide"
    }
   },
   "outputs": [
    {
     "data": {
      "image/png": "[encoded data removed]"
     },
     "execution_count": 94,
     "metadata": {},
     "output_type": "execute_result"
    }
   ],
   "source": [
    "n = 20\n",
    "x = rand(n)\n",
    "y = rand(n)\n",
    "z = rand(n)\n",
    "scatter(x, y, z, xlabel=\"X\", ylabel=\"Y\", zlabel=\"Z\", leg=false)"
   ]
  },
  {
   "cell_type": "code",
   "execution_count": 95,
   "metadata": {
    "slideshow": {
     "slide_type": "slide"
    }
   },
   "outputs": [
    {
     "data": {
      "image/png": "[encoded data removed]"
     },
     "execution_count": 95,
     "metadata": {},
     "output_type": "execute_result"
    }
   ],
   "source": [
    "Θ = range(0, stop=1.5π, length=100)\n",
    "r = abs.(0.1 * randn(100) + sin.(3Θ))\n",
    "plot(Θ, r, proj=:polar, m=2, leg=false)  # note que r e θ estão trocados"
   ]
  },
  {
   "cell_type": "code",
   "execution_count": 96,
   "metadata": {
    "slideshow": {
     "slide_type": "slide"
    }
   },
   "outputs": [
    {
     "data": {
      "image/png": "[encoded data removed]"
     },
     "execution_count": 96,
     "metadata": {},
     "output_type": "execute_result"
    }
   ],
   "source": [
    "x = 1:0.5:20\n",
    "y = 1:0.5:10\n",
    "f(x, y) = (3x + y^2) * abs(sin(x) + cos(y))\n",
    "# não tem meshgrid, tem que fazer umas piruetas...\n",
    "X = repeat(reshape(x, 1, :), length(y), 1)\n",
    "Y = repeat(y, 1, length(x))\n",
    "Z = map(f, X, Y)\n",
    "p1 = contour(x, y, f, fill=true)\n",
    "p2 = contour(x, y, Z, leg=false)\n",
    "plot(p1, p2)"
   ]
  },
  {
   "cell_type": "markdown",
   "metadata": {
    "slideshow": {
     "slide_type": "slide"
    }
   },
   "source": [
    "### Linhas de Fluxo\n",
    "\n",
    "`Plots` não tem implementado um `streamplot`, mas `PyPlot` o tem.\n",
    "\n",
    "$$\n",
    "\\nabla f(x,y) = (-1 - x^2 + y)\\,\\hat a_x + (1 +x - y^2)\\,\\hat a_y\n",
    "$$\n"
   ]
  },
  {
   "cell_type": "code",
   "execution_count": 97,
   "metadata": {
    "slideshow": {
     "slide_type": "-"
    }
   },
   "outputs": [],
   "source": [
    "import PyPlot  # import ao invés de using, para não ter conflito de nomes\n",
    "x = y = range(-3, 3, length=100)\n",
    "# não tem meshgrid, tem que fazer umas piruetas...\n",
    "X = repeat(reshape(x, 1, :), length(y), 1)\n",
    "Y = repeat(y, 1, length(x))\n",
    "# note o uso do macro '@.': todas as operações ficam vetorizadas\n",
    "U = @. -1 - X^2 + Y\n",
    "V = @. 1 + X - Y^2;"
   ]
  },
  {
   "cell_type": "code",
   "execution_count": 98,
   "metadata": {
    "slideshow": {
     "slide_type": "slide"
    }
   },
   "outputs": [
    {
     "data": {
      "image/png": "[encoded data removed]",
      "text/plain": [
       "PyPlot.Figure(PyObject <Figure size 640x480 with 1 Axes>)"
      ]
     },
     "metadata": {},
     "output_type": "display_data"
    },
    {
     "data": {
      "text/plain": [
       "PyObject <matplotlib.streamplot.StreamplotSet object at 0x7efd5dfe8e50>"
      ]
     },
     "execution_count": 98,
     "metadata": {},
     "output_type": "execute_result"
    }
   ],
   "source": [
    "PyPlot.streamplot(X, Y, U, V)"
   ]
  },
  {
   "cell_type": "markdown",
   "metadata": {
    "slideshow": {
     "slide_type": "slide"
    }
   },
   "source": [
    "## Manipular Arquivos\n",
    "\n",
    "Para lidar com arquivos, nós devemos abrí-lo no modo apropriado, fazer as operações, e depois fechá-lo.\n",
    "\n",
    "```julia\n",
    "io = open(arquivo, modo)\n",
    "...\n",
    "close(io)\n",
    "```\n",
    "\n",
    "| Mode | Description                   | Keywords                     |\n",
    "| ---- | ----------------------------- | ---------------------------- |\n",
    "| r    | read                          | none                         |\n",
    "| w    | write, create, truncate       | write = true                 |\n",
    "| a    | write, create, append         | append = true                |\n",
    "| r+   | read, write                   | read = true, write = true    |\n",
    "| w+   | read, write, create, truncate | truncate = true, read = true |\n",
    "| a+   | read, write, create, append   | append = true, read = true   |"
   ]
  },
  {
   "cell_type": "code",
   "execution_count": 99,
   "metadata": {
    "slideshow": {
     "slide_type": "slide"
    }
   },
   "outputs": [
    {
     "data": {
      "text/plain": [
       "ler_vetor (generic function with 1 method)"
      ]
     },
     "execution_count": 99,
     "metadata": {},
     "output_type": "execute_result"
    }
   ],
   "source": [
    "function salvar_vetor(arquivo, vetor)\n",
    "    io = open(arquivo, \"w\")\n",
    "    for v in vetor\n",
    "        write(io, join([string(v), \"\\n\"]))\n",
    "    end\n",
    "    close(io)\n",
    "end\n",
    "\n",
    "function ler_vetor(arquivo)\n",
    "    stringvec = split(read(arquivo, String), \"\\n\")\n",
    "    return map(i -> parse(Float64, i), stringvec[1:end-1])\n",
    "end"
   ]
  },
  {
   "cell_type": "markdown",
   "metadata": {
    "slideshow": {
     "slide_type": "slide"
    }
   },
   "source": [
    "Podemos usar as funções acima para salvar uma matriz como se fosse um vetor. Para recuperar a matriz, basta `reshape`. Lembrando que Julia é Column Major, isto é, as matrizes serão salvas por colunas."
   ]
  },
  {
   "cell_type": "code",
   "execution_count": 100,
   "metadata": {
    "slideshow": {
     "slide_type": "-"
    }
   },
   "outputs": [
    {
     "data": {
      "text/plain": [
       "2×3 Array{Int64,2}:\n",
       " 1  2  3\n",
       " 4  5  6"
      ]
     },
     "execution_count": 100,
     "metadata": {},
     "output_type": "execute_result"
    }
   ],
   "source": [
    "arquivo = \"meu_arq.txt\"\n",
    "m = [1  2  3; 4  5  6]"
   ]
  },
  {
   "cell_type": "code",
   "execution_count": 101,
   "metadata": {
    "slideshow": {
     "slide_type": "-"
    }
   },
   "outputs": [
    {
     "data": {
      "text/plain": [
       "2×3 Array{Float64,2}:\n",
       " 1.0  2.0  3.0\n",
       " 4.0  5.0  6.0"
      ]
     },
     "execution_count": 101,
     "metadata": {},
     "output_type": "execute_result"
    }
   ],
   "source": [
    "salvar_vetor(arquivo, m)\n",
    "m = ler_vetor(arquivo);\n",
    "m = reshape(m, 2, 3)"
   ]
  },
  {
   "cell_type": "code",
   "execution_count": 102,
   "metadata": {
    "slideshow": {
     "slide_type": "slide"
    }
   },
   "outputs": [],
   "source": [
    "using DataFrames\n",
    "using CSV"
   ]
  },
  {
   "cell_type": "code",
   "execution_count": 103,
   "metadata": {
    "slideshow": {
     "slide_type": "-"
    }
   },
   "outputs": [
    {
     "data": {
      "text/html": [
       "<table class=\"data-frame\"><thead><tr><th></th><th>corrente</th><th>tensao</th></tr><tr><th></th><th>Float64</th><th>Float64</th></tr></thead><tbody><p>4 rows × 2 columns</p><tr><th>1</th><td>0.0295031</td><td>0.177525</td></tr><tr><th>2</th><td>0.526521</td><td>0.425934</td></tr><tr><th>3</th><td>0.446312</td><td>0.668377</td></tr><tr><th>4</th><td>0.472201</td><td>0.519903</td></tr></tbody></table>"
      ],
      "text/latex": [
       "\\begin{tabular}{r|cc}\n",
       "\t& corrente & tensao\\\\\n",
       "\t\\hline\n",
       "\t& Float64 & Float64\\\\\n",
       "\t\\hline\n",
       "\t1 & 0.0295031 & 0.177525 \\\\\n",
       "\t2 & 0.526521 & 0.425934 \\\\\n",
       "\t3 & 0.446312 & 0.668377 \\\\\n",
       "\t4 & 0.472201 & 0.519903 \\\\\n",
       "\\end{tabular}\n"
      ],
      "text/plain": [
       "4×2 DataFrame\n",
       "│ Row │ corrente  │ tensao   │\n",
       "│     │ \u001b[90mFloat64\u001b[39m   │ \u001b[90mFloat64\u001b[39m  │\n",
       "├─────┼───────────┼──────────┤\n",
       "│ 1   │ 0.0295031 │ 0.177525 │\n",
       "│ 2   │ 0.526521  │ 0.425934 │\n",
       "│ 3   │ 0.446312  │ 0.668377 │\n",
       "│ 4   │ 0.472201  │ 0.519903 │"
      ]
     },
     "execution_count": 103,
     "metadata": {},
     "output_type": "execute_result"
    }
   ],
   "source": [
    "n = 4\n",
    "df = DataFrame(corrente = rand(n), tensao = rand(n))"
   ]
  },
  {
   "cell_type": "code",
   "execution_count": 104,
   "metadata": {
    "slideshow": {
     "slide_type": "-"
    }
   },
   "outputs": [
    {
     "data": {
      "text/plain": [
       "4-element Array{Float64,1}:\n",
       " 0.029503084990497808\n",
       " 0.5265214971072458  \n",
       " 0.4463122087149445  \n",
       " 0.4722008600375678  "
      ]
     },
     "execution_count": 104,
     "metadata": {},
     "output_type": "execute_result"
    }
   ],
   "source": [
    "df.corrente"
   ]
  },
  {
   "cell_type": "code",
   "execution_count": 105,
   "metadata": {
    "slideshow": {
     "slide_type": "slide"
    }
   },
   "outputs": [
    {
     "data": {
      "text/plain": [
       "\"meu_arq.txt\""
      ]
     },
     "execution_count": 105,
     "metadata": {},
     "output_type": "execute_result"
    }
   ],
   "source": [
    "CSV.write(arquivo, df)"
   ]
  },
  {
   "cell_type": "code",
   "execution_count": 106,
   "metadata": {
    "slideshow": {
     "slide_type": "-"
    }
   },
   "outputs": [
    {
     "data": {
      "text/html": [
       "<table class=\"data-frame\"><thead><tr><th></th><th>corrente</th><th>tensao</th></tr><tr><th></th><th>Float64</th><th>Float64</th></tr></thead><tbody><p>4 rows × 2 columns</p><tr><th>1</th><td>0.0295031</td><td>0.177525</td></tr><tr><th>2</th><td>0.526521</td><td>0.425934</td></tr><tr><th>3</th><td>0.446312</td><td>0.668377</td></tr><tr><th>4</th><td>0.472201</td><td>0.519903</td></tr></tbody></table>"
      ],
      "text/latex": [
       "\\begin{tabular}{r|cc}\n",
       "\t& corrente & tensao\\\\\n",
       "\t\\hline\n",
       "\t& Float64 & Float64\\\\\n",
       "\t\\hline\n",
       "\t1 & 0.0295031 & 0.177525 \\\\\n",
       "\t2 & 0.526521 & 0.425934 \\\\\n",
       "\t3 & 0.446312 & 0.668377 \\\\\n",
       "\t4 & 0.472201 & 0.519903 \\\\\n",
       "\\end{tabular}\n"
      ],
      "text/plain": [
       "4×2 DataFrame\n",
       "│ Row │ corrente  │ tensao   │\n",
       "│     │ \u001b[90mFloat64\u001b[39m   │ \u001b[90mFloat64\u001b[39m  │\n",
       "├─────┼───────────┼──────────┤\n",
       "│ 1   │ 0.0295031 │ 0.177525 │\n",
       "│ 2   │ 0.526521  │ 0.425934 │\n",
       "│ 3   │ 0.446312  │ 0.668377 │\n",
       "│ 4   │ 0.472201  │ 0.519903 │"
      ]
     },
     "execution_count": 106,
     "metadata": {},
     "output_type": "execute_result"
    }
   ],
   "source": [
    "CSV.read(arquivo)"
   ]
  },
  {
   "cell_type": "code",
   "execution_count": 107,
   "metadata": {},
   "outputs": [],
   "source": [
    "rm(arquivo)  # deletar arquivo"
   ]
  }
 ],
 "metadata": {
  "@webio": {
   "lastCommId": null,
   "lastKernelId": null
  },
  "celltoolbar": "Slideshow",
  "kernelspec": {
   "display_name": "Julia 1.2.0",
   "language": "julia",
   "name": "julia-1.2"
  },
  "language_info": {
   "file_extension": ".jl",
   "mimetype": "application/julia",
   "name": "julia",
   "version": "1.2.0"
  },
  "toc-showcode": false,
  "toc-showmarkdowntxt": false,
  "toc-showtags": false
 },
 "nbformat": 4,
 "nbformat_minor": 4
}
