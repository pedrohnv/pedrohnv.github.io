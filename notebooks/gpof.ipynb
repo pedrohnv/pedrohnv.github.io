{
 "cells": [
  {
   "cell_type": "markdown",
   "id": "0395c047-0168-4b08-8b13-51e68ffc7098",
   "metadata": {},
   "source": [
    "# Generalized pencil-of-function\n",
    "\n",
    "Date: 2022-08-11  \n",
    "Author: Pedro H. N. Vieira  \n",
    "Categories: Generalized pencil-of-function, GPOF, ajuste de função  \n",
    "Tags: julia, GPOF  \n",
    "<!--eofm-->"
   ]
  },
  {
   "cell_type": "markdown",
   "id": "125da722-108c-47f8-b27b-ba3fa429d3e7",
   "metadata": {
    "tags": []
   },
   "source": [
    "## Motivação\n",
    "\n",
    "Qualquer sinal linear pode ser decomposto numa [Série de Fourier](https://pt.wikipedia.org/wiki/S%C3%A9rie_de_Fourier), isto é, uma soma de senos e cossenos. Ademais, a [Identidade de Euler](https://pt.wikipedia.org/wiki/Identidade_de_Euler) nos permite expressar senos e cossenos usando exponenciais complexas, pois\n",
    "$$e^{j x} = \\exp(j x) = \\cos(x) + j\\sin(x)$$\n",
    "onde $j=\\sqrt{-1}$.\n",
    "\n",
    "Ao fazer isto, podemos saber a taxa de amortecimento e a frequência de oscilação das várias componentes de um sinal.\n",
    "\n",
    "Seja um sinal $y(t)$ amostrado num intervalo $\\Delta t$. Deseja-se ajustar tal sinal por uma soma de $M$ exponenciais complexas. Pode-se utilizar o método generalizado de lápis-de-função (*Generalized pencil-of-function method*, GPOF), tal como descrito em [[1]](#1).\n",
    "\n",
    "## Algoritmo\n",
    "\n",
    "A seguir é descrito o algoritmo do GPOF, mas não a sua dedução. Para isto, os interessados devem ler o artigo [[1]](#1).\n",
    "\n",
    "Dado o sinal amostrado $y_k$, assume-se a aproximação\n",
    "\n",
    "$$\n",
    "y_k \\approx \\sum_{i=1}^M b_i \\exp(s_i\\, \\Delta t\\, k) \\qquad k=0,1,\\dots,N-1\n",
    "$$\n",
    "\n",
    "Se $y_k$ for um sinal real, então os resíduos complexos $b_i$ e os pólos complexos $s_i$ aparecerão em pares conjugados.\n",
    "\n",
    "Monta-se uma matriz $\\mathbb Y$ utilizando os vetores de informação $\\mathbb{y}_i$.\n",
    "\n",
    "$$\n",
    "\\mathbb{y}_i = [y_i, y_{i+1}, \\dots, y_{i+N-L-1}]^T\n",
    "$$\n",
    "\n",
    "$$\n",
    "\\mathbb Y = [\\mathbb{y}_i, \\mathbb{y}_{i+1}, \\dots, \\mathbb{y}_{L}]^T\n",
    "$$\n",
    "\n",
    "A matriz $\\mathbb{Y}$ tem dimensões $(N-L) \\times (L+1)$. É recomendado escolher o parâmetro $L$ tal que\n",
    "$$\n",
    "\\frac{N}{3} \\le L \\le \\frac{N}{2}.\n",
    "$$\n",
    "\n",
    "Define-se uma matriz $Y_1$ utilizando as $L$ primeiras colunas de $\\mathbb Y$. Define-se, também, uma matriz $Y_2$ utilizando as $L$ últimas colunas de $\\mathbb Y$. Então, decompõe-se a matriz $Y_1$ em seus [valores singulares](https://pt.wikipedia.org/wiki/Decomposi%C3%A7%C3%A3o_em_valores_singulares):\n",
    "\n",
    "$$\n",
    "Y_1 = UDV^H\n",
    "$$\n",
    "\n",
    "A partir desta decomposição, descartam-se os $N-M$ valores singulares menos significantes (a partir de uma tolerância arbitrária) e, então, calcula-se a matriz $Z$. Na prática, isto significa utilizar apenas as $M$ primeiras colunas de $U$ e $V$.\n",
    "\n",
    "$$\n",
    "Z = D^{-1} U^H Y_2 V\n",
    "$$\n",
    "\n",
    "Os autovalores $z_i$ desta matriz $Z$ são os pólos no plano Z. Os pólos $s_i$ no plano S podem ser calculados por\n",
    "$$s_i = \\frac{\\ln z_i}{\\Delta t}.$$\n",
    "\n",
    "A partir dos pólos $z_i$ no plano Z, calculam-se os resíduos $b_i$ resolvendo-se o seguinte sistema linear sobredeterminado (utilizando, por exemplo, o [Método dos Mínimos Quadrados](https://pt.wikipedia.org/wiki/M%C3%A9todo_dos_m%C3%ADnimos_quadrados)):\n",
    "\n",
    "$$\n",
    "\\begin{pmatrix}\n",
    "z_1^{0} & z_2^{0} & \\dots & z_M^{0} \\\\\n",
    "z_1^{1} & z_2^{1} & \\dots & z_M^{1} \\\\\n",
    "\\vdots & \\vdots & \\ddots & \\vdots \\\\\n",
    "z_1^{N-1} & z_2^{N-1} & \\dots & z_M^{N-1}  \n",
    "\\end{pmatrix}\n",
    "\\begin{pmatrix}\n",
    "b_1 \\\\\n",
    "b_2 \\\\\n",
    "\\vdots \\\\\n",
    "b_M \\\\\n",
    "\\end{pmatrix}\n",
    "=\n",
    "\\begin{pmatrix}\n",
    "y_0 \\\\\n",
    "y_1 \\\\\n",
    "\\vdots \\\\\n",
    "y_{N-1} \\\\\n",
    "\\end{pmatrix}\n",
    "$$"
   ]
  },
  {
   "cell_type": "code",
   "execution_count": 1,
   "id": "81bf45b6-02b4-4172-9762-4a6dd8ebdc19",
   "metadata": {},
   "outputs": [
    {
     "name": "stderr",
     "output_type": "stream",
     "text": [
      "\n",
      "(process:3928): GLib-GIO-WARNING **: 18:14:17.896: Unexpectedly, UWP app `15191PeakPlayer.50533F9B98293_3.2.8.0_x64__y5c4dfz5b21fm' (AUMId `15191PeakPlayer.50533F9B98293_y5c4dfz5b21fm!App') supports 32 extensions but has no verbs\n"
     ]
    }
   ],
   "source": [
    "using LinearAlgebra\n",
    "using Plots\n",
    "using Distributions\n",
    "import Printf.@printf"
   ]
  },
  {
   "cell_type": "code",
   "execution_count": 2,
   "id": "f5bb7832-e300-40e6-915c-6cab659268f6",
   "metadata": {},
   "outputs": [
    {
     "data": {
      "text/plain": [
       "gpof"
      ]
     },
     "execution_count": 2,
     "metadata": {},
     "output_type": "execute_result"
    }
   ],
   "source": [
    "\"\"\"\n",
    "Faz o ajuste do sinal X usando o método descrito em:\n",
    "\n",
    "Hua, Yingbo, and Tapan K. Sarkar.\n",
    "\"Generalized pencil-of-function method for extracting poles of an EM system from its transient response.\"\n",
    "IEEE transactions on antennas and propagation 37.2 (1989): 229-234.\n",
    "\n",
    "O ajuste pode ser calculado por\n",
    "    X_ajustado = [sum(ri .* zi.^k) for k = 0:(N - 1)]\n",
    "\"\"\"\n",
    "function gpof(x, tol=0)\n",
    "    N = length(x)\n",
    "    L = ((N ÷ 2) + (N ÷ 3)) ÷ 2  # N/3 ≤ L ≤ N/2\n",
    "    y = Array{ComplexF64}(undef, (N - L, L + 1))\n",
    "    for k = 1:(L + 1)\n",
    "        for i = 1:(N - L)\n",
    "            y[i,k] = x[i + k - 1]\n",
    "        end\n",
    "    end\n",
    "    y1 = @view y[:,1:L]\n",
    "    y2 = @view y[:,2:(L + 1)]\n",
    "    Fy = svd(y1)\n",
    "    # Valores singulares são retornados em ordem; descartar os insignificantes\n",
    "    M = sum(@. Fy.S / Fy.S[1] > tol)\n",
    "    D_inv = diagm(1 ./ Fy.S[1:M])\n",
    "    Z = D_inv * adjoint(Fy.U[:, 1:M]) * y2 * Fy.V[:, 1:M]\n",
    "    Fz = eigen(Z)\n",
    "    zi = Fz.values  # pólos\n",
    "    zm = Array{ComplexF64}(undef, (N, M))\n",
    "    for k = 1:M\n",
    "        for i = 1:N\n",
    "            zm[i,k] = zi[k]^(i - 1)\n",
    "        end\n",
    "    end\n",
    "    ri = zm \\ x  # resíduos\n",
    "    return zi, ri\n",
    "end"
   ]
  },
  {
   "cell_type": "code",
   "execution_count": null,
   "id": "227c2e50-5b7a-4b19-a9db-ac89586e495f",
   "metadata": {},
   "outputs": [],
   "source": [
    "# Testar GPOF\n",
    "tol = 1e-4\n",
    "w = [0.2π, 0.35π]\n",
    "a = [0.02π, 0.035π]\n",
    "b = ones(2)\n",
    "foo(t) = sum(@. b * exp(-a * t) * sin(w * t))\n",
    "Nt = 300\n",
    "tf = 75\n",
    "t = range(0, tf, length=Nt)\n",
    "y = foo.(t)\n",
    "Nsample = 30\n",
    "tsample = range(0, tf, length=Nsample)\n",
    "ysample = foo.(tsample)\n",
    "py = plot(title=\"Ajuste da Função f(t) com tolerância = $(tol)\", xlabel=\"t\", ylabel=\"f(t)\")\n",
    "for noise in [0, 1e-3, 0.1]\n",
    "    ynoisy = x = ysample .+ rand(Uniform(-1,1), Nsample) * noise\n",
    "    zi, ri = gpof(ynoisy, tol)\n",
    "    fit = real([sum(ri .* zi.^k) for k = 0:(Nsample - 1)])\n",
    "    scatter!(py, tsample, fit, label=\"GPOF com ruído = $(noise)\")\n",
    "    @printf \"RMSE = %.2e para ruído = %g\\n\"  sqrt(sum((fit - ysample).^2)) / Nsample  noise\n",
    "end\n",
    "plot!(py, t, y, label=\"\", color=:darkslategray)\n",
    "py"
   ]
  },
  {
   "cell_type": "markdown",
   "id": "be9dde44-2fcd-4687-b2a5-0cf717ad840b",
   "metadata": {},
   "source": [
    "## Referências\n",
    "\n",
    "<a name=\"1\"></a>[1] HUA, Yingbo; SARKAR, Tapan K. Generalized pencil-of-function method for extracting poles of an EM system from its transient response. **IEEE transactions on antennas and propagation**, v. 37, n. 2, p. 229-234, 1989."
   ]
  }
 ],
 "metadata": {
  "kernelspec": {
   "display_name": "Julia 1.6.3",
   "language": "julia",
   "name": "julia-1.6"
  },
  "language_info": {
   "file_extension": ".jl",
   "mimetype": "application/julia",
   "name": "julia",
   "version": "1.6.3"
  }
 },
 "nbformat": 4,
 "nbformat_minor": 5
}
