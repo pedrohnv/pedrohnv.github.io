{
 "cells": [
  {
   "cell_type": "markdown",
   "metadata": {},
   "source": [
    "# A quick test of Latex expressions\n",
    "\n",
    "Date: 2019-04-13  \n",
    "Author: Vincent Lunot  \n",
    "Categories: nb2hugo, Latex  \n",
    "Tags: nb2hugo, Latex\n",
    "<!--eofm-->"
   ]
  },
  {
   "cell_type": "markdown",
   "metadata": {},
   "source": [
    "Let's write a few Latex expressions to check that they are displayed correctly.<!--more-->"
   ]
  },
  {
   "cell_type": "markdown",
   "metadata": {},
   "source": [
    "## Inline expressions\n",
    "\n",
    "Let $F_0 = 0$ and $F_1 = 1$. The Fibonacci sequence is defined by $F_n = F_{n-1} + F_{n-2}$ for $n > 1$."
   ]
  },
  {
   "cell_type": "markdown",
   "metadata": {},
   "source": [
    "## Display expressions\n",
    "\n",
    "Let's write again the Fibonacci sequence, but this time as a display expression:\n",
    "$$ F_n = F_{n-1} + F_{n-2}, \\forall n > 1$$\n",
    "\n",
    "Let's also try to display a very simple system of linear equations:\n",
    "$$\n",
    "\\left\\{\n",
    "\\begin{aligned}\n",
    "  3 x_0 + x_1 &= 5 \\\\\n",
    "  5 x_0 + 7 x_1 &= 11\n",
    "\\end{aligned}\n",
    "\\right.\n",
    "$$"
   ]
  }
 ],
 "metadata": {
  "kernelspec": {
   "display_name": "Python 3",
   "language": "python",
   "name": "python3"
  },
  "language_info": {
   "codemirror_mode": {
    "name": "ipython",
    "version": 3
   },
   "file_extension": ".py",
   "mimetype": "text/x-python",
   "name": "python",
   "nbconvert_exporter": "python",
   "pygments_lexer": "ipython3",
   "version": "3.6.8"
  }
 },
 "nbformat": 4,
 "nbformat_minor": 2
}
