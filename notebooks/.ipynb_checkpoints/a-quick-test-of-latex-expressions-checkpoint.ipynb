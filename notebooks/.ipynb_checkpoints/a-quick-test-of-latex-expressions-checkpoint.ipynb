{
 "cells": [
  {
   "cell_type": "markdown",
   "metadata": {},
   "source": [
    "# Um teste rápido de expressões Latex\n",
    "\n",
    "Date: 2019-04-13  \n",
    "Author: Vincent Lunot  \n",
    "Categories: nb2hugo, Latex  \n",
    "Tags: nb2hugo, Latex\n",
    "<!--eofm-->"
   ]
  },
  {
   "cell_type": "markdown",
   "metadata": {},
   "source": [
    "Tradução: Pedro H. N. Vieira  \n",
    "[Confira o site original.](https://nb2hugo.netlify.com/post/a-quick-test-of-latex-expressions/)\n",
    "\n",
    "Vamos escrever algumas expressões Latex para verificar que elas sáo exibidas corretamente.<!--more-->"
   ]
  },
  {
   "cell_type": "markdown",
   "metadata": {},
   "source": [
    "## Expressões embutidas na linha\n",
    "\n",
    "Seja $F_0 = 0$ e $F_1 = 1$. A sequência de Fibonacci é definida por $F_n = F_{n-1} + F_{n-2}$ para $n > 1$."
   ]
  },
  {
   "cell_type": "markdown",
   "metadata": {},
   "source": [
    "## Expressões exibidas\n",
    "\n",
    "Vamos escrever a sequência de Fibonacci novamente, mas desta vez como uma expressão exibida:\n",
    "$$ F_n = F_{n-1} + F_{n-2}, \\forall n > 1$$\n",
    "\n",
    "Vamos, também, tentar exibir um sistema de equações lineares bem simples:\n",
    "$$\n",
    "\\left\\{\n",
    "\\begin{aligned}\n",
    "  3 x_0 + x_1 &= 5 \\\\\n",
    "  5 x_0 + 7 x_1 &= 11\n",
    "\\end{aligned}\n",
    "\\right.\n",
    "$$"
   ]
  }
 ],
 "metadata": {
  "kernelspec": {
   "display_name": "Python 3",
   "language": "python",
   "name": "python3"
  },
  "language_info": {
   "codemirror_mode": {
    "name": "ipython",
    "version": 3
   },
   "file_extension": ".py",
   "mimetype": "text/x-python",
   "name": "python",
   "nbconvert_exporter": "python",
   "pygments_lexer": "ipython3",
   "version": "3.7.5"
  }
 },
 "nbformat": 4,
 "nbformat_minor": 4
}
