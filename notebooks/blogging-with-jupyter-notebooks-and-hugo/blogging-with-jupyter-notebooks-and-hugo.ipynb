{
 "cells": [
  {
   "cell_type": "markdown",
   "metadata": {},
   "source": [
    "# Blogging with Jupyter notebooks and Hugo\n",
    "\n",
    "Date: 2019-04-14  \n",
    "Author: Vincent Lunot  \n",
    "Categories: Jupyter, Hugo  \n",
    "Tags: Jupyter, Notebook, Hugo, Nb2hugo, Netlify\n",
    "<!--eofm-->"
   ]
  },
  {
   "cell_type": "markdown",
   "metadata": {},
   "source": [
    "We are going to introduce a simplified workflow for publishing [Jupyter](https://jupyter.org/) notebooks on a website generated with [Hugo](https://gohugo.io/). The python package [nb2hugo](https://github.com/vlunot/nb2hugo/) will be used to convert the notebooks to markdown pages. The process will be fully automated thanks to [Netlify](https://www.netlify.com/). Once everything configured, you will just have to push your Jupyter notebooks to a Git repository to get them published on your website.<!--more-->"
   ]
  },
  {
   "cell_type": "markdown",
   "metadata": {},
   "source": [
    "## Demo site\n",
    "\n",
    "A demo site is available at https://nb2hugo.netlify.com/. Its corresponding repository is https://github.com/vlunot/nb2hugo-demo/. You can just fork this repository to create your own blog, or make your own repository from scratch. To help you understand the overall process, the following sections will show step-by-step how this demo repository was created."
   ]
  },
  {
   "cell_type": "markdown",
   "metadata": {},
   "source": [
    "## Structure of the project repository\n",
    "\n",
    "We are going to use the following structure:\n",
    "\n",
    "- the *root* of the repository will contain the Netlify configuration files,\n",
    "- the *base* directory will contain a template of the Hugo website,\n",
    "- the *notebooks* directory will contain the Jupyter notebooks.\n",
    "\n",
    "Once everything ready, you will just have to add your new Jupyter notebooks to the *notebooks* directory in your Git repository."
   ]
  },
  {
   "cell_type": "markdown",
   "metadata": {},
   "source": [
    "## Step-by-step instructions"
   ]
  },
  {
   "cell_type": "markdown",
   "metadata": {},
   "source": [
    "### Create a Git repository"
   ]
  },
  {
   "cell_type": "code",
   "execution_count": 1,
   "metadata": {},
   "outputs": [],
   "source": [
    "mkdir nb2hugo-demo\n",
    "cd nb2hugo-demo"
   ]
  },
  {
   "cell_type": "code",
   "execution_count": 2,
   "metadata": {},
   "outputs": [
    {
     "name": "stdout",
     "output_type": "stream",
     "text": [
      "Initialized empty Git repository in /home/v/Workspace/nb2hugo-demo/.git/\n"
     ]
    }
   ],
   "source": [
    "git init"
   ]
  },
  {
   "cell_type": "code",
   "execution_count": 3,
   "metadata": {},
   "outputs": [],
   "source": [
    "cat > README.md << \"EOF\"\n",
    "# nb2hugo demo site\n",
    "\n",
    "This repository shows how to combine [nb2hugo](https://github.com/vlunot/nb2hugo/), [Hugo](https://gohugo.io/) and [Netlify](https://www.netlify.com/) to easily blog with [Jupyter](https://jupyter.org/) notebooks.\n",
    "The resulting site is available at https://nb2hugo.netlify.com/.\n",
    "EOF"
   ]
  },
  {
   "cell_type": "code",
   "execution_count": 4,
   "metadata": {},
   "outputs": [],
   "source": [
    "git add README.md"
   ]
  },
  {
   "cell_type": "code",
   "execution_count": 5,
   "metadata": {},
   "outputs": [
    {
     "name": "stdout",
     "output_type": "stream",
     "text": [
      "[master (root-commit) 25b77a7] Initial commit\n",
      " 1 file changed, 4 insertions(+)\n",
      " create mode 100644 README.md\n"
     ]
    }
   ],
   "source": [
    "git commit -m \"Initial commit\""
   ]
  },
  {
   "cell_type": "code",
   "execution_count": 6,
   "metadata": {},
   "outputs": [],
   "source": [
    "git remote add origin https://github.com/vlunot/nb2hugo-demo.git"
   ]
  },
  {
   "cell_type": "code",
   "execution_count": null,
   "metadata": {},
   "outputs": [],
   "source": [
    "git push -u origin master"
   ]
  },
  {
   "cell_type": "markdown",
   "metadata": {},
   "source": [
    "### Add a website template"
   ]
  },
  {
   "cell_type": "code",
   "execution_count": 7,
   "metadata": {},
   "outputs": [
    {
     "name": "stdout",
     "output_type": "stream",
     "text": [
      "Congratulations! Your new Hugo site is created in /home/v/Workspace/nb2hugo-demo/base.\n",
      "\n",
      "Just a few more steps and you're ready to go:\n",
      "\n",
      "1. Download a theme into the same-named folder.\n",
      "   Choose a theme from https://themes.gohugo.io/, or\n",
      "   create your own with the \"hugo new theme <THEMENAME>\" command.\n",
      "2. Perhaps you want to add some content. You can add single files\n",
      "   with \"hugo new <SECTIONNAME>/<FILENAME>.<FORMAT>\".\n",
      "3. Start the built-in live server via \"hugo server\".\n",
      "\n",
      "Visit https://gohugo.io/ for quickstart guide and full documentation.\n"
     ]
    }
   ],
   "source": [
    "hugo new site base"
   ]
  },
  {
   "cell_type": "code",
   "execution_count": 8,
   "metadata": {},
   "outputs": [
    {
     "name": "stdout",
     "output_type": "stream",
     "text": [
      "Cloning into '/home/v/Workspace/nb2hugo-demo/base/themes/beautifulhugo'...\n",
      "remote: Enumerating objects: 2361, done.\u001b[K\n",
      "remote: Total 2361 (delta 0), reused 0 (delta 0), pack-reused 2361\u001b[K\n",
      "Receiving objects: 100% (2361/2361), 6.31 MiB | 2.62 MiB/s, done.\n",
      "Resolving deltas: 100% (1323/1323), done.\n"
     ]
    }
   ],
   "source": [
    "git submodule add https://github.com/halogenica/beautifulhugo.git base/themes/beautifulhugo"
   ]
  },
  {
   "cell_type": "code",
   "execution_count": 9,
   "metadata": {},
   "outputs": [],
   "source": [
    "cat > base/config.toml << \"EOF\"\n",
    "baseurl = \"https://nb2hugo.netlify.com\"\n",
    "DefaultContentLanguage = \"en\"\n",
    "title = \"nb2hugo demo\"\n",
    "theme = \"beautifulhugo\"\n",
    "\n",
    "[Params]\n",
    "  subtitle = \"Easily convert your Jupyter notebooks into a blog\"\n",
    "  dateFormat = \"January 2, 2006\"\n",
    "\n",
    "[Author]\n",
    "  name = \"Vincent Lunot\"\n",
    "  website = \"https://www.vincent-lunot.com\"\n",
    "  email = \"vlunot@gmail.com\"\n",
    "  \n",
    "[[menu.main]]\n",
    "    name = \"Blog\"\n",
    "    url = \"\"\n",
    "    weight = 1\n",
    "\n",
    "[[menu.main]]\n",
    "    name = \"Tags\"\n",
    "    url = \"tags\"\n",
    "    weight = 3\n",
    "EOF"
   ]
  },
  {
   "cell_type": "code",
   "execution_count": 10,
   "metadata": {},
   "outputs": [],
   "source": [
    "touch base/content/.gitkeep\n",
    "touch base/layouts/.gitkeep\n",
    "touch base/static/.gitkeep\n",
    "touch base/data/.gitkeep"
   ]
  },
  {
   "cell_type": "code",
   "execution_count": 11,
   "metadata": {},
   "outputs": [],
   "source": [
    "git add ."
   ]
  },
  {
   "cell_type": "code",
   "execution_count": 12,
   "metadata": {},
   "outputs": [
    {
     "name": "stdout",
     "output_type": "stream",
     "text": [
      "[master 85cf4ff] Add basic website template\n",
      " 8 files changed, 33 insertions(+)\n",
      " create mode 100644 .gitmodules\n",
      " create mode 100644 base/archetypes/default.md\n",
      " create mode 100644 base/config.toml\n",
      " create mode 100644 base/content/.gitkeep\n",
      " create mode 100644 base/data/.gitkeep\n",
      " create mode 100644 base/layouts/.gitkeep\n",
      " create mode 100644 base/static/.gitkeep\n",
      " create mode 160000 base/themes/beautifulhugo\n"
     ]
    }
   ],
   "source": [
    "git commit -m \"Add basic website template\""
   ]
  },
  {
   "cell_type": "markdown",
   "metadata": {},
   "source": [
    "### Add configuration files for Netlify"
   ]
  },
  {
   "cell_type": "code",
   "execution_count": 13,
   "metadata": {},
   "outputs": [],
   "source": [
    "echo -n 3.7 > runtime.txt\n",
    "echo nb2hugo > requirements.txt"
   ]
  },
  {
   "cell_type": "code",
   "execution_count": 14,
   "metadata": {},
   "outputs": [],
   "source": [
    "cat > build.sh << \"EOF\"\n",
    "FILES=\"$(find notebooks -type f -name '*.ipynb')\"\n",
    "for f in $FILES\n",
    "do\n",
    "    nb2hugo $f --site-dir base --section post\n",
    "done\n",
    "hugo -s base\n",
    "EOF\n",
    "chmod +x build.sh"
   ]
  },
  {
   "cell_type": "code",
   "execution_count": 15,
   "metadata": {},
   "outputs": [],
   "source": [
    "git add ."
   ]
  },
  {
   "cell_type": "code",
   "execution_count": 16,
   "metadata": {},
   "outputs": [
    {
     "name": "stdout",
     "output_type": "stream",
     "text": [
      "[master b04d78f] Add Netlify configuration files\n",
      " 3 files changed, 8 insertions(+)\n",
      " create mode 100755 build.sh\n",
      " create mode 100644 requirements.txt\n",
      " create mode 100644 runtime.txt\n"
     ]
    }
   ],
   "source": [
    "git commit -m \"Add Netlify configuration files\""
   ]
  },
  {
   "cell_type": "markdown",
   "metadata": {},
   "source": [
    "### Create a directory for notebooks"
   ]
  },
  {
   "cell_type": "code",
   "execution_count": 17,
   "metadata": {},
   "outputs": [],
   "source": [
    "mkdir notebooks"
   ]
  },
  {
   "cell_type": "code",
   "execution_count": 18,
   "metadata": {},
   "outputs": [],
   "source": [
    "touch notebooks/.gitkeep"
   ]
  },
  {
   "cell_type": "code",
   "execution_count": 19,
   "metadata": {},
   "outputs": [],
   "source": [
    "git add ."
   ]
  },
  {
   "cell_type": "code",
   "execution_count": 20,
   "metadata": {},
   "outputs": [
    {
     "name": "stdout",
     "output_type": "stream",
     "text": [
      "[master 58dff12] Add notebooks directory\n",
      " 1 file changed, 0 insertions(+), 0 deletions(-)\n",
      " create mode 100644 notebooks/.gitkeep\n"
     ]
    }
   ],
   "source": [
    "git commit -m \"Add notebooks directory\""
   ]
  },
  {
   "cell_type": "code",
   "execution_count": null,
   "metadata": {},
   "outputs": [],
   "source": [
    "git push"
   ]
  },
  {
   "cell_type": "markdown",
   "metadata": {},
   "source": [
    "## Create a new site on Netlify\n",
    "\n",
    "Go on Netlify and create a new site.  \n",
    "In basic build settings, set `./build.sh` as build command and `base/public` as publish directory:\n",
    "\n",
    "![Netlify build settings](netlify-build-settings.png)"
   ]
  },
  {
   "cell_type": "markdown",
   "metadata": {},
   "source": [
    "Now, to publish your notebooks, you just have to add them to the *notebooks* directory in your Git repository."
   ]
  }
 ],
 "metadata": {
  "kernelspec": {
   "display_name": "Bash",
   "language": "bash",
   "name": "bash"
  },
  "language_info": {
   "codemirror_mode": "shell",
   "file_extension": ".sh",
   "mimetype": "text/x-sh",
   "name": "bash"
  }
 },
 "nbformat": 4,
 "nbformat_minor": 2
}
