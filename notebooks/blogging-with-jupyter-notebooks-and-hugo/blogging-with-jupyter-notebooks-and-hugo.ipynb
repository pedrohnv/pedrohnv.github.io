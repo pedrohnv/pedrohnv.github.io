{
 "cells": [
  {
   "cell_type": "markdown",
   "metadata": {},
   "source": [
    "# Blogando com notebooks Jupyter e Hugo\n",
    "\n",
    "Date: 2019-04-14  \n",
    "Author: Vincent Lunot  \n",
    "Categories: Jupyter, Hugo  \n",
    "Tags: Jupyter, Notebook, Hugo, Nb2hugo, Netlify\n",
    "<!--eofm-->"
   ]
  },
  {
   "cell_type": "markdown",
   "metadata": {},
   "source": [
    "Tradução: Pedro H. N. Vieira  \n",
    "[Confira o site original.](https://nb2hugo.netlify.com/post/blogging-with-jupyter-notebooks-and-hugo/)\n",
    "\n",
    "Vamos introduzir um fluxo de trabalho simplificado para publicar *notebooks* [Jupyter](https://jupyter.org/) num *website* gerado com [Hugo](https://gohugo.io/). O pacote python [nb2hugo](https://github.com/vlunot/nb2hugo/) será usado para converter os notebooks para páginas *markdown*. O processo será completamente automatizado graças ao [Netlify](https://www.netlify.com/). Uma vez que tudo estiver configurado, você apenas precisará empurrar (*push*) seus *notebooks* Jupyter para um repositório Git para que eles sejam publicados no seu *website*.<!--more-->"
   ]
  },
  {
   "cell_type": "markdown",
   "metadata": {},
   "source": [
    "## Site demonstração\n",
    "\n",
    "Um *site* demonstração está disponível em https://nb2hugo.netlify.com/. Seu repositório correspondente é https://github.com/vlunot/nb2hugo-demo/. Você pode simplesmente dar um *fork* neste repositório para criar o seu próprio blog, ou fazer o seu próprio do zero. Para ajudar no entendimento do processo geral, as seções seguintes mostrarão passo a passocomo este repositório demonstração foi criado."
   ]
  },
  {
   "cell_type": "markdown",
   "metadata": {},
   "source": [
    "## Estrutura do repositório do projeto\n",
    "\n",
    "Usaremos a seguinte estrutura:\n",
    "\n",
    "- o diretório *root* conterá os arquivos de configuração do Netlify,\n",
    "- o diretório *base* conterá um modelo do *website* Hugo,\n",
    "- o diretório *notebooks* conterá os *notebooks* Jupyter.\n",
    "\n",
    "Assim que tudo estiver pronto, você apenas terá que adicionar os seus *notebooks* Jupyter ao diretório *notebooks* no seu repositório Git."
   ]
  },
  {
   "cell_type": "markdown",
   "metadata": {},
   "source": [
    "## Instruções passo a passo"
   ]
  },
  {
   "cell_type": "markdown",
   "metadata": {},
   "source": [
    "### Criar um repositório Git"
   ]
  },
  {
   "cell_type": "code",
   "execution_count": null,
   "metadata": {},
   "outputs": [],
   "source": [
    "mkdir nb2hugo-demo\n",
    "cd nb2hugo-demo"
   ]
  },
  {
   "cell_type": "code",
   "execution_count": 2,
   "metadata": {},
   "outputs": [
    {
     "name": "stdout",
     "output_type": "stream",
     "text": [
      "Initialized empty Git repository in /home/v/Workspace/nb2hugo-demo/.git/\n"
     ]
    }
   ],
   "source": [
    "git init"
   ]
  },
  {
   "cell_type": "code",
   "execution_count": 3,
   "metadata": {},
   "outputs": [],
   "source": [
    "cat > README.md << \"EOF\"\n",
    "# nb2hugo demo site\n",
    "\n",
    "Este repositório mostra como combinar [nb2hugo](https://github.com/vlunot/nb2hugo/), [Hugo](https://gohugo.io/) e [Netlify](https://www.netlify.com/) para blogar facilmente com notebooks [Jupyter](https://jupyter.org/).\n",
    "O site resultante está disponível em https://nb2hugo.netlify.com/.\n",
    "EOF"
   ]
  },
  {
   "cell_type": "code",
   "execution_count": 4,
   "metadata": {},
   "outputs": [],
   "source": [
    "git add README.md"
   ]
  },
  {
   "cell_type": "code",
   "execution_count": 5,
   "metadata": {},
   "outputs": [
    {
     "name": "stdout",
     "output_type": "stream",
     "text": [
      "[master (root-commit) 25b77a7] Initial commit\n",
      " 1 file changed, 4 insertions(+)\n",
      " create mode 100644 README.md\n"
     ]
    }
   ],
   "source": [
    "git commit -m \"Commit inicial\""
   ]
  },
  {
   "cell_type": "code",
   "execution_count": 6,
   "metadata": {},
   "outputs": [],
   "source": [
    "git remote add origin https://github.com/vlunot/nb2hugo-demo.git"
   ]
  },
  {
   "cell_type": "code",
   "execution_count": null,
   "metadata": {},
   "outputs": [],
   "source": [
    "git push -u origin master"
   ]
  },
  {
   "cell_type": "markdown",
   "metadata": {},
   "source": [
    "### Adicionar um website modelo"
   ]
  },
  {
   "cell_type": "code",
   "execution_count": 7,
   "metadata": {},
   "outputs": [
    {
     "name": "stdout",
     "output_type": "stream",
     "text": [
      "Congratulations! Your new Hugo site is created in /home/v/Workspace/nb2hugo-demo/base.\n",
      "\n",
      "Just a few more steps and you're ready to go:\n",
      "\n",
      "1. Download a theme into the same-named folder.\n",
      "   Choose a theme from https://themes.gohugo.io/, or\n",
      "   create your own with the \"hugo new theme <THEMENAME>\" command.\n",
      "2. Perhaps you want to add some content. You can add single files\n",
      "   with \"hugo new <SECTIONNAME>/<FILENAME>.<FORMAT>\".\n",
      "3. Start the built-in live server via \"hugo server\".\n",
      "\n",
      "Visit https://gohugo.io/ for quickstart guide and full documentation.\n"
     ]
    }
   ],
   "source": [
    "hugo new site base"
   ]
  },
  {
   "cell_type": "code",
   "execution_count": 8,
   "metadata": {},
   "outputs": [
    {
     "name": "stdout",
     "output_type": "stream",
     "text": [
      "Cloning into '/home/v/Workspace/nb2hugo-demo/base/themes/beautifulhugo'...\n",
      "remote: Enumerating objects: 2361, done.\u001b[K\n",
      "remote: Total 2361 (delta 0), reused 0 (delta 0), pack-reused 2361\u001b[K\n",
      "Receiving objects: 100% (2361/2361), 6.31 MiB | 2.62 MiB/s, done.\n",
      "Resolving deltas: 100% (1323/1323), done.\n"
     ]
    }
   ],
   "source": [
    "git submodule add https://github.com/halogenica/beautifulhugo.git base/themes/beautifulhugo"
   ]
  },
  {
   "cell_type": "code",
   "execution_count": 9,
   "metadata": {},
   "outputs": [],
   "source": [
    "cat > base/config.toml << \"EOF\"\n",
    "baseurl = \"https://nb2hugo.netlify.com\"\n",
    "DefaultContentLanguage = \"en\"\n",
    "title = \"nb2hugo demo\"\n",
    "theme = \"beautifulhugo\"\n",
    "\n",
    "[Params]\n",
    "  subtitle = \"Facilmente converta seus notebooks Jupyter num blog\"\n",
    "  dateFormat = \"January 2, 2006\"\n",
    "\n",
    "[Author]\n",
    "  name = \"Vincent Lunot\"\n",
    "  website = \"https://www.vincent-lunot.com\"\n",
    "  email = \"vlunot@gmail.com\"\n",
    "  \n",
    "[[menu.main]]\n",
    "    name = \"Blog\"\n",
    "    url = \"\"\n",
    "    weight = 1\n",
    "\n",
    "[[menu.main]]\n",
    "    name = \"Tags\"\n",
    "    url = \"tags\"\n",
    "    weight = 3\n",
    "EOF"
   ]
  },
  {
   "cell_type": "code",
   "execution_count": 10,
   "metadata": {},
   "outputs": [],
   "source": [
    "touch base/content/.gitkeep\n",
    "touch base/layouts/.gitkeep\n",
    "touch base/static/.gitkeep\n",
    "touch base/data/.gitkeep"
   ]
  },
  {
   "cell_type": "code",
   "execution_count": 11,
   "metadata": {},
   "outputs": [],
   "source": [
    "git add ."
   ]
  },
  {
   "cell_type": "code",
   "execution_count": 12,
   "metadata": {},
   "outputs": [
    {
     "name": "stdout",
     "output_type": "stream",
     "text": [
      "[master 85cf4ff] Add basic website template\n",
      " 8 files changed, 33 insertions(+)\n",
      " create mode 100644 .gitmodules\n",
      " create mode 100644 base/archetypes/default.md\n",
      " create mode 100644 base/config.toml\n",
      " create mode 100644 base/content/.gitkeep\n",
      " create mode 100644 base/data/.gitkeep\n",
      " create mode 100644 base/layouts/.gitkeep\n",
      " create mode 100644 base/static/.gitkeep\n",
      " create mode 160000 base/themes/beautifulhugo\n"
     ]
    }
   ],
   "source": [
    "git commit -m \"Adicionar um modelo básico de website\""
   ]
  },
  {
   "cell_type": "markdown",
   "metadata": {},
   "source": [
    "### Adicionar arquivos de configuração para Netlify"
   ]
  },
  {
   "cell_type": "code",
   "execution_count": 13,
   "metadata": {},
   "outputs": [],
   "source": [
    "echo -n 3.7 > runtime.txt\n",
    "echo nb2hugo > requirements.txt"
   ]
  },
  {
   "cell_type": "code",
   "execution_count": 14,
   "metadata": {},
   "outputs": [],
   "source": [
    "cat > build.sh << \"EOF\"\n",
    "FILES=\"$(find notebooks -type f -name '*.ipynb')\"\n",
    "for f in $FILES\n",
    "do\n",
    "    nb2hugo $f --site-dir base --section post\n",
    "done\n",
    "hugo -s base\n",
    "EOF\n",
    "chmod +x build.sh"
   ]
  },
  {
   "cell_type": "code",
   "execution_count": 15,
   "metadata": {},
   "outputs": [],
   "source": [
    "git add ."
   ]
  },
  {
   "cell_type": "code",
   "execution_count": 16,
   "metadata": {},
   "outputs": [
    {
     "name": "stdout",
     "output_type": "stream",
     "text": [
      "[master b04d78f] Add Netlify configuration files\n",
      " 3 files changed, 8 insertions(+)\n",
      " create mode 100755 build.sh\n",
      " create mode 100644 requirements.txt\n",
      " create mode 100644 runtime.txt\n"
     ]
    }
   ],
   "source": [
    "git commit -m \"Adicionar arquivos de configuração para Netlify\""
   ]
  },
  {
   "cell_type": "markdown",
   "metadata": {},
   "source": [
    "### Criar um diretório para os notebooks"
   ]
  },
  {
   "cell_type": "code",
   "execution_count": 17,
   "metadata": {},
   "outputs": [],
   "source": [
    "mkdir notebooks"
   ]
  },
  {
   "cell_type": "code",
   "execution_count": 18,
   "metadata": {},
   "outputs": [],
   "source": [
    "touch notebooks/.gitkeep"
   ]
  },
  {
   "cell_type": "code",
   "execution_count": 19,
   "metadata": {},
   "outputs": [],
   "source": [
    "git add ."
   ]
  },
  {
   "cell_type": "code",
   "execution_count": 20,
   "metadata": {},
   "outputs": [
    {
     "name": "stdout",
     "output_type": "stream",
     "text": [
      "[master 58dff12] Add notebooks directory\n",
      " 1 file changed, 0 insertions(+), 0 deletions(-)\n",
      " create mode 100644 notebooks/.gitkeep\n"
     ]
    }
   ],
   "source": [
    "git commit -m \"Adicionar diretório notebooks\""
   ]
  },
  {
   "cell_type": "code",
   "execution_count": null,
   "metadata": {},
   "outputs": [],
   "source": [
    "git push"
   ]
  },
  {
   "cell_type": "markdown",
   "metadata": {},
   "source": [
    "## Criar um novo site no Netlify\n",
    "\n",
    "Vá para Netlify e crie um novo site.  \n",
    "Nas configurações básicas de construção (*basic build settings*), faça com que `./build.sh` seja o comando de construção (*build*) e `base/public` seja o diretório público:\n",
    "\n",
    "![Netlify build settings](netlify-build-settings.png)"
   ]
  },
  {
   "cell_type": "markdown",
   "metadata": {},
   "source": [
    "Agora, para publicar os seus *notebooks*, vocë precisa apenas adicioná-los ao diretório *notebooks* no seu repositório Git."
   ]
  }
 ],
 "metadata": {
  "kernelspec": {
   "display_name": "Python 3",
   "language": "python",
   "name": "python3"
  },
  "language_info": {
   "codemirror_mode": {
    "name": "ipython",
    "version": 3
   },
   "file_extension": ".py",
   "mimetype": "text/x-python",
   "name": "python",
   "nbconvert_exporter": "python",
   "pygments_lexer": "ipython3",
   "version": "3.7.5"
  }
 },
 "nbformat": 4,
 "nbformat_minor": 4
}
